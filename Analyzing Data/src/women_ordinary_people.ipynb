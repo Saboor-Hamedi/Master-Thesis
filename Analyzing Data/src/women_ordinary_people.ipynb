{
 "cells": [
  {
   "cell_type": "code",
   "execution_count": 606,
   "metadata": {},
   "outputs": [],
   "source": [
    "\n",
    "import random\n",
    "import re\n",
    "import pandas as pd\n",
    "from sklearn.feature_extraction.text import CountVectorizer\n",
    "from sklearn.feature_extraction.text import TfidfVectorizer\n",
    "from textblob import TextBlob\n",
    "import matplotlib.pyplot as plt\n",
    "import seaborn as sns\n",
    "from scipy import stats\n",
    "from scipy.stats import chi2_contingency\n",
    "import statsmodels.api as sm\n",
    "import numpy as np\n",
    "pd.options.display.max_colwidth = 1000\n",
    "pd.options.mode.chained_assignment = None\n"
   ]
  },
  {
   "attachments": {},
   "cell_type": "markdown",
   "metadata": {},
   "source": [
    "##### Load Data"
   ]
  },
  {
   "cell_type": "code",
   "execution_count": 607,
   "metadata": {},
   "outputs": [],
   "source": [
    "df = pd.read_excel('../data_processed/women_ordinary_people.xlsx')"
   ]
  },
  {
   "cell_type": "code",
   "execution_count": 608,
   "metadata": {},
   "outputs": [
    {
     "data": {
      "text/html": [
       "<div>\n",
       "<style scoped>\n",
       "    .dataframe tbody tr th:only-of-type {\n",
       "        vertical-align: middle;\n",
       "    }\n",
       "\n",
       "    .dataframe tbody tr th {\n",
       "        vertical-align: top;\n",
       "    }\n",
       "\n",
       "    .dataframe thead th {\n",
       "        text-align: right;\n",
       "    }\n",
       "</style>\n",
       "<table border=\"1\" class=\"dataframe\">\n",
       "  <thead>\n",
       "    <tr style=\"text-align: right;\">\n",
       "      <th></th>\n",
       "      <th>text</th>\n",
       "      <th>name</th>\n",
       "      <th>created_at</th>\n",
       "      <th>gender</th>\n",
       "      <th>ethnic</th>\n",
       "      <th>label</th>\n",
       "      <th>sentiment</th>\n",
       "      <th>sentiment_score</th>\n",
       "    </tr>\n",
       "  </thead>\n",
       "  <tbody>\n",
       "    <tr>\n",
       "      <th>0</th>\n",
       "      <td>malala banning girl school taliban also arresting champions education matiullahwesa founded penpath pro</td>\n",
       "      <td>AfgEducation</td>\n",
       "      <td>2023-03-29</td>\n",
       "      <td>female</td>\n",
       "      <td>hazara</td>\n",
       "      <td>1</td>\n",
       "      <td>neutral</td>\n",
       "      <td>0.000000</td>\n",
       "    </tr>\n",
       "    <tr>\n",
       "      <th>1</th>\n",
       "      <td>since days afghan girl education centers closed afghanistan quality education power transform societies single generation afghan girl women need quality education need support help formal education let afghan girl learn</td>\n",
       "      <td>AfgEducation</td>\n",
       "      <td>2023-03-29</td>\n",
       "      <td>female</td>\n",
       "      <td>hazara</td>\n",
       "      <td>1</td>\n",
       "      <td>negative</td>\n",
       "      <td>-0.085714</td>\n",
       "    </tr>\n",
       "    <tr>\n",
       "      <th>2</th>\n",
       "      <td>core problem afghanistan conflicts lack education also core solution afghanistan conflicts education afghan girl women also part afg need edu right edu working alternative way facilitate education afghan girl women</td>\n",
       "      <td>AfgEducation</td>\n",
       "      <td>2023-03-28</td>\n",
       "      <td>female</td>\n",
       "      <td>hazara</td>\n",
       "      <td>1</td>\n",
       "      <td>positive</td>\n",
       "      <td>0.285714</td>\n",
       "    </tr>\n",
       "    <tr>\n",
       "      <th>3</th>\n",
       "      <td>matiullahwesa voice afghan generation peaceful education activist want education afghanistan also obligation rise voice afghan girl women education afghanistan relaesematiullahwesa let afghan girl learn</td>\n",
       "      <td>AfgEducation</td>\n",
       "      <td>2023-03-28</td>\n",
       "      <td>female</td>\n",
       "      <td>hazara</td>\n",
       "      <td>1</td>\n",
       "      <td>positive</td>\n",
       "      <td>0.250000</td>\n",
       "    </tr>\n",
       "    <tr>\n",
       "      <th>4</th>\n",
       "      <td>enemy ignorance work education afghans solution afghanistans miseries education educate encourage afghans study work educate afghans let afghan girl learn</td>\n",
       "      <td>AfgEducation</td>\n",
       "      <td>2023-03-28</td>\n",
       "      <td>female</td>\n",
       "      <td>hazara</td>\n",
       "      <td>1</td>\n",
       "      <td>neutral</td>\n",
       "      <td>0.000000</td>\n",
       "    </tr>\n",
       "  </tbody>\n",
       "</table>\n",
       "</div>"
      ],
      "text/plain": [
       "                                                                                                                                                                                                                          text   \n",
       "0                                                                                                                      malala banning girl school taliban also arresting champions education matiullahwesa founded penpath pro  \\\n",
       "1  since days afghan girl education centers closed afghanistan quality education power transform societies single generation afghan girl women need quality education need support help formal education let afghan girl learn   \n",
       "2       core problem afghanistan conflicts lack education also core solution afghanistan conflicts education afghan girl women also part afg need edu right edu working alternative way facilitate education afghan girl women   \n",
       "3                   matiullahwesa voice afghan generation peaceful education activist want education afghanistan also obligation rise voice afghan girl women education afghanistan relaesematiullahwesa let afghan girl learn   \n",
       "4                                                                   enemy ignorance work education afghans solution afghanistans miseries education educate encourage afghans study work educate afghans let afghan girl learn   \n",
       "\n",
       "           name  created_at  gender  ethnic  label sentiment  sentiment_score  \n",
       "0  AfgEducation  2023-03-29  female  hazara      1   neutral         0.000000  \n",
       "1  AfgEducation  2023-03-29  female  hazara      1  negative        -0.085714  \n",
       "2  AfgEducation  2023-03-28  female  hazara      1  positive         0.285714  \n",
       "3  AfgEducation  2023-03-28  female  hazara      1  positive         0.250000  \n",
       "4  AfgEducation  2023-03-28  female  hazara      1   neutral         0.000000  "
      ]
     },
     "execution_count": 608,
     "metadata": {},
     "output_type": "execute_result"
    }
   ],
   "source": [
    "df.head()"
   ]
  },
  {
   "attachments": {},
   "cell_type": "markdown",
   "metadata": {},
   "source": [
    "##### Drop Null, Empty and NaN valeus"
   ]
  },
  {
   "cell_type": "code",
   "execution_count": 609,
   "metadata": {},
   "outputs": [],
   "source": [
    "df.dropna(subset=['text'], inplace=True) # remove nan values\n",
    "df.drop_duplicates(subset=['text'], inplace=True) # remove duplicates\n"
   ]
  },
  {
   "attachments": {},
   "cell_type": "markdown",
   "metadata": {},
   "source": [
    "##### Clean Data"
   ]
  },
  {
   "cell_type": "code",
   "execution_count": 610,
   "metadata": {},
   "outputs": [],
   "source": [
    "df['text'] = df['text'].str.replace('&amp;', ' ')\n",
    "def clean_tweet_text(text):\n",
    "    # Check for null or NaN values\n",
    "    if pd.isnull(text):\n",
    "        return text\n",
    "    # Remove URL\n",
    "    text = re.sub(r'http\\S+', '', text)\n",
    "    \n",
    "    # Remove RT (retweet) tag\n",
    "    text = text.replace('RT', '')\n",
    "    \n",
    "    # Remove numbers\n",
    "    text = re.sub(r'\\d+', '', text)\n",
    "    \n",
    "    # Remove special characters and punctuations, and add a space after removing them\n",
    "    text = re.sub(r'[^\\w\\s]', '', text)\n",
    "\n",
    "    # Remove hashtags\n",
    "    text = re.sub(r'#(\\w+)', '', str(text))\n",
    "    # Remove extra spaces\n",
    "    text = ' '.join(text.split())\n",
    "    \n",
    "    # Convert to lowercase\n",
    "    text = text.lower()\n",
    "    \n",
    "    return text\n",
    "# Apply the cleaning function to 'text' column\n",
    "df['text'] = df['text'].apply(clean_tweet_text)\n"
   ]
  },
  {
   "cell_type": "code",
   "execution_count": 611,
   "metadata": {},
   "outputs": [],
   "source": [
    "# df = pd.read_excel('../data_processed/men_ordinary_people.xlsx')"
   ]
  },
  {
   "cell_type": "code",
   "execution_count": 612,
   "metadata": {},
   "outputs": [
    {
     "data": {
      "text/html": [
       "<div>\n",
       "<style scoped>\n",
       "    .dataframe tbody tr th:only-of-type {\n",
       "        vertical-align: middle;\n",
       "    }\n",
       "\n",
       "    .dataframe tbody tr th {\n",
       "        vertical-align: top;\n",
       "    }\n",
       "\n",
       "    .dataframe thead th {\n",
       "        text-align: right;\n",
       "    }\n",
       "</style>\n",
       "<table border=\"1\" class=\"dataframe\">\n",
       "  <thead>\n",
       "    <tr style=\"text-align: right;\">\n",
       "      <th></th>\n",
       "      <th>text</th>\n",
       "    </tr>\n",
       "  </thead>\n",
       "  <tbody>\n",
       "    <tr>\n",
       "      <th>26095</th>\n",
       "      <td>sharifanayebi fathers become confused maybe solve problem speed future generation help hard work success caravan like new children</td>\n",
       "    </tr>\n",
       "    <tr>\n",
       "      <th>22372</th>\n",
       "      <td>mahdimoradi work many followers stop hazara genocide</td>\n",
       "    </tr>\n",
       "    <tr>\n",
       "      <th>19408</th>\n",
       "      <td>ibrahimreporter naseeb khan haqqani day came board raised opposition national flag pak mirwais ashraf competence</td>\n",
       "    </tr>\n",
       "    <tr>\n",
       "      <th>25560</th>\n",
       "      <td>sajadzafari responsible want power make swami vivekananda</td>\n",
       "    </tr>\n",
       "    <tr>\n",
       "      <th>53802</th>\n",
       "      <td>babasafdari dear birar thank always active reason support nothing special stop hazara genocide</td>\n",
       "    </tr>\n",
       "  </tbody>\n",
       "</table>\n",
       "</div>"
      ],
      "text/plain": [
       "                                                                                                                                     text\n",
       "26095  sharifanayebi fathers become confused maybe solve problem speed future generation help hard work success caravan like new children\n",
       "22372                                                                                mahdimoradi work many followers stop hazara genocide\n",
       "19408                    ibrahimreporter naseeb khan haqqani day came board raised opposition national flag pak mirwais ashraf competence\n",
       "25560                                                                           sajadzafari responsible want power make swami vivekananda\n",
       "53802                                      babasafdari dear birar thank always active reason support nothing special stop hazara genocide"
      ]
     },
     "execution_count": 612,
     "metadata": {},
     "output_type": "execute_result"
    }
   ],
   "source": [
    "df[['text']].sample(5)"
   ]
  },
  {
   "attachments": {},
   "cell_type": "markdown",
   "metadata": {},
   "source": [
    "##### Remove Text Less then 30 characters"
   ]
  },
  {
   "cell_type": "code",
   "execution_count": 613,
   "metadata": {},
   "outputs": [],
   "source": [
    "df = df[df['text'].str.len() >=30]"
   ]
  },
  {
   "attachments": {},
   "cell_type": "markdown",
   "metadata": {},
   "source": [
    "##### Remove Empty Rows"
   ]
  },
  {
   "cell_type": "code",
   "execution_count": 614,
   "metadata": {},
   "outputs": [],
   "source": [
    "def remove_empty_rows(df):\n",
    "    # Iterate over each column in the DataFrame\n",
    "    for column in df.columns:\n",
    "        # Remove rows with empty values in the column\n",
    "        df = df[df[column].notna() & df[column].astype(str).str.strip().ne('')]\n",
    "    return df\n",
    "\n",
    "df = remove_empty_rows(df)\n"
   ]
  },
  {
   "attachments": {},
   "cell_type": "markdown",
   "metadata": {},
   "source": [
    "##### Remove All Null Values"
   ]
  },
  {
   "cell_type": "code",
   "execution_count": 615,
   "metadata": {},
   "outputs": [],
   "source": [
    "def remove_null_columns(df):\n",
    "    # Iterate over each column in the DataFrame\n",
    "    for column in df.columns:\n",
    "        # Check if the column contains any null values\n",
    "        if df[column].isnull().any():\n",
    "            # If any null value exists, drop the column\n",
    "            df = df.drop(column, axis=1)\n",
    "    return df\n",
    "df = remove_null_columns(df)\n"
   ]
  },
  {
   "attachments": {},
   "cell_type": "markdown",
   "metadata": {},
   "source": [
    "##### Remove Stopwords"
   ]
  },
  {
   "cell_type": "code",
   "execution_count": 616,
   "metadata": {},
   "outputs": [],
   "source": [
    "from nltk.corpus import stopwords\n",
    "import nltk\n",
    "\n",
    "def remove_stopwords(df):\n",
    "    stop_words = set(stopwords.words('english'))\n",
    "    df['text'] = df['text'].apply(lambda x: ' '.join([word for word in x.split() if word not in stop_words]))\n",
    "    return df\n",
    "\n",
    "df = remove_stopwords(df)\n"
   ]
  },
  {
   "attachments": {},
   "cell_type": "markdown",
   "metadata": {},
   "source": [
    "##### Convert Timezone"
   ]
  },
  {
   "cell_type": "code",
   "execution_count": 617,
   "metadata": {},
   "outputs": [],
   "source": [
    "# df['created_at'] = pd.to_datetime(df['created_at'], errors='coerce').dt.date.astype(str)"
   ]
  },
  {
   "cell_type": "code",
   "execution_count": 618,
   "metadata": {},
   "outputs": [
    {
     "data": {
      "text/html": [
       "<div>\n",
       "<style scoped>\n",
       "    .dataframe tbody tr th:only-of-type {\n",
       "        vertical-align: middle;\n",
       "    }\n",
       "\n",
       "    .dataframe tbody tr th {\n",
       "        vertical-align: top;\n",
       "    }\n",
       "\n",
       "    .dataframe thead th {\n",
       "        text-align: right;\n",
       "    }\n",
       "</style>\n",
       "<table border=\"1\" class=\"dataframe\">\n",
       "  <thead>\n",
       "    <tr style=\"text-align: right;\">\n",
       "      <th></th>\n",
       "      <th>text</th>\n",
       "      <th>name</th>\n",
       "      <th>created_at</th>\n",
       "      <th>gender</th>\n",
       "      <th>ethnic</th>\n",
       "      <th>label</th>\n",
       "      <th>sentiment</th>\n",
       "      <th>sentiment_score</th>\n",
       "    </tr>\n",
       "  </thead>\n",
       "  <tbody>\n",
       "    <tr>\n",
       "      <th>5138</th>\n",
       "      <td>aliakbar shahbz knew hot woman would set fire freedom likes antiwomen used act peoples demands suffering people eyes oppressed women means beat womans life freedom know woman less right life freedom animal tweets</td>\n",
       "      <td>Gordafariid</td>\n",
       "      <td>2023-02-13</td>\n",
       "      <td>female</td>\n",
       "      <td>tajik</td>\n",
       "      <td>1</td>\n",
       "      <td>positive</td>\n",
       "      <td>0.123016</td>\n",
       "    </tr>\n",
       "    <tr>\n",
       "      <th>38230</th>\n",
       "      <td>build boat get away strange land</td>\n",
       "      <td>nabizada2_sahar</td>\n",
       "      <td>2022-10-15</td>\n",
       "      <td>female</td>\n",
       "      <td>tajik</td>\n",
       "      <td>0</td>\n",
       "      <td>negative</td>\n",
       "      <td>-0.050000</td>\n",
       "    </tr>\n",
       "    <tr>\n",
       "      <th>52052</th>\n",
       "      <td>end war abd alrahman executed hundreds hazara reciters daily women children sold market among cooperated abd alrahmans army turning antihazara culture throughout afghanistan every family stop hazara genocide</td>\n",
       "      <td>Rahmmat_H</td>\n",
       "      <td>2023-02-05</td>\n",
       "      <td>female</td>\n",
       "      <td>hazara</td>\n",
       "      <td>1</td>\n",
       "      <td>neutral</td>\n",
       "      <td>0.000000</td>\n",
       "    </tr>\n",
       "    <tr>\n",
       "      <th>1611</th>\n",
       "      <td>tanzeela queenay prkhh ghzl samra sahar tana sweetie jamili come long time</td>\n",
       "      <td>AyeeshaSediqi</td>\n",
       "      <td>2023-03-19</td>\n",
       "      <td>female</td>\n",
       "      <td>pashtun</td>\n",
       "      <td>0</td>\n",
       "      <td>negative</td>\n",
       "      <td>-0.050000</td>\n",
       "    </tr>\n",
       "  </tbody>\n",
       "</table>\n",
       "</div>"
      ],
      "text/plain": [
       "                                                                                                                                                                                                                       text   \n",
       "5138   aliakbar shahbz knew hot woman would set fire freedom likes antiwomen used act peoples demands suffering people eyes oppressed women means beat womans life freedom know woman less right life freedom animal tweets  \\\n",
       "38230                                                                                                                                                                                      build boat get away strange land   \n",
       "52052       end war abd alrahman executed hundreds hazara reciters daily women children sold market among cooperated abd alrahmans army turning antihazara culture throughout afghanistan every family stop hazara genocide   \n",
       "1611                                                                                                                                             tanzeela queenay prkhh ghzl samra sahar tana sweetie jamili come long time   \n",
       "\n",
       "                  name  created_at  gender   ethnic  label sentiment   \n",
       "5138       Gordafariid  2023-02-13  female    tajik      1  positive  \\\n",
       "38230  nabizada2_sahar  2022-10-15  female    tajik      0  negative   \n",
       "52052        Rahmmat_H  2023-02-05  female   hazara      1   neutral   \n",
       "1611     AyeeshaSediqi  2023-03-19  female  pashtun      0  negative   \n",
       "\n",
       "       sentiment_score  \n",
       "5138          0.123016  \n",
       "38230        -0.050000  \n",
       "52052         0.000000  \n",
       "1611         -0.050000  "
      ]
     },
     "execution_count": 618,
     "metadata": {},
     "output_type": "execute_result"
    }
   ],
   "source": [
    "df.sample(4)"
   ]
  },
  {
   "cell_type": "code",
   "execution_count": 619,
   "metadata": {},
   "outputs": [
    {
     "data": {
      "text/html": [
       "<div>\n",
       "<style scoped>\n",
       "    .dataframe tbody tr th:only-of-type {\n",
       "        vertical-align: middle;\n",
       "    }\n",
       "\n",
       "    .dataframe tbody tr th {\n",
       "        vertical-align: top;\n",
       "    }\n",
       "\n",
       "    .dataframe thead th {\n",
       "        text-align: right;\n",
       "    }\n",
       "</style>\n",
       "<table border=\"1\" class=\"dataframe\">\n",
       "  <thead>\n",
       "    <tr style=\"text-align: right;\">\n",
       "      <th></th>\n",
       "      <th>text</th>\n",
       "      <th>name</th>\n",
       "      <th>created_at</th>\n",
       "      <th>gender</th>\n",
       "      <th>ethnic</th>\n",
       "      <th>label</th>\n",
       "      <th>sentiment</th>\n",
       "      <th>sentiment_score</th>\n",
       "    </tr>\n",
       "  </thead>\n",
       "  <tbody>\n",
       "    <tr>\n",
       "      <th>35711</th>\n",
       "      <td>dont give according michael jordan give becomes habit give fight goals know sometimes patience needed stand women afghanistan let afghan girl learn</td>\n",
       "      <td>mar_yamtrahomi</td>\n",
       "      <td>2022-04-23</td>\n",
       "      <td>female</td>\n",
       "      <td>tajik</td>\n",
       "      <td>1</td>\n",
       "      <td>neutral</td>\n",
       "      <td>0.0</td>\n",
       "    </tr>\n",
       "    <tr>\n",
       "      <th>14802</th>\n",
       "      <td>rabiarezai secrecy disrespect learned kind conscience</td>\n",
       "      <td>AmiriWahida</td>\n",
       "      <td>2022-11-17</td>\n",
       "      <td>female</td>\n",
       "      <td>tajik</td>\n",
       "      <td>0</td>\n",
       "      <td>positive</td>\n",
       "      <td>0.6</td>\n",
       "    </tr>\n",
       "    <tr>\n",
       "      <th>1305</th>\n",
       "      <td>zizikhanoum please pay attention afghanistan crime hazara crime tajik crime resistance crime panjshir</td>\n",
       "      <td>AmiriMarooo</td>\n",
       "      <td>2022-10-03</td>\n",
       "      <td>female</td>\n",
       "      <td>tajik</td>\n",
       "      <td>0</td>\n",
       "      <td>neutral</td>\n",
       "      <td>0.0</td>\n",
       "    </tr>\n",
       "    <tr>\n",
       "      <th>18598</th>\n",
       "      <td>arefyaqubi bigoted lapoks international airline shame journalistic dignity dozen traitor generation mujahideen thieves shame generation landghar mujahid thieves</td>\n",
       "      <td>DarmalHeela</td>\n",
       "      <td>2023-02-11</td>\n",
       "      <td>female</td>\n",
       "      <td>pashtun</td>\n",
       "      <td>0</td>\n",
       "      <td>neutral</td>\n",
       "      <td>0.0</td>\n",
       "    </tr>\n",
       "  </tbody>\n",
       "</table>\n",
       "</div>"
      ],
      "text/plain": [
       "                                                                                                                                                                   text   \n",
       "35711               dont give according michael jordan give becomes habit give fight goals know sometimes patience needed stand women afghanistan let afghan girl learn  \\\n",
       "14802                                                                                                             rabiarezai secrecy disrespect learned kind conscience   \n",
       "1305                                                              zizikhanoum please pay attention afghanistan crime hazara crime tajik crime resistance crime panjshir   \n",
       "18598  arefyaqubi bigoted lapoks international airline shame journalistic dignity dozen traitor generation mujahideen thieves shame generation landghar mujahid thieves   \n",
       "\n",
       "                 name  created_at  gender   ethnic  label sentiment   \n",
       "35711  mar_yamtrahomi  2022-04-23  female    tajik      1   neutral  \\\n",
       "14802     AmiriWahida  2022-11-17  female    tajik      0  positive   \n",
       "1305      AmiriMarooo  2022-10-03  female    tajik      0   neutral   \n",
       "18598     DarmalHeela  2023-02-11  female  pashtun      0   neutral   \n",
       "\n",
       "       sentiment_score  \n",
       "35711              0.0  \n",
       "14802              0.6  \n",
       "1305               0.0  \n",
       "18598              0.0  "
      ]
     },
     "execution_count": 619,
     "metadata": {},
     "output_type": "execute_result"
    }
   ],
   "source": [
    "df.sample(4)"
   ]
  },
  {
   "attachments": {},
   "cell_type": "markdown",
   "metadata": {},
   "source": [
    "##### Convert Timezone to datetime"
   ]
  },
  {
   "cell_type": "code",
   "execution_count": 620,
   "metadata": {},
   "outputs": [
    {
     "data": {
      "text/html": [
       "<div>\n",
       "<style scoped>\n",
       "    .dataframe tbody tr th:only-of-type {\n",
       "        vertical-align: middle;\n",
       "    }\n",
       "\n",
       "    .dataframe tbody tr th {\n",
       "        vertical-align: top;\n",
       "    }\n",
       "\n",
       "    .dataframe thead th {\n",
       "        text-align: right;\n",
       "    }\n",
       "</style>\n",
       "<table border=\"1\" class=\"dataframe\">\n",
       "  <thead>\n",
       "    <tr style=\"text-align: right;\">\n",
       "      <th></th>\n",
       "      <th>text</th>\n",
       "      <th>name</th>\n",
       "      <th>created_at</th>\n",
       "      <th>gender</th>\n",
       "      <th>ethnic</th>\n",
       "      <th>label</th>\n",
       "      <th>sentiment</th>\n",
       "      <th>sentiment_score</th>\n",
       "    </tr>\n",
       "  </thead>\n",
       "  <tbody>\n",
       "    <tr>\n",
       "      <th>0</th>\n",
       "      <td>malala banning girl school taliban also arresting champions education matiullahwesa founded penpath pro</td>\n",
       "      <td>AfgEducation</td>\n",
       "      <td>2023-03-29</td>\n",
       "      <td>female</td>\n",
       "      <td>hazara</td>\n",
       "      <td>1</td>\n",
       "      <td>neutral</td>\n",
       "      <td>0.000000</td>\n",
       "    </tr>\n",
       "    <tr>\n",
       "      <th>1</th>\n",
       "      <td>since days afghan girl education centers closed afghanistan quality education power transform societies single generation afghan girl women need quality education need support help formal education let afghan girl learn</td>\n",
       "      <td>AfgEducation</td>\n",
       "      <td>2023-03-29</td>\n",
       "      <td>female</td>\n",
       "      <td>hazara</td>\n",
       "      <td>1</td>\n",
       "      <td>negative</td>\n",
       "      <td>-0.085714</td>\n",
       "    </tr>\n",
       "    <tr>\n",
       "      <th>2</th>\n",
       "      <td>core problem afghanistan conflicts lack education also core solution afghanistan conflicts education afghan girl women also part afg need edu right edu working alternative way facilitate education afghan girl women</td>\n",
       "      <td>AfgEducation</td>\n",
       "      <td>2023-03-28</td>\n",
       "      <td>female</td>\n",
       "      <td>hazara</td>\n",
       "      <td>1</td>\n",
       "      <td>positive</td>\n",
       "      <td>0.285714</td>\n",
       "    </tr>\n",
       "    <tr>\n",
       "      <th>3</th>\n",
       "      <td>matiullahwesa voice afghan generation peaceful education activist want education afghanistan also obligation rise voice afghan girl women education afghanistan relaesematiullahwesa let afghan girl learn</td>\n",
       "      <td>AfgEducation</td>\n",
       "      <td>2023-03-28</td>\n",
       "      <td>female</td>\n",
       "      <td>hazara</td>\n",
       "      <td>1</td>\n",
       "      <td>positive</td>\n",
       "      <td>0.250000</td>\n",
       "    </tr>\n",
       "    <tr>\n",
       "      <th>4</th>\n",
       "      <td>enemy ignorance work education afghans solution afghanistans miseries education educate encourage afghans study work educate afghans let afghan girl learn</td>\n",
       "      <td>AfgEducation</td>\n",
       "      <td>2023-03-28</td>\n",
       "      <td>female</td>\n",
       "      <td>hazara</td>\n",
       "      <td>1</td>\n",
       "      <td>neutral</td>\n",
       "      <td>0.000000</td>\n",
       "    </tr>\n",
       "  </tbody>\n",
       "</table>\n",
       "</div>"
      ],
      "text/plain": [
       "                                                                                                                                                                                                                          text   \n",
       "0                                                                                                                      malala banning girl school taliban also arresting champions education matiullahwesa founded penpath pro  \\\n",
       "1  since days afghan girl education centers closed afghanistan quality education power transform societies single generation afghan girl women need quality education need support help formal education let afghan girl learn   \n",
       "2       core problem afghanistan conflicts lack education also core solution afghanistan conflicts education afghan girl women also part afg need edu right edu working alternative way facilitate education afghan girl women   \n",
       "3                   matiullahwesa voice afghan generation peaceful education activist want education afghanistan also obligation rise voice afghan girl women education afghanistan relaesematiullahwesa let afghan girl learn   \n",
       "4                                                                   enemy ignorance work education afghans solution afghanistans miseries education educate encourage afghans study work educate afghans let afghan girl learn   \n",
       "\n",
       "           name  created_at  gender  ethnic  label sentiment  sentiment_score  \n",
       "0  AfgEducation  2023-03-29  female  hazara      1   neutral         0.000000  \n",
       "1  AfgEducation  2023-03-29  female  hazara      1  negative        -0.085714  \n",
       "2  AfgEducation  2023-03-28  female  hazara      1  positive         0.285714  \n",
       "3  AfgEducation  2023-03-28  female  hazara      1  positive         0.250000  \n",
       "4  AfgEducation  2023-03-28  female  hazara      1   neutral         0.000000  "
      ]
     },
     "execution_count": 620,
     "metadata": {},
     "output_type": "execute_result"
    }
   ],
   "source": [
    "df.head()"
   ]
  },
  {
   "attachments": {},
   "cell_type": "markdown",
   "metadata": {},
   "source": [
    "##### Drop the whole rows which is >=2020"
   ]
  },
  {
   "cell_type": "code",
   "execution_count": 621,
   "metadata": {},
   "outputs": [],
   "source": [
    "df[\"created_at\"] = pd.to_datetime(df[\"created_at\"], format=\"%Y-%m-%d\")\n",
    "filtered_df = df[df[\"created_at\"].dt.year >= 2020]\n",
    "df.drop(df[df[\"created_at\"].dt.year <= 2020].index, inplace=True)"
   ]
  },
  {
   "attachments": {},
   "cell_type": "markdown",
   "metadata": {},
   "source": [
    "##### Remove Great March, 30"
   ]
  },
  {
   "cell_type": "code",
   "execution_count": 622,
   "metadata": {},
   "outputs": [
    {
     "data": {
      "text/plain": [
       "(57688, 8)"
      ]
     },
     "execution_count": 622,
     "metadata": {},
     "output_type": "execute_result"
    }
   ],
   "source": [
    "df.shape"
   ]
  },
  {
   "cell_type": "code",
   "execution_count": 623,
   "metadata": {},
   "outputs": [
    {
     "data": {
      "text/html": [
       "<div>\n",
       "<style scoped>\n",
       "    .dataframe tbody tr th:only-of-type {\n",
       "        vertical-align: middle;\n",
       "    }\n",
       "\n",
       "    .dataframe tbody tr th {\n",
       "        vertical-align: top;\n",
       "    }\n",
       "\n",
       "    .dataframe thead th {\n",
       "        text-align: right;\n",
       "    }\n",
       "</style>\n",
       "<table border=\"1\" class=\"dataframe\">\n",
       "  <thead>\n",
       "    <tr style=\"text-align: right;\">\n",
       "      <th></th>\n",
       "      <th>text</th>\n",
       "      <th>name</th>\n",
       "      <th>created_at</th>\n",
       "      <th>gender</th>\n",
       "      <th>ethnic</th>\n",
       "      <th>label</th>\n",
       "      <th>sentiment</th>\n",
       "      <th>sentiment_score</th>\n",
       "    </tr>\n",
       "  </thead>\n",
       "  <tbody>\n",
       "    <tr>\n",
       "      <th>47479</th>\n",
       "      <td>say guest dont wear tikre guest says tekre insulted country dont wear sake women shames double escaped dog busy office kabul covered oppressed women die prosecutors office</td>\n",
       "      <td>TheLostJalalzai</td>\n",
       "      <td>2023-01-21</td>\n",
       "      <td>female</td>\n",
       "      <td>pashtun</td>\n",
       "      <td>1</td>\n",
       "      <td>positive</td>\n",
       "      <td>0.050000</td>\n",
       "    </tr>\n",
       "    <tr>\n",
       "      <th>5036</th>\n",
       "      <td>ferani way said exactly give girl thank god dont daughter seen complex person still knows girl less boy even though envelope tweet clear said</td>\n",
       "      <td>Gordafariid</td>\n",
       "      <td>2023-02-15</td>\n",
       "      <td>female</td>\n",
       "      <td>tajik</td>\n",
       "      <td>1</td>\n",
       "      <td>negative</td>\n",
       "      <td>-0.029167</td>\n",
       "    </tr>\n",
       "    <tr>\n",
       "      <th>17195</th>\n",
       "      <td>islamyarzadran haqqanis suicide punjabis</td>\n",
       "      <td>DarmalHeela</td>\n",
       "      <td>2023-05-14</td>\n",
       "      <td>female</td>\n",
       "      <td>pashtun</td>\n",
       "      <td>0</td>\n",
       "      <td>neutral</td>\n",
       "      <td>0.000000</td>\n",
       "    </tr>\n",
       "    <tr>\n",
       "      <th>40753</th>\n",
       "      <td>abdulba papi gaks iran pakistan west go read mr zaifs book ahmad shah masood atta mazari slave thats says things</td>\n",
       "      <td>RanaA8989</td>\n",
       "      <td>2022-12-27</td>\n",
       "      <td>female</td>\n",
       "      <td>tajik</td>\n",
       "      <td>0</td>\n",
       "      <td>neutral</td>\n",
       "      <td>0.000000</td>\n",
       "    </tr>\n",
       "  </tbody>\n",
       "</table>\n",
       "</div>"
      ],
      "text/plain": [
       "                                                                                                                                                                              text   \n",
       "47479  say guest dont wear tikre guest says tekre insulted country dont wear sake women shames double escaped dog busy office kabul covered oppressed women die prosecutors office  \\\n",
       "5036                                 ferani way said exactly give girl thank god dont daughter seen complex person still knows girl less boy even though envelope tweet clear said   \n",
       "17195                                                                                                                                     islamyarzadran haqqanis suicide punjabis   \n",
       "40753                                                             abdulba papi gaks iran pakistan west go read mr zaifs book ahmad shah masood atta mazari slave thats says things   \n",
       "\n",
       "                  name created_at  gender   ethnic  label sentiment   \n",
       "47479  TheLostJalalzai 2023-01-21  female  pashtun      1  positive  \\\n",
       "5036       Gordafariid 2023-02-15  female    tajik      1  negative   \n",
       "17195      DarmalHeela 2023-05-14  female  pashtun      0   neutral   \n",
       "40753        RanaA8989 2022-12-27  female    tajik      0   neutral   \n",
       "\n",
       "       sentiment_score  \n",
       "47479         0.050000  \n",
       "5036         -0.029167  \n",
       "17195         0.000000  \n",
       "40753         0.000000  "
      ]
     },
     "execution_count": 623,
     "metadata": {},
     "output_type": "execute_result"
    }
   ],
   "source": [
    "df.sample(4)"
   ]
  },
  {
   "attachments": {},
   "cell_type": "markdown",
   "metadata": {},
   "source": [
    "##### Check How Many accounts are there"
   ]
  },
  {
   "cell_type": "code",
   "execution_count": 624,
   "metadata": {},
   "outputs": [
    {
     "data": {
      "text/plain": [
       "54"
      ]
     },
     "execution_count": 624,
     "metadata": {},
     "output_type": "execute_result"
    }
   ],
   "source": [
    "len(df['name'].unique())"
   ]
  },
  {
   "attachments": {},
   "cell_type": "markdown",
   "metadata": {},
   "source": [
    "##### Labeling Process"
   ]
  },
  {
   "cell_type": "code",
   "execution_count": 625,
   "metadata": {},
   "outputs": [],
   "source": [
    "def label_tweets(text):\n",
    "    keywords = ['education', 'school', 'university', 'women', 'girl']\n",
    "    for keyword in keywords:\n",
    "        if keyword in text.lower():\n",
    "            return 1\n",
    "    return 0\n",
    "df = df.copy()\n",
    "df['label'] = df['text'].apply(label_tweets)"
   ]
  },
  {
   "attachments": {},
   "cell_type": "markdown",
   "metadata": {},
   "source": [
    "##### Sentiment Analysis"
   ]
  },
  {
   "cell_type": "code",
   "execution_count": 626,
   "metadata": {},
   "outputs": [],
   "source": [
    "x = df['text']\n",
    "sentiment_labels = []\n",
    "sentiment_scores = []\n",
    "for tweet in x:\n",
    "    # Create a TextBlob object\n",
    "    blob = TextBlob(tweet)\n",
    "    # Get the sentiment polarity (-1 to 1)\n",
    "    polarity = blob.sentiment.polarity\n",
    "    if polarity > 0:\n",
    "        sentiment = 'positive'\n",
    "    elif polarity < 0:\n",
    "        sentiment = 'negative'\n",
    "    else:\n",
    "        sentiment = 'neutral'\n",
    "    \n",
    "    sentiment_labels.append(sentiment)\n",
    "    sentiment_scores.append(polarity)\n",
    "# Add the sentiment labels and scores as new columns in the DataFrame\n",
    "df['sentiment'] = sentiment_labels\n",
    "df['sentiment_score'] = sentiment_scores"
   ]
  },
  {
   "attachments": {},
   "cell_type": "markdown",
   "metadata": {},
   "source": [
    "##### Data Set Summary"
   ]
  },
  {
   "cell_type": "code",
   "execution_count": 627,
   "metadata": {},
   "outputs": [
    {
     "name": "stdout",
     "output_type": "stream",
     "text": [
      "Sentiment Counts:\n",
      " sentiment\n",
      "neutral     24221\n",
      "positive    21488\n",
      "negative    11979\n",
      "Name: count, dtype: int64\n",
      "Total Counts: 33467\n"
     ]
    }
   ],
   "source": [
    "sentiment_counts = df['sentiment'].value_counts()\n",
    "print(\"Sentiment Counts:\\n\", sentiment_counts)\n",
    "total_counts = sentiment_counts['positive'] + sentiment_counts['negative']\n",
    "print(\"Total Counts:\", total_counts)"
   ]
  },
  {
   "attachments": {},
   "cell_type": "markdown",
   "metadata": {},
   "source": [
    "##### Calculate positive tweets and percentage for women, single user"
   ]
  },
  {
   "cell_type": "code",
   "execution_count": 628,
   "metadata": {},
   "outputs": [
    {
     "name": "stdout",
     "output_type": "stream",
     "text": [
      "Positive tweets from men: 21488 ( 37.24864789904313 %)\n"
     ]
    }
   ],
   "source": [
    "women_positive_count = df[(df['gender'] == 'female') & (df['sentiment'] == 'positive')].shape[0]\n",
    "women_total_count = df[df['gender'] == 'female'].shape[0]\n",
    "women_positive_percentage = (women_positive_count / women_total_count) * 100\n",
    "# Print the results\n",
    "print(\"Positive tweets from men:\", women_positive_count, \"(\", women_positive_percentage, \"%)\")"
   ]
  },
  {
   "cell_type": "code",
   "execution_count": 629,
   "metadata": {},
   "outputs": [
    {
     "data": {
      "image/png": "[encoded data removed]",
      "text/plain": [
       "<Figure size 800x600 with 1 Axes>"
      ]
     },
     "metadata": {},
     "output_type": "display_data"
    },
    {
     "name": "stdout",
     "output_type": "stream",
     "text": [
      "Sentiment Distribution: 33467\n"
     ]
    }
   ],
   "source": [
    "# Define custom colors for sentiment categories\n",
    "colors = {'negative': 'red', 'neutral': 'blue', 'positive': 'orange'}\n",
    "\n",
    "# Calculate sentiment counts\n",
    "sentiment_counts = df['sentiment'].value_counts()\n",
    "\n",
    "# Plot the sentiment counts with custom colors\n",
    "plt.figure(figsize=(8, 6))\n",
    "sentiment_counts.plot(kind='bar', color=[colors.get(x, 'gray') for x in sentiment_counts.index])\n",
    "plt.xlabel('Sentiment Category')\n",
    "plt.ylabel('Count')\n",
    "plt.xticks(rotation=0)\n",
    "plt.title('Sentiment Distribution')\n",
    "plt.show()\n",
    "\n",
    "# Calculate total counts\n",
    "total_counts = sentiment_counts['positive'] + sentiment_counts['negative']\n",
    "print(\"Sentiment Distribution:\", total_counts)\n"
   ]
  },
  {
   "attachments": {},
   "cell_type": "markdown",
   "metadata": {},
   "source": [
    "##### Content Analysis"
   ]
  },
  {
   "cell_type": "code",
   "execution_count": 630,
   "metadata": {},
   "outputs": [
    {
     "name": "stdout",
     "output_type": "stream",
     "text": [
      "Number of tweets in favor of education:  9727\n"
     ]
    }
   ],
   "source": [
    "df_edu = df.loc[df['label'] == 1]\n",
    "print(\"Number of tweets in favor of education: \", len(df_edu))"
   ]
  },
  {
   "attachments": {},
   "cell_type": "markdown",
   "metadata": {},
   "source": [
    "##### Code Schema"
   ]
  },
  {
   "cell_type": "code",
   "execution_count": 631,
   "metadata": {},
   "outputs": [],
   "source": [
    "coding_scheme = {\n",
    "'women': ['women', 'woman', 'female', 'feminine', 'girl', 'lady'],\n",
    "'education': ['education', 'educational', 'learning', 'academics', 'knowledge'],\n",
    "'school': ['school', 'classroom', 'teacher', 'students', 'curriculum'],\n",
    "'university': ['university', 'college', 'higher education', 'academia', 'campus'],\n",
    "'access': ['access', 'opportunity', 'enrollment', 'attendance', 'entry'],\n",
    "'quality': ['quality', 'standard', 'curriculum', 'teaching', 'learning'],\n",
    "'benefits': ['benefit', 'advantage', 'improvement', 'progress'],\n",
    "'barriers': ['barrier', 'restriction', 'obstacle', 'challenge', 'difficulty'],\n",
    "'empowerment': ['empower', 'empowering', 'confidence', 'self-esteem', 'agency'],\n",
    "'gender': ['gender', 'discriminatioan', 'inequality', 'feminism', 'patriarchy']\n",
    "}\n",
    "\n",
    "# Define a function to apply the coding scheme to each tweet\n",
    "def apply_coding_scheme(text):\n",
    "    codes = []\n",
    "    for code, keywords in coding_scheme.items():\n",
    "        for keyword in keywords:\n",
    "            if keyword in text.lower():\n",
    "                codes.append(code)\n",
    "    return codes\n",
    "\n",
    "# Apply the coding scheme to the text column and create a new column for the codes\n",
    "df_edu['codes'] = df_edu['text'].apply(apply_coding_scheme)"
   ]
  },
  {
   "cell_type": "code",
   "execution_count": 632,
   "metadata": {},
   "outputs": [
    {
     "data": {
      "text/html": [
       "<div>\n",
       "<style scoped>\n",
       "    .dataframe tbody tr th:only-of-type {\n",
       "        vertical-align: middle;\n",
       "    }\n",
       "\n",
       "    .dataframe tbody tr th {\n",
       "        vertical-align: top;\n",
       "    }\n",
       "\n",
       "    .dataframe thead th {\n",
       "        text-align: right;\n",
       "    }\n",
       "</style>\n",
       "<table border=\"1\" class=\"dataframe\">\n",
       "  <thead>\n",
       "    <tr style=\"text-align: right;\">\n",
       "      <th></th>\n",
       "      <th>text</th>\n",
       "      <th>sentiment</th>\n",
       "      <th>sentiment_score</th>\n",
       "      <th>gender</th>\n",
       "      <th>label</th>\n",
       "      <th>codes</th>\n",
       "    </tr>\n",
       "  </thead>\n",
       "  <tbody>\n",
       "    <tr>\n",
       "      <th>15001</th>\n",
       "      <td>abbaszeineddin panjshir people massacred protesting girl raised voice justice hashtag taken panjshabar</td>\n",
       "      <td>neutral</td>\n",
       "      <td>0.000000</td>\n",
       "      <td>female</td>\n",
       "      <td>1</td>\n",
       "      <td>[women]</td>\n",
       "    </tr>\n",
       "    <tr>\n",
       "      <th>10627</th>\n",
       "      <td>repgracemeng niceworkers voteshekar grace meng funding corrupt ngo stole afghan women</td>\n",
       "      <td>negative</td>\n",
       "      <td>-0.500000</td>\n",
       "      <td>female</td>\n",
       "      <td>1</td>\n",
       "      <td>[women]</td>\n",
       "    </tr>\n",
       "    <tr>\n",
       "      <th>8357</th>\n",
       "      <td>royasaberzada australia first country remain silent oppression taliban showed support afghan women boycotting taliban cricket team women never support team ignores social problems women ban taliban cricket team</td>\n",
       "      <td>positive</td>\n",
       "      <td>0.094444</td>\n",
       "      <td>female</td>\n",
       "      <td>1</td>\n",
       "      <td>[women]</td>\n",
       "    </tr>\n",
       "    <tr>\n",
       "      <th>31891</th>\n",
       "      <td>kaiseraz children died attack girl school sep stop hazara genocide</td>\n",
       "      <td>neutral</td>\n",
       "      <td>0.000000</td>\n",
       "      <td>female</td>\n",
       "      <td>1</td>\n",
       "      <td>[women, school]</td>\n",
       "    </tr>\n",
       "    <tr>\n",
       "      <th>43924</th>\n",
       "      <td>wahidkochayy pashtun girlwoman pashtun tribe question asked</td>\n",
       "      <td>neutral</td>\n",
       "      <td>0.000000</td>\n",
       "      <td>female</td>\n",
       "      <td>1</td>\n",
       "      <td>[women, women]</td>\n",
       "    </tr>\n",
       "  </tbody>\n",
       "</table>\n",
       "</div>"
      ],
      "text/plain": [
       "                                                                                                                                                                                                                     text   \n",
       "15001                                                                                                              abbaszeineddin panjshir people massacred protesting girl raised voice justice hashtag taken panjshabar  \\\n",
       "10627                                                                                                                               repgracemeng niceworkers voteshekar grace meng funding corrupt ngo stole afghan women   \n",
       "8357   royasaberzada australia first country remain silent oppression taliban showed support afghan women boycotting taliban cricket team women never support team ignores social problems women ban taliban cricket team   \n",
       "31891                                                                                                                                                  kaiseraz children died attack girl school sep stop hazara genocide   \n",
       "43924                                                                                                                                                         wahidkochayy pashtun girlwoman pashtun tribe question asked   \n",
       "\n",
       "      sentiment  sentiment_score  gender  label            codes  \n",
       "15001   neutral         0.000000  female      1          [women]  \n",
       "10627  negative        -0.500000  female      1          [women]  \n",
       "8357   positive         0.094444  female      1          [women]  \n",
       "31891   neutral         0.000000  female      1  [women, school]  \n",
       "43924   neutral         0.000000  female      1   [women, women]  "
      ]
     },
     "execution_count": 632,
     "metadata": {},
     "output_type": "execute_result"
    }
   ],
   "source": [
    "df_edu[['text','sentiment','sentiment_score','gender','label','codes']].sample(5)"
   ]
  },
  {
   "attachments": {},
   "cell_type": "markdown",
   "metadata": {},
   "source": [
    "##### Visualization"
   ]
  },
  {
   "cell_type": "code",
   "execution_count": 633,
   "metadata": {},
   "outputs": [
    {
     "data": {
      "image/png": "[encoded data removed]",
      "text/plain": [
       "<Figure size 640x480 with 1 Axes>"
      ]
     },
     "metadata": {},
     "output_type": "display_data"
    }
   ],
   "source": [
    "df_codes = df_edu.explode('codes')\n",
    "# Calculate the frequency and percentage of each code\n",
    "code_freq = df_codes['codes'].value_counts()\n",
    "code_perc = code_freq / len(df_edu) * 100\n",
    "# Plot the code frequencies as a bar chart\n",
    "plt.bar(code_perc.index, code_perc.values)\n",
    "plt.title('Frequencies of codes in tweets in favor of education')\n",
    "plt.xlabel('Code')\n",
    "plt.xticks(rotation=90)\n",
    "plt.ylabel('Percentage')\n",
    "plt.show()"
   ]
  },
  {
   "cell_type": "code",
   "execution_count": 634,
   "metadata": {},
   "outputs": [
    {
     "name": "stdout",
     "output_type": "stream",
     "text": [
      "Sentiment analysis of tweets containing the keyword 'women':\n",
      "sentiment\n",
      "negative    1100\n",
      "neutral     2146\n",
      "positive    2408\n",
      "Name: text, dtype: int64\n",
      "Sentiment analysis of tweets containing the keyword 'education':\n",
      "sentiment\n",
      "negative    316\n",
      "neutral     527\n",
      "positive    798\n",
      "Name: text, dtype: int64\n",
      "Sentiment analysis of tweets containing the keyword 'school':\n",
      "sentiment\n",
      "negative    348\n",
      "neutral     449\n",
      "positive    549\n",
      "Name: text, dtype: int64\n",
      "Sentiment analysis of tweets containing the keyword 'university':\n",
      "sentiment\n",
      "negative    188\n",
      "neutral     263\n",
      "positive    307\n",
      "Name: text, dtype: int64\n",
      "Sentiment analysis of tweets containing the keyword 'girl':\n",
      "sentiment\n",
      "negative     726\n",
      "neutral     1240\n",
      "positive    1332\n",
      "Name: text, dtype: int64\n"
     ]
    }
   ],
   "source": [
    "from nltk.sentiment import SentimentIntensityAnalyzer\n",
    "import nltk\n",
    "# Initialize the sentiment analyzer\n",
    "sid = SentimentIntensityAnalyzer()\n",
    "# Loop through each keyword and calculate the sentiment of tweets containing that keyword\n",
    "for keyword in ['women', 'education', 'school', 'university', 'girl']:\n",
    "    keyword_tweets = df_edu[df_edu['text'].str.contains(keyword)].copy()\n",
    "    keyword_tweets.loc[:, 'sentiment_score'] = keyword_tweets['text'].apply(lambda x: sid.polarity_scores(x)['compound'])\n",
    "    print(f\"Sentiment analysis of tweets containing the keyword '{keyword}':\")\n",
    "    print(keyword_tweets.groupby('sentiment')['text'].count())\n"
   ]
  },
  {
   "cell_type": "code",
   "execution_count": 635,
   "metadata": {},
   "outputs": [
    {
     "name": "stdout",
     "output_type": "stream",
     "text": [
      "Sentiment analysis of tweets containing the keyword 'women education':\n",
      "sentiment\n",
      "negative    10\n",
      "neutral     23\n",
      "positive    27\n",
      "Name: text, dtype: int64\n"
     ]
    }
   ],
   "source": [
    "for keyword in ['women education']:\n",
    "    keyword_tweets = df_edu[df_edu['text'].str.contains(keyword)].copy()\n",
    "    keyword_tweets.loc[:, 'sentiment_score'] = keyword_tweets['text'].apply(lambda x: sid.polarity_scores(x)['compound'])\n",
    "    print(f\"Sentiment analysis of tweets containing the keyword '{keyword}':\")\n",
    "    print(keyword_tweets.groupby('sentiment')['text'].count())"
   ]
  },
  {
   "cell_type": "code",
   "execution_count": 636,
   "metadata": {},
   "outputs": [
    {
     "name": "stdout",
     "output_type": "stream",
     "text": [
      "Sentiment analysis of tweets containing the keyword 'women education':\n",
      "sentiment\n",
      "negative    10 (16.7%)\n",
      "neutral     23 (38.3%)\n",
      "positive    27 (45.0%)\n",
      "Name: text, dtype: object\n"
     ]
    }
   ],
   "source": [
    "for keyword in ['women education']:\n",
    "    keyword_tweets = df_edu[df_edu['text'].str.contains(keyword)].copy()\n",
    "    keyword_tweets.loc[:, 'sentiment_score'] = keyword_tweets['text'].apply(lambda x: sid.polarity_scores(x)['compound'])\n",
    "    sentiment_counts = keyword_tweets.groupby('sentiment')['text'].count()\n",
    "    total_count = sentiment_counts.sum()\n",
    "    sentiment_percentages = (sentiment_counts / total_count) * 100\n",
    "    result = sentiment_counts.astype(str) + ' (' + sentiment_percentages.round(1).astype(str) + '%)'\n",
    "    print(f\"Sentiment analysis of tweets containing the keyword '{keyword}':\")\n",
    "    print(result)\n"
   ]
  },
  {
   "attachments": {},
   "cell_type": "markdown",
   "metadata": {},
   "source": [
    "##### Average sentiment"
   ]
  },
  {
   "cell_type": "code",
   "execution_count": 637,
   "metadata": {},
   "outputs": [
    {
     "name": "stdout",
     "output_type": "stream",
     "text": [
      "Average sentiment score for all tweets: 0.04169113756613756\n"
     ]
    }
   ],
   "source": [
    "import random\n",
    "from textblob import TextBlob\n",
    "keywords = ['women education']\n",
    "all_tweets = [row['text'] for _, row in df.iterrows() if any(keyword in row['text'] for keyword in keywords)]\n",
    "sample_tweets = random.sample(all_tweets, k=min(10, len(all_tweets)))\n",
    "mean_sentiment = sum(TextBlob(tweet).sentiment.polarity for tweet in all_tweets) / len(all_tweets) if all_tweets else 0\n",
    "print(f\"Average sentiment score for all tweets: {mean_sentiment}\")\n"
   ]
  },
  {
   "attachments": {},
   "cell_type": "markdown",
   "metadata": {},
   "source": [
    "##### Sentiment Category"
   ]
  },
  {
   "cell_type": "code",
   "execution_count": 638,
   "metadata": {},
   "outputs": [
    {
     "name": "stdout",
     "output_type": "stream",
     "text": [
      "Sentiment Scores by Category:\n"
     ]
    },
    {
     "data": {
      "text/plain": [
       "codes\n",
       "(education,)              0.030180\n",
       "(education, access)      -0.006429\n",
       "(education, barriers)    -0.032927\n",
       "(education, benefits)    -0.031393\n",
       "(education, education)    0.093032\n",
       "Name: text, dtype: float64"
      ]
     },
     "execution_count": 638,
     "metadata": {},
     "output_type": "execute_result"
    }
   ],
   "source": [
    "import numpy as np\n",
    "category_sentiment = df_edu.groupby(df_edu['codes'].apply(tuple))['text'].apply(lambda x: np.mean([TextBlob(tweet).sentiment.polarity for tweet in x]))\n",
    "print(\"Sentiment Scores by Category:\")\n",
    "category_sentiment.head()"
   ]
  },
  {
   "attachments": {},
   "cell_type": "markdown",
   "metadata": {},
   "source": [
    "##### Calculate the sentiment scores for all tweets"
   ]
  },
  {
   "cell_type": "code",
   "execution_count": 639,
   "metadata": {},
   "outputs": [
    {
     "name": "stdout",
     "output_type": "stream",
     "text": [
      "Comparison of Sentiment Men:\n",
      "T-statistic: 54.53734918247717\n",
      "P-value: 0.0\n"
     ]
    }
   ],
   "source": [
    "sentiment_scores = [TextBlob(tweet).sentiment.polarity for tweet in df['text']]\n",
    "# Compare the sentiment distributions using a t-test\n",
    "t_stat, p_value = stats.ttest_1samp(sentiment_scores, 0)\n",
    "print(\"Comparison of Sentiment Women Ordinary People:\")\n",
    "print(\"T-statistic:\", t_stat)\n",
    "print(\"P-value:\", p_value)\n"
   ]
  },
  {
   "cell_type": "code",
   "execution_count": 640,
   "metadata": {},
   "outputs": [
    {
     "name": "stdout",
     "output_type": "stream",
     "text": [
      "Comparison of Sentiment for Women Education Tweets:\n",
      "T-statistic: 1.5827050792224808\n",
      "P-value: 0.11883500035121558\n"
     ]
    }
   ],
   "source": [
    "men_education_tweets = df[df['text'].str.contains('women education', case=False)]\n",
    "sentiment_scores = [TextBlob(tweet).sentiment.polarity for tweet in men_education_tweets['text']]\n",
    "t_stat, p_value = stats.ttest_1samp(sentiment_scores, 0)\n",
    "print(\"Comparison of Sentiment for Women Education Tweets:\")\n",
    "print(\"T-statistic:\", t_stat)\n",
    "print(\"P-value:\", p_value)"
   ]
  },
  {
   "attachments": {},
   "cell_type": "markdown",
   "metadata": {},
   "source": [
    "#### Calculate the sentiment scores for tweets containing each keyword"
   ]
  },
  {
   "cell_type": "code",
   "execution_count": 641,
   "metadata": {},
   "outputs": [
    {
     "name": "stdout",
     "output_type": "stream",
     "text": [
      "Sentiment Scores by Keyword:\n",
      "women education: 0.04169113756613758\n"
     ]
    }
   ],
   "source": [
    "keyword_sentiment = {}\n",
    "for keyword in keywords:\n",
    "    keyword_tweets = df_edu[df_edu['text'].str.contains(keyword)]\n",
    "    sentiment_scores = [TextBlob(tweet).sentiment.polarity for tweet in keyword_tweets['text']]\n",
    "    keyword_sentiment[keyword] = np.mean(sentiment_scores)\n",
    "print(\"Sentiment Scores by Keyword:\")\n",
    "for keyword, sentiment_score in keyword_sentiment.items():\n",
    "    print(f\"{keyword}: {sentiment_score}\")\n"
   ]
  },
  {
   "attachments": {},
   "cell_type": "markdown",
   "metadata": {},
   "source": [
    "##### Chi-square test of independence"
   ]
  },
  {
   "cell_type": "code",
   "execution_count": 642,
   "metadata": {},
   "outputs": [
    {
     "name": "stdout",
     "output_type": "stream",
     "text": [
      "Chi-square Test of Independence:\n",
      "Chi-square: 0.0\n",
      "P-value: 1.0\n"
     ]
    }
   ],
   "source": [
    "from scipy.stats import chi2_contingency\n",
    "contingency_table = pd.crosstab(df['gender'], df['label'])\n",
    "chi2, p_value, _, _ = chi2_contingency(contingency_table)\n",
    "print(\"Chi-square Test of Independence:\")\n",
    "print(\"Chi-square:\", chi2)\n",
    "print(\"P-value:\", p_value)"
   ]
  },
  {
   "attachments": {},
   "cell_type": "markdown",
   "metadata": {},
   "source": [
    "##### Create a cross-tabulation between sentiment and gender"
   ]
  },
  {
   "cell_type": "code",
   "execution_count": 643,
   "metadata": {},
   "outputs": [
    {
     "name": "stdout",
     "output_type": "stream",
     "text": [
      "Cross-Tabulation of Sentiment and Gender:\n",
      "gender     female\n",
      "sentiment        \n",
      "negative    11979\n",
      "neutral     24221\n",
      "positive    21488\n"
     ]
    }
   ],
   "source": [
    "cross_tab = pd.crosstab(df['sentiment'], df['gender'])\n",
    "# Print the cross-tabulation\n",
    "print(\"Cross-Tabulation of Sentiment and Gender:\")\n",
    "print(cross_tab)"
   ]
  },
  {
   "cell_type": "code",
   "execution_count": 644,
   "metadata": {},
   "outputs": [
    {
     "name": "stdout",
     "output_type": "stream",
     "text": [
      "Cross-Tabulation of Gender and Label:\n",
      "label       0     1\n",
      "gender             \n",
      "female  47961  9727\n"
     ]
    }
   ],
   "source": [
    "cross_tab = pd.crosstab(df['gender'], df['label'])\n",
    "# Print the cross-tabulation\n",
    "print(\"Cross-Tabulation of Gender and Label:\")\n",
    "print(cross_tab)"
   ]
  },
  {
   "attachments": {},
   "cell_type": "markdown",
   "metadata": {},
   "source": [
    "##### Calculate descriptive statistics for women\n"
   ]
  },
  {
   "cell_type": "code",
   "execution_count": 645,
   "metadata": {},
   "outputs": [
    {
     "name": "stdout",
     "output_type": "stream",
     "text": [
      "Descriptive Statistics for men ordinary people:\n",
      "Mean Sentiment: 0.06375562621593164\n",
      "Median Sentiment: 0.0\n",
      "Standard Deviation of Sentiment: 0.28077825322328437\n",
      "Quartiles of Sentiment: [0.         0.         0.16666667]\n"
     ]
    }
   ],
   "source": [
    "men_sentiment_scores = [TextBlob(tweet).sentiment.polarity for tweet in df[df['gender'] == 'female']['text']]\n",
    "# Calculate descriptive statistics for men\n",
    "men_mean_sentiment = np.mean(men_sentiment_scores)\n",
    "men_median_sentiment = np.median(men_sentiment_scores)\n",
    "men_std_sentiment = np.std(men_sentiment_scores)\n",
    "men_quartiles_sentiment = np.percentile(men_sentiment_scores, [25, 50, 75])\n",
    "\n",
    "print(\"Descriptive Statistics for men ordinary people:\")\n",
    "print(\"Mean Sentiment:\", men_mean_sentiment)\n",
    "print(\"Median Sentiment:\", men_median_sentiment)\n",
    "print(\"Standard Deviation of Sentiment:\", men_std_sentiment)\n",
    "print(\"Quartiles of Sentiment:\", men_quartiles_sentiment)"
   ]
  },
  {
   "attachments": {},
   "cell_type": "markdown",
   "metadata": {},
   "source": [
    "##### Frequent Words"
   ]
  },
  {
   "cell_type": "code",
   "execution_count": 646,
   "metadata": {},
   "outputs": [
    {
     "data": {
      "image/png": "[encoded data removed]",
      "text/plain": [
       "<Figure size 1000x600 with 1 Axes>"
      ]
     },
     "metadata": {},
     "output_type": "display_data"
    }
   ],
   "source": [
    "import matplotlib.pyplot as plt\n",
    "from collections import Counter\n",
    "\n",
    "# Combine all the text into a single string\n",
    "all_text = ' '.join(df['text'].tolist())\n",
    "\n",
    "# Split the text into individual words\n",
    "all_words = all_text.split()\n",
    "\n",
    "# Count the occurrences of each word\n",
    "word_counts = Counter(all_words)\n",
    "\n",
    "# Retrieve the most common words\n",
    "most_common_words = word_counts.most_common(10)\n",
    "\n",
    "# Extract the words and their frequencies\n",
    "words = [word for word, count in most_common_words]\n",
    "frequencies = [count for word, count in most_common_words]\n",
    "\n",
    "# Calculate the total frequency of all words\n",
    "total_frequency = sum(frequencies)\n",
    "\n",
    "# Calculate the percentages\n",
    "percentages = [count / total_frequency * 100 for count in frequencies]\n",
    "\n",
    "# Set up the figure and axes\n",
    "fig, ax = plt.subplots(figsize=(10, 6))\n",
    "\n",
    "# Create a bar chart for the most common words\n",
    "bars = ax.bar(words, frequencies, color=['orange', 'darkblue', 'darkblue', 'darkblue', 'darkblue', 'darkblue', 'darkblue', 'darkblue', 'darkblue', 'darkblue'])\n",
    "\n",
    "# Add labels and title\n",
    "ax.set_xlabel('Words')\n",
    "ax.set_ylabel('Frequency')\n",
    "ax.set_title('Top 10 Most Common Words')\n",
    "\n",
    "# Rotate x-axis labels for better readability\n",
    "plt.xticks(rotation=45)\n",
    "\n",
    "# Add percentage labels above each bar\n",
    "for bar, percentage in zip(bars, percentages):\n",
    "    height = bar.get_height()\n",
    "    ax.text(bar.get_x() + bar.get_width() / 2, height, f'{percentage:.1f}%', ha='center', va='bottom')\n",
    "\n",
    "# Show the chart\n",
    "plt.show()\n"
   ]
  },
  {
   "attachments": {},
   "cell_type": "markdown",
   "metadata": {},
   "source": [
    "##### Time Series"
   ]
  },
  {
   "cell_type": "code",
   "execution_count": 647,
   "metadata": {},
   "outputs": [
    {
     "data": {
      "image/png": "[encoded data removed]",
      "text/plain": [
       "<Figure size 1200x600 with 1 Axes>"
      ]
     },
     "metadata": {},
     "output_type": "display_data"
    }
   ],
   "source": [
    "\n",
    "sentiment_counts = df.groupby(['created_at', 'label']).size().unstack()\n",
    "# Extract the time periods and convert them to datetime objects\n",
    "time_periods = pd.to_datetime(sentiment_counts.index)\n",
    "# Set up the figure and axes\n",
    "fig, ax = plt.subplots(figsize=(12, 6))\n",
    "# Plot the stacked area plot for sentiment categories\n",
    "ax.stackplot(time_periods, sentiment_counts.T, labels=sentiment_counts.columns)\n",
    "# Add labels and title\n",
    "ax.set_xlabel('Time')\n",
    "ax.set_ylabel('Count')\n",
    "ax.set_title('Sentiment Time Series')\n",
    "# Add legend\n",
    "ax.legend()\n",
    "# Show the chart\n",
    "plt.show()"
   ]
  },
  {
   "attachments": {},
   "cell_type": "markdown",
   "metadata": {},
   "source": [
    "##### Frequent Tweet"
   ]
  },
  {
   "cell_type": "code",
   "execution_count": 648,
   "metadata": {},
   "outputs": [
    {
     "data": {
      "image/png": "[encoded data removed]",
      "text/plain": [
       "<Figure size 1200x600 with 1 Axes>"
      ]
     },
     "metadata": {},
     "output_type": "display_data"
    }
   ],
   "source": [
    "# Group the data by 'created_at' and 'gender', and count the number of tweets for each gender\n",
    "freq_counts = df.groupby(['created_at', 'gender']).size().unstack()\n",
    "\n",
    "# Extract the time periods and convert them to datetime objects\n",
    "time_periods = pd.to_datetime(freq_counts.index)\n",
    "\n",
    "# Set up the figure and axes\n",
    "fig, ax = plt.subplots(figsize=(12, 6))\n",
    "\n",
    "# Plot the stacked area plot for genders\n",
    "ax.stackplot(time_periods, freq_counts.T, labels=freq_counts.columns, colors=['orange', 'darkblue'])\n",
    "\n",
    "# Add labels and title\n",
    "ax.set_xlabel('Time')\n",
    "ax.set_ylabel('Count')\n",
    "ax.set_title('Tweet Frequency Time Series')\n",
    "\n",
    "# Add legend\n",
    "ax.legend()\n",
    "\n",
    "# Show the chart\n",
    "plt.show()\n"
   ]
  },
  {
   "cell_type": "code",
   "execution_count": 649,
   "metadata": {},
   "outputs": [
    {
     "data": {
      "text/html": [
       "<div>\n",
       "<style scoped>\n",
       "    .dataframe tbody tr th:only-of-type {\n",
       "        vertical-align: middle;\n",
       "    }\n",
       "\n",
       "    .dataframe tbody tr th {\n",
       "        vertical-align: top;\n",
       "    }\n",
       "\n",
       "    .dataframe thead th {\n",
       "        text-align: right;\n",
       "    }\n",
       "</style>\n",
       "<table border=\"1\" class=\"dataframe\">\n",
       "  <thead>\n",
       "    <tr style=\"text-align: right;\">\n",
       "      <th></th>\n",
       "      <th>text</th>\n",
       "    </tr>\n",
       "  </thead>\n",
       "  <tbody>\n",
       "    <tr>\n",
       "      <th>39250</th>\n",
       "      <td>ukinafghanistan number working</td>\n",
       "    </tr>\n",
       "    <tr>\n",
       "      <th>5937</th>\n",
       "      <td>aaallleeeffff wasnt without reason wish good luck</td>\n",
       "    </tr>\n",
       "    <tr>\n",
       "      <th>6737</th>\n",
       "      <td>proud woman know children noncaliphate consider shame honor world women day sudabeh</td>\n",
       "    </tr>\n",
       "    <tr>\n",
       "      <th>5310</th>\n",
       "      <td>milad r trowels become job take pictures people subway alleys streets airports write pictures twitter</td>\n",
       "    </tr>\n",
       "    <tr>\n",
       "      <th>3096</th>\n",
       "      <td>ayeeshasediqi lets proud lets lucky intention marry someone else ayeeshasediqi</td>\n",
       "    </tr>\n",
       "    <tr>\n",
       "      <th>21892</th>\n",
       "      <td>leader taj saram baba stop hazara genocide</td>\n",
       "    </tr>\n",
       "    <tr>\n",
       "      <th>25821</th>\n",
       "      <td>mothmarymah historically politically disenfranchised systematically discriminated culturally distinct millennials still victims murders head</td>\n",
       "    </tr>\n",
       "  </tbody>\n",
       "</table>\n",
       "</div>"
      ],
      "text/plain": [
       "                                                                                                                                               text\n",
       "39250                                                                                                                ukinafghanistan number working\n",
       "5937                                                                                              aaallleeeffff wasnt without reason wish good luck\n",
       "6737                                                            proud woman know children noncaliphate consider shame honor world women day sudabeh\n",
       "5310                                          milad r trowels become job take pictures people subway alleys streets airports write pictures twitter\n",
       "3096                                                                 ayeeshasediqi lets proud lets lucky intention marry someone else ayeeshasediqi\n",
       "21892                                                                                                    leader taj saram baba stop hazara genocide\n",
       "25821  mothmarymah historically politically disenfranchised systematically discriminated culturally distinct millennials still victims murders head"
      ]
     },
     "execution_count": 649,
     "metadata": {},
     "output_type": "execute_result"
    }
   ],
   "source": [
    "df[['text']].sample(7)"
   ]
  },
  {
   "cell_type": "code",
   "execution_count": 650,
   "metadata": {},
   "outputs": [],
   "source": [
    "df['created_at'] = pd.to_datetime(df['created_at'], errors='coerce').dt.date.astype(str)"
   ]
  },
  {
   "cell_type": "code",
   "execution_count": 651,
   "metadata": {},
   "outputs": [
    {
     "data": {
      "text/html": [
       "<div>\n",
       "<style scoped>\n",
       "    .dataframe tbody tr th:only-of-type {\n",
       "        vertical-align: middle;\n",
       "    }\n",
       "\n",
       "    .dataframe tbody tr th {\n",
       "        vertical-align: top;\n",
       "    }\n",
       "\n",
       "    .dataframe thead th {\n",
       "        text-align: right;\n",
       "    }\n",
       "</style>\n",
       "<table border=\"1\" class=\"dataframe\">\n",
       "  <thead>\n",
       "    <tr style=\"text-align: right;\">\n",
       "      <th></th>\n",
       "      <th>text</th>\n",
       "      <th>name</th>\n",
       "      <th>created_at</th>\n",
       "      <th>gender</th>\n",
       "      <th>ethnic</th>\n",
       "      <th>label</th>\n",
       "      <th>sentiment</th>\n",
       "      <th>sentiment_score</th>\n",
       "    </tr>\n",
       "  </thead>\n",
       "  <tbody>\n",
       "    <tr>\n",
       "      <th>11661</th>\n",
       "      <td>battle bases genghis khans sects established rashiduddin hafez abro jozjani prove neither genghis khan military commanders issued settlement order current areas hazara jat khanov p stop hazara genocide</td>\n",
       "      <td>agaarozo</td>\n",
       "      <td>2022-10-30</td>\n",
       "      <td>female</td>\n",
       "      <td>tajik</td>\n",
       "      <td>0</td>\n",
       "      <td>negative</td>\n",
       "      <td>-0.050000</td>\n",
       "    </tr>\n",
       "    <tr>\n",
       "      <th>46529</th>\n",
       "      <td>isnt dress isnt nation isnt story society full pain sadness words express made people illiterate poor miserable name people flag name jihad name taliban insulted oppressed money</td>\n",
       "      <td>TheLostJalalzai</td>\n",
       "      <td>2023-03-23</td>\n",
       "      <td>female</td>\n",
       "      <td>pashtun</td>\n",
       "      <td>0</td>\n",
       "      <td>negative</td>\n",
       "      <td>-0.350000</td>\n",
       "    </tr>\n",
       "    <tr>\n",
       "      <th>1849</th>\n",
       "      <td>brother khan reached followers congratulations may always go higher</td>\n",
       "      <td>AyeeshaSediqi</td>\n",
       "      <td>2023-02-28</td>\n",
       "      <td>female</td>\n",
       "      <td>pashtun</td>\n",
       "      <td>0</td>\n",
       "      <td>positive</td>\n",
       "      <td>0.250000</td>\n",
       "    </tr>\n",
       "    <tr>\n",
       "      <th>23012</th>\n",
       "      <td>regarding prohibition women education sound stone spiritual mother kind speak ashrafghani</td>\n",
       "      <td>Frah_Frah1</td>\n",
       "      <td>2022-12-24</td>\n",
       "      <td>female</td>\n",
       "      <td>tajik</td>\n",
       "      <td>1</td>\n",
       "      <td>positive</td>\n",
       "      <td>0.333333</td>\n",
       "    </tr>\n",
       "    <tr>\n",
       "      <th>42738</th>\n",
       "      <td>samistanekzai seriously mentally ill</td>\n",
       "      <td>rangeeza</td>\n",
       "      <td>2023-03-01</td>\n",
       "      <td>female</td>\n",
       "      <td>tajik</td>\n",
       "      <td>0</td>\n",
       "      <td>negative</td>\n",
       "      <td>-0.500000</td>\n",
       "    </tr>\n",
       "  </tbody>\n",
       "</table>\n",
       "</div>"
      ],
      "text/plain": [
       "                                                                                                                                                                                                            text   \n",
       "11661  battle bases genghis khans sects established rashiduddin hafez abro jozjani prove neither genghis khan military commanders issued settlement order current areas hazara jat khanov p stop hazara genocide  \\\n",
       "46529                          isnt dress isnt nation isnt story society full pain sadness words express made people illiterate poor miserable name people flag name jihad name taliban insulted oppressed money   \n",
       "1849                                                                                                                                         brother khan reached followers congratulations may always go higher   \n",
       "23012                                                                                                                  regarding prohibition women education sound stone spiritual mother kind speak ashrafghani   \n",
       "42738                                                                                                                                                                       samistanekzai seriously mentally ill   \n",
       "\n",
       "                  name  created_at  gender   ethnic  label sentiment   \n",
       "11661         agaarozo  2022-10-30  female    tajik      0  negative  \\\n",
       "46529  TheLostJalalzai  2023-03-23  female  pashtun      0  negative   \n",
       "1849     AyeeshaSediqi  2023-02-28  female  pashtun      0  positive   \n",
       "23012       Frah_Frah1  2022-12-24  female    tajik      1  positive   \n",
       "42738         rangeeza  2023-03-01  female    tajik      0  negative   \n",
       "\n",
       "       sentiment_score  \n",
       "11661        -0.050000  \n",
       "46529        -0.350000  \n",
       "1849          0.250000  \n",
       "23012         0.333333  \n",
       "42738        -0.500000  "
      ]
     },
     "execution_count": 651,
     "metadata": {},
     "output_type": "execute_result"
    }
   ],
   "source": [
    "df.sample(5)"
   ]
  },
  {
   "cell_type": "code",
   "execution_count": 653,
   "metadata": {},
   "outputs": [
    {
     "data": {
      "text/plain": [
       "(57688, 8)"
      ]
     },
     "execution_count": 653,
     "metadata": {},
     "output_type": "execute_result"
    }
   ],
   "source": [
    "df.shape"
   ]
  },
  {
   "cell_type": "code",
   "execution_count": 652,
   "metadata": {},
   "outputs": [],
   "source": [
    "df.to_excel('../data_processed/women_ordinary_people.xlsx',index=False)"
   ]
  }
 ],
 "metadata": {
  "kernelspec": {
   "display_name": "Python 3",
   "language": "python",
   "name": "python3"
  },
  "language_info": {
   "codemirror_mode": {
    "name": "ipython",
    "version": 3
   },
   "file_extension": ".py",
   "mimetype": "text/x-python",
   "name": "python",
   "nbconvert_exporter": "python",
   "pygments_lexer": "ipython3",
   "version": "3.11.3"
  },
  "orig_nbformat": 4
 },
 "nbformat": 4,
 "nbformat_minor": 2
}
