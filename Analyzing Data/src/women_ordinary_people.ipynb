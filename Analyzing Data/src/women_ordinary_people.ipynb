{
 "cells": [
  {
   "cell_type": "code",
   "execution_count": 1,
   "metadata": {},
   "outputs": [],
   "source": [
    "import random\n",
    "import re\n",
    "import pandas as pd\n",
    "from sklearn.feature_extraction.text import CountVectorizer\n",
    "from sklearn.feature_extraction.text import TfidfVectorizer\n",
    "from textblob import TextBlob\n",
    "import matplotlib.pyplot as plt\n",
    "import seaborn as sns\n",
    "from scipy import stats\n",
    "from scipy.stats import chi2_contingency\n",
    "import statsmodels.api as sm\n",
    "import numpy as np\n",
    "pd.options.display.max_colwidth = 1000\n",
    "pd.options.mode.chained_assignment = None\n"
   ]
  },
  {
   "attachments": {},
   "cell_type": "markdown",
   "metadata": {},
   "source": [
    "##### Load Data"
   ]
  },
  {
   "cell_type": "code",
   "execution_count": 2,
   "metadata": {},
   "outputs": [],
   "source": [
    "df = pd.read_excel('../data_processed/women_ordinary_people.xlsx')"
   ]
  },
  {
   "cell_type": "code",
   "execution_count": 3,
   "metadata": {},
   "outputs": [
    {
     "data": {
      "text/html": [
       "<div>\n",
       "<style scoped>\n",
       "    .dataframe tbody tr th:only-of-type {\n",
       "        vertical-align: middle;\n",
       "    }\n",
       "\n",
       "    .dataframe tbody tr th {\n",
       "        vertical-align: top;\n",
       "    }\n",
       "\n",
       "    .dataframe thead th {\n",
       "        text-align: right;\n",
       "    }\n",
       "</style>\n",
       "<table border=\"1\" class=\"dataframe\">\n",
       "  <thead>\n",
       "    <tr style=\"text-align: right;\">\n",
       "      <th></th>\n",
       "      <th>text</th>\n",
       "      <th>name</th>\n",
       "      <th>created_at</th>\n",
       "      <th>gender</th>\n",
       "      <th>ethnic</th>\n",
       "      <th>label</th>\n",
       "      <th>sentiment</th>\n",
       "      <th>sentiment_score</th>\n",
       "    </tr>\n",
       "  </thead>\n",
       "  <tbody>\n",
       "    <tr>\n",
       "      <th>0</th>\n",
       "      <td>malala banning girl school taliban also arresting champions education matiullahwesa founded penpath pro</td>\n",
       "      <td>AfgEducation</td>\n",
       "      <td>2023-03-29</td>\n",
       "      <td>female</td>\n",
       "      <td>hazara</td>\n",
       "      <td>1</td>\n",
       "      <td>neutral</td>\n",
       "      <td>0.000000</td>\n",
       "    </tr>\n",
       "    <tr>\n",
       "      <th>1</th>\n",
       "      <td>since days afghan girl education centers closed afghanistan quality education power transform societies single generation afghan girl women need quality education need support help formal education let afghan girl learn</td>\n",
       "      <td>AfgEducation</td>\n",
       "      <td>2023-03-29</td>\n",
       "      <td>female</td>\n",
       "      <td>hazara</td>\n",
       "      <td>1</td>\n",
       "      <td>negative</td>\n",
       "      <td>-0.085714</td>\n",
       "    </tr>\n",
       "    <tr>\n",
       "      <th>2</th>\n",
       "      <td>core problem afghanistan conflicts lack education also core solution afghanistan conflicts education afghan girl women also part afg need edu right edu working alternative way facilitate education afghan girl women</td>\n",
       "      <td>AfgEducation</td>\n",
       "      <td>2023-03-28</td>\n",
       "      <td>female</td>\n",
       "      <td>hazara</td>\n",
       "      <td>1</td>\n",
       "      <td>positive</td>\n",
       "      <td>0.285714</td>\n",
       "    </tr>\n",
       "    <tr>\n",
       "      <th>3</th>\n",
       "      <td>matiullahwesa voice afghan generation peaceful education activist want education afghanistan also obligation rise voice afghan girl women education afghanistan relaesematiullahwesa let afghan girl learn</td>\n",
       "      <td>AfgEducation</td>\n",
       "      <td>2023-03-28</td>\n",
       "      <td>female</td>\n",
       "      <td>hazara</td>\n",
       "      <td>1</td>\n",
       "      <td>positive</td>\n",
       "      <td>0.250000</td>\n",
       "    </tr>\n",
       "    <tr>\n",
       "      <th>4</th>\n",
       "      <td>enemy ignorance work education afghans solution afghanistans miseries education educate encourage afghans study work educate afghans let afghan girl learn</td>\n",
       "      <td>AfgEducation</td>\n",
       "      <td>2023-03-28</td>\n",
       "      <td>female</td>\n",
       "      <td>hazara</td>\n",
       "      <td>1</td>\n",
       "      <td>neutral</td>\n",
       "      <td>0.000000</td>\n",
       "    </tr>\n",
       "  </tbody>\n",
       "</table>\n",
       "</div>"
      ],
      "text/plain": [
       "                                                                                                                                                                                                                          text   \n",
       "0                                                                                                                      malala banning girl school taliban also arresting champions education matiullahwesa founded penpath pro  \\\n",
       "1  since days afghan girl education centers closed afghanistan quality education power transform societies single generation afghan girl women need quality education need support help formal education let afghan girl learn   \n",
       "2       core problem afghanistan conflicts lack education also core solution afghanistan conflicts education afghan girl women also part afg need edu right edu working alternative way facilitate education afghan girl women   \n",
       "3                   matiullahwesa voice afghan generation peaceful education activist want education afghanistan also obligation rise voice afghan girl women education afghanistan relaesematiullahwesa let afghan girl learn   \n",
       "4                                                                   enemy ignorance work education afghans solution afghanistans miseries education educate encourage afghans study work educate afghans let afghan girl learn   \n",
       "\n",
       "           name  created_at  gender  ethnic  label sentiment  sentiment_score  \n",
       "0  AfgEducation  2023-03-29  female  hazara      1   neutral         0.000000  \n",
       "1  AfgEducation  2023-03-29  female  hazara      1  negative        -0.085714  \n",
       "2  AfgEducation  2023-03-28  female  hazara      1  positive         0.285714  \n",
       "3  AfgEducation  2023-03-28  female  hazara      1  positive         0.250000  \n",
       "4  AfgEducation  2023-03-28  female  hazara      1   neutral         0.000000  "
      ]
     },
     "execution_count": 3,
     "metadata": {},
     "output_type": "execute_result"
    }
   ],
   "source": [
    "df.head()"
   ]
  },
  {
   "attachments": {},
   "cell_type": "markdown",
   "metadata": {},
   "source": [
    "##### Drop Null, Empty and NaN valeus"
   ]
  },
  {
   "cell_type": "code",
   "execution_count": 4,
   "metadata": {},
   "outputs": [],
   "source": [
    "df.dropna(subset=['text'], inplace=True) # remove nan values\n",
    "df.drop_duplicates(subset=['text'], inplace=True) # remove duplicates\n"
   ]
  },
  {
   "attachments": {},
   "cell_type": "markdown",
   "metadata": {},
   "source": [
    "##### Clean Data"
   ]
  },
  {
   "cell_type": "code",
   "execution_count": 5,
   "metadata": {},
   "outputs": [],
   "source": [
    "df['text'] = df['text'].str.replace('&amp;', ' ')\n",
    "def clean_tweet_text(text):\n",
    "    # Check for null or NaN values\n",
    "    if pd.isnull(text):\n",
    "        return text\n",
    "    # Remove URL\n",
    "    text = re.sub(r'http\\S+', '', text)\n",
    "    \n",
    "    # Remove RT (retweet) tag\n",
    "    text = text.replace('RT', '')\n",
    "    \n",
    "    # Remove numbers\n",
    "    text = re.sub(r'\\d+', '', text)\n",
    "    \n",
    "    # Remove special characters and punctuations, and add a space after removing them\n",
    "    text = re.sub(r'[^\\w\\s]', '', text)\n",
    "\n",
    "    # Remove hashtags\n",
    "    text = re.sub(r'#(\\w+)', '', str(text))\n",
    "    # Remove extra spaces\n",
    "    text = ' '.join(text.split())\n",
    "    \n",
    "    # Convert to lowercase\n",
    "    text = text.lower()\n",
    "    \n",
    "    return text\n",
    "# Apply the cleaning function to 'text' column\n",
    "df['text'] = df['text'].apply(clean_tweet_text)\n"
   ]
  },
  {
   "cell_type": "code",
   "execution_count": 6,
   "metadata": {},
   "outputs": [],
   "source": [
    "# df = pd.read_excel('../data_processed/men_ordinary_people.xlsx')"
   ]
  },
  {
   "cell_type": "code",
   "execution_count": 7,
   "metadata": {},
   "outputs": [
    {
     "data": {
      "text/html": [
       "<div>\n",
       "<style scoped>\n",
       "    .dataframe tbody tr th:only-of-type {\n",
       "        vertical-align: middle;\n",
       "    }\n",
       "\n",
       "    .dataframe tbody tr th {\n",
       "        vertical-align: top;\n",
       "    }\n",
       "\n",
       "    .dataframe thead th {\n",
       "        text-align: right;\n",
       "    }\n",
       "</style>\n",
       "<table border=\"1\" class=\"dataframe\">\n",
       "  <thead>\n",
       "    <tr style=\"text-align: right;\">\n",
       "      <th></th>\n",
       "      <th>text</th>\n",
       "    </tr>\n",
       "  </thead>\n",
       "  <tbody>\n",
       "    <tr>\n",
       "      <th>43321</th>\n",
       "      <td>salarkh point rejoicing death person even enemy innocent people</td>\n",
       "    </tr>\n",
       "    <tr>\n",
       "      <th>42917</th>\n",
       "      <td>htasalla najeebnangyal joke like thunder</td>\n",
       "    </tr>\n",
       "    <tr>\n",
       "      <th>21434</th>\n",
       "      <td>golbegum different time spring different happy art making happy higher art</td>\n",
       "    </tr>\n",
       "    <tr>\n",
       "      <th>3521</th>\n",
       "      <td>allah wakes end night surely allah loves dont forget retweet uninformed people also informed ayeeshasediqi</td>\n",
       "    </tr>\n",
       "    <tr>\n",
       "      <th>1140</th>\n",
       "      <td>chouhanshivraj stophazarahgenocide stoptajikgenoide</td>\n",
       "    </tr>\n",
       "  </tbody>\n",
       "</table>\n",
       "</div>"
      ],
      "text/plain": [
       "                                                                                                             text\n",
       "43321                                             salarkh point rejoicing death person even enemy innocent people\n",
       "42917                                                                    htasalla najeebnangyal joke like thunder\n",
       "21434                                  golbegum different time spring different happy art making happy higher art\n",
       "3521   allah wakes end night surely allah loves dont forget retweet uninformed people also informed ayeeshasediqi\n",
       "1140                                                          chouhanshivraj stophazarahgenocide stoptajikgenoide"
      ]
     },
     "execution_count": 7,
     "metadata": {},
     "output_type": "execute_result"
    }
   ],
   "source": [
    "df[['text']].sample(5)"
   ]
  },
  {
   "attachments": {},
   "cell_type": "markdown",
   "metadata": {},
   "source": [
    "##### Remove Text Less then 30 characters"
   ]
  },
  {
   "cell_type": "code",
   "execution_count": 8,
   "metadata": {},
   "outputs": [],
   "source": [
    "df = df[df['text'].str.len() >=30]"
   ]
  },
  {
   "attachments": {},
   "cell_type": "markdown",
   "metadata": {},
   "source": [
    "##### Remove Empty Rows"
   ]
  },
  {
   "cell_type": "code",
   "execution_count": 9,
   "metadata": {},
   "outputs": [],
   "source": [
    "def remove_empty_rows(df):\n",
    "    # Iterate over each column in the DataFrame\n",
    "    for column in df.columns:\n",
    "        # Remove rows with empty values in the column\n",
    "        df = df[df[column].notna() & df[column].astype(str).str.strip().ne('')]\n",
    "    return df\n",
    "\n",
    "df = remove_empty_rows(df)\n"
   ]
  },
  {
   "attachments": {},
   "cell_type": "markdown",
   "metadata": {},
   "source": [
    "##### Remove All Null Values"
   ]
  },
  {
   "cell_type": "code",
   "execution_count": 10,
   "metadata": {},
   "outputs": [],
   "source": [
    "def remove_null_columns(df):\n",
    "    # Iterate over each column in the DataFrame\n",
    "    for column in df.columns:\n",
    "        # Check if the column contains any null values\n",
    "        if df[column].isnull().any():\n",
    "            # If any null value exists, drop the column\n",
    "            df = df.drop(column, axis=1)\n",
    "    return df\n",
    "df = remove_null_columns(df)\n"
   ]
  },
  {
   "attachments": {},
   "cell_type": "markdown",
   "metadata": {},
   "source": [
    "##### Remove Stopwords"
   ]
  },
  {
   "cell_type": "code",
   "execution_count": 11,
   "metadata": {},
   "outputs": [],
   "source": [
    "from nltk.corpus import stopwords\n",
    "import nltk\n",
    "\n",
    "def remove_stopwords(df):\n",
    "    stop_words = set(stopwords.words('english'))\n",
    "    df['text'] = df['text'].apply(lambda x: ' '.join([word for word in x.split() if word not in stop_words]))\n",
    "    return df\n",
    "\n",
    "df = remove_stopwords(df)\n"
   ]
  },
  {
   "attachments": {},
   "cell_type": "markdown",
   "metadata": {},
   "source": [
    "##### Convert Timezone"
   ]
  },
  {
   "cell_type": "code",
   "execution_count": 12,
   "metadata": {},
   "outputs": [],
   "source": [
    "# df['created_at'] = pd.to_datetime(df['created_at'], errors='coerce').dt.date.astype(str)"
   ]
  },
  {
   "cell_type": "code",
   "execution_count": 13,
   "metadata": {},
   "outputs": [
    {
     "data": {
      "text/html": [
       "<div>\n",
       "<style scoped>\n",
       "    .dataframe tbody tr th:only-of-type {\n",
       "        vertical-align: middle;\n",
       "    }\n",
       "\n",
       "    .dataframe tbody tr th {\n",
       "        vertical-align: top;\n",
       "    }\n",
       "\n",
       "    .dataframe thead th {\n",
       "        text-align: right;\n",
       "    }\n",
       "</style>\n",
       "<table border=\"1\" class=\"dataframe\">\n",
       "  <thead>\n",
       "    <tr style=\"text-align: right;\">\n",
       "      <th></th>\n",
       "      <th>text</th>\n",
       "      <th>name</th>\n",
       "      <th>created_at</th>\n",
       "      <th>gender</th>\n",
       "      <th>ethnic</th>\n",
       "      <th>label</th>\n",
       "      <th>sentiment</th>\n",
       "      <th>sentiment_score</th>\n",
       "    </tr>\n",
       "  </thead>\n",
       "  <tbody>\n",
       "    <tr>\n",
       "      <th>34714</th>\n",
       "      <td>ali women good taste women good painters draw pain beautiful form dont claim stophazaragenoci</td>\n",
       "      <td>mar_yamtrahomi</td>\n",
       "      <td>2022-10-16</td>\n",
       "      <td>female</td>\n",
       "      <td>tajik</td>\n",
       "      <td>1</td>\n",
       "      <td>positive</td>\n",
       "      <td>0.75</td>\n",
       "    </tr>\n",
       "    <tr>\n",
       "      <th>19413</th>\n",
       "      <td>ziaurhmanazhgar hahahahaha show dream students akure khattak madrasas dream never fulfilled national flag honor history dignity flies united nations white shroud tarristan punjabis even recognize punjab became another world</td>\n",
       "      <td>DarmalHeela</td>\n",
       "      <td>2022-11-21</td>\n",
       "      <td>female</td>\n",
       "      <td>pashtun</td>\n",
       "      <td>0</td>\n",
       "      <td>positive</td>\n",
       "      <td>0.10</td>\n",
       "    </tr>\n",
       "    <tr>\n",
       "      <th>14793</th>\n",
       "      <td>friends come program iran protests lessons fears hopes</td>\n",
       "      <td>AmiriWahida</td>\n",
       "      <td>2022-11-18</td>\n",
       "      <td>female</td>\n",
       "      <td>tajik</td>\n",
       "      <td>0</td>\n",
       "      <td>neutral</td>\n",
       "      <td>0.00</td>\n",
       "    </tr>\n",
       "    <tr>\n",
       "      <th>55394</th>\n",
       "      <td>asilaa indirect support talib really pathetic words woman</td>\n",
       "      <td>sara06203251</td>\n",
       "      <td>2023-01-18</td>\n",
       "      <td>female</td>\n",
       "      <td>hazara</td>\n",
       "      <td>0</td>\n",
       "      <td>negative</td>\n",
       "      <td>-1.00</td>\n",
       "    </tr>\n",
       "  </tbody>\n",
       "</table>\n",
       "</div>"
      ],
      "text/plain": [
       "                                                                                                                                                                                                                                  text   \n",
       "34714                                                                                                                                    ali women good taste women good painters draw pain beautiful form dont claim stophazaragenoci  \\\n",
       "19413  ziaurhmanazhgar hahahahaha show dream students akure khattak madrasas dream never fulfilled national flag honor history dignity flies united nations white shroud tarristan punjabis even recognize punjab became another world   \n",
       "14793                                                                                                                                                                           friends come program iran protests lessons fears hopes   \n",
       "55394                                                                                                                                                                        asilaa indirect support talib really pathetic words woman   \n",
       "\n",
       "                 name  created_at  gender   ethnic  label sentiment   \n",
       "34714  mar_yamtrahomi  2022-10-16  female    tajik      1  positive  \\\n",
       "19413     DarmalHeela  2022-11-21  female  pashtun      0  positive   \n",
       "14793     AmiriWahida  2022-11-18  female    tajik      0   neutral   \n",
       "55394    sara06203251  2023-01-18  female   hazara      0  negative   \n",
       "\n",
       "       sentiment_score  \n",
       "34714             0.75  \n",
       "19413             0.10  \n",
       "14793             0.00  \n",
       "55394            -1.00  "
      ]
     },
     "execution_count": 13,
     "metadata": {},
     "output_type": "execute_result"
    }
   ],
   "source": [
    "df.sample(4)"
   ]
  },
  {
   "cell_type": "code",
   "execution_count": 14,
   "metadata": {},
   "outputs": [
    {
     "data": {
      "text/html": [
       "<div>\n",
       "<style scoped>\n",
       "    .dataframe tbody tr th:only-of-type {\n",
       "        vertical-align: middle;\n",
       "    }\n",
       "\n",
       "    .dataframe tbody tr th {\n",
       "        vertical-align: top;\n",
       "    }\n",
       "\n",
       "    .dataframe thead th {\n",
       "        text-align: right;\n",
       "    }\n",
       "</style>\n",
       "<table border=\"1\" class=\"dataframe\">\n",
       "  <thead>\n",
       "    <tr style=\"text-align: right;\">\n",
       "      <th></th>\n",
       "      <th>text</th>\n",
       "      <th>name</th>\n",
       "      <th>created_at</th>\n",
       "      <th>gender</th>\n",
       "      <th>ethnic</th>\n",
       "      <th>label</th>\n",
       "      <th>sentiment</th>\n",
       "      <th>sentiment_score</th>\n",
       "    </tr>\n",
       "  </thead>\n",
       "  <tbody>\n",
       "    <tr>\n",
       "      <th>26371</th>\n",
       "      <td>hasan amir abd alrahman khan commanders army spent years places especially south east afghanistan</td>\n",
       "      <td>Hazara32674235</td>\n",
       "      <td>2023-03-16</td>\n",
       "      <td>female</td>\n",
       "      <td>hazara</td>\n",
       "      <td>0</td>\n",
       "      <td>negative</td>\n",
       "      <td>-0.050000</td>\n",
       "    </tr>\n",
       "    <tr>\n",
       "      <th>24028</th>\n",
       "      <td>matiullahwesa done much girl education long time ago nowbut ur saftey important take care family well grateful everything</td>\n",
       "      <td>SodabaBayani</td>\n",
       "      <td>2022-09-22</td>\n",
       "      <td>female</td>\n",
       "      <td>tajik</td>\n",
       "      <td>1</td>\n",
       "      <td>positive</td>\n",
       "      <td>0.183333</td>\n",
       "    </tr>\n",
       "    <tr>\n",
       "      <th>5055</th>\n",
       "      <td>rezakhoshsima tehran one year since new person came work traffic become worse ever dont blame love</td>\n",
       "      <td>Gordafariid</td>\n",
       "      <td>2023-02-15</td>\n",
       "      <td>female</td>\n",
       "      <td>tajik</td>\n",
       "      <td>0</td>\n",
       "      <td>positive</td>\n",
       "      <td>0.078788</td>\n",
       "    </tr>\n",
       "    <tr>\n",
       "      <th>6944</th>\n",
       "      <td>situation afghanistan crises finally similar days fall republican government taleb ansari unlikely lie said security come security said rebel current government go didnt think isis either lies deception worst deeds sight god</td>\n",
       "      <td>KamrawaSodaba</td>\n",
       "      <td>2022-06-30</td>\n",
       "      <td>female</td>\n",
       "      <td>tajik</td>\n",
       "      <td>0</td>\n",
       "      <td>negative</td>\n",
       "      <td>-0.375000</td>\n",
       "    </tr>\n",
       "  </tbody>\n",
       "</table>\n",
       "</div>"
      ],
      "text/plain": [
       "                                                                                                                                                                                                                                   text   \n",
       "26371                                                                                                                                 hasan amir abd alrahman khan commanders army spent years places especially south east afghanistan  \\\n",
       "24028                                                                                                         matiullahwesa done much girl education long time ago nowbut ur saftey important take care family well grateful everything   \n",
       "5055                                                                                                                                 rezakhoshsima tehran one year since new person came work traffic become worse ever dont blame love   \n",
       "6944   situation afghanistan crises finally similar days fall republican government taleb ansari unlikely lie said security come security said rebel current government go didnt think isis either lies deception worst deeds sight god   \n",
       "\n",
       "                 name  created_at  gender  ethnic  label sentiment   \n",
       "26371  Hazara32674235  2023-03-16  female  hazara      0  negative  \\\n",
       "24028    SodabaBayani  2022-09-22  female   tajik      1  positive   \n",
       "5055      Gordafariid  2023-02-15  female   tajik      0  positive   \n",
       "6944    KamrawaSodaba  2022-06-30  female   tajik      0  negative   \n",
       "\n",
       "       sentiment_score  \n",
       "26371        -0.050000  \n",
       "24028         0.183333  \n",
       "5055          0.078788  \n",
       "6944         -0.375000  "
      ]
     },
     "execution_count": 14,
     "metadata": {},
     "output_type": "execute_result"
    }
   ],
   "source": [
    "df.sample(4)"
   ]
  },
  {
   "attachments": {},
   "cell_type": "markdown",
   "metadata": {},
   "source": [
    "##### Convert Timezone to datetime"
   ]
  },
  {
   "cell_type": "code",
   "execution_count": 15,
   "metadata": {},
   "outputs": [
    {
     "data": {
      "text/html": [
       "<div>\n",
       "<style scoped>\n",
       "    .dataframe tbody tr th:only-of-type {\n",
       "        vertical-align: middle;\n",
       "    }\n",
       "\n",
       "    .dataframe tbody tr th {\n",
       "        vertical-align: top;\n",
       "    }\n",
       "\n",
       "    .dataframe thead th {\n",
       "        text-align: right;\n",
       "    }\n",
       "</style>\n",
       "<table border=\"1\" class=\"dataframe\">\n",
       "  <thead>\n",
       "    <tr style=\"text-align: right;\">\n",
       "      <th></th>\n",
       "      <th>text</th>\n",
       "      <th>name</th>\n",
       "      <th>created_at</th>\n",
       "      <th>gender</th>\n",
       "      <th>ethnic</th>\n",
       "      <th>label</th>\n",
       "      <th>sentiment</th>\n",
       "      <th>sentiment_score</th>\n",
       "    </tr>\n",
       "  </thead>\n",
       "  <tbody>\n",
       "    <tr>\n",
       "      <th>0</th>\n",
       "      <td>malala banning girl school taliban also arresting champions education matiullahwesa founded penpath pro</td>\n",
       "      <td>AfgEducation</td>\n",
       "      <td>2023-03-29</td>\n",
       "      <td>female</td>\n",
       "      <td>hazara</td>\n",
       "      <td>1</td>\n",
       "      <td>neutral</td>\n",
       "      <td>0.000000</td>\n",
       "    </tr>\n",
       "    <tr>\n",
       "      <th>1</th>\n",
       "      <td>since days afghan girl education centers closed afghanistan quality education power transform societies single generation afghan girl women need quality education need support help formal education let afghan girl learn</td>\n",
       "      <td>AfgEducation</td>\n",
       "      <td>2023-03-29</td>\n",
       "      <td>female</td>\n",
       "      <td>hazara</td>\n",
       "      <td>1</td>\n",
       "      <td>negative</td>\n",
       "      <td>-0.085714</td>\n",
       "    </tr>\n",
       "    <tr>\n",
       "      <th>2</th>\n",
       "      <td>core problem afghanistan conflicts lack education also core solution afghanistan conflicts education afghan girl women also part afg need edu right edu working alternative way facilitate education afghan girl women</td>\n",
       "      <td>AfgEducation</td>\n",
       "      <td>2023-03-28</td>\n",
       "      <td>female</td>\n",
       "      <td>hazara</td>\n",
       "      <td>1</td>\n",
       "      <td>positive</td>\n",
       "      <td>0.285714</td>\n",
       "    </tr>\n",
       "    <tr>\n",
       "      <th>3</th>\n",
       "      <td>matiullahwesa voice afghan generation peaceful education activist want education afghanistan also obligation rise voice afghan girl women education afghanistan relaesematiullahwesa let afghan girl learn</td>\n",
       "      <td>AfgEducation</td>\n",
       "      <td>2023-03-28</td>\n",
       "      <td>female</td>\n",
       "      <td>hazara</td>\n",
       "      <td>1</td>\n",
       "      <td>positive</td>\n",
       "      <td>0.250000</td>\n",
       "    </tr>\n",
       "    <tr>\n",
       "      <th>4</th>\n",
       "      <td>enemy ignorance work education afghans solution afghanistans miseries education educate encourage afghans study work educate afghans let afghan girl learn</td>\n",
       "      <td>AfgEducation</td>\n",
       "      <td>2023-03-28</td>\n",
       "      <td>female</td>\n",
       "      <td>hazara</td>\n",
       "      <td>1</td>\n",
       "      <td>neutral</td>\n",
       "      <td>0.000000</td>\n",
       "    </tr>\n",
       "  </tbody>\n",
       "</table>\n",
       "</div>"
      ],
      "text/plain": [
       "                                                                                                                                                                                                                          text   \n",
       "0                                                                                                                      malala banning girl school taliban also arresting champions education matiullahwesa founded penpath pro  \\\n",
       "1  since days afghan girl education centers closed afghanistan quality education power transform societies single generation afghan girl women need quality education need support help formal education let afghan girl learn   \n",
       "2       core problem afghanistan conflicts lack education also core solution afghanistan conflicts education afghan girl women also part afg need edu right edu working alternative way facilitate education afghan girl women   \n",
       "3                   matiullahwesa voice afghan generation peaceful education activist want education afghanistan also obligation rise voice afghan girl women education afghanistan relaesematiullahwesa let afghan girl learn   \n",
       "4                                                                   enemy ignorance work education afghans solution afghanistans miseries education educate encourage afghans study work educate afghans let afghan girl learn   \n",
       "\n",
       "           name  created_at  gender  ethnic  label sentiment  sentiment_score  \n",
       "0  AfgEducation  2023-03-29  female  hazara      1   neutral         0.000000  \n",
       "1  AfgEducation  2023-03-29  female  hazara      1  negative        -0.085714  \n",
       "2  AfgEducation  2023-03-28  female  hazara      1  positive         0.285714  \n",
       "3  AfgEducation  2023-03-28  female  hazara      1  positive         0.250000  \n",
       "4  AfgEducation  2023-03-28  female  hazara      1   neutral         0.000000  "
      ]
     },
     "execution_count": 15,
     "metadata": {},
     "output_type": "execute_result"
    }
   ],
   "source": [
    "df.head()"
   ]
  },
  {
   "attachments": {},
   "cell_type": "markdown",
   "metadata": {},
   "source": [
    "##### Drop the whole rows which is >=2020"
   ]
  },
  {
   "cell_type": "code",
   "execution_count": 16,
   "metadata": {},
   "outputs": [],
   "source": [
    "df[\"created_at\"] = pd.to_datetime(df[\"created_at\"], format=\"%Y-%m-%d\")\n",
    "filtered_df = df[df[\"created_at\"].dt.year >= 2020]\n",
    "df.drop(df[df[\"created_at\"].dt.year <= 2020].index, inplace=True)"
   ]
  },
  {
   "attachments": {},
   "cell_type": "markdown",
   "metadata": {},
   "source": [
    "##### Remove Great March, 30"
   ]
  },
  {
   "cell_type": "code",
   "execution_count": 17,
   "metadata": {},
   "outputs": [
    {
     "data": {
      "text/plain": [
       "(57688, 8)"
      ]
     },
     "execution_count": 17,
     "metadata": {},
     "output_type": "execute_result"
    }
   ],
   "source": [
    "df.shape"
   ]
  },
  {
   "cell_type": "code",
   "execution_count": 18,
   "metadata": {},
   "outputs": [
    {
     "data": {
      "text/html": [
       "<div>\n",
       "<style scoped>\n",
       "    .dataframe tbody tr th:only-of-type {\n",
       "        vertical-align: middle;\n",
       "    }\n",
       "\n",
       "    .dataframe tbody tr th {\n",
       "        vertical-align: top;\n",
       "    }\n",
       "\n",
       "    .dataframe thead th {\n",
       "        text-align: right;\n",
       "    }\n",
       "</style>\n",
       "<table border=\"1\" class=\"dataframe\">\n",
       "  <thead>\n",
       "    <tr style=\"text-align: right;\">\n",
       "      <th></th>\n",
       "      <th>text</th>\n",
       "      <th>name</th>\n",
       "      <th>created_at</th>\n",
       "      <th>gender</th>\n",
       "      <th>ethnic</th>\n",
       "      <th>label</th>\n",
       "      <th>sentiment</th>\n",
       "      <th>sentiment_score</th>\n",
       "    </tr>\n",
       "  </thead>\n",
       "  <tbody>\n",
       "    <tr>\n",
       "      <th>11774</th>\n",
       "      <td>britishhazara women ive enough im angry tired exhausted screaming stop hazara genocide</td>\n",
       "      <td>agaarozo</td>\n",
       "      <td>2022-10-20</td>\n",
       "      <td>female</td>\n",
       "      <td>tajik</td>\n",
       "      <td>1</td>\n",
       "      <td>negative</td>\n",
       "      <td>-0.325</td>\n",
       "    </tr>\n",
       "    <tr>\n",
       "      <th>8202</th>\n",
       "      <td>two images one shook world fell silence lament stranger shouldnt done</td>\n",
       "      <td>sumaiafrotan</td>\n",
       "      <td>2023-03-02</td>\n",
       "      <td>female</td>\n",
       "      <td>tajik</td>\n",
       "      <td>0</td>\n",
       "      <td>neutral</td>\n",
       "      <td>0.000</td>\n",
       "    </tr>\n",
       "    <tr>\n",
       "      <th>26278</th>\n",
       "      <td>hadiqahazara puts hand throat says cannot rejected stop hazara genocide</td>\n",
       "      <td>Hazara32674235</td>\n",
       "      <td>2023-03-16</td>\n",
       "      <td>female</td>\n",
       "      <td>hazara</td>\n",
       "      <td>0</td>\n",
       "      <td>neutral</td>\n",
       "      <td>0.000</td>\n",
       "    </tr>\n",
       "    <tr>\n",
       "      <th>41138</th>\n",
       "      <td>fpwwhiwksfdl pig lied pig dont lead liar</td>\n",
       "      <td>RanaA8989</td>\n",
       "      <td>2022-11-21</td>\n",
       "      <td>female</td>\n",
       "      <td>tajik</td>\n",
       "      <td>0</td>\n",
       "      <td>neutral</td>\n",
       "      <td>0.000</td>\n",
       "    </tr>\n",
       "  </tbody>\n",
       "</table>\n",
       "</div>"
      ],
      "text/plain": [
       "                                                                                         text   \n",
       "11774  britishhazara women ive enough im angry tired exhausted screaming stop hazara genocide  \\\n",
       "8202                    two images one shook world fell silence lament stranger shouldnt done   \n",
       "26278                 hadiqahazara puts hand throat says cannot rejected stop hazara genocide   \n",
       "41138                                                fpwwhiwksfdl pig lied pig dont lead liar   \n",
       "\n",
       "                 name created_at  gender  ethnic  label sentiment   \n",
       "11774        agaarozo 2022-10-20  female   tajik      1  negative  \\\n",
       "8202     sumaiafrotan 2023-03-02  female   tajik      0   neutral   \n",
       "26278  Hazara32674235 2023-03-16  female  hazara      0   neutral   \n",
       "41138       RanaA8989 2022-11-21  female   tajik      0   neutral   \n",
       "\n",
       "       sentiment_score  \n",
       "11774           -0.325  \n",
       "8202             0.000  \n",
       "26278            0.000  \n",
       "41138            0.000  "
      ]
     },
     "execution_count": 18,
     "metadata": {},
     "output_type": "execute_result"
    }
   ],
   "source": [
    "df.sample(4)"
   ]
  },
  {
   "attachments": {},
   "cell_type": "markdown",
   "metadata": {},
   "source": [
    "##### Check How Many accounts are there"
   ]
  },
  {
   "cell_type": "code",
   "execution_count": 19,
   "metadata": {},
   "outputs": [
    {
     "data": {
      "text/plain": [
       "54"
      ]
     },
     "execution_count": 19,
     "metadata": {},
     "output_type": "execute_result"
    }
   ],
   "source": [
    "len(df['name'].unique())"
   ]
  },
  {
   "attachments": {},
   "cell_type": "markdown",
   "metadata": {},
   "source": [
    "##### Labeling Process"
   ]
  },
  {
   "cell_type": "code",
   "execution_count": 20,
   "metadata": {},
   "outputs": [],
   "source": [
    "def label_tweets(text):\n",
    "    keywords = ['education', 'school', 'university', 'women', 'girl']\n",
    "    for keyword in keywords:\n",
    "        if keyword in text.lower():\n",
    "            return 1\n",
    "    return 0\n",
    "df = df.copy()\n",
    "df['label'] = df['text'].apply(label_tweets)"
   ]
  },
  {
   "attachments": {},
   "cell_type": "markdown",
   "metadata": {},
   "source": [
    "##### Sentiment Analysis"
   ]
  },
  {
   "cell_type": "code",
   "execution_count": 21,
   "metadata": {},
   "outputs": [],
   "source": [
    "x = df['text']\n",
    "sentiment_labels = []\n",
    "sentiment_scores = []\n",
    "for tweet in x:\n",
    "    # Create a TextBlob object\n",
    "    blob = TextBlob(tweet)\n",
    "    # Get the sentiment polarity (-1 to 1)\n",
    "    polarity = blob.sentiment.polarity\n",
    "    if polarity > 0:\n",
    "        sentiment = 'positive'\n",
    "    elif polarity < 0:\n",
    "        sentiment = 'negative'\n",
    "    else:\n",
    "        sentiment = 'neutral'\n",
    "    \n",
    "    sentiment_labels.append(sentiment)\n",
    "    sentiment_scores.append(polarity)\n",
    "# Add the sentiment labels and scores as new columns in the DataFrame\n",
    "df['sentiment'] = sentiment_labels\n",
    "df['sentiment_score'] = sentiment_scores"
   ]
  },
  {
   "attachments": {},
   "cell_type": "markdown",
   "metadata": {},
   "source": [
    "##### Data Set Summary"
   ]
  },
  {
   "cell_type": "code",
   "execution_count": 22,
   "metadata": {},
   "outputs": [
    {
     "name": "stdout",
     "output_type": "stream",
     "text": [
      "Sentiment Counts:\n",
      " sentiment\n",
      "neutral     24221\n",
      "positive    21488\n",
      "negative    11979\n",
      "Name: count, dtype: int64\n",
      "Total Counts: 33467\n"
     ]
    }
   ],
   "source": [
    "sentiment_counts = df['sentiment'].value_counts()\n",
    "print(\"Sentiment Counts:\\n\", sentiment_counts)\n",
    "total_counts = sentiment_counts['positive'] + sentiment_counts['negative']\n",
    "print(\"Total Counts:\", total_counts)"
   ]
  },
  {
   "attachments": {},
   "cell_type": "markdown",
   "metadata": {},
   "source": [
    "##### Calculate positive tweets and percentage for women, single user"
   ]
  },
  {
   "cell_type": "code",
   "execution_count": 23,
   "metadata": {},
   "outputs": [
    {
     "name": "stdout",
     "output_type": "stream",
     "text": [
      "Positive tweets from men: 21488 ( 37.24864789904313 %)\n"
     ]
    }
   ],
   "source": [
    "women_positive_count = df[(df['gender'] == 'female') & (df['sentiment'] == 'positive')].shape[0]\n",
    "women_total_count = df[df['gender'] == 'female'].shape[0]\n",
    "women_positive_percentage = (women_positive_count / women_total_count) * 100\n",
    "# Print the results\n",
    "print(\"Positive tweets from men:\", women_positive_count, \"(\", women_positive_percentage, \"%)\")"
   ]
  },
  {
   "cell_type": "code",
   "execution_count": 24,
   "metadata": {},
   "outputs": [
    {
     "data": {
      "image/png": "[encoded data removed]",
      "text/plain": [
       "<Figure size 800x600 with 1 Axes>"
      ]
     },
     "metadata": {},
     "output_type": "display_data"
    },
    {
     "name": "stdout",
     "output_type": "stream",
     "text": [
      "Sentiment Distribution: 33467\n"
     ]
    }
   ],
   "source": [
    "# Define custom colors for sentiment categories\n",
    "colors = {'negative': 'red', 'neutral': 'blue', 'positive': 'orange'}\n",
    "\n",
    "# Calculate sentiment counts\n",
    "sentiment_counts = df['sentiment'].value_counts()\n",
    "\n",
    "# Plot the sentiment counts with custom colors\n",
    "plt.figure(figsize=(8, 6))\n",
    "sentiment_counts.plot(kind='bar', color=[colors.get(x, 'gray') for x in sentiment_counts.index])\n",
    "plt.xlabel('Sentiment Category')\n",
    "plt.ylabel('Count')\n",
    "plt.xticks(rotation=0)\n",
    "plt.title('Sentiment Distribution')\n",
    "plt.show()\n",
    "\n",
    "# Calculate total counts\n",
    "total_counts = sentiment_counts['positive'] + sentiment_counts['negative']\n",
    "print(\"Sentiment Distribution:\", total_counts)\n"
   ]
  },
  {
   "attachments": {},
   "cell_type": "markdown",
   "metadata": {},
   "source": [
    "##### Content Analysis"
   ]
  },
  {
   "cell_type": "code",
   "execution_count": 25,
   "metadata": {},
   "outputs": [
    {
     "name": "stdout",
     "output_type": "stream",
     "text": [
      "Number of tweets in favor of education:  9727\n"
     ]
    }
   ],
   "source": [
    "df_edu = df.loc[df['label'] == 1]\n",
    "print(\"Number of tweets in favor of education: \", len(df_edu))"
   ]
  },
  {
   "attachments": {},
   "cell_type": "markdown",
   "metadata": {},
   "source": [
    "##### Code Schema"
   ]
  },
  {
   "cell_type": "code",
   "execution_count": 26,
   "metadata": {},
   "outputs": [],
   "source": [
    "coding_scheme = {\n",
    "'women': ['women', 'woman', 'female', 'feminine', 'girl', 'lady'],\n",
    "'education': ['education', 'educational', 'learning', 'academics', 'knowledge'],\n",
    "'school': ['school', 'classroom', 'teacher', 'students', 'curriculum'],\n",
    "'university': ['university', 'college', 'higher education', 'academia', 'campus'],\n",
    "'access': ['access', 'opportunity', 'enrollment', 'attendance', 'entry'],\n",
    "'quality': ['quality', 'standard', 'curriculum', 'teaching', 'learning'],\n",
    "'benefits': ['benefit', 'advantage', 'improvement', 'progress'],\n",
    "'barriers': ['barrier', 'restriction', 'obstacle', 'challenge', 'difficulty'],\n",
    "'empowerment': ['empower', 'empowering', 'confidence', 'self-esteem', 'agency'],\n",
    "'gender': ['gender', 'discriminatioan', 'inequality', 'feminism', 'patriarchy']\n",
    "}\n",
    "\n",
    "# Define a function to apply the coding scheme to each tweet\n",
    "def apply_coding_scheme(text):\n",
    "    codes = []\n",
    "    for code, keywords in coding_scheme.items():\n",
    "        for keyword in keywords:\n",
    "            if keyword in text.lower():\n",
    "                codes.append(code)\n",
    "    return codes\n",
    "\n",
    "# Apply the coding scheme to the text column and create a new column for the codes\n",
    "df_edu['codes'] = df_edu['text'].apply(apply_coding_scheme)"
   ]
  },
  {
   "cell_type": "code",
   "execution_count": 27,
   "metadata": {},
   "outputs": [
    {
     "data": {
      "text/html": [
       "<div>\n",
       "<style scoped>\n",
       "    .dataframe tbody tr th:only-of-type {\n",
       "        vertical-align: middle;\n",
       "    }\n",
       "\n",
       "    .dataframe tbody tr th {\n",
       "        vertical-align: top;\n",
       "    }\n",
       "\n",
       "    .dataframe thead th {\n",
       "        text-align: right;\n",
       "    }\n",
       "</style>\n",
       "<table border=\"1\" class=\"dataframe\">\n",
       "  <thead>\n",
       "    <tr style=\"text-align: right;\">\n",
       "      <th></th>\n",
       "      <th>text</th>\n",
       "      <th>sentiment</th>\n",
       "      <th>sentiment_score</th>\n",
       "      <th>gender</th>\n",
       "      <th>label</th>\n",
       "      <th>codes</th>\n",
       "    </tr>\n",
       "  </thead>\n",
       "  <tbody>\n",
       "    <tr>\n",
       "      <th>12617</th>\n",
       "      <td>close gate knowledge nothing lost knowledge millennial girl little humiliation drives fear knowledge stop hazara genocide</td>\n",
       "      <td>negative</td>\n",
       "      <td>-0.187500</td>\n",
       "      <td>female</td>\n",
       "      <td>1</td>\n",
       "      <td>[women, education]</td>\n",
       "    </tr>\n",
       "    <tr>\n",
       "      <th>6874</th>\n",
       "      <td>nasimishabnam another way eliminating presence women society women right basic legal demands right choose field study choice clothing taken imposed</td>\n",
       "      <td>positive</td>\n",
       "      <td>0.192857</td>\n",
       "      <td>female</td>\n",
       "      <td>1</td>\n",
       "      <td>[women]</td>\n",
       "    </tr>\n",
       "    <tr>\n",
       "      <th>89</th>\n",
       "      <td>education spring started afghanistan unfortunately afghan girl women deprived education afghanistan picture kabul university empathy classes heartbreaking situation education let afghan girl learn afghan women womenday</td>\n",
       "      <td>negative</td>\n",
       "      <td>-0.500000</td>\n",
       "      <td>female</td>\n",
       "      <td>1</td>\n",
       "      <td>[women, women, education, university]</td>\n",
       "    </tr>\n",
       "    <tr>\n",
       "      <th>45172</th>\n",
       "      <td>depressrefugee study work hard many years able something properly including women</td>\n",
       "      <td>positive</td>\n",
       "      <td>0.177083</td>\n",
       "      <td>female</td>\n",
       "      <td>1</td>\n",
       "      <td>[women]</td>\n",
       "    </tr>\n",
       "    <tr>\n",
       "      <th>41286</th>\n",
       "      <td>taliban school ethics decency religion freedom country accepting slavery want taliban country power settle country want</td>\n",
       "      <td>neutral</td>\n",
       "      <td>0.000000</td>\n",
       "      <td>female</td>\n",
       "      <td>1</td>\n",
       "      <td>[school]</td>\n",
       "    </tr>\n",
       "  </tbody>\n",
       "</table>\n",
       "</div>"
      ],
      "text/plain": [
       "                                                                                                                                                                                                                             text   \n",
       "12617                                                                                                   close gate knowledge nothing lost knowledge millennial girl little humiliation drives fear knowledge stop hazara genocide  \\\n",
       "6874                                                                          nasimishabnam another way eliminating presence women society women right basic legal demands right choose field study choice clothing taken imposed   \n",
       "89     education spring started afghanistan unfortunately afghan girl women deprived education afghanistan picture kabul university empathy classes heartbreaking situation education let afghan girl learn afghan women womenday   \n",
       "45172                                                                                                                                           depressrefugee study work hard many years able something properly including women   \n",
       "41286                                                                                                     taliban school ethics decency religion freedom country accepting slavery want taliban country power settle country want   \n",
       "\n",
       "      sentiment  sentiment_score  gender  label   \n",
       "12617  negative        -0.187500  female      1  \\\n",
       "6874   positive         0.192857  female      1   \n",
       "89     negative        -0.500000  female      1   \n",
       "45172  positive         0.177083  female      1   \n",
       "41286   neutral         0.000000  female      1   \n",
       "\n",
       "                                       codes  \n",
       "12617                     [women, education]  \n",
       "6874                                 [women]  \n",
       "89     [women, women, education, university]  \n",
       "45172                                [women]  \n",
       "41286                               [school]  "
      ]
     },
     "execution_count": 27,
     "metadata": {},
     "output_type": "execute_result"
    }
   ],
   "source": [
    "df_edu[['text','sentiment','sentiment_score','gender','label','codes']].sample(5)"
   ]
  },
  {
   "attachments": {},
   "cell_type": "markdown",
   "metadata": {},
   "source": [
    "##### Visualization"
   ]
  },
  {
   "cell_type": "code",
   "execution_count": 28,
   "metadata": {},
   "outputs": [
    {
     "data": {
      "image/png": "[encoded data removed]",
      "text/plain": [
       "<Figure size 640x480 with 1 Axes>"
      ]
     },
     "metadata": {},
     "output_type": "display_data"
    }
   ],
   "source": [
    "df_codes = df_edu.explode('codes')\n",
    "# Calculate the frequency and percentage of each code\n",
    "code_freq = df_codes['codes'].value_counts()\n",
    "code_perc = code_freq / len(df_edu) * 100\n",
    "# Plot the code frequencies as a bar chart\n",
    "plt.bar(code_perc.index, code_perc.values)\n",
    "plt.title('Frequencies of codes in tweets in favor of education')\n",
    "plt.xlabel('Code')\n",
    "plt.xticks(rotation=90)\n",
    "plt.ylabel('Percentage')\n",
    "plt.show()"
   ]
  },
  {
   "cell_type": "code",
   "execution_count": 29,
   "metadata": {},
   "outputs": [
    {
     "name": "stdout",
     "output_type": "stream",
     "text": [
      "Sentiment analysis of tweets containing the keyword 'women':\n",
      "sentiment\n",
      "negative    1100\n",
      "neutral     2146\n",
      "positive    2408\n",
      "Name: text, dtype: int64\n",
      "Sentiment analysis of tweets containing the keyword 'education':\n",
      "sentiment\n",
      "negative    316\n",
      "neutral     527\n",
      "positive    798\n",
      "Name: text, dtype: int64\n",
      "Sentiment analysis of tweets containing the keyword 'school':\n",
      "sentiment\n",
      "negative    348\n",
      "neutral     449\n",
      "positive    549\n",
      "Name: text, dtype: int64\n",
      "Sentiment analysis of tweets containing the keyword 'university':\n",
      "sentiment\n",
      "negative    188\n",
      "neutral     263\n",
      "positive    307\n",
      "Name: text, dtype: int64\n",
      "Sentiment analysis of tweets containing the keyword 'girl':\n",
      "sentiment\n",
      "negative     726\n",
      "neutral     1240\n",
      "positive    1332\n",
      "Name: text, dtype: int64\n"
     ]
    }
   ],
   "source": [
    "from nltk.sentiment import SentimentIntensityAnalyzer\n",
    "import nltk\n",
    "# Initialize the sentiment analyzer\n",
    "sid = SentimentIntensityAnalyzer()\n",
    "# Loop through each keyword and calculate the sentiment of tweets containing that keyword\n",
    "for keyword in ['women', 'education', 'school', 'university', 'girl']:\n",
    "    keyword_tweets = df_edu[df_edu['text'].str.contains(keyword)].copy()\n",
    "    keyword_tweets.loc[:, 'sentiment_score'] = keyword_tweets['text'].apply(lambda x: sid.polarity_scores(x)['compound'])\n",
    "    print(f\"Sentiment analysis of tweets containing the keyword '{keyword}':\")\n",
    "    print(keyword_tweets.groupby('sentiment')['text'].count())\n"
   ]
  },
  {
   "cell_type": "code",
   "execution_count": 30,
   "metadata": {},
   "outputs": [
    {
     "name": "stdout",
     "output_type": "stream",
     "text": [
      "Sentiment analysis of tweets containing the keyword 'women education':\n",
      "sentiment\n",
      "negative    10\n",
      "neutral     23\n",
      "positive    27\n",
      "Name: text, dtype: int64\n"
     ]
    }
   ],
   "source": [
    "for keyword in ['women education']:\n",
    "    keyword_tweets = df_edu[df_edu['text'].str.contains(keyword)].copy()\n",
    "    keyword_tweets.loc[:, 'sentiment_score'] = keyword_tweets['text'].apply(lambda x: sid.polarity_scores(x)['compound'])\n",
    "    print(f\"Sentiment analysis of tweets containing the keyword '{keyword}':\")\n",
    "    print(keyword_tweets.groupby('sentiment')['text'].count())"
   ]
  },
  {
   "cell_type": "code",
   "execution_count": 31,
   "metadata": {},
   "outputs": [
    {
     "name": "stdout",
     "output_type": "stream",
     "text": [
      "Sentiment analysis of tweets containing the keyword 'women education':\n",
      "sentiment\n",
      "negative    10 (16.7%)\n",
      "neutral     23 (38.3%)\n",
      "positive    27 (45.0%)\n",
      "Name: text, dtype: object\n"
     ]
    }
   ],
   "source": [
    "for keyword in ['women education']:\n",
    "    keyword_tweets = df_edu[df_edu['text'].str.contains(keyword)].copy()\n",
    "    keyword_tweets.loc[:, 'sentiment_score'] = keyword_tweets['text'].apply(lambda x: sid.polarity_scores(x)['compound'])\n",
    "    sentiment_counts = keyword_tweets.groupby('sentiment')['text'].count()\n",
    "    total_count = sentiment_counts.sum()\n",
    "    sentiment_percentages = (sentiment_counts / total_count) * 100\n",
    "    result = sentiment_counts.astype(str) + ' (' + sentiment_percentages.round(1).astype(str) + '%)'\n",
    "    print(f\"Sentiment analysis of tweets containing the keyword '{keyword}':\")\n",
    "    print(result)\n"
   ]
  },
  {
   "attachments": {},
   "cell_type": "markdown",
   "metadata": {},
   "source": [
    "##### Average sentiment"
   ]
  },
  {
   "cell_type": "code",
   "execution_count": 32,
   "metadata": {},
   "outputs": [
    {
     "name": "stdout",
     "output_type": "stream",
     "text": [
      "Average sentiment score for all tweets: 0.04169113756613756\n"
     ]
    }
   ],
   "source": [
    "import random\n",
    "from textblob import TextBlob\n",
    "keywords = ['women education']\n",
    "all_tweets = [row['text'] for _, row in df.iterrows() if any(keyword in row['text'] for keyword in keywords)]\n",
    "sample_tweets = random.sample(all_tweets, k=min(10, len(all_tweets)))\n",
    "mean_sentiment = sum(TextBlob(tweet).sentiment.polarity for tweet in all_tweets) / len(all_tweets) if all_tweets else 0\n",
    "print(f\"Average sentiment score for all tweets: {mean_sentiment}\")\n"
   ]
  },
  {
   "attachments": {},
   "cell_type": "markdown",
   "metadata": {},
   "source": [
    "##### Sentiment Category"
   ]
  },
  {
   "cell_type": "code",
   "execution_count": 33,
   "metadata": {},
   "outputs": [
    {
     "name": "stdout",
     "output_type": "stream",
     "text": [
      "Sentiment Scores by Category:\n"
     ]
    },
    {
     "data": {
      "text/plain": [
       "codes\n",
       "(education,)              0.030180\n",
       "(education, access)      -0.006429\n",
       "(education, barriers)    -0.032927\n",
       "(education, benefits)    -0.031393\n",
       "(education, education)    0.093032\n",
       "Name: text, dtype: float64"
      ]
     },
     "execution_count": 33,
     "metadata": {},
     "output_type": "execute_result"
    }
   ],
   "source": [
    "import numpy as np\n",
    "category_sentiment = df_edu.groupby(df_edu['codes'].apply(tuple))['text'].apply(lambda x: np.mean([TextBlob(tweet).sentiment.polarity for tweet in x]))\n",
    "print(\"Sentiment Scores by Category:\")\n",
    "category_sentiment.head()"
   ]
  },
  {
   "attachments": {},
   "cell_type": "markdown",
   "metadata": {},
   "source": [
    "##### Calculate the sentiment scores for all tweets"
   ]
  },
  {
   "cell_type": "code",
   "execution_count": 34,
   "metadata": {},
   "outputs": [
    {
     "name": "stdout",
     "output_type": "stream",
     "text": [
      "Comparison of Sentiment Women Ordinary People:\n",
      "T-statistic: 54.53734918247717\n",
      "P-value: 0.0\n"
     ]
    }
   ],
   "source": [
    "sentiment_scores = [TextBlob(tweet).sentiment.polarity for tweet in df['text']]\n",
    "# Compare the sentiment distributions using a t-test\n",
    "t_stat, p_value = stats.ttest_1samp(sentiment_scores, 0)\n",
    "print(\"Comparison of Sentiment Women Ordinary People:\")\n",
    "print(\"T-statistic:\", t_stat)\n",
    "print(\"P-value:\", p_value)\n"
   ]
  },
  {
   "cell_type": "code",
   "execution_count": 35,
   "metadata": {},
   "outputs": [
    {
     "name": "stdout",
     "output_type": "stream",
     "text": [
      "Comparison of Sentiment for Women Education Tweets:\n",
      "T-statistic: 1.5827050792224808\n",
      "P-value: 0.11883500035121558\n"
     ]
    }
   ],
   "source": [
    "men_education_tweets = df[df['text'].str.contains('women education', case=False)]\n",
    "sentiment_scores = [TextBlob(tweet).sentiment.polarity for tweet in men_education_tweets['text']]\n",
    "t_stat, p_value = stats.ttest_1samp(sentiment_scores, 0)\n",
    "print(\"Comparison of Sentiment for Women Education Tweets:\")\n",
    "print(\"T-statistic:\", t_stat)\n",
    "print(\"P-value:\", p_value)"
   ]
  },
  {
   "attachments": {},
   "cell_type": "markdown",
   "metadata": {},
   "source": [
    "#### Calculate the sentiment scores for tweets containing each keyword"
   ]
  },
  {
   "cell_type": "code",
   "execution_count": 36,
   "metadata": {},
   "outputs": [
    {
     "name": "stdout",
     "output_type": "stream",
     "text": [
      "Sentiment Scores by Keyword:\n",
      "women education: 0.04169113756613758\n"
     ]
    }
   ],
   "source": [
    "keyword_sentiment = {}\n",
    "for keyword in keywords:\n",
    "    keyword_tweets = df_edu[df_edu['text'].str.contains(keyword)]\n",
    "    sentiment_scores = [TextBlob(tweet).sentiment.polarity for tweet in keyword_tweets['text']]\n",
    "    keyword_sentiment[keyword] = np.mean(sentiment_scores)\n",
    "print(\"Sentiment Scores by Keyword:\")\n",
    "for keyword, sentiment_score in keyword_sentiment.items():\n",
    "    print(f\"{keyword}: {sentiment_score}\")\n"
   ]
  },
  {
   "attachments": {},
   "cell_type": "markdown",
   "metadata": {},
   "source": [
    "##### Chi-square test of independence"
   ]
  },
  {
   "cell_type": "code",
   "execution_count": 37,
   "metadata": {},
   "outputs": [
    {
     "name": "stdout",
     "output_type": "stream",
     "text": [
      "Chi-square Test of Independence:\n",
      "Chi-square: 0.0\n",
      "P-value: 1.0\n"
     ]
    }
   ],
   "source": [
    "from scipy.stats import chi2_contingency\n",
    "contingency_table = pd.crosstab(df['gender'], df['label'])\n",
    "chi2, p_value, _, _ = chi2_contingency(contingency_table)\n",
    "print(\"Chi-square Test of Independence:\")\n",
    "print(\"Chi-square:\", chi2)\n",
    "print(\"P-value:\", p_value)"
   ]
  },
  {
   "attachments": {},
   "cell_type": "markdown",
   "metadata": {},
   "source": [
    "##### Create a cross-tabulation between sentiment and gender"
   ]
  },
  {
   "cell_type": "code",
   "execution_count": 38,
   "metadata": {},
   "outputs": [
    {
     "name": "stdout",
     "output_type": "stream",
     "text": [
      "Cross-Tabulation of Sentiment and Gender:\n",
      "gender     female\n",
      "sentiment        \n",
      "negative    11979\n",
      "neutral     24221\n",
      "positive    21488\n"
     ]
    }
   ],
   "source": [
    "cross_tab = pd.crosstab(df['sentiment'], df['gender'])\n",
    "# Print the cross-tabulation\n",
    "print(\"Cross-Tabulation of Sentiment and Gender:\")\n",
    "print(cross_tab)"
   ]
  },
  {
   "cell_type": "code",
   "execution_count": 39,
   "metadata": {},
   "outputs": [
    {
     "name": "stdout",
     "output_type": "stream",
     "text": [
      "Cross-Tabulation of Gender and Label:\n",
      "label       0     1\n",
      "gender             \n",
      "female  47961  9727\n"
     ]
    }
   ],
   "source": [
    "cross_tab = pd.crosstab(df['gender'], df['label'])\n",
    "# Print the cross-tabulation\n",
    "print(\"Cross-Tabulation of Gender and Label:\")\n",
    "print(cross_tab)"
   ]
  },
  {
   "attachments": {},
   "cell_type": "markdown",
   "metadata": {},
   "source": [
    "##### Calculate descriptive statistics for women\n"
   ]
  },
  {
   "cell_type": "code",
   "execution_count": 40,
   "metadata": {},
   "outputs": [
    {
     "name": "stdout",
     "output_type": "stream",
     "text": [
      "Descriptive Statistics for men ordinary people:\n",
      "Mean Sentiment: 0.06375562621593164\n",
      "Median Sentiment: 0.0\n",
      "Standard Deviation of Sentiment: 0.28077825322328437\n",
      "Quartiles of Sentiment: [0.         0.         0.16666667]\n"
     ]
    }
   ],
   "source": [
    "men_sentiment_scores = [TextBlob(tweet).sentiment.polarity for tweet in df[df['gender'] == 'female']['text']]\n",
    "# Calculate descriptive statistics for men\n",
    "men_mean_sentiment = np.mean(men_sentiment_scores)\n",
    "men_median_sentiment = np.median(men_sentiment_scores)\n",
    "men_std_sentiment = np.std(men_sentiment_scores)\n",
    "men_quartiles_sentiment = np.percentile(men_sentiment_scores, [25, 50, 75])\n",
    "\n",
    "print(\"Descriptive Statistics for men ordinary people:\")\n",
    "print(\"Mean Sentiment:\", men_mean_sentiment)\n",
    "print(\"Median Sentiment:\", men_median_sentiment)\n",
    "print(\"Standard Deviation of Sentiment:\", men_std_sentiment)\n",
    "print(\"Quartiles of Sentiment:\", men_quartiles_sentiment)"
   ]
  },
  {
   "attachments": {},
   "cell_type": "markdown",
   "metadata": {},
   "source": [
    "##### Frequent Words"
   ]
  },
  {
   "cell_type": "code",
   "execution_count": 41,
   "metadata": {},
   "outputs": [
    {
     "data": {
      "image/png": "[encoded data removed]",
      "text/plain": [
       "<Figure size 500x300 with 1 Axes>"
      ]
     },
     "metadata": {},
     "output_type": "display_data"
    }
   ],
   "source": [
    "import matplotlib.pyplot as plt\n",
    "from collections import Counter\n",
    "\n",
    "# Combine all the text into a single string\n",
    "all_text = ' '.join(df['text'].tolist())\n",
    "\n",
    "# Split the text into individual words\n",
    "all_words = all_text.split()\n",
    "\n",
    "# Count the occurrences of each word\n",
    "word_counts = Counter(all_words)\n",
    "\n",
    "# Retrieve the most common words\n",
    "most_common_words = word_counts.most_common(10)\n",
    "\n",
    "# Extract the words and their frequencies\n",
    "words = [word for word, count in most_common_words]\n",
    "frequencies = [count for word, count in most_common_words]\n",
    "\n",
    "# Calculate the total frequency of all words\n",
    "total_frequency = sum(frequencies)\n",
    "\n",
    "# Calculate the percentages\n",
    "percentages = [count / total_frequency * 100 for count in frequencies]\n",
    "\n",
    "# Set up the figure and axes\n",
    "fig, ax = plt.subplots(figsize=(5, 3))\n",
    "\n",
    "# Create a bar chart for the most common words\n",
    "bars = ax.bar(words, frequencies, color=['orange', 'darkblue', 'darkblue', 'darkblue', 'darkblue', 'darkblue', 'darkblue', 'darkblue', 'darkblue', 'darkblue'])\n",
    "\n",
    "# Add labels and title\n",
    "ax.set_xlabel('Words')\n",
    "ax.set_ylabel('Frequency')\n",
    "ax.set_title('Top 10 Most Common Words')\n",
    "\n",
    "# Rotate x-axis labels for better readability\n",
    "plt.xticks(rotation=45)\n",
    "\n",
    "# Add percentage labels above each bar\n",
    "for bar, percentage in zip(bars, percentages):\n",
    "    height = bar.get_height()\n",
    "    ax.text(bar.get_x() + bar.get_width() / 2, height, f'{percentage:.1f}%', ha='center', va='bottom', fontsize=6)\n",
    "\n",
    "# Show the chart\n",
    "plt.show()\n"
   ]
  },
  {
   "cell_type": "code",
   "execution_count": 42,
   "metadata": {},
   "outputs": [
    {
     "name": "stdout",
     "output_type": "stream",
     "text": [
      "hazara: 17072\n",
      "genocide: 16023\n",
      "stop: 15402\n",
      "afghanistan: 7719\n",
      "women: 7425\n",
      "people: 7268\n",
      "taliban: 6673\n",
      "afghan: 4759\n",
      "dont: 3963\n",
      "girl: 3774\n"
     ]
    }
   ],
   "source": [
    "for word, count in most_common_words:\n",
    "    print(f'{word}: {count}')\n"
   ]
  },
  {
   "cell_type": "code",
   "execution_count": 43,
   "metadata": {},
   "outputs": [
    {
     "ename": "ModuleNotFoundError",
     "evalue": "No module named 'wordcloud'",
     "output_type": "error",
     "traceback": [
      "\u001b[1;31m---------------------------------------------------------------------------\u001b[0m",
      "\u001b[1;31mModuleNotFoundError\u001b[0m                       Traceback (most recent call last)",
      "Cell \u001b[1;32mIn[43], line 1\u001b[0m\n\u001b[1;32m----> 1\u001b[0m \u001b[39mfrom\u001b[39;00m \u001b[39mwordcloud\u001b[39;00m \u001b[39mimport\u001b[39;00m WordCloud\n\u001b[0;32m      2\u001b[0m text \u001b[39m=\u001b[39m \u001b[39m'\u001b[39m\u001b[39m \u001b[39m\u001b[39m'\u001b[39m\u001b[39m.\u001b[39mjoin(df[\u001b[39m'\u001b[39m\u001b[39mtext\u001b[39m\u001b[39m'\u001b[39m])\n\u001b[0;32m      3\u001b[0m \u001b[39m# Create a WordCloud object with customized options\u001b[39;00m\n",
      "\u001b[1;31mModuleNotFoundError\u001b[0m: No module named 'wordcloud'"
     ]
    }
   ],
   "source": [
    "from wordcloud import WordCloud\n",
    "text = ' '.join(df['text'])\n",
    "# Create a WordCloud object with customized options\n",
    "wordcloud = WordCloud(width=800, height=400, background_color='white', colormap='viridis',\n",
    "                      max_words=100, contour_width=3, contour_color='steelblue',\n",
    "                      prefer_horizontal=0.8, relative_scaling=0.5,\n",
    "                      collocations=False).generate(text)\n",
    "# Add a central word\n",
    "wordcloud.generate_from_text(\"Afghanistan\")\n",
    "# Manipulate font sizes for the central word and other words\n",
    "wordcloud = WordCloud(width=800, height=400, background_color='white', colormap='viridis',\n",
    "                      max_words=100, contour_width=3, contour_color='steelblue',\n",
    "                      prefer_horizontal=0.8, relative_scaling=0.5,\n",
    "                      collocations=False).generate(text)\n",
    "wordcloud.words_[\"Afghanistan\"] = 80  # Set font size for the central word\n",
    "# Display the word cloud using matplotlib\n",
    "plt.figure(figsize=(10, 6))\n",
    "plt.imshow(wordcloud, interpolation='bilinear')\n",
    "plt.axis('off')\n",
    "plt.tight_layout()\n",
    "plt.show()\n"
   ]
  },
  {
   "attachments": {},
   "cell_type": "markdown",
   "metadata": {},
   "source": [
    "##### Time Series"
   ]
  },
  {
   "cell_type": "code",
   "execution_count": null,
   "metadata": {},
   "outputs": [
    {
     "data": {
      "image/png": "[encoded data removed]",
      "text/plain": [
       "<Figure size 1200x600 with 1 Axes>"
      ]
     },
     "metadata": {},
     "output_type": "display_data"
    }
   ],
   "source": [
    "\n",
    "sentiment_counts = df.groupby(['created_at', 'label']).size().unstack()\n",
    "# Extract the time periods and convert them to datetime objects\n",
    "time_periods = pd.to_datetime(sentiment_counts.index)\n",
    "# Set up the figure and axes\n",
    "fig, ax = plt.subplots(figsize=(12, 6))\n",
    "# Plot the stacked area plot for sentiment categories\n",
    "ax.stackplot(time_periods, sentiment_counts.T, labels=sentiment_counts.columns)\n",
    "# Add labels and title\n",
    "ax.set_xlabel('Time')\n",
    "ax.set_ylabel('Count')\n",
    "ax.set_title('Sentiment Time Series')\n",
    "# Add legend\n",
    "ax.legend()\n",
    "# Show the chart\n",
    "plt.show()"
   ]
  },
  {
   "attachments": {},
   "cell_type": "markdown",
   "metadata": {},
   "source": [
    "##### Frequent Tweet"
   ]
  },
  {
   "cell_type": "code",
   "execution_count": null,
   "metadata": {},
   "outputs": [
    {
     "data": {
      "image/png": "[encoded data removed]",
      "text/plain": [
       "<Figure size 1200x600 with 1 Axes>"
      ]
     },
     "metadata": {},
     "output_type": "display_data"
    }
   ],
   "source": [
    "# Group the data by 'created_at' and 'gender', and count the number of tweets for each gender\n",
    "freq_counts = df.groupby(['created_at', 'gender']).size().unstack()\n",
    "\n",
    "# Extract the time periods and convert them to datetime objects\n",
    "time_periods = pd.to_datetime(freq_counts.index)\n",
    "\n",
    "# Set up the figure and axes\n",
    "fig, ax = plt.subplots(figsize=(12, 6))\n",
    "\n",
    "# Plot the stacked area plot for genders\n",
    "ax.stackplot(time_periods, freq_counts.T, labels=freq_counts.columns, colors=['orange', 'darkblue'])\n",
    "\n",
    "# Add labels and title\n",
    "ax.set_xlabel('Time')\n",
    "ax.set_ylabel('Count')\n",
    "ax.set_title('Tweet Frequency Time Series')\n",
    "\n",
    "# Add legend\n",
    "ax.legend()\n",
    "\n",
    "# Show the chart\n",
    "plt.show()\n"
   ]
  },
  {
   "cell_type": "code",
   "execution_count": null,
   "metadata": {},
   "outputs": [
    {
     "data": {
      "text/html": [
       "<div>\n",
       "<style scoped>\n",
       "    .dataframe tbody tr th:only-of-type {\n",
       "        vertical-align: middle;\n",
       "    }\n",
       "\n",
       "    .dataframe tbody tr th {\n",
       "        vertical-align: top;\n",
       "    }\n",
       "\n",
       "    .dataframe thead th {\n",
       "        text-align: right;\n",
       "    }\n",
       "</style>\n",
       "<table border=\"1\" class=\"dataframe\">\n",
       "  <thead>\n",
       "    <tr style=\"text-align: right;\">\n",
       "      <th></th>\n",
       "      <th>text</th>\n",
       "    </tr>\n",
       "  </thead>\n",
       "  <tbody>\n",
       "    <tr>\n",
       "      <th>11285</th>\n",
       "      <td>fatimahaidarii noorband sure message</td>\n",
       "    </tr>\n",
       "    <tr>\n",
       "      <th>22636</th>\n",
       "      <td>abdal exactly stop hazara genocide</td>\n",
       "    </tr>\n",
       "    <tr>\n",
       "      <th>29571</th>\n",
       "      <td>taliban kandahar rank kankuro daikandi rank kandahar herat nimroz kabul zabul ghor panjshir ghazni farah badghis maidan wardak helmand daykundi</td>\n",
       "    </tr>\n",
       "    <tr>\n",
       "      <th>55297</th>\n",
       "      <td>sardarrrgom optional apparently like point surrounded circle</td>\n",
       "    </tr>\n",
       "    <tr>\n",
       "      <th>18750</th>\n",
       "      <td>afintlbrk lying media dont real news us reduced dignity zero kolabi media</td>\n",
       "    </tr>\n",
       "    <tr>\n",
       "      <th>12525</th>\n",
       "      <td>blind eyes enemies hazara always powerful strong stop hazara genocide</td>\n",
       "    </tr>\n",
       "    <tr>\n",
       "      <th>43411</th>\n",
       "      <td>schizophrenic must u said un revolting insult pashtuns pakistan destroy help tb u drunk u taken drugs consequences wasnt mistake ur apology isnt enough resign get stuffed</td>\n",
       "    </tr>\n",
       "  </tbody>\n",
       "</table>\n",
       "</div>"
      ],
      "text/plain": [
       "                                                                                                                                                                             text\n",
       "11285                                                                                                                                        fatimahaidarii noorband sure message\n",
       "22636                                                                                                                                          abdal exactly stop hazara genocide\n",
       "29571                             taliban kandahar rank kankuro daikandi rank kandahar herat nimroz kabul zabul ghor panjshir ghazni farah badghis maidan wardak helmand daykundi\n",
       "55297                                                                                                                sardarrrgom optional apparently like point surrounded circle\n",
       "18750                                                                                                   afintlbrk lying media dont real news us reduced dignity zero kolabi media\n",
       "12525                                                                                                       blind eyes enemies hazara always powerful strong stop hazara genocide\n",
       "43411  schizophrenic must u said un revolting insult pashtuns pakistan destroy help tb u drunk u taken drugs consequences wasnt mistake ur apology isnt enough resign get stuffed"
      ]
     },
     "execution_count": 46,
     "metadata": {},
     "output_type": "execute_result"
    }
   ],
   "source": [
    "df[['text']].sample(7)"
   ]
  },
  {
   "cell_type": "code",
   "execution_count": null,
   "metadata": {},
   "outputs": [],
   "source": [
    "df['created_at'] = pd.to_datetime(df['created_at'], errors='coerce').dt.date.astype(str)"
   ]
  },
  {
   "cell_type": "code",
   "execution_count": null,
   "metadata": {},
   "outputs": [
    {
     "data": {
      "text/html": [
       "<div>\n",
       "<style scoped>\n",
       "    .dataframe tbody tr th:only-of-type {\n",
       "        vertical-align: middle;\n",
       "    }\n",
       "\n",
       "    .dataframe tbody tr th {\n",
       "        vertical-align: top;\n",
       "    }\n",
       "\n",
       "    .dataframe thead th {\n",
       "        text-align: right;\n",
       "    }\n",
       "</style>\n",
       "<table border=\"1\" class=\"dataframe\">\n",
       "  <thead>\n",
       "    <tr style=\"text-align: right;\">\n",
       "      <th></th>\n",
       "      <th>text</th>\n",
       "      <th>name</th>\n",
       "      <th>created_at</th>\n",
       "      <th>gender</th>\n",
       "      <th>ethnic</th>\n",
       "      <th>label</th>\n",
       "      <th>sentiment</th>\n",
       "      <th>sentiment_score</th>\n",
       "    </tr>\n",
       "  </thead>\n",
       "  <tbody>\n",
       "    <tr>\n",
       "      <th>46236</th>\n",
       "      <td>zakerershad gitis stature bends hayat stops breathing enough eternally ashamed human beings see stop</td>\n",
       "      <td>sediqullahsadi5</td>\n",
       "      <td>2022-10-17</td>\n",
       "      <td>female</td>\n",
       "      <td>hazara</td>\n",
       "      <td>0</td>\n",
       "      <td>neutral</td>\n",
       "      <td>0.000000</td>\n",
       "    </tr>\n",
       "    <tr>\n",
       "      <th>49926</th>\n",
       "      <td>nkashrafi get well soon brother posting ground realities doesnt mean support taliban form resistance project funded activist wont get truly free enough courage conscious</td>\n",
       "      <td>WazhmaAyoubi</td>\n",
       "      <td>2022-07-30</td>\n",
       "      <td>female</td>\n",
       "      <td>pashtun</td>\n",
       "      <td>0</td>\n",
       "      <td>positive</td>\n",
       "      <td>0.046875</td>\n",
       "    </tr>\n",
       "    <tr>\n",
       "      <th>15085</th>\n",
       "      <td>afghanistans heroes protested roads kabul killing kaj students</td>\n",
       "      <td>AmiriWahida</td>\n",
       "      <td>2022-10-01</td>\n",
       "      <td>female</td>\n",
       "      <td>tajik</td>\n",
       "      <td>0</td>\n",
       "      <td>neutral</td>\n",
       "      <td>0.000000</td>\n",
       "    </tr>\n",
       "    <tr>\n",
       "      <th>28645</th>\n",
       "      <td>detentionofthemilitary brutal taliban arrested national security officer former government named najibullah achakzai kandahar night thursday january transferred unknown place family former soldier says know taliban taken freenajibullahachekzai</td>\n",
       "      <td>maryam</td>\n",
       "      <td>2022-12-30</td>\n",
       "      <td>female</td>\n",
       "      <td>tajik</td>\n",
       "      <td>0</td>\n",
       "      <td>negative</td>\n",
       "      <td>-0.243750</td>\n",
       "    </tr>\n",
       "    <tr>\n",
       "      <th>23064</th>\n",
       "      <td>like ansaris hibos kor omar hundreds spies reach ground beloved commander popular worldwide</td>\n",
       "      <td>Frah_Frah1</td>\n",
       "      <td>2022-09-09</td>\n",
       "      <td>female</td>\n",
       "      <td>tajik</td>\n",
       "      <td>0</td>\n",
       "      <td>positive</td>\n",
       "      <td>0.650000</td>\n",
       "    </tr>\n",
       "  </tbody>\n",
       "</table>\n",
       "</div>"
      ],
      "text/plain": [
       "                                                                                                                                                                                                                                                      text   \n",
       "46236                                                                                                                                                 zakerershad gitis stature bends hayat stops breathing enough eternally ashamed human beings see stop  \\\n",
       "49926                                                                            nkashrafi get well soon brother posting ground realities doesnt mean support taliban form resistance project funded activist wont get truly free enough courage conscious   \n",
       "15085                                                                                                                                                                                       afghanistans heroes protested roads kabul killing kaj students   \n",
       "28645  detentionofthemilitary brutal taliban arrested national security officer former government named najibullah achakzai kandahar night thursday january transferred unknown place family former soldier says know taliban taken freenajibullahachekzai   \n",
       "23064                                                                                                                                                          like ansaris hibos kor omar hundreds spies reach ground beloved commander popular worldwide   \n",
       "\n",
       "                  name  created_at  gender   ethnic  label sentiment   \n",
       "46236  sediqullahsadi5  2022-10-17  female   hazara      0   neutral  \\\n",
       "49926     WazhmaAyoubi  2022-07-30  female  pashtun      0  positive   \n",
       "15085      AmiriWahida  2022-10-01  female    tajik      0   neutral   \n",
       "28645           maryam  2022-12-30  female    tajik      0  negative   \n",
       "23064       Frah_Frah1  2022-09-09  female    tajik      0  positive   \n",
       "\n",
       "       sentiment_score  \n",
       "46236         0.000000  \n",
       "49926         0.046875  \n",
       "15085         0.000000  \n",
       "28645        -0.243750  \n",
       "23064         0.650000  "
      ]
     },
     "execution_count": 48,
     "metadata": {},
     "output_type": "execute_result"
    }
   ],
   "source": [
    "df.sample(5)"
   ]
  },
  {
   "cell_type": "code",
   "execution_count": null,
   "metadata": {},
   "outputs": [
    {
     "data": {
      "text/plain": [
       "(57688, 8)"
      ]
     },
     "execution_count": 49,
     "metadata": {},
     "output_type": "execute_result"
    }
   ],
   "source": [
    "df.shape"
   ]
  },
  {
   "cell_type": "code",
   "execution_count": null,
   "metadata": {},
   "outputs": [],
   "source": [
    "# df.to_excel('../data_processed/women_ordinary_people.xlsx',index=False)"
   ]
  }
 ],
 "metadata": {
  "kernelspec": {
   "display_name": "Python 3",
   "language": "python",
   "name": "python3"
  },
  "language_info": {
   "codemirror_mode": {
    "name": "ipython",
    "version": 3
   },
   "file_extension": ".py",
   "mimetype": "text/x-python",
   "name": "python",
   "nbconvert_exporter": "python",
   "pygments_lexer": "ipython3",
   "version": "3.11.3"
  },
  "orig_nbformat": 4
 },
 "nbformat": 4,
 "nbformat_minor": 2
}
