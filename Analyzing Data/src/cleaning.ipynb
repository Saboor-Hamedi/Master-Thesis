{
 "cells": [
  {
   "cell_type": "code",
   "execution_count": 32,
   "id": "b0afb0be",
   "metadata": {
    "tags": []
   },
   "outputs": [],
   "source": [
    "import re\n",
    "import pandas as pd \n",
    "from collections import Counter\n",
    "import matplotlib.pyplot as plt\n",
    "pd.options.display.max_colwidth= None\n"
   ]
  },
  {
   "cell_type": "code",
   "execution_count": 33,
   "id": "6ffd0ad9",
   "metadata": {
    "tags": []
   },
   "outputs": [],
   "source": [
    "df = pd.read_excel('../data_processed/education_1.xlsx')"
   ]
  },
  {
   "cell_type": "code",
   "execution_count": 34,
   "id": "4aa0e6b9",
   "metadata": {},
   "outputs": [],
   "source": [
    "# Remove double space\n",
    "df['text'] = df['text'].astype(str)\n",
    "def doublespace(text):\n",
    "    return re.sub(r'\\s+', ' ', text).strip()\n",
    "df['text'] = df['text'].apply(doublespace)"
   ]
  },
  {
   "cell_type": "code",
   "execution_count": 35,
   "id": "39080426",
   "metadata": {},
   "outputs": [],
   "source": [
    "def whitespace(columns_name, text):\n",
    "    df[columns_name] = df[columns_name].replace('', '', regex=True) #remove empty string\n",
    "    df[columns_name] = df[columns_name].str.strip() #remove whitespace\n",
    "whitespace('name',df)\n",
    "whitespace('text',df)"
   ]
  },
  {
   "attachments": {},
   "cell_type": "markdown",
   "id": "663f3599",
   "metadata": {},
   "source": [
    "##### Remove all ASCII characters from Name column and text columns"
   ]
  },
  {
   "cell_type": "code",
   "execution_count": 36,
   "id": "30e1141b",
   "metadata": {
    "tags": []
   },
   "outputs": [],
   "source": [
    "# def remove_non_ascii(df, column_name):\n",
    "#     # iterate over each row in the specified column\n",
    "#     for index, row in df.iterrows():\n",
    "#         if isinstance(row[column_name], str):\n",
    "#             # encode the text as ASCII, ignoring any non-ASCII characters\n",
    "#             text = row[column_name].encode('ascii', 'ignore').decode()\n",
    "#             # update the dfframe with the modified text\n",
    "#             df.at[index, column_name] = text\n",
    "#     return df\n",
    "# df = remove_non_ascii(df, 'name')\n",
    "# df = remove_non_ascii(df, 'text')\n"
   ]
  },
  {
   "attachments": {},
   "cell_type": "markdown",
   "id": "0b46b204",
   "metadata": {},
   "source": [
    "##### Change Timezone \"2019-10-13 04:14:52\" to \"2019-10-13\""
   ]
  },
  {
   "cell_type": "code",
   "execution_count": 37,
   "id": "2bca10c5",
   "metadata": {},
   "outputs": [],
   "source": [
    "df['created_at'] = pd.to_datetime(df['created_at'], errors='coerce').dt.date.astype(str)"
   ]
  },
  {
   "cell_type": "code",
   "execution_count": 38,
   "id": "00eb4195",
   "metadata": {},
   "outputs": [
    {
     "data": {
      "text/plain": [
       "466"
      ]
     },
     "execution_count": 38,
     "metadata": {},
     "output_type": "execute_result"
    }
   ],
   "source": [
    "len(df['name'].unique())"
   ]
  },
  {
   "cell_type": "code",
   "execution_count": 39,
   "id": "5a7ed5b6",
   "metadata": {},
   "outputs": [
    {
     "data": {
      "text/plain": [
       "(287761, 8)"
      ]
     },
     "execution_count": 39,
     "metadata": {},
     "output_type": "execute_result"
    }
   ],
   "source": [
    "df.shape"
   ]
  },
  {
   "attachments": {},
   "cell_type": "markdown",
   "id": "a10e208f",
   "metadata": {},
   "source": [
    "##### Get the most #hastags or trends\n"
   ]
  },
  {
   "cell_type": "code",
   "execution_count": 40,
   "id": "a94a36a9",
   "metadata": {},
   "outputs": [],
   "source": [
    "import re\n",
    "from collections import Counter\n",
    "# Extract hashtags from text\n",
    "hashtags = []\n",
    "for text in df['text']:\n",
    "    if isinstance(text, str):\n",
    "        hashtags.extend(re.findall(r'#\\w+', text))\n",
    "# Count frequency of hashtags\n",
    "freq = Counter(hashtags)\n",
    "# Get top 10 hashtags\n",
    "top_hashtags = freq.most_common(10)\n",
    "# Print top 10 hashtags and their counts as named constants\n",
    "for i, (hashtag, count) in enumerate(top_hashtags):\n",
    "    print(f\"{hashtag.replace('#', '').title()} = {count}\")"
   ]
  },
  {
   "attachments": {},
   "cell_type": "markdown",
   "id": "16e919ba",
   "metadata": {},
   "source": [
    "##### Visualize  the most trends"
   ]
  },
  {
   "cell_type": "code",
   "execution_count": 41,
   "id": "579a6143",
   "metadata": {},
   "outputs": [
    {
     "data": {
      "image/png": "[encoded data removed]",
      "text/plain": [
       "<Figure size 640x480 with 1 Axes>"
      ]
     },
     "metadata": {},
     "output_type": "display_data"
    }
   ],
   "source": [
    "hashtag_counts = [count for hashtag, count in top_hashtags]\n",
    "hashtag_labels = [hashtag for hashtag, count in top_hashtags]\n",
    "plt.bar(hashtag_labels, hashtag_counts)\n",
    "plt.xticks(rotation=90)\n",
    "plt.title('Top 10 Hashtags')\n",
    "plt.xlabel('Hashtag')\n",
    "plt.ylabel('Frequency')\n",
    "plt.show()"
   ]
  },
  {
   "cell_type": "code",
   "execution_count": 42,
   "id": "6b483e63",
   "metadata": {
    "tags": []
   },
   "outputs": [],
   "source": [
    "def lower_and_white_space(df, column_name):\n",
    "    df[column_name] = df[column_name].str.lower().str.strip()\n",
    "    return df\n",
    "df = lower_and_white_space(df, 'text')"
   ]
  },
  {
   "attachments": {},
   "cell_type": "markdown",
   "id": "845ba3b6",
   "metadata": {},
   "source": [
    "##### Replace abbreviations"
   ]
  },
  {
   "cell_type": "code",
   "execution_count": 43,
   "id": "c5e9bb5e",
   "metadata": {},
   "outputs": [
    {
     "data": {
      "text/plain": [
       "(287761, 8)"
      ]
     },
     "execution_count": 43,
     "metadata": {},
     "output_type": "execute_result"
    }
   ],
   "source": [
    "df.shape"
   ]
  },
  {
   "cell_type": "code",
   "execution_count": 44,
   "id": "77492588",
   "metadata": {
    "tags": []
   },
   "outputs": [],
   "source": [
    "#remove hastags\n",
    "def remove_hashtags(text):\n",
    "    text = re.sub(r'#(\\w+)', '', str(text))\n",
    "    return text\n",
    "df['text'] =df['text'].apply(remove_hashtags)\n"
   ]
  },
  {
   "cell_type": "code",
   "execution_count": 45,
   "id": "2b623b73",
   "metadata": {
    "tags": []
   },
   "outputs": [],
   "source": [
    "df.dropna(subset=['text'], inplace=True) #remove nan value\n",
    "df.drop_duplicates(subset=['text'], inplace=True) #remove nan duplicate value"
   ]
  },
  {
   "cell_type": "code",
   "execution_count": 46,
   "id": "608a9bbf",
   "metadata": {},
   "outputs": [
    {
     "data": {
      "text/plain": [
       "(287231, 8)"
      ]
     },
     "execution_count": 46,
     "metadata": {},
     "output_type": "execute_result"
    }
   ],
   "source": [
    "df.shape"
   ]
  },
  {
   "cell_type": "code",
   "execution_count": 47,
   "id": "eb609be3",
   "metadata": {
    "tags": []
   },
   "outputs": [],
   "source": [
    "#remove 1,2,3 words from tweets, such as interesting article, Afghan girl... \n",
    "def remove_two_word_rows(df, column_name):\n",
    "    # get the index of rows with two-word values in the specified column\n",
    "    two_word_rows = df[df[column_name].str.split().str.len() == 3].index\n",
    "    # drop the two-word rows from the dfframe\n",
    "    df = df.drop(two_word_rows, axis=0)\n",
    "    return df\n",
    "df = remove_two_word_rows(df, 'text')\n"
   ]
  },
  {
   "cell_type": "code",
   "execution_count": 48,
   "id": "f07f5b65",
   "metadata": {},
   "outputs": [
    {
     "data": {
      "text/plain": [
       "(287179, 8)"
      ]
     },
     "execution_count": 48,
     "metadata": {},
     "output_type": "execute_result"
    }
   ],
   "source": [
    "df.shape"
   ]
  },
  {
   "cell_type": "code",
   "execution_count": 51,
   "id": "f046b75e",
   "metadata": {
    "tags": []
   },
   "outputs": [],
   "source": [
    "#check if the word exists inside the tweet, remove the whole row\n",
    "words_to_drop =[\n",
    "  'haha', 'yshray', 'aojpoindkme',\n",
    "  'ibnafghan','mominshahkakar', 'followme', 'goodarzazai', \n",
    "  'kids','khushalgurbaz','manzoorpashteen','kid',\n",
    "  'ukraine'\n",
    "]\n",
    "for word in words_to_drop:\n",
    "    df = df[~df['text'].str.contains(word, case=False)]\n",
    "df.dropna(subset=['text'], inplace=True) #remove nan value\n",
    "df.drop_duplicates(subset=['text'], inplace=True) #remove nan duplicate value"
   ]
  },
  {
   "cell_type": "code",
   "execution_count": 53,
   "id": "dd5f66f1",
   "metadata": {},
   "outputs": [
    {
     "data": {
      "text/plain": [
       "(283982, 8)"
      ]
     },
     "execution_count": 53,
     "metadata": {},
     "output_type": "execute_result"
    }
   ],
   "source": [
    "df.shape"
   ]
  },
  {
   "cell_type": "code",
   "execution_count": null,
   "id": "6e2b7de4",
   "metadata": {
    "tags": []
   },
   "outputs": [],
   "source": [
    "# def remove_punctuations(text):\n",
    "#     for punctuation in string.punctuation:\n",
    "#         text = text.replace(punctuation, '')\n",
    "#     return text\n",
    "# # Apply to the DF series\n",
    "# df['text'] = df['text'].apply(remove_punctuations)"
   ]
  },
  {
   "cell_type": "code",
   "execution_count": 56,
   "id": "ce6a99a9",
   "metadata": {
    "tags": []
   },
   "outputs": [],
   "source": [
    "df.dropna(subset=['text'], inplace=True) #remove nan value\n",
    "df.drop_duplicates(subset=['text'], inplace=True) #remove nan duplicate value\n",
    "df = df.dropna(axis=1, how='all')\n"
   ]
  },
  {
   "cell_type": "code",
   "execution_count": 57,
   "id": "513a498e",
   "metadata": {},
   "outputs": [
    {
     "data": {
      "text/plain": [
       "(283982, 8)"
      ]
     },
     "execution_count": 57,
     "metadata": {},
     "output_type": "execute_result"
    }
   ],
   "source": [
    "df.shape"
   ]
  },
  {
   "cell_type": "code",
   "execution_count": 62,
   "id": "27dd2595",
   "metadata": {},
   "outputs": [
    {
     "data": {
      "text/html": [
       "<div>\n",
       "<style scoped>\n",
       "    .dataframe tbody tr th:only-of-type {\n",
       "        vertical-align: middle;\n",
       "    }\n",
       "\n",
       "    .dataframe tbody tr th {\n",
       "        vertical-align: top;\n",
       "    }\n",
       "\n",
       "    .dataframe thead th {\n",
       "        text-align: right;\n",
       "    }\n",
       "</style>\n",
       "<table border=\"1\" class=\"dataframe\">\n",
       "  <thead>\n",
       "    <tr style=\"text-align: right;\">\n",
       "      <th></th>\n",
       "      <th>text</th>\n",
       "    </tr>\n",
       "  </thead>\n",
       "  <tbody>\n",
       "    <tr>\n",
       "      <th>36252</th>\n",
       "      <td>disopted aschoolt two female judge kabul painful act afghanistan islamic culture afghanistan jdicial institution symbol islamic justice attack employee institution increase district rust peace pray soul maed judge offer condolence family friend</td>\n",
       "    </tr>\n",
       "    <tr>\n",
       "      <th>172118</th>\n",
       "      <td>arghandab district zabul last night battle afghan forces armed taliban post named satara fell afghan soldiers killed security officials refuse talk taliban militants claim responsibility attack</td>\n",
       "    </tr>\n",
       "    <tr>\n",
       "      <th>85052</th>\n",
       "      <td>group amazing british afghan women singing ghawghataban revolutionary anthem courageous women afghanistan fighting freedom heartwarming see take stage royalalberthall amp express solidarity sisters afghanistan iwd</td>\n",
       "    </tr>\n",
       "  </tbody>\n",
       "</table>\n",
       "</div>"
      ],
      "text/plain": [
       "                                                                                                                                                                                                                                                        text\n",
       "36252   disopted aschoolt two female judge kabul painful act afghanistan islamic culture afghanistan jdicial institution symbol islamic justice attack employee institution increase district rust peace pray soul maed judge offer condolence family friend\n",
       "172118                                                     arghandab district zabul last night battle afghan forces armed taliban post named satara fell afghan soldiers killed security officials refuse talk taliban militants claim responsibility attack\n",
       "85052                                  group amazing british afghan women singing ghawghataban revolutionary anthem courageous women afghanistan fighting freedom heartwarming see take stage royalalberthall amp express solidarity sisters afghanistan iwd"
      ]
     },
     "execution_count": 62,
     "metadata": {},
     "output_type": "execute_result"
    }
   ],
   "source": [
    "df[['text']].sample(3)"
   ]
  },
  {
   "attachments": {},
   "cell_type": "markdown",
   "id": "c4d88f81",
   "metadata": {},
   "source": [
    "##### Stopwords"
   ]
  },
  {
   "cell_type": "code",
   "execution_count": 59,
   "id": "0c1cdf65",
   "metadata": {},
   "outputs": [],
   "source": [
    "# from nltk.corpus import stopwords\n",
    "# # stop = stopwords.words('english')\n",
    "# # df['stop'] = df['text'].apply(lambda x: ' '.join([word for word in x.split() if word not in (stop)]))\n",
    "# def remove_stopwords(df):\n",
    "#     stop_words = set(stopwords.words('english'))\n",
    "#     df['text'] = df['text'].apply(lambda x: ' '.join([word for word in x.split() if word not in stop_words]))\n",
    "#     return df\n",
    "# df = remove_stopwords(df)\n",
    "\n",
    "\n",
    "# df[['text']].sample(4)"
   ]
  },
  {
   "cell_type": "code",
   "execution_count": 60,
   "id": "10ceec76",
   "metadata": {},
   "outputs": [
    {
     "data": {
      "text/plain": [
       "(283982, 8)"
      ]
     },
     "execution_count": 60,
     "metadata": {},
     "output_type": "execute_result"
    }
   ],
   "source": [
    "df.shape"
   ]
  },
  {
   "cell_type": "code",
   "execution_count": 61,
   "id": "e63b2805",
   "metadata": {},
   "outputs": [],
   "source": [
    "df.to_excel('../data_processed/education_1.xlsx', index=False)"
   ]
  }
 ],
 "metadata": {
  "kernelspec": {
   "display_name": "Python 3 (ipykernel)",
   "language": "python",
   "name": "python3"
  },
  "language_info": {
   "codemirror_mode": {
    "name": "ipython",
    "version": 3
   },
   "file_extension": ".py",
   "mimetype": "text/x-python",
   "name": "python",
   "nbconvert_exporter": "python",
   "pygments_lexer": "ipython3",
   "version": "3.10.9"
  },
  "vscode": {
   "interpreter": {
    "hash": "8c3d4d9970fc5c09c50d9318a9c7fbf4d0159e4b28833276f5678ee22bded273"
   }
  }
 },
 "nbformat": 4,
 "nbformat_minor": 5
}
