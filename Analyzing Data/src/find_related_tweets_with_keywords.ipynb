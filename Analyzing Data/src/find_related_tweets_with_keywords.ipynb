{
 "cells": [
  {
   "cell_type": "code",
   "execution_count": 1,
   "metadata": {},
   "outputs": [],
   "source": [
    "import pandas as pd\n",
    "\n",
    "# # Read the CSV file containing the tweets data\n",
    "# tweets_df = pd.read_excel('../data_processed/education.xlsx')\n",
    "\n",
    "# # Filter the tweets containing keywords related to education, ban, women, schools, and forbidden\n",
    "# keywords = [\"education\", \"school\"]\n",
    "# related_tweets_df = tweets_df[tweets_df['text'].str.contains('|'.join(keywords), case=False)]\n",
    "\n",
    "# # Export the related tweets to an Excel file\n",
    "# related_tweets_df.to_excel('../data_processed/education_only.xlsx', index=False)\n"
   ]
  },
  {
   "cell_type": "code",
   "execution_count": 2,
   "metadata": {},
   "outputs": [],
   "source": [
    "tweets_df = pd.read_excel('../data_processed/education_1.xlsx')\n"
   ]
  },
  {
   "cell_type": "code",
   "execution_count": 4,
   "metadata": {},
   "outputs": [
    {
     "data": {
      "text/html": [
       "<div>\n",
       "<style scoped>\n",
       "    .dataframe tbody tr th:only-of-type {\n",
       "        vertical-align: middle;\n",
       "    }\n",
       "\n",
       "    .dataframe tbody tr th {\n",
       "        vertical-align: top;\n",
       "    }\n",
       "\n",
       "    .dataframe thead th {\n",
       "        text-align: right;\n",
       "    }\n",
       "</style>\n",
       "<table border=\"1\" class=\"dataframe\">\n",
       "  <thead>\n",
       "    <tr style=\"text-align: right;\">\n",
       "      <th></th>\n",
       "      <th>text</th>\n",
       "      <th>name</th>\n",
       "      <th>created_at</th>\n",
       "      <th>gender</th>\n",
       "      <th>ethnic</th>\n",
       "      <th>label</th>\n",
       "      <th>sentiment</th>\n",
       "      <th>sentiment_score</th>\n",
       "    </tr>\n",
       "  </thead>\n",
       "  <tbody>\n",
       "    <tr>\n",
       "      <th>1</th>\n",
       "      <td>happened women common anywhere world school op...</td>\n",
       "      <td>Fawziakoofi78</td>\n",
       "      <td>2023-03-15</td>\n",
       "      <td>female</td>\n",
       "      <td>tajik</td>\n",
       "      <td>1</td>\n",
       "      <td>positive</td>\n",
       "      <td>0.0875</td>\n",
       "    </tr>\n",
       "    <tr>\n",
       "      <th>6</th>\n",
       "      <td>taliban charge institution dismination reversi...</td>\n",
       "      <td>SalehaSoadat</td>\n",
       "      <td>2023-03-17</td>\n",
       "      <td>female</td>\n",
       "      <td>tajik</td>\n",
       "      <td>1</td>\n",
       "      <td>positive</td>\n",
       "      <td>0.1500</td>\n",
       "    </tr>\n",
       "    <tr>\n",
       "      <th>9</th>\n",
       "      <td>pashtun women stand education support education</td>\n",
       "      <td>Zarifa_Ghafari</td>\n",
       "      <td>2022-12-24</td>\n",
       "      <td>female</td>\n",
       "      <td>tajik</td>\n",
       "      <td>1</td>\n",
       "      <td>neutral</td>\n",
       "      <td>0.0000</td>\n",
       "    </tr>\n",
       "  </tbody>\n",
       "</table>\n",
       "</div>"
      ],
      "text/plain": [
       "                                                text            name   \n",
       "1  happened women common anywhere world school op...   Fawziakoofi78  \\\n",
       "6  taliban charge institution dismination reversi...    SalehaSoadat   \n",
       "9    pashtun women stand education support education  Zarifa_Ghafari   \n",
       "\n",
       "  created_at  gender ethnic  label sentiment  sentiment_score  \n",
       "1 2023-03-15  female  tajik      1  positive           0.0875  \n",
       "6 2023-03-17  female  tajik      1  positive           0.1500  \n",
       "9 2022-12-24  female  tajik      1   neutral           0.0000  "
      ]
     },
     "execution_count": 4,
     "metadata": {},
     "output_type": "execute_result"
    }
   ],
   "source": [
    "# Define the keywords to search for\n",
    "keywords = ['women', 'education', 'school', 'university', 'ban']\n",
    "# Filter the dataset based on keywords and gender (female)\n",
    "filtered_tweets = tweets_df[(tweets_df['text'].str.contains('|'.join(keywords), case=False)) & (tweets_df['gender'] == 'female')]\n",
    "filtered_tweets.head(3)\n"
   ]
  },
  {
   "cell_type": "code",
   "execution_count": 5,
   "metadata": {},
   "outputs": [
    {
     "data": {
      "text/plain": [
       "(50881, 8)"
      ]
     },
     "execution_count": 5,
     "metadata": {},
     "output_type": "execute_result"
    }
   ],
   "source": [
    "filtered_tweets.shape"
   ]
  },
  {
   "cell_type": "code",
   "execution_count": 6,
   "metadata": {},
   "outputs": [],
   "source": [
    "filtered_tweets.to_excel('../data_processed/women_education.xlsx', index=False)"
   ]
  }
 ],
 "metadata": {
  "kernelspec": {
   "display_name": "Python 3",
   "language": "python",
   "name": "python3"
  },
  "language_info": {
   "codemirror_mode": {
    "name": "ipython",
    "version": 3
   },
   "file_extension": ".py",
   "mimetype": "text/x-python",
   "name": "python",
   "nbconvert_exporter": "python",
   "pygments_lexer": "ipython3",
   "version": "3.11.3"
  },
  "orig_nbformat": 4
 },
 "nbformat": 4,
 "nbformat_minor": 2
}
