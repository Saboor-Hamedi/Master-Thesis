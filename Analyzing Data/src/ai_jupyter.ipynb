{
 "cells": [
  {
   "cell_type": "code",
   "execution_count": null,
   "metadata": {},
   "outputs": [],
   "source": [
    "import pandas as pd\n",
    "from sklearn import preprocessing\n",
    "def clean_data(df):\n",
    "    # Drop any duplicates \n",
    "    df = df.drop_duplicates()\n",
    "    \n",
    "    # Remove rows with missing values (NaN) for specified columns only\n",
    "    cols_with_missing = [col for col in df.columns if df[col].isnull().any()]\n",
    "    df = df.dropna(subset=cols_with_missing, how='all')\n",
    "\n",
    "    # Fill numeric columns with median value\n",
    "    num_vars = df.select_dtypes(['int64', 'float64']).columns\n",
    "    for var in num_vars:\n",
    "        df[var] = df[var].fillna(df[var].median())\n",
    "        \n",
    "    return df"
   ]
  }
 ],
 "metadata": {
  "kernelspec": {
   "display_name": "base",
   "language": "python",
   "name": "python3"
  },
  "language_info": {
   "codemirror_mode": {
    "name": "ipython",
    "version": 3
   },
   "file_extension": ".py",
   "mimetype": "text/x-python",
   "name": "python",
   "nbconvert_exporter": "python",
   "pygments_lexer": "ipython3",
   "version": "3.11.3"
  },
  "orig_nbformat": 4
 },
 "nbformat": 4,
 "nbformat_minor": 2
}
