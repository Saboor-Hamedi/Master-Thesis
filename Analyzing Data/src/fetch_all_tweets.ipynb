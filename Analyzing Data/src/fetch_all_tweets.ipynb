{
 "cells": [
  {
   "cell_type": "code",
   "execution_count": 51,
   "metadata": {},
   "outputs": [],
   "source": [
    "import tweepy \n",
    "import pandas as pd"
   ]
  },
  {
   "attachments": {},
   "cell_type": "markdown",
   "metadata": {},
   "source": [
    "##### Set the Twitter credentials"
   ]
  },
  {
   "cell_type": "code",
   "execution_count": 52,
   "metadata": {},
   "outputs": [],
   "source": [
    "consumer_key= \"dqOPlo8TYO2Bo6P4Uo5sAkmes\"\n",
    "consumer_secret= \"3TUe2RlqY5BT6LnvtUAA0Kf1mPO8k7MH3ZLxxELcsj7OxG8doh\"\n",
    "access_token= \"2585433478-GoThRI4yGSKJX3tO8GX2onBsVdZ9EyPP1uL7dSi\"\n",
    "access_token_secret= \"WBHrZjnz8lDrKAlLpF0uNKMydws4iodCuWUtHwdqmYoq1\"\n"
   ]
  },
  {
   "attachments": {},
   "cell_type": "markdown",
   "metadata": {},
   "source": [
    "##### Authentication with Twitter API"
   ]
  },
  {
   "cell_type": "code",
   "execution_count": 53,
   "metadata": {},
   "outputs": [],
   "source": [
    "auth = tweepy.OAuthHandler(consumer_key, consumer_secret)\n",
    "auth.set_access_token(access_token, access_token_secret)"
   ]
  },
  {
   "attachments": {},
   "cell_type": "markdown",
   "metadata": {},
   "source": [
    "##### Create API Object"
   ]
  },
  {
   "cell_type": "code",
   "execution_count": 54,
   "metadata": {},
   "outputs": [],
   "source": [
    "api = tweepy.API(auth)"
   ]
  },
  {
   "cell_type": "code",
   "execution_count": 76,
   "metadata": {},
   "outputs": [],
   "source": [
    "username = 'nabizada2_sahar'"
   ]
  },
  {
   "cell_type": "code",
   "execution_count": 77,
   "metadata": {},
   "outputs": [],
   "source": [
    "all_tweets = []"
   ]
  },
  {
   "cell_type": "code",
   "execution_count": 78,
   "metadata": {},
   "outputs": [],
   "source": [
    "#fetch tweets \n",
    "for tweet in tweepy.Cursor(api.user_timeline, screen_name=username, tweet_mode = 'extended').items():\n",
    "    all_tweets.append(tweet)"
   ]
  },
  {
   "cell_type": "code",
   "execution_count": 79,
   "metadata": {},
   "outputs": [],
   "source": [
    "\n",
    "# # Define the start and end dates for tweet retrieval\n",
    "# start_date = \"2021-12-01\"\n",
    "# end_date = \"2023-03-28\"\n",
    "# # Fetch tweets within the specified date range\n",
    "# all_tweets = []\n",
    "# for tweet in tweepy.Cursor(api.user_timeline, screen_name=username, tweet_mode=\"extended\",\n",
    "#                            since=start_date, until=end_date).items():\n",
    "#     all_tweets.append(tweet)\n"
   ]
  },
  {
   "cell_type": "code",
   "execution_count": 80,
   "metadata": {},
   "outputs": [
    {
     "data": {
      "text/html": [
       "<div>\n",
       "<style scoped>\n",
       "    .dataframe tbody tr th:only-of-type {\n",
       "        vertical-align: middle;\n",
       "    }\n",
       "\n",
       "    .dataframe tbody tr th {\n",
       "        vertical-align: top;\n",
       "    }\n",
       "\n",
       "    .dataframe thead th {\n",
       "        text-align: right;\n",
       "    }\n",
       "</style>\n",
       "<table border=\"1\" class=\"dataframe\">\n",
       "  <thead>\n",
       "    <tr style=\"text-align: right;\">\n",
       "      <th></th>\n",
       "      <th>text</th>\n",
       "      <th>name</th>\n",
       "      <th>created_at</th>\n",
       "    </tr>\n",
       "  </thead>\n",
       "  <tbody>\n",
       "    <tr>\n",
       "      <th>0</th>\n",
       "      <td>@FatimaAyoubi005 @WazhmaAyoubi @NilofarAyoubi روز مادر مبارک ❤️</td>\n",
       "      <td>nabizada2_sahar</td>\n",
       "      <td>2023-05-14</td>\n",
       "    </tr>\n",
       "    <tr>\n",
       "      <th>1</th>\n",
       "      <td>@FarhatRahman13 روز مادر خجسته باد !</td>\n",
       "      <td>nabizada2_sahar</td>\n",
       "      <td>2023-05-14</td>\n",
       "    </tr>\n",
       "    <tr>\n",
       "      <th>2</th>\n",
       "      <td>سک نگاه خنداری به گرگ کرد وگفت،،،آهویت را ربودم،،، آیا بازهم میگویی گرگ ها برترند؟؟؟\\nتواگر عرضه داشتی آهویت را حفظ میکردی...!!!\\nگرگ،لبخندی زد وگفت ،،،\\nمن (خدای) غرورم\\nرقیب ببینم نمیجنگم...\\nپا روی عشق واحساسم میگذارم ومیدان را خالی میکنم ، آهوی که به سگ چشمک بزند !!! \\nلیاقت ندارد… https://t.co/w0ZQgRLVLl https://t.co/ti2K2wO0tp</td>\n",
       "      <td>nabizada2_sahar</td>\n",
       "      <td>2023-05-14</td>\n",
       "    </tr>\n",
       "    <tr>\n",
       "      <th>3</th>\n",
       "      <td>@Ehsanullah369 @WHaidaryar 😁</td>\n",
       "      <td>nabizada2_sahar</td>\n",
       "      <td>2023-05-13</td>\n",
       "    </tr>\n",
       "    <tr>\n",
       "      <th>4</th>\n",
       "      <td>برای داشتن زندگی بامعنا باید برای چیزی بیشتر از خویشتن زیست. برای داشتن زندگی معنادار باید دلیلی در کار باشد؛ ‌دلیل و هدفی که جانمان به آن گره می‌خورد و ما را در پیچ‌وتاب‌های مسیر زندگی به پیش می‌راند ...</td>\n",
       "      <td>nabizada2_sahar</td>\n",
       "      <td>2023-05-13</td>\n",
       "    </tr>\n",
       "  </tbody>\n",
       "</table>\n",
       "</div>"
      ],
      "text/plain": [
       "                                                                                                                                                                                                                                                                                                                                             text   \n",
       "0                                                                                                                                                                                                                                                                                 @FatimaAyoubi005 @WazhmaAyoubi @NilofarAyoubi روز مادر مبارک ❤️  \\\n",
       "1                                                                                                                                                                                                                                                                                                            @FarhatRahman13 روز مادر خجسته باد !   \n",
       "2  سک نگاه خنداری به گرگ کرد وگفت،،،آهویت را ربودم،،، آیا بازهم میگویی گرگ ها برترند؟؟؟\\nتواگر عرضه داشتی آهویت را حفظ میکردی...!!!\\nگرگ،لبخندی زد وگفت ،،،\\nمن (خدای) غرورم\\nرقیب ببینم نمیجنگم...\\nپا روی عشق واحساسم میگذارم ومیدان را خالی میکنم ، آهوی که به سگ چشمک بزند !!! \\nلیاقت ندارد… https://t.co/w0ZQgRLVLl https://t.co/ti2K2wO0tp   \n",
       "3                                                                                                                                                                                                                                                                                                                    @Ehsanullah369 @WHaidaryar 😁   \n",
       "4                                                                                                                                    برای داشتن زندگی بامعنا باید برای چیزی بیشتر از خویشتن زیست. برای داشتن زندگی معنادار باید دلیلی در کار باشد؛ ‌دلیل و هدفی که جانمان به آن گره می‌خورد و ما را در پیچ‌وتاب‌های مسیر زندگی به پیش می‌راند ...   \n",
       "\n",
       "              name  created_at  \n",
       "0  nabizada2_sahar  2023-05-14  \n",
       "1  nabizada2_sahar  2023-05-14  \n",
       "2  nabizada2_sahar  2023-05-14  \n",
       "3  nabizada2_sahar  2023-05-13  \n",
       "4  nabizada2_sahar  2023-05-13  "
      ]
     },
     "execution_count": 80,
     "metadata": {},
     "output_type": "execute_result"
    }
   ],
   "source": [
    "# convert the list of tweets to pandas DataFrame\n",
    "df = pd.DataFrame({\n",
    "    'text': [tweet.full_text for tweet in all_tweets],\n",
    "    'name': [tweet.user.screen_name for tweet in all_tweets],\n",
    "    'created_at': [tweet.created_at for tweet in all_tweets],\n",
    "})\n",
    "df['created_at'] = pd.to_datetime(df['created_at'], errors='coerce').dt.date.astype(str)\n",
    "\n",
    "df.head()"
   ]
  },
  {
   "cell_type": "code",
   "execution_count": 81,
   "metadata": {},
   "outputs": [
    {
     "data": {
      "text/plain": [
       "(3240, 3)"
      ]
     },
     "execution_count": 81,
     "metadata": {},
     "output_type": "execute_result"
    }
   ],
   "source": [
    "df.shape"
   ]
  },
  {
   "attachments": {},
   "cell_type": "markdown",
   "metadata": {},
   "source": [
    "##### Remove everything before \":\""
   ]
  },
  {
   "cell_type": "code",
   "execution_count": 82,
   "metadata": {},
   "outputs": [],
   "source": [
    "# df['text'] = df['text'].astype(str)\n",
    "# df['text'] = df['text'].str.split(':').str[0].str.strip()"
   ]
  },
  {
   "cell_type": "code",
   "execution_count": 83,
   "metadata": {},
   "outputs": [],
   "source": [
    "pd.set_option('display.max_colwidth', None)"
   ]
  },
  {
   "cell_type": "code",
   "execution_count": 84,
   "metadata": {},
   "outputs": [
    {
     "data": {
      "text/html": [
       "<div>\n",
       "<style scoped>\n",
       "    .dataframe tbody tr th:only-of-type {\n",
       "        vertical-align: middle;\n",
       "    }\n",
       "\n",
       "    .dataframe tbody tr th {\n",
       "        vertical-align: top;\n",
       "    }\n",
       "\n",
       "    .dataframe thead th {\n",
       "        text-align: right;\n",
       "    }\n",
       "</style>\n",
       "<table border=\"1\" class=\"dataframe\">\n",
       "  <thead>\n",
       "    <tr style=\"text-align: right;\">\n",
       "      <th></th>\n",
       "      <th>text</th>\n",
       "      <th>name</th>\n",
       "      <th>created_at</th>\n",
       "    </tr>\n",
       "  </thead>\n",
       "  <tbody>\n",
       "    <tr>\n",
       "      <th>335</th>\n",
       "      <td>@Sheerkh43343680 😁</td>\n",
       "      <td>nabizada2_sahar</td>\n",
       "      <td>2023-04-14</td>\n",
       "    </tr>\n",
       "    <tr>\n",
       "      <th>2273</th>\n",
       "      <td>@QaniEsmat خفه شو انسان کثیف</td>\n",
       "      <td>nabizada2_sahar</td>\n",
       "      <td>2022-10-05</td>\n",
       "    </tr>\n",
       "    <tr>\n",
       "      <th>1425</th>\n",
       "      <td>@sumaiafrotan @zala_zazai @womenaidafghan1 @MassoudaKohist3 @KabuliOld @Faridas34354709 @fariza_akbari @GheyasiYasamin @thedaoudnaji @mohammad_nateqi @MalikYeganeh روح شان شاد !</td>\n",
       "      <td>nabizada2_sahar</td>\n",
       "      <td>2022-12-08</td>\n",
       "    </tr>\n",
       "    <tr>\n",
       "      <th>1900</th>\n",
       "      <td>دو سال از حادثه خونین در دانشگاه کابل گذشت. \\n\\nدر دوم نوامبر ۲۰۲۰ مهاجمان مسلح داخل محوطه دانشگاه کابل شده و ساعت‌ها خون ریختاندند.\\n\\nدرین حادثه جوانان نازنین و دانشجویان فهیم پَر پَر شدند. https://t.co/gjXAI9udF5</td>\n",
       "      <td>nabizada2_sahar</td>\n",
       "      <td>2022-11-02</td>\n",
       "    </tr>\n",
       "    <tr>\n",
       "      <th>2043</th>\n",
       "      <td>@JamilQadery ترا والله ؟؟</td>\n",
       "      <td>nabizada2_sahar</td>\n",
       "      <td>2022-10-18</td>\n",
       "    </tr>\n",
       "  </tbody>\n",
       "</table>\n",
       "</div>"
      ],
      "text/plain": [
       "                                                                                                                                                                                                                         text   \n",
       "335                                                                                                                                                                                                        @Sheerkh43343680 😁  \\\n",
       "2273                                                                                                                                                                                             @QaniEsmat خفه شو انسان کثیف   \n",
       "1425                                        @sumaiafrotan @zala_zazai @womenaidafghan1 @MassoudaKohist3 @KabuliOld @Faridas34354709 @fariza_akbari @GheyasiYasamin @thedaoudnaji @mohammad_nateqi @MalikYeganeh روح شان شاد !   \n",
       "1900  دو سال از حادثه خونین در دانشگاه کابل گذشت. \\n\\nدر دوم نوامبر ۲۰۲۰ مهاجمان مسلح داخل محوطه دانشگاه کابل شده و ساعت‌ها خون ریختاندند.\\n\\nدرین حادثه جوانان نازنین و دانشجویان فهیم پَر پَر شدند. https://t.co/gjXAI9udF5   \n",
       "2043                                                                                                                                                                                                @JamilQadery ترا والله ؟؟   \n",
       "\n",
       "                 name  created_at  \n",
       "335   nabizada2_sahar  2023-04-14  \n",
       "2273  nabizada2_sahar  2022-10-05  \n",
       "1425  nabizada2_sahar  2022-12-08  \n",
       "1900  nabizada2_sahar  2022-11-02  \n",
       "2043  nabizada2_sahar  2022-10-18  "
      ]
     },
     "execution_count": 84,
     "metadata": {},
     "output_type": "execute_result"
    }
   ],
   "source": [
    "df.sample(5)"
   ]
  },
  {
   "cell_type": "code",
   "execution_count": 85,
   "metadata": {},
   "outputs": [],
   "source": [
    "import re\n",
    "\n",
    "def remove_emoji(text):\n",
    "    \"\"\"Remove emojis from a text string.\"\"\"\n",
    "    emoji_pattern = re.compile(\"[\"\n",
    "                               u\"\\U0001F600-\\U0001F64F\"  # emoticons\n",
    "                               u\"\\U0001F300-\\U0001F5FF\"  # symbols & pictographs\n",
    "                               u\"\\U0001F680-\\U0001F6FF\"  # transport & map symbols\n",
    "                               u\"\\U0001F1E0-\\U0001F1FF\"  # flags (iOS)\n",
    "                               u\"\\U00002702-\\U000027B0\"\n",
    "                               u\"\\U000024C2-\\U0001F251\"\n",
    "                               \"]+\", flags=re.UNICODE)\n",
    "    text = emoji_pattern.sub(r'', text)\n",
    "    text = text.replace('\\n', ' ')\n",
    "    return emoji_pattern.sub(r'', text)\n",
    "\n",
    "\n",
    "df['text'] = df['text'].str.strip()# remove spaces\n",
    "# Example usage\n",
    "df['text'] =df['text'].apply(remove_emoji)"
   ]
  },
  {
   "cell_type": "code",
   "execution_count": 86,
   "metadata": {},
   "outputs": [],
   "source": [
    "df.dropna(subset=['text'], inplace=True)\n",
    "df.drop_duplicates(subset=['text'], inplace=True)"
   ]
  },
  {
   "cell_type": "code",
   "execution_count": 87,
   "metadata": {},
   "outputs": [
    {
     "data": {
      "text/html": [
       "<div>\n",
       "<style scoped>\n",
       "    .dataframe tbody tr th:only-of-type {\n",
       "        vertical-align: middle;\n",
       "    }\n",
       "\n",
       "    .dataframe tbody tr th {\n",
       "        vertical-align: top;\n",
       "    }\n",
       "\n",
       "    .dataframe thead th {\n",
       "        text-align: right;\n",
       "    }\n",
       "</style>\n",
       "<table border=\"1\" class=\"dataframe\">\n",
       "  <thead>\n",
       "    <tr style=\"text-align: right;\">\n",
       "      <th></th>\n",
       "      <th>text</th>\n",
       "      <th>name</th>\n",
       "      <th>created_at</th>\n",
       "    </tr>\n",
       "  </thead>\n",
       "  <tbody>\n",
       "    <tr>\n",
       "      <th>3235</th>\n",
       "      <td>در این سرای بی کسی، کسی به در نمی زند به دشت پر ملال ما پرنده پر نمی زند سایه رفت.  در گذشت هوشنگ ابتهاج اسطوره شعر فارسی را به همه فارسی زبانان تسلیت عرض میدارم  #هوشنگ_ابتهاج https://t.co/TzyCfRtjYA</td>\n",
       "      <td>nabizada2_sahar</td>\n",
       "      <td>2022-08-10</td>\n",
       "    </tr>\n",
       "    <tr>\n",
       "      <th>3236</th>\n",
       "      <td>@Maryam_111110 @fightforpeople3 به این ها سویتفاهم شده مام بودم د اسپیس</td>\n",
       "      <td>nabizada2_sahar</td>\n",
       "      <td>2022-08-09</td>\n",
       "    </tr>\n",
       "    <tr>\n",
       "      <th>3237</th>\n",
       "      <td>@AlinejadMasih خرفان و حماقت است جان نزد ما امانت است وقت خاک به امانت خیانت نمیکند انسان عاقل چطور می‌تواند خیانت به جان خود کند .</td>\n",
       "      <td>nabizada2_sahar</td>\n",
       "      <td>2022-08-09</td>\n",
       "    </tr>\n",
       "    <tr>\n",
       "      <th>3238</th>\n",
       "      <td>قشر که هیچ گاه تسلیم شدن را نمی پذیرد!  یک بانو در شهر فیض‌آباد، مرکز ولایت بدخشان با هزینه شخصی خود یک کارگاه صنایع دستی را برای دختران که از رفتن به مکتب محروم اند، ایجاد کرده است. https://t.co/dwgm03qVqZ</td>\n",
       "      <td>nabizada2_sahar</td>\n",
       "      <td>2022-08-09</td>\n",
       "    </tr>\n",
       "    <tr>\n",
       "      <th>3239</th>\n",
       "      <td>در بزم هنر اهل سیاست چه نشینند میخانه دگر جایگه فتنه گران نیست</td>\n",
       "      <td>nabizada2_sahar</td>\n",
       "      <td>2022-08-09</td>\n",
       "    </tr>\n",
       "  </tbody>\n",
       "</table>\n",
       "</div>"
      ],
      "text/plain": [
       "                                                                                                                                                                                                                text   \n",
       "3235        در این سرای بی کسی، کسی به در نمی زند به دشت پر ملال ما پرنده پر نمی زند سایه رفت.  در گذشت هوشنگ ابتهاج اسطوره شعر فارسی را به همه فارسی زبانان تسلیت عرض میدارم  #هوشنگ_ابتهاج https://t.co/TzyCfRtjYA  \\\n",
       "3236                                                                                                                                         @Maryam_111110 @fightforpeople3 به این ها سویتفاهم شده مام بودم د اسپیس   \n",
       "3237                                                                             @AlinejadMasih خرفان و حماقت است جان نزد ما امانت است وقت خاک به امانت خیانت نمیکند انسان عاقل چطور می‌تواند خیانت به جان خود کند .   \n",
       "3238  قشر که هیچ گاه تسلیم شدن را نمی پذیرد!  یک بانو در شهر فیض‌آباد، مرکز ولایت بدخشان با هزینه شخصی خود یک کارگاه صنایع دستی را برای دختران که از رفتن به مکتب محروم اند، ایجاد کرده است. https://t.co/dwgm03qVqZ   \n",
       "3239                                                                                                                                                  در بزم هنر اهل سیاست چه نشینند میخانه دگر جایگه فتنه گران نیست   \n",
       "\n",
       "                 name  created_at  \n",
       "3235  nabizada2_sahar  2022-08-10  \n",
       "3236  nabizada2_sahar  2022-08-09  \n",
       "3237  nabizada2_sahar  2022-08-09  \n",
       "3238  nabizada2_sahar  2022-08-09  \n",
       "3239  nabizada2_sahar  2022-08-09  "
      ]
     },
     "execution_count": 87,
     "metadata": {},
     "output_type": "execute_result"
    }
   ],
   "source": [
    "df.tail(5)"
   ]
  },
  {
   "attachments": {},
   "cell_type": "markdown",
   "metadata": {},
   "source": [
    "##### Add Gender and Ethnic"
   ]
  },
  {
   "cell_type": "code",
   "execution_count": 88,
   "metadata": {},
   "outputs": [],
   "source": [
    "if 'gender' not in df.columns:\n",
    "    df['gender'] = ''\n",
    "if 'ethnic' not in df.columns:\n",
    "    df['ethnic'] = ''"
   ]
  },
  {
   "cell_type": "code",
   "execution_count": 89,
   "metadata": {},
   "outputs": [],
   "source": [
    "df.loc[df['gender'] == '', 'gender'] = 'female'\n",
    "df.loc[df['ethnic'] == '', 'ethnic'] = 'tajik'"
   ]
  },
  {
   "cell_type": "code",
   "execution_count": 90,
   "metadata": {},
   "outputs": [
    {
     "data": {
      "text/html": [
       "<div>\n",
       "<style scoped>\n",
       "    .dataframe tbody tr th:only-of-type {\n",
       "        vertical-align: middle;\n",
       "    }\n",
       "\n",
       "    .dataframe tbody tr th {\n",
       "        vertical-align: top;\n",
       "    }\n",
       "\n",
       "    .dataframe thead th {\n",
       "        text-align: right;\n",
       "    }\n",
       "</style>\n",
       "<table border=\"1\" class=\"dataframe\">\n",
       "  <thead>\n",
       "    <tr style=\"text-align: right;\">\n",
       "      <th></th>\n",
       "      <th>text</th>\n",
       "      <th>name</th>\n",
       "      <th>created_at</th>\n",
       "      <th>gender</th>\n",
       "      <th>ethnic</th>\n",
       "    </tr>\n",
       "  </thead>\n",
       "  <tbody>\n",
       "    <tr>\n",
       "      <th>0</th>\n",
       "      <td>@FatimaAyoubi005 @WazhmaAyoubi @NilofarAyoubi روز مادر مبارک</td>\n",
       "      <td>nabizada2_sahar</td>\n",
       "      <td>2023-05-14</td>\n",
       "      <td>female</td>\n",
       "      <td>tajik</td>\n",
       "    </tr>\n",
       "    <tr>\n",
       "      <th>1</th>\n",
       "      <td>@FarhatRahman13 روز مادر خجسته باد !</td>\n",
       "      <td>nabizada2_sahar</td>\n",
       "      <td>2023-05-14</td>\n",
       "      <td>female</td>\n",
       "      <td>tajik</td>\n",
       "    </tr>\n",
       "    <tr>\n",
       "      <th>2</th>\n",
       "      <td>سک نگاه خنداری به گرگ کرد وگفت،،،آهویت را ربودم،،، آیا بازهم میگویی گرگ ها برترند؟؟؟ تواگر عرضه داشتی آهویت را حفظ میکردی...!!! گرگ،لبخندی زد وگفت ،،، من (خدای) غرورم رقیب ببینم نمیجنگم... پا روی عشق واحساسم میگذارم ومیدان را خالی میکنم ، آهوی که به سگ چشمک بزند !!!  لیاقت ندارد… https://t.co/w0ZQgRLVLl https://t.co/ti2K2wO0tp</td>\n",
       "      <td>nabizada2_sahar</td>\n",
       "      <td>2023-05-14</td>\n",
       "      <td>female</td>\n",
       "      <td>tajik</td>\n",
       "    </tr>\n",
       "    <tr>\n",
       "      <th>3</th>\n",
       "      <td>@Ehsanullah369 @WHaidaryar</td>\n",
       "      <td>nabizada2_sahar</td>\n",
       "      <td>2023-05-13</td>\n",
       "      <td>female</td>\n",
       "      <td>tajik</td>\n",
       "    </tr>\n",
       "    <tr>\n",
       "      <th>4</th>\n",
       "      <td>برای داشتن زندگی بامعنا باید برای چیزی بیشتر از خویشتن زیست. برای داشتن زندگی معنادار باید دلیلی در کار باشد؛ ‌دلیل و هدفی که جانمان به آن گره می‌خورد و ما را در پیچ‌وتاب‌های مسیر زندگی به پیش می‌راند ...</td>\n",
       "      <td>nabizada2_sahar</td>\n",
       "      <td>2023-05-13</td>\n",
       "      <td>female</td>\n",
       "      <td>tajik</td>\n",
       "    </tr>\n",
       "  </tbody>\n",
       "</table>\n",
       "</div>"
      ],
      "text/plain": [
       "                                                                                                                                                                                                                                                                                                                                       text   \n",
       "0                                                                                                                                                                                                                                                                             @FatimaAyoubi005 @WazhmaAyoubi @NilofarAyoubi روز مادر مبارک   \\\n",
       "1                                                                                                                                                                                                                                                                                                      @FarhatRahman13 روز مادر خجسته باد !   \n",
       "2  سک نگاه خنداری به گرگ کرد وگفت،،،آهویت را ربودم،،، آیا بازهم میگویی گرگ ها برترند؟؟؟ تواگر عرضه داشتی آهویت را حفظ میکردی...!!! گرگ،لبخندی زد وگفت ،،، من (خدای) غرورم رقیب ببینم نمیجنگم... پا روی عشق واحساسم میگذارم ومیدان را خالی میکنم ، آهوی که به سگ چشمک بزند !!!  لیاقت ندارد… https://t.co/w0ZQgRLVLl https://t.co/ti2K2wO0tp   \n",
       "3                                                                                                                                                                                                                                                                                                               @Ehsanullah369 @WHaidaryar    \n",
       "4                                                                                                                              برای داشتن زندگی بامعنا باید برای چیزی بیشتر از خویشتن زیست. برای داشتن زندگی معنادار باید دلیلی در کار باشد؛ ‌دلیل و هدفی که جانمان به آن گره می‌خورد و ما را در پیچ‌وتاب‌های مسیر زندگی به پیش می‌راند ...   \n",
       "\n",
       "              name  created_at  gender ethnic  \n",
       "0  nabizada2_sahar  2023-05-14  female  tajik  \n",
       "1  nabizada2_sahar  2023-05-14  female  tajik  \n",
       "2  nabizada2_sahar  2023-05-14  female  tajik  \n",
       "3  nabizada2_sahar  2023-05-13  female  tajik  \n",
       "4  nabizada2_sahar  2023-05-13  female  tajik  "
      ]
     },
     "execution_count": 90,
     "metadata": {},
     "output_type": "execute_result"
    }
   ],
   "source": [
    "df.head(5)"
   ]
  },
  {
   "cell_type": "code",
   "execution_count": 91,
   "metadata": {},
   "outputs": [
    {
     "data": {
      "text/plain": [
       "(3135, 5)"
      ]
     },
     "execution_count": 91,
     "metadata": {},
     "output_type": "execute_result"
    }
   ],
   "source": [
    "df.shape"
   ]
  },
  {
   "cell_type": "code",
   "execution_count": 92,
   "metadata": {},
   "outputs": [],
   "source": [
    "from deep_translator import GoogleTranslator \n",
    "from googletrans import Translator"
   ]
  },
  {
   "cell_type": "code",
   "execution_count": 93,
   "metadata": {},
   "outputs": [],
   "source": [
    "translator = Translator()\n",
    "df[\"text\"] = df[\"text\"].apply(lambda x: GoogleTranslator(source=\"auto\", target=\"en\").translate(x))\n"
   ]
  },
  {
   "cell_type": "code",
   "execution_count": 94,
   "metadata": {},
   "outputs": [
    {
     "data": {
      "text/html": [
       "<div>\n",
       "<style scoped>\n",
       "    .dataframe tbody tr th:only-of-type {\n",
       "        vertical-align: middle;\n",
       "    }\n",
       "\n",
       "    .dataframe tbody tr th {\n",
       "        vertical-align: top;\n",
       "    }\n",
       "\n",
       "    .dataframe thead th {\n",
       "        text-align: right;\n",
       "    }\n",
       "</style>\n",
       "<table border=\"1\" class=\"dataframe\">\n",
       "  <thead>\n",
       "    <tr style=\"text-align: right;\">\n",
       "      <th></th>\n",
       "      <th>text</th>\n",
       "      <th>name</th>\n",
       "      <th>created_at</th>\n",
       "      <th>gender</th>\n",
       "      <th>ethnic</th>\n",
       "    </tr>\n",
       "  </thead>\n",
       "  <tbody>\n",
       "    <tr>\n",
       "      <th>2810</th>\n",
       "      <td>@SofiaSo19560372 @mobeenkhan1231 you are the punishment for being a shameless bitch</td>\n",
       "      <td>nabizada2_sahar</td>\n",
       "      <td>2022-09-09</td>\n",
       "      <td>female</td>\n",
       "      <td>tajik</td>\n",
       "    </tr>\n",
       "    <tr>\n",
       "      <th>681</th>\n",
       "      <td>@h_radfar Intellect does not accept repetition, but feeling, yes, nature also likes repetition. . .</td>\n",
       "      <td>nabizada2_sahar</td>\n",
       "      <td>2023-03-19</td>\n",
       "      <td>female</td>\n",
       "      <td>tajik</td>\n",
       "    </tr>\n",
       "    <tr>\n",
       "      <th>1511</th>\n",
       "      <td>@RohullR Good luck, the leader of every province of Afghanistan is love.</td>\n",
       "      <td>nabizada2_sahar</td>\n",
       "      <td>2022-12-02</td>\n",
       "      <td>female</td>\n",
       "      <td>tajik</td>\n",
       "    </tr>\n",
       "    <tr>\n",
       "      <th>485</th>\n",
       "      <td>RT @nasiri_tahera: We want the release of these cultural and civil activists from Talib prison. For those who strive for the progress, civilization and prosperity of the country...</td>\n",
       "      <td>nabizada2_sahar</td>\n",
       "      <td>2023-04-04</td>\n",
       "      <td>female</td>\n",
       "      <td>tajik</td>\n",
       "    </tr>\n",
       "    <tr>\n",
       "      <th>1401</th>\n",
       "      <td>@ArashYaqin when the show is over You see the real face of people! But the end of a show does not mean the end of the exhibition</td>\n",
       "      <td>nabizada2_sahar</td>\n",
       "      <td>2022-12-11</td>\n",
       "      <td>female</td>\n",
       "      <td>tajik</td>\n",
       "    </tr>\n",
       "  </tbody>\n",
       "</table>\n",
       "</div>"
      ],
      "text/plain": [
       "                                                                                                                                                                                      text   \n",
       "2810                                                                                                   @SofiaSo19560372 @mobeenkhan1231 you are the punishment for being a shameless bitch  \\\n",
       "681                                                                                    @h_radfar Intellect does not accept repetition, but feeling, yes, nature also likes repetition. . .   \n",
       "1511                                                                                                              @RohullR Good luck, the leader of every province of Afghanistan is love.   \n",
       "485   RT @nasiri_tahera: We want the release of these cultural and civil activists from Talib prison. For those who strive for the progress, civilization and prosperity of the country...   \n",
       "1401                                                      @ArashYaqin when the show is over You see the real face of people! But the end of a show does not mean the end of the exhibition   \n",
       "\n",
       "                 name  created_at  gender ethnic  \n",
       "2810  nabizada2_sahar  2022-09-09  female  tajik  \n",
       "681   nabizada2_sahar  2023-03-19  female  tajik  \n",
       "1511  nabizada2_sahar  2022-12-02  female  tajik  \n",
       "485   nabizada2_sahar  2023-04-04  female  tajik  \n",
       "1401  nabizada2_sahar  2022-12-11  female  tajik  "
      ]
     },
     "execution_count": 94,
     "metadata": {},
     "output_type": "execute_result"
    }
   ],
   "source": [
    "df.sample(5)"
   ]
  },
  {
   "cell_type": "code",
   "execution_count": 95,
   "metadata": {},
   "outputs": [
    {
     "data": {
      "text/plain": [
       "(3135, 5)"
      ]
     },
     "execution_count": 95,
     "metadata": {},
     "output_type": "execute_result"
    }
   ],
   "source": [
    "df.shape"
   ]
  },
  {
   "cell_type": "code",
   "execution_count": 96,
   "metadata": {},
   "outputs": [],
   "source": [
    "df.to_excel('../data/women_ordinary_people/nabizada2_sahar.xlsx', index=False)\n",
    "# GhaniHashmat"
   ]
  },
  {
   "cell_type": "code",
   "execution_count": null,
   "metadata": {},
   "outputs": [],
   "source": []
  }
 ],
 "metadata": {
  "kernelspec": {
   "display_name": "Python 3 (ipykernel)",
   "language": "python",
   "name": "python3"
  },
  "language_info": {
   "codemirror_mode": {
    "name": "ipython",
    "version": 3
   },
   "file_extension": ".py",
   "mimetype": "text/x-python",
   "name": "python",
   "nbconvert_exporter": "python",
   "pygments_lexer": "ipython3",
   "version": "3.11.3"
  }
 },
 "nbformat": 4,
 "nbformat_minor": 2
}
