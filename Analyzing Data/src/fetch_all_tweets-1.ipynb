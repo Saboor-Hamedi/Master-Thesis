{
 "cells": [
  {
   "cell_type": "code",
   "execution_count": 1,
   "metadata": {},
   "outputs": [],
   "source": [
    "import tweepy \n",
    "import pandas as pd\n",
    "\n"
   ]
  },
  {
   "cell_type": "markdown",
   "metadata": {},
   "source": [
    "##### Set the Twitter credentials"
   ]
  },
  {
   "cell_type": "code",
   "execution_count": 25,
   "metadata": {},
   "outputs": [],
   "source": [
    "consumer_key= \"dqOPlo8TYO2Bo6P4Uo5sAkmes\"\n",
    "consumer_secret= \"3TUe2RlqY5BT6LnvtUAA0Kf1mPO8k7MH3ZLxxELcsj7OxG8doh\"\n",
    "access_token= \"2585433478-GoThRI4yGSKJX3tO8GX2onBsVdZ9EyPP1uL7dSi\"\n",
    "access_token_secret= \"WBHrZjnz8lDrKAlLpF0uNKMydws4iodCuWUtHwdqmYoq1\"\n"
   ]
  },
  {
   "cell_type": "markdown",
   "metadata": {},
   "source": [
    "##### Authentication with Twitter API"
   ]
  },
  {
   "cell_type": "code",
   "execution_count": 26,
   "metadata": {},
   "outputs": [],
   "source": [
    "auth = tweepy.OAuthHandler(consumer_key, consumer_secret)\n",
    "auth.set_access_token(access_token, access_token_secret)"
   ]
  },
  {
   "cell_type": "markdown",
   "metadata": {},
   "source": [
    "##### Create API Object"
   ]
  },
  {
   "cell_type": "code",
   "execution_count": 27,
   "metadata": {},
   "outputs": [],
   "source": [
    "api = tweepy.API(auth)"
   ]
  },
  {
   "cell_type": "code",
   "execution_count": 28,
   "metadata": {},
   "outputs": [],
   "source": [
    "username = 'sobat_tahmina'"
   ]
  },
  {
   "cell_type": "code",
   "execution_count": 29,
   "metadata": {},
   "outputs": [],
   "source": [
    "all_tweets = []"
   ]
  },
  {
   "cell_type": "code",
   "execution_count": 30,
   "metadata": {},
   "outputs": [],
   "source": [
    "#fetch tweets \n",
    "for tweet in tweepy.Cursor(api.user_timeline, screen_name=username, tweet_mode = 'extended').items():\n",
    "    all_tweets.append(tweet)"
   ]
  },
  {
   "cell_type": "code",
   "execution_count": 31,
   "metadata": {},
   "outputs": [],
   "source": [
    "\n",
    "# # Define the start and end dates for tweet retrieval\n",
    "# start_date = \"2021-12-01\"\n",
    "# end_date = \"2023-03-28\"\n",
    "# # Fetch tweets within the specified date range\n",
    "# all_tweets = []\n",
    "# for tweet in tweepy.Cursor(api.user_timeline, screen_name=username, tweet_mode=\"extended\",\n",
    "#                            since=start_date, until=end_date).items():\n",
    "#     all_tweets.append(tweet)\n"
   ]
  },
  {
   "cell_type": "code",
   "execution_count": 32,
   "metadata": {},
   "outputs": [
    {
     "data": {
      "text/html": [
       "<div>\n",
       "<style scoped>\n",
       "    .dataframe tbody tr th:only-of-type {\n",
       "        vertical-align: middle;\n",
       "    }\n",
       "\n",
       "    .dataframe tbody tr th {\n",
       "        vertical-align: top;\n",
       "    }\n",
       "\n",
       "    .dataframe thead th {\n",
       "        text-align: right;\n",
       "    }\n",
       "</style>\n",
       "<table border=\"1\" class=\"dataframe\">\n",
       "  <thead>\n",
       "    <tr style=\"text-align: right;\">\n",
       "      <th></th>\n",
       "      <th>text</th>\n",
       "      <th>name</th>\n",
       "      <th>created_at</th>\n",
       "    </tr>\n",
       "  </thead>\n",
       "  <tbody>\n",
       "    <tr>\n",
       "      <th>0</th>\n",
       "      <td>Please read a short article about the recent event titled (Protecting All Women’s Rights in the Developing World) at the University of Notre Dame- Notre Dame Law School. \\n\\nhttps://t.co/tivWVZQ323\\n\\nThanks Denise Wager for putting this together 🙏</td>\n",
       "      <td>sobat_tahmina</td>\n",
       "      <td>2023-03-10</td>\n",
       "    </tr>\n",
       "    <tr>\n",
       "      <th>1</th>\n",
       "      <td>Thank you all, I hope we can continue uplifting the voices of women who are redefining the maps of resilience and resistance in Afghanistan and Iran!\\n\\n#afghanistancrisis \\n#afghanwomen \\n#AllorNone\\n#humanrights \\n#womanlifefreedom https://t.co/bSpO4VLg23</td>\n",
       "      <td>sobat_tahmina</td>\n",
       "      <td>2023-03-10</td>\n",
       "    </tr>\n",
       "    <tr>\n",
       "      <th>2</th>\n",
       "      <td>I want to express my appreciation to @DrDesierto, Dr.Sima Shakhsari, Dr.@yaldahamidi, @Lana Salah Barkawi, @Karen Sieber, @CoreyKChina, @SamimRoqia, JEAN MARC BRISSAU, Elizabeth Steinborn and everyone involved in organizing these events and inviting me to be part of them!</td>\n",
       "      <td>sobat_tahmina</td>\n",
       "      <td>2023-03-10</td>\n",
       "    </tr>\n",
       "    <tr>\n",
       "      <th>3</th>\n",
       "      <td>So proud to be an alumnus and/or student of these institutions that care about providing space for nuanced conversations on important topics such as the right and resistance of Afghan and Iranian women.</td>\n",
       "      <td>sobat_tahmina</td>\n",
       "      <td>2023-03-10</td>\n",
       "    </tr>\n",
       "    <tr>\n",
       "      <th>4</th>\n",
       "      <td>I’m joyful to share that these events were organized by my campuses including the @NotreDame @NDLaw, @MNSUMankato and @humanities, and the @UMNews of Minnesota (@GWSS department) and @Mizna_ArabArt.</td>\n",
       "      <td>sobat_tahmina</td>\n",
       "      <td>2023-03-10</td>\n",
       "    </tr>\n",
       "  </tbody>\n",
       "</table>\n",
       "</div>"
      ],
      "text/plain": [
       "                                                                                                                                                                                                                                                                               text   \n",
       "0                          Please read a short article about the recent event titled (Protecting All Women’s Rights in the Developing World) at the University of Notre Dame- Notre Dame Law School. \\n\\nhttps://t.co/tivWVZQ323\\n\\nThanks Denise Wager for putting this together 🙏  \\\n",
       "1                 Thank you all, I hope we can continue uplifting the voices of women who are redefining the maps of resilience and resistance in Afghanistan and Iran!\\n\\n#afghanistancrisis \\n#afghanwomen \\n#AllorNone\\n#humanrights \\n#womanlifefreedom https://t.co/bSpO4VLg23   \n",
       "2  I want to express my appreciation to @DrDesierto, Dr.Sima Shakhsari, Dr.@yaldahamidi, @Lana Salah Barkawi, @Karen Sieber, @CoreyKChina, @SamimRoqia, JEAN MARC BRISSAU, Elizabeth Steinborn and everyone involved in organizing these events and inviting me to be part of them!   \n",
       "3                                                                        So proud to be an alumnus and/or student of these institutions that care about providing space for nuanced conversations on important topics such as the right and resistance of Afghan and Iranian women.   \n",
       "4                                                                            I’m joyful to share that these events were organized by my campuses including the @NotreDame @NDLaw, @MNSUMankato and @humanities, and the @UMNews of Minnesota (@GWSS department) and @Mizna_ArabArt.   \n",
       "\n",
       "            name  created_at  \n",
       "0  sobat_tahmina  2023-03-10  \n",
       "1  sobat_tahmina  2023-03-10  \n",
       "2  sobat_tahmina  2023-03-10  \n",
       "3  sobat_tahmina  2023-03-10  \n",
       "4  sobat_tahmina  2023-03-10  "
      ]
     },
     "execution_count": 32,
     "metadata": {},
     "output_type": "execute_result"
    }
   ],
   "source": [
    "# convert the list of tweets to pandas DataFrame\n",
    "df = pd.DataFrame({\n",
    "    'text': [tweet.full_text for tweet in all_tweets],\n",
    "    'name': [tweet.user.screen_name for tweet in all_tweets],\n",
    "    'created_at': [tweet.created_at for tweet in all_tweets],\n",
    "})\n",
    "df['created_at'] = pd.to_datetime(df['created_at'], errors='coerce').dt.date.astype(str)\n",
    "\n",
    "df.head()"
   ]
  },
  {
   "cell_type": "code",
   "execution_count": 33,
   "metadata": {},
   "outputs": [
    {
     "data": {
      "text/plain": [
       "(29, 3)"
      ]
     },
     "execution_count": 33,
     "metadata": {},
     "output_type": "execute_result"
    }
   ],
   "source": [
    "df.shape"
   ]
  },
  {
   "cell_type": "markdown",
   "metadata": {},
   "source": [
    "##### Remove everything before \":\""
   ]
  },
  {
   "cell_type": "code",
   "execution_count": 34,
   "metadata": {},
   "outputs": [],
   "source": [
    "# df['text'] = df['text'].astype(str)\n",
    "# df['text'] = df['text'].str.split(':').str[0].str.strip()"
   ]
  },
  {
   "cell_type": "code",
   "execution_count": 35,
   "metadata": {},
   "outputs": [],
   "source": [
    "pd.set_option('display.max_colwidth', None)"
   ]
  },
  {
   "cell_type": "code",
   "execution_count": 36,
   "metadata": {},
   "outputs": [
    {
     "data": {
      "text/html": [
       "<div>\n",
       "<style scoped>\n",
       "    .dataframe tbody tr th:only-of-type {\n",
       "        vertical-align: middle;\n",
       "    }\n",
       "\n",
       "    .dataframe tbody tr th {\n",
       "        vertical-align: top;\n",
       "    }\n",
       "\n",
       "    .dataframe thead th {\n",
       "        text-align: right;\n",
       "    }\n",
       "</style>\n",
       "<table border=\"1\" class=\"dataframe\">\n",
       "  <thead>\n",
       "    <tr style=\"text-align: right;\">\n",
       "      <th></th>\n",
       "      <th>text</th>\n",
       "      <th>name</th>\n",
       "      <th>created_at</th>\n",
       "    </tr>\n",
       "  </thead>\n",
       "  <tbody>\n",
       "    <tr>\n",
       "      <th>27</th>\n",
       "      <td>براستی که کور باوری و حرص قدرت از انسانها خطرناکترین موجودات روی زمین میسازد 🤮 https://t.co/Abh7cqPhCj</td>\n",
       "      <td>sobat_tahmina</td>\n",
       "      <td>2022-12-31</td>\n",
       "    </tr>\n",
       "    <tr>\n",
       "      <th>4</th>\n",
       "      <td>I’m joyful to share that these events were organized by my campuses including the @NotreDame @NDLaw, @MNSUMankato and @humanities, and the @UMNews of Minnesota (@GWSS department) and @Mizna_ArabArt.</td>\n",
       "      <td>sobat_tahmina</td>\n",
       "      <td>2023-03-10</td>\n",
       "    </tr>\n",
       "    <tr>\n",
       "      <th>25</th>\n",
       "      <td>Does anyone working in the area of women, peace, and security have a direct email address from @Peace_Women (WILPF)?  I’m applying to one of their fellowships but their website isn’t allowing me to submit my application since Dec 31, 22!</td>\n",
       "      <td>sobat_tahmina</td>\n",
       "      <td>2023-01-02</td>\n",
       "    </tr>\n",
       "    <tr>\n",
       "      <th>24</th>\n",
       "      <td>@Peace_Women This is great, thank you so much for your help in this matter! Happy new year!</td>\n",
       "      <td>sobat_tahmina</td>\n",
       "      <td>2023-01-03</td>\n",
       "    </tr>\n",
       "    <tr>\n",
       "      <th>11</th>\n",
       "      <td>Join us for a discussion on possibilities of transnational solidarity and care for #WomenLifeFreedom https://t.co/Wiezh8kUxK</td>\n",
       "      <td>sobat_tahmina</td>\n",
       "      <td>2023-02-28</td>\n",
       "    </tr>\n",
       "  </tbody>\n",
       "</table>\n",
       "</div>"
      ],
      "text/plain": [
       "                                                                                                                                                                                                                                             text   \n",
       "27                                                                                                                                         براستی که کور باوری و حرص قدرت از انسانها خطرناکترین موجودات روی زمین میسازد 🤮 https://t.co/Abh7cqPhCj  \\\n",
       "4                                          I’m joyful to share that these events were organized by my campuses including the @NotreDame @NDLaw, @MNSUMankato and @humanities, and the @UMNews of Minnesota (@GWSS department) and @Mizna_ArabArt.   \n",
       "25  Does anyone working in the area of women, peace, and security have a direct email address from @Peace_Women (WILPF)?  I’m applying to one of their fellowships but their website isn’t allowing me to submit my application since Dec 31, 22!   \n",
       "24                                                                                                                                                    @Peace_Women This is great, thank you so much for your help in this matter! Happy new year!   \n",
       "11                                                                                                                   Join us for a discussion on possibilities of transnational solidarity and care for #WomenLifeFreedom https://t.co/Wiezh8kUxK   \n",
       "\n",
       "             name  created_at  \n",
       "27  sobat_tahmina  2022-12-31  \n",
       "4   sobat_tahmina  2023-03-10  \n",
       "25  sobat_tahmina  2023-01-02  \n",
       "24  sobat_tahmina  2023-01-03  \n",
       "11  sobat_tahmina  2023-02-28  "
      ]
     },
     "execution_count": 36,
     "metadata": {},
     "output_type": "execute_result"
    }
   ],
   "source": [
    "df.sample(5)"
   ]
  },
  {
   "cell_type": "code",
   "execution_count": 37,
   "metadata": {},
   "outputs": [],
   "source": [
    "import re\n",
    "\n",
    "def remove_emoji(text):\n",
    "    \"\"\"Remove emojis from a text string.\"\"\"\n",
    "    emoji_pattern = re.compile(\"[\"\n",
    "                               u\"\\U0001F600-\\U0001F64F\"  # emoticons\n",
    "                               u\"\\U0001F300-\\U0001F5FF\"  # symbols & pictographs\n",
    "                               u\"\\U0001F680-\\U0001F6FF\"  # transport & map symbols\n",
    "                               u\"\\U0001F1E0-\\U0001F1FF\"  # flags (iOS)\n",
    "                               u\"\\U00002702-\\U000027B0\"\n",
    "                               u\"\\U000024C2-\\U0001F251\"\n",
    "                               \"]+\", flags=re.UNICODE)\n",
    "    text = emoji_pattern.sub(r'', text)\n",
    "    text = text.replace('\\n', ' ')\n",
    "    return emoji_pattern.sub(r'', text)\n",
    "\n",
    "\n",
    "df['text'] = df['text'].str.strip()# remove spaces\n",
    "# Example usage\n",
    "df['text'] =df['text'].apply(remove_emoji)"
   ]
  },
  {
   "cell_type": "code",
   "execution_count": 38,
   "metadata": {},
   "outputs": [],
   "source": [
    "df.dropna(subset=['text'], inplace=True)\n",
    "df.drop_duplicates(subset=['text'], inplace=True)"
   ]
  },
  {
   "cell_type": "code",
   "execution_count": 39,
   "metadata": {},
   "outputs": [
    {
     "data": {
      "text/html": [
       "<div>\n",
       "<style scoped>\n",
       "    .dataframe tbody tr th:only-of-type {\n",
       "        vertical-align: middle;\n",
       "    }\n",
       "\n",
       "    .dataframe tbody tr th {\n",
       "        vertical-align: top;\n",
       "    }\n",
       "\n",
       "    .dataframe thead th {\n",
       "        text-align: right;\n",
       "    }\n",
       "</style>\n",
       "<table border=\"1\" class=\"dataframe\">\n",
       "  <thead>\n",
       "    <tr style=\"text-align: right;\">\n",
       "      <th></th>\n",
       "      <th>text</th>\n",
       "      <th>name</th>\n",
       "      <th>created_at</th>\n",
       "    </tr>\n",
       "  </thead>\n",
       "  <tbody>\n",
       "    <tr>\n",
       "      <th>19</th>\n",
       "      <td>This is hope…! Keep sharing the petition! https://t.co/skeC2wSOs7.  #AllorNone #LetHerLearn #letafgangirlslearn https://t.co/96QdTt6oYl</td>\n",
       "      <td>sobat_tahmina</td>\n",
       "      <td>2023-01-19</td>\n",
       "    </tr>\n",
       "    <tr>\n",
       "      <th>20</th>\n",
       "      <td>Please support Afghan women by signing this petition: I stand with Afghan Women: #AllorNone #LetHerLearn  https://t.co/QcJetiCjWP</td>\n",
       "      <td>sobat_tahmina</td>\n",
       "      <td>2023-01-13</td>\n",
       "    </tr>\n",
       "    <tr>\n",
       "      <th>21</th>\n",
       "      <td>#AllorNone #letherlearn   https://t.co/08u7iXrswy</td>\n",
       "      <td>sobat_tahmina</td>\n",
       "      <td>2023-01-11</td>\n",
       "    </tr>\n",
       "    <tr>\n",
       "      <th>22</th>\n",
       "      <td>@BBCYaldaHakim @YaldaHakimFund Yalda jan! We, as a group of Afghan scholars abroad have written a statement &amp;amp; a petition regarding the recent bans in Afghanistan. We shared it to almost all the prominent human rights organizations and academic institutions. We want to share it with you. How can we contact you?</td>\n",
       "      <td>sobat_tahmina</td>\n",
       "      <td>2023-01-10</td>\n",
       "    </tr>\n",
       "    <tr>\n",
       "      <th>23</th>\n",
       "      <td>Call for Afghan scholars and students abroad! Please show your support by signing the statement by completing the form below:  https://t.co/CRNFTtowK0</td>\n",
       "      <td>sobat_tahmina</td>\n",
       "      <td>2023-01-04</td>\n",
       "    </tr>\n",
       "    <tr>\n",
       "      <th>24</th>\n",
       "      <td>@Peace_Women This is great, thank you so much for your help in this matter! Happy new year!</td>\n",
       "      <td>sobat_tahmina</td>\n",
       "      <td>2023-01-03</td>\n",
       "    </tr>\n",
       "    <tr>\n",
       "      <th>25</th>\n",
       "      <td>Does anyone working in the area of women, peace, and security have a direct email address from @Peace_Women (WILPF)?  I’m applying to one of their fellowships but their website isn’t allowing me to submit my application since Dec 31, 22!</td>\n",
       "      <td>sobat_tahmina</td>\n",
       "      <td>2023-01-02</td>\n",
       "    </tr>\n",
       "    <tr>\n",
       "      <th>26</th>\n",
       "      <td>@Peace_Women Hello, I can’t access the idealist platform to submit my application. The platform is showing that the fellowship has been unpublished Could you please guide me how I can apply? As the deadline is tomorrow, January 2nd, is there any alternative application routes?</td>\n",
       "      <td>sobat_tahmina</td>\n",
       "      <td>2023-01-01</td>\n",
       "    </tr>\n",
       "    <tr>\n",
       "      <th>27</th>\n",
       "      <td>براستی که کور باوری و حرص قدرت از انسانها خطرناکترین موجودات روی زمین میسازد 🤮 https://t.co/Abh7cqPhCj</td>\n",
       "      <td>sobat_tahmina</td>\n",
       "      <td>2022-12-31</td>\n",
       "    </tr>\n",
       "    <tr>\n",
       "      <th>28</th>\n",
       "      <td>#AllOrNone #LetHerLearn  #LetAfganGirlsLearn https://t.co/uuQIW9A4v3</td>\n",
       "      <td>sobat_tahmina</td>\n",
       "      <td>2022-12-30</td>\n",
       "    </tr>\n",
       "  </tbody>\n",
       "</table>\n",
       "</div>"
      ],
      "text/plain": [
       "                                                                                                                                                                                                                                                                                                                           text   \n",
       "19                                                                                                                                                                                      This is hope…! Keep sharing the petition! https://t.co/skeC2wSOs7.  #AllorNone #LetHerLearn #letafgangirlslearn https://t.co/96QdTt6oYl  \\\n",
       "20                                                                                                                                                                                            Please support Afghan women by signing this petition: I stand with Afghan Women: #AllorNone #LetHerLearn  https://t.co/QcJetiCjWP   \n",
       "21                                                                                                                                                                                                                                                                            #AllorNone #letherlearn   https://t.co/08u7iXrswy   \n",
       "22  @BBCYaldaHakim @YaldaHakimFund Yalda jan! We, as a group of Afghan scholars abroad have written a statement &amp; a petition regarding the recent bans in Afghanistan. We shared it to almost all the prominent human rights organizations and academic institutions. We want to share it with you. How can we contact you?   \n",
       "23                                                                                                                                                                       Call for Afghan scholars and students abroad! Please show your support by signing the statement by completing the form below:  https://t.co/CRNFTtowK0   \n",
       "24                                                                                                                                                                                                                                  @Peace_Women This is great, thank you so much for your help in this matter! Happy new year!   \n",
       "25                                                                                Does anyone working in the area of women, peace, and security have a direct email address from @Peace_Women (WILPF)?  I’m applying to one of their fellowships but their website isn’t allowing me to submit my application since Dec 31, 22!   \n",
       "26                                        @Peace_Women Hello, I can’t access the idealist platform to submit my application. The platform is showing that the fellowship has been unpublished Could you please guide me how I can apply? As the deadline is tomorrow, January 2nd, is there any alternative application routes?   \n",
       "27                                                                                                                                                                                                                       براستی که کور باوری و حرص قدرت از انسانها خطرناکترین موجودات روی زمین میسازد 🤮 https://t.co/Abh7cqPhCj   \n",
       "28                                                                                                                                                                                                                                                         #AllOrNone #LetHerLearn  #LetAfganGirlsLearn https://t.co/uuQIW9A4v3   \n",
       "\n",
       "             name  created_at  \n",
       "19  sobat_tahmina  2023-01-19  \n",
       "20  sobat_tahmina  2023-01-13  \n",
       "21  sobat_tahmina  2023-01-11  \n",
       "22  sobat_tahmina  2023-01-10  \n",
       "23  sobat_tahmina  2023-01-04  \n",
       "24  sobat_tahmina  2023-01-03  \n",
       "25  sobat_tahmina  2023-01-02  \n",
       "26  sobat_tahmina  2023-01-01  \n",
       "27  sobat_tahmina  2022-12-31  \n",
       "28  sobat_tahmina  2022-12-30  "
      ]
     },
     "execution_count": 39,
     "metadata": {},
     "output_type": "execute_result"
    }
   ],
   "source": [
    "df.tail(10)"
   ]
  },
  {
   "cell_type": "markdown",
   "metadata": {},
   "source": [
    "##### Add Gender and Ethnic"
   ]
  },
  {
   "cell_type": "code",
   "execution_count": 40,
   "metadata": {},
   "outputs": [],
   "source": [
    "if 'gender' not in df.columns:\n",
    "    df['gender'] = ''\n",
    "if 'ethnic' not in df.columns:\n",
    "    df['ethnic'] = ''"
   ]
  },
  {
   "cell_type": "code",
   "execution_count": 41,
   "metadata": {},
   "outputs": [],
   "source": [
    "df.loc[df['gender'] == '', 'gender'] = 'female'\n",
    "df.loc[df['ethnic'] == '', 'ethnic'] = 'tajik'"
   ]
  },
  {
   "cell_type": "code",
   "execution_count": 42,
   "metadata": {},
   "outputs": [
    {
     "data": {
      "text/html": [
       "<div>\n",
       "<style scoped>\n",
       "    .dataframe tbody tr th:only-of-type {\n",
       "        vertical-align: middle;\n",
       "    }\n",
       "\n",
       "    .dataframe tbody tr th {\n",
       "        vertical-align: top;\n",
       "    }\n",
       "\n",
       "    .dataframe thead th {\n",
       "        text-align: right;\n",
       "    }\n",
       "</style>\n",
       "<table border=\"1\" class=\"dataframe\">\n",
       "  <thead>\n",
       "    <tr style=\"text-align: right;\">\n",
       "      <th></th>\n",
       "      <th>text</th>\n",
       "      <th>name</th>\n",
       "      <th>created_at</th>\n",
       "      <th>gender</th>\n",
       "      <th>ethnic</th>\n",
       "    </tr>\n",
       "  </thead>\n",
       "  <tbody>\n",
       "    <tr>\n",
       "      <th>0</th>\n",
       "      <td>Please read a short article about the recent event titled (Protecting All Women’s Rights in the Developing World) at the University of Notre Dame- Notre Dame Law School.   https://t.co/tivWVZQ323  Thanks Denise Wager for putting this together</td>\n",
       "      <td>sobat_tahmina</td>\n",
       "      <td>2023-03-10</td>\n",
       "      <td>female</td>\n",
       "      <td>tajik</td>\n",
       "    </tr>\n",
       "    <tr>\n",
       "      <th>1</th>\n",
       "      <td>Thank you all, I hope we can continue uplifting the voices of women who are redefining the maps of resilience and resistance in Afghanistan and Iran!  #afghanistancrisis  #afghanwomen  #AllorNone #humanrights  #womanlifefreedom https://t.co/bSpO4VLg23</td>\n",
       "      <td>sobat_tahmina</td>\n",
       "      <td>2023-03-10</td>\n",
       "      <td>female</td>\n",
       "      <td>tajik</td>\n",
       "    </tr>\n",
       "    <tr>\n",
       "      <th>2</th>\n",
       "      <td>I want to express my appreciation to @DrDesierto, Dr.Sima Shakhsari, Dr.@yaldahamidi, @Lana Salah Barkawi, @Karen Sieber, @CoreyKChina, @SamimRoqia, JEAN MARC BRISSAU, Elizabeth Steinborn and everyone involved in organizing these events and inviting me to be part of them!</td>\n",
       "      <td>sobat_tahmina</td>\n",
       "      <td>2023-03-10</td>\n",
       "      <td>female</td>\n",
       "      <td>tajik</td>\n",
       "    </tr>\n",
       "    <tr>\n",
       "      <th>3</th>\n",
       "      <td>So proud to be an alumnus and/or student of these institutions that care about providing space for nuanced conversations on important topics such as the right and resistance of Afghan and Iranian women.</td>\n",
       "      <td>sobat_tahmina</td>\n",
       "      <td>2023-03-10</td>\n",
       "      <td>female</td>\n",
       "      <td>tajik</td>\n",
       "    </tr>\n",
       "    <tr>\n",
       "      <th>4</th>\n",
       "      <td>I’m joyful to share that these events were organized by my campuses including the @NotreDame @NDLaw, @MNSUMankato and @humanities, and the @UMNews of Minnesota (@GWSS department) and @Mizna_ArabArt.</td>\n",
       "      <td>sobat_tahmina</td>\n",
       "      <td>2023-03-10</td>\n",
       "      <td>female</td>\n",
       "      <td>tajik</td>\n",
       "    </tr>\n",
       "  </tbody>\n",
       "</table>\n",
       "</div>"
      ],
      "text/plain": [
       "                                                                                                                                                                                                                                                                               text   \n",
       "0                               Please read a short article about the recent event titled (Protecting All Women’s Rights in the Developing World) at the University of Notre Dame- Notre Dame Law School.   https://t.co/tivWVZQ323  Thanks Denise Wager for putting this together   \\\n",
       "1                       Thank you all, I hope we can continue uplifting the voices of women who are redefining the maps of resilience and resistance in Afghanistan and Iran!  #afghanistancrisis  #afghanwomen  #AllorNone #humanrights  #womanlifefreedom https://t.co/bSpO4VLg23   \n",
       "2  I want to express my appreciation to @DrDesierto, Dr.Sima Shakhsari, Dr.@yaldahamidi, @Lana Salah Barkawi, @Karen Sieber, @CoreyKChina, @SamimRoqia, JEAN MARC BRISSAU, Elizabeth Steinborn and everyone involved in organizing these events and inviting me to be part of them!   \n",
       "3                                                                        So proud to be an alumnus and/or student of these institutions that care about providing space for nuanced conversations on important topics such as the right and resistance of Afghan and Iranian women.   \n",
       "4                                                                            I’m joyful to share that these events were organized by my campuses including the @NotreDame @NDLaw, @MNSUMankato and @humanities, and the @UMNews of Minnesota (@GWSS department) and @Mizna_ArabArt.   \n",
       "\n",
       "            name  created_at  gender ethnic  \n",
       "0  sobat_tahmina  2023-03-10  female  tajik  \n",
       "1  sobat_tahmina  2023-03-10  female  tajik  \n",
       "2  sobat_tahmina  2023-03-10  female  tajik  \n",
       "3  sobat_tahmina  2023-03-10  female  tajik  \n",
       "4  sobat_tahmina  2023-03-10  female  tajik  "
      ]
     },
     "execution_count": 42,
     "metadata": {},
     "output_type": "execute_result"
    }
   ],
   "source": [
    "df.head(5)"
   ]
  },
  {
   "cell_type": "code",
   "execution_count": 43,
   "metadata": {},
   "outputs": [],
   "source": [
    "from deep_translator import GoogleTranslator \n",
    "from googletrans import Translator"
   ]
  },
  {
   "cell_type": "code",
   "execution_count": 44,
   "metadata": {},
   "outputs": [],
   "source": [
    "translator = Translator()\n",
    "df[\"text\"] = df[\"text\"].apply(lambda x: GoogleTranslator(source=\"auto\", target=\"en\").translate(x))\n"
   ]
  },
  {
   "cell_type": "code",
   "execution_count": 45,
   "metadata": {},
   "outputs": [
    {
     "data": {
      "text/html": [
       "<div>\n",
       "<style scoped>\n",
       "    .dataframe tbody tr th:only-of-type {\n",
       "        vertical-align: middle;\n",
       "    }\n",
       "\n",
       "    .dataframe tbody tr th {\n",
       "        vertical-align: top;\n",
       "    }\n",
       "\n",
       "    .dataframe thead th {\n",
       "        text-align: right;\n",
       "    }\n",
       "</style>\n",
       "<table border=\"1\" class=\"dataframe\">\n",
       "  <thead>\n",
       "    <tr style=\"text-align: right;\">\n",
       "      <th></th>\n",
       "      <th>text</th>\n",
       "      <th>name</th>\n",
       "      <th>created_at</th>\n",
       "      <th>gender</th>\n",
       "      <th>ethnic</th>\n",
       "    </tr>\n",
       "  </thead>\n",
       "  <tbody>\n",
       "    <tr>\n",
       "      <th>0</th>\n",
       "      <td>Please read a short article about the recent event titled (Protecting All Women’s Rights in the Developing World) at the University of Notre Dame- Notre Dame Law School.   https://t.co/tivWVZQ323  Thanks Denise Wager for putting this together</td>\n",
       "      <td>sobat_tahmina</td>\n",
       "      <td>2023-03-10</td>\n",
       "      <td>female</td>\n",
       "      <td>tajik</td>\n",
       "    </tr>\n",
       "    <tr>\n",
       "      <th>1</th>\n",
       "      <td>Thank you all, I hope we can continue uplifting the voices of women who are redefining the maps of resilience and resistance in Afghanistan and Iran!  #afghanistancrisis  #afghanwomen  #AllorNone #humanrights  #womanlifefreedom https://t.co/bSpO4VLg23</td>\n",
       "      <td>sobat_tahmina</td>\n",
       "      <td>2023-03-10</td>\n",
       "      <td>female</td>\n",
       "      <td>tajik</td>\n",
       "    </tr>\n",
       "    <tr>\n",
       "      <th>2</th>\n",
       "      <td>I want to express my appreciation to @DrDesierto, Dr.Sima Shakhsari, Dr.@yaldahamidi, @Lana Salah Barkawi, @Karen Sieber, @CoreyKChina, @SamimRoqia, JEAN MARC BRISSAU, Elizabeth Steinborn and everyone involved in organizing these events and inviting me to be part of them!</td>\n",
       "      <td>sobat_tahmina</td>\n",
       "      <td>2023-03-10</td>\n",
       "      <td>female</td>\n",
       "      <td>tajik</td>\n",
       "    </tr>\n",
       "    <tr>\n",
       "      <th>3</th>\n",
       "      <td>So proud to be an alumnus and/or student of these institutions that care about providing space for nuanced conversations on important topics such as the right and resistance of Afghan and Iranian women.</td>\n",
       "      <td>sobat_tahmina</td>\n",
       "      <td>2023-03-10</td>\n",
       "      <td>female</td>\n",
       "      <td>tajik</td>\n",
       "    </tr>\n",
       "    <tr>\n",
       "      <th>4</th>\n",
       "      <td>I’m joyful to share that these events were organized by my campuses including the @NotreDame @NDLaw, @MNSUMankato and @humanities, and the @UMNews of Minnesota (@GWSS department) and @Mizna_ArabArt.</td>\n",
       "      <td>sobat_tahmina</td>\n",
       "      <td>2023-03-10</td>\n",
       "      <td>female</td>\n",
       "      <td>tajik</td>\n",
       "    </tr>\n",
       "  </tbody>\n",
       "</table>\n",
       "</div>"
      ],
      "text/plain": [
       "                                                                                                                                                                                                                                                                               text   \n",
       "0                                Please read a short article about the recent event titled (Protecting All Women’s Rights in the Developing World) at the University of Notre Dame- Notre Dame Law School.   https://t.co/tivWVZQ323  Thanks Denise Wager for putting this together  \\\n",
       "1                       Thank you all, I hope we can continue uplifting the voices of women who are redefining the maps of resilience and resistance in Afghanistan and Iran!  #afghanistancrisis  #afghanwomen  #AllorNone #humanrights  #womanlifefreedom https://t.co/bSpO4VLg23   \n",
       "2  I want to express my appreciation to @DrDesierto, Dr.Sima Shakhsari, Dr.@yaldahamidi, @Lana Salah Barkawi, @Karen Sieber, @CoreyKChina, @SamimRoqia, JEAN MARC BRISSAU, Elizabeth Steinborn and everyone involved in organizing these events and inviting me to be part of them!   \n",
       "3                                                                        So proud to be an alumnus and/or student of these institutions that care about providing space for nuanced conversations on important topics such as the right and resistance of Afghan and Iranian women.   \n",
       "4                                                                            I’m joyful to share that these events were organized by my campuses including the @NotreDame @NDLaw, @MNSUMankato and @humanities, and the @UMNews of Minnesota (@GWSS department) and @Mizna_ArabArt.   \n",
       "\n",
       "            name  created_at  gender ethnic  \n",
       "0  sobat_tahmina  2023-03-10  female  tajik  \n",
       "1  sobat_tahmina  2023-03-10  female  tajik  \n",
       "2  sobat_tahmina  2023-03-10  female  tajik  \n",
       "3  sobat_tahmina  2023-03-10  female  tajik  \n",
       "4  sobat_tahmina  2023-03-10  female  tajik  "
      ]
     },
     "execution_count": 45,
     "metadata": {},
     "output_type": "execute_result"
    }
   ],
   "source": [
    "df.head()"
   ]
  },
  {
   "cell_type": "code",
   "execution_count": 46,
   "metadata": {},
   "outputs": [
    {
     "data": {
      "text/plain": [
       "(29, 5)"
      ]
     },
     "execution_count": 46,
     "metadata": {},
     "output_type": "execute_result"
    }
   ],
   "source": [
    "df.shape"
   ]
  },
  {
   "cell_type": "code",
   "execution_count": 47,
   "metadata": {},
   "outputs": [],
   "source": [
    "df.to_excel('../data/women_ordinary_people/sobat_tahmina.xlsx', index=False)\n"
   ]
  }
 ],
 "metadata": {
  "kernelspec": {
   "display_name": "Python 3 (ipykernel)",
   "language": "python",
   "name": "python3"
  },
  "language_info": {
   "codemirror_mode": {
    "name": "ipython",
    "version": 3
   },
   "file_extension": ".py",
   "mimetype": "text/x-python",
   "name": "python",
   "nbconvert_exporter": "python",
   "pygments_lexer": "ipython3",
   "version": "3.11.3"
  }
 },
 "nbformat": 4,
 "nbformat_minor": 2
}
