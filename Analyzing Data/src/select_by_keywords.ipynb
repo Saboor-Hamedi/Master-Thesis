{
 "cells": [
  {
   "cell_type": "code",
   "execution_count": 1,
   "metadata": {},
   "outputs": [],
   "source": [
    "import pandas as pd"
   ]
  },
  {
   "cell_type": "code",
   "execution_count": 24,
   "metadata": {},
   "outputs": [],
   "source": [
    "data = pd.read_excel('../data_processed/education.xlsx')"
   ]
  },
  {
   "cell_type": "code",
   "execution_count": 25,
   "metadata": {},
   "outputs": [],
   "source": [
    "keywords = ['education', 'educate', 'educational', 'school', 'university', 'women']\n",
    "data_keywords = pd.DataFrame(columns=data.columns)\n",
    "data.dropna()"
   ]
  },
  {
   "cell_type": "code",
   "execution_count": 26,
   "metadata": {},
   "outputs": [
    {
     "data": {
      "text/html": [
       "<div>\n",
       "<style scoped>\n",
       "    .dataframe tbody tr th:only-of-type {\n",
       "        vertical-align: middle;\n",
       "    }\n",
       "\n",
       "    .dataframe tbody tr th {\n",
       "        vertical-align: top;\n",
       "    }\n",
       "\n",
       "    .dataframe thead th {\n",
       "        text-align: right;\n",
       "    }\n",
       "</style>\n",
       "<table border=\"1\" class=\"dataframe\">\n",
       "  <thead>\n",
       "    <tr style=\"text-align: right;\">\n",
       "      <th></th>\n",
       "      <th>text</th>\n",
       "      <th>name</th>\n",
       "      <th>created_at</th>\n",
       "      <th>gender</th>\n",
       "      <th>ethnic</th>\n",
       "    </tr>\n",
       "  </thead>\n",
       "  <tbody>\n",
       "    <tr>\n",
       "      <th>0</th>\n",
       "      <td>true education can only save afghanistan the l...</td>\n",
       "      <td>ahmadjavid</td>\n",
       "      <td>2017-06-11</td>\n",
       "      <td>male</td>\n",
       "      <td>pashtun</td>\n",
       "    </tr>\n",
       "    <tr>\n",
       "      <th>1</th>\n",
       "      <td>afghan education officials should be ashamed f...</td>\n",
       "      <td>ahmadjavid</td>\n",
       "      <td>2017-06-14</td>\n",
       "      <td>male</td>\n",
       "      <td>pashtun</td>\n",
       "    </tr>\n",
       "    <tr>\n",
       "      <th>2</th>\n",
       "      <td>first afghan woman nominated to serve in the s...</td>\n",
       "      <td>ahmadjavid</td>\n",
       "      <td>2016-02-02</td>\n",
       "      <td>male</td>\n",
       "      <td>pashtun</td>\n",
       "    </tr>\n",
       "    <tr>\n",
       "      <th>3</th>\n",
       "      <td>afghan women are hero untill now stands for th...</td>\n",
       "      <td>ahmadjavid</td>\n",
       "      <td>2017-04-04</td>\n",
       "      <td>male</td>\n",
       "      <td>pashtun</td>\n",
       "    </tr>\n",
       "    <tr>\n",
       "      <th>4</th>\n",
       "      <td>such beautiful video showing power of the litt...</td>\n",
       "      <td>ahmadjavid</td>\n",
       "      <td>2022-09-26</td>\n",
       "      <td>male</td>\n",
       "      <td>pashtun</td>\n",
       "    </tr>\n",
       "    <tr>\n",
       "      <th>...</th>\n",
       "      <td>...</td>\n",
       "      <td>...</td>\n",
       "      <td>...</td>\n",
       "      <td>...</td>\n",
       "      <td>...</td>\n",
       "    </tr>\n",
       "    <tr>\n",
       "      <th>132555</th>\n",
       "      <td>day spanish defense minister maria margarita r...</td>\n",
       "      <td>Ziayoulhaq Amarkhil</td>\n",
       "      <td>2019-04-24</td>\n",
       "      <td>male</td>\n",
       "      <td>pashtun</td>\n",
       "    </tr>\n",
       "    <tr>\n",
       "      <th>132556</th>\n",
       "      <td>afghanistan  government  never allow gender di...</td>\n",
       "      <td>Ziayoulhaq Amarkhil</td>\n",
       "      <td>2019-04-24</td>\n",
       "      <td>male</td>\n",
       "      <td>pashtun</td>\n",
       "    </tr>\n",
       "    <tr>\n",
       "      <th>132557</th>\n",
       "      <td>private schools are  viding good education for...</td>\n",
       "      <td>Ziayoulhaq Amarkhil</td>\n",
       "      <td>2019-04-23</td>\n",
       "      <td>male</td>\n",
       "      <td>pashtun</td>\n",
       "    </tr>\n",
       "    <tr>\n",
       "      <th>132558</th>\n",
       "      <td>parental demand people day additionally meetin...</td>\n",
       "      <td>Ziayoulhaq Amarkhil</td>\n",
       "      <td>2019-04-14</td>\n",
       "      <td>male</td>\n",
       "      <td>pashtun</td>\n",
       "    </tr>\n",
       "    <tr>\n",
       "      <th>132559</th>\n",
       "      <td>every individual day corresponds with the elev...</td>\n",
       "      <td>Ziayoulhaq Amarkhil</td>\n",
       "      <td>2019-04-13</td>\n",
       "      <td>male</td>\n",
       "      <td>pashtun</td>\n",
       "    </tr>\n",
       "  </tbody>\n",
       "</table>\n",
       "<p>132554 rows × 5 columns</p>\n",
       "</div>"
      ],
      "text/plain": [
       "                                                     text  \\\n",
       "0       true education can only save afghanistan the l...   \n",
       "1       afghan education officials should be ashamed f...   \n",
       "2       first afghan woman nominated to serve in the s...   \n",
       "3       afghan women are hero untill now stands for th...   \n",
       "4       such beautiful video showing power of the litt...   \n",
       "...                                                   ...   \n",
       "132555  day spanish defense minister maria margarita r...   \n",
       "132556  afghanistan  government  never allow gender di...   \n",
       "132557  private schools are  viding good education for...   \n",
       "132558  parental demand people day additionally meetin...   \n",
       "132559  every individual day corresponds with the elev...   \n",
       "\n",
       "                       name  created_at gender   ethnic  \n",
       "0                ahmadjavid  2017-06-11   male  pashtun  \n",
       "1                ahmadjavid  2017-06-14   male  pashtun  \n",
       "2                ahmadjavid  2016-02-02   male  pashtun  \n",
       "3                ahmadjavid  2017-04-04   male  pashtun  \n",
       "4                ahmadjavid  2022-09-26   male  pashtun  \n",
       "...                     ...         ...    ...      ...  \n",
       "132555  Ziayoulhaq Amarkhil  2019-04-24   male  pashtun  \n",
       "132556  Ziayoulhaq Amarkhil  2019-04-24   male  pashtun  \n",
       "132557  Ziayoulhaq Amarkhil  2019-04-23   male  pashtun  \n",
       "132558  Ziayoulhaq Amarkhil  2019-04-14   male  pashtun  \n",
       "132559  Ziayoulhaq Amarkhil  2019-04-13   male  pashtun  \n",
       "\n",
       "[132554 rows x 5 columns]"
      ]
     },
     "execution_count": 26,
     "metadata": {},
     "output_type": "execute_result"
    }
   ],
   "source": [
    "data_keywords = pd.DataFrame(columns=data.columns)\n",
    "data.dropna()"
   ]
  },
  {
   "cell_type": "code",
   "execution_count": 27,
   "metadata": {},
   "outputs": [
    {
     "data": {
      "text/plain": [
       "(132620, 5)"
      ]
     },
     "execution_count": 27,
     "metadata": {},
     "output_type": "execute_result"
    }
   ],
   "source": [
    "data.shape"
   ]
  },
  {
   "cell_type": "code",
   "execution_count": 28,
   "metadata": {},
   "outputs": [],
   "source": [
    "for keyword in keywords:\n",
    "    data_keyword = data[data['text'].str.contains(keyword , na=False)]\n",
    "    data_keywords = pd.concat([data_keywords, data_keyword], ignore_index=True)"
   ]
  },
  {
   "cell_type": "code",
   "execution_count": 29,
   "metadata": {},
   "outputs": [
    {
     "data": {
      "text/html": [
       "<div>\n",
       "<style scoped>\n",
       "    .dataframe tbody tr th:only-of-type {\n",
       "        vertical-align: middle;\n",
       "    }\n",
       "\n",
       "    .dataframe tbody tr th {\n",
       "        vertical-align: top;\n",
       "    }\n",
       "\n",
       "    .dataframe thead th {\n",
       "        text-align: right;\n",
       "    }\n",
       "</style>\n",
       "<table border=\"1\" class=\"dataframe\">\n",
       "  <thead>\n",
       "    <tr style=\"text-align: right;\">\n",
       "      <th></th>\n",
       "      <th>text</th>\n",
       "      <th>name</th>\n",
       "      <th>created_at</th>\n",
       "      <th>gender</th>\n",
       "      <th>ethnic</th>\n",
       "    </tr>\n",
       "  </thead>\n",
       "  <tbody>\n",
       "    <tr>\n",
       "      <th>0</th>\n",
       "      <td>true education can only save afghanistan the l...</td>\n",
       "      <td>ahmadjavid</td>\n",
       "      <td>2017-06-11</td>\n",
       "      <td>male</td>\n",
       "      <td>pashtun</td>\n",
       "    </tr>\n",
       "    <tr>\n",
       "      <th>1</th>\n",
       "      <td>afghan education officials should be ashamed f...</td>\n",
       "      <td>ahmadjavid</td>\n",
       "      <td>2017-06-14</td>\n",
       "      <td>male</td>\n",
       "      <td>pashtun</td>\n",
       "    </tr>\n",
       "    <tr>\n",
       "      <th>2</th>\n",
       "      <td>first afghan woman nominated to serve in the s...</td>\n",
       "      <td>ahmadjavid</td>\n",
       "      <td>2016-02-02</td>\n",
       "      <td>male</td>\n",
       "      <td>pashtun</td>\n",
       "    </tr>\n",
       "    <tr>\n",
       "      <th>3</th>\n",
       "      <td>such beautiful video showing power of the litt...</td>\n",
       "      <td>ahmadjavid</td>\n",
       "      <td>2022-09-26</td>\n",
       "      <td>male</td>\n",
       "      <td>pashtun</td>\n",
       "    </tr>\n",
       "    <tr>\n",
       "      <th>4</th>\n",
       "      <td>no justice no value for women in lawless afgha...</td>\n",
       "      <td>ahmadjavid</td>\n",
       "      <td>2021-05-06</td>\n",
       "      <td>male</td>\n",
       "      <td>pashtun</td>\n",
       "    </tr>\n",
       "  </tbody>\n",
       "</table>\n",
       "</div>"
      ],
      "text/plain": [
       "                                                text        name  created_at  \\\n",
       "0  true education can only save afghanistan the l...  ahmadjavid  2017-06-11   \n",
       "1  afghan education officials should be ashamed f...  ahmadjavid  2017-06-14   \n",
       "2  first afghan woman nominated to serve in the s...  ahmadjavid  2016-02-02   \n",
       "3  such beautiful video showing power of the litt...  ahmadjavid  2022-09-26   \n",
       "4  no justice no value for women in lawless afgha...  ahmadjavid  2021-05-06   \n",
       "\n",
       "  gender   ethnic  \n",
       "0   male  pashtun  \n",
       "1   male  pashtun  \n",
       "2   male  pashtun  \n",
       "3   male  pashtun  \n",
       "4   male  pashtun  "
      ]
     },
     "execution_count": 29,
     "metadata": {},
     "output_type": "execute_result"
    }
   ],
   "source": [
    "data_keywords.head()"
   ]
  },
  {
   "cell_type": "code",
   "execution_count": 30,
   "metadata": {},
   "outputs": [
    {
     "data": {
      "text/plain": [
       "(132620, 5)"
      ]
     },
     "execution_count": 30,
     "metadata": {},
     "output_type": "execute_result"
    }
   ],
   "source": [
    "data.shape"
   ]
  },
  {
   "cell_type": "code",
   "execution_count": 31,
   "metadata": {},
   "outputs": [],
   "source": [
    "data_keywords.to_excel('../data_processed/only_education.xlsx', index=False)"
   ]
  }
 ],
 "metadata": {
  "kernelspec": {
   "display_name": "Python 3",
   "language": "python",
   "name": "python3"
  },
  "language_info": {
   "codemirror_mode": {
    "name": "ipython",
    "version": 3
   },
   "file_extension": ".py",
   "mimetype": "text/x-python",
   "name": "python",
   "nbconvert_exporter": "python",
   "pygments_lexer": "ipython3",
   "version": "3.10.10"
  },
  "orig_nbformat": 4
 },
 "nbformat": 4,
 "nbformat_minor": 2
}
