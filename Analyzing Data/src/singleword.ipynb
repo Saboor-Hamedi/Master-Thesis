{
 "cells": [
  {
   "cell_type": "code",
   "execution_count": 63,
   "metadata": {},
   "outputs": [],
   "source": [
    "import pandas as pd"
   ]
  },
  {
   "cell_type": "code",
   "execution_count": 161,
   "metadata": {},
   "outputs": [],
   "source": [
    "df = pd.read_excel('../data_processed/education.xlsx')"
   ]
  },
  {
   "cell_type": "code",
   "execution_count": 162,
   "metadata": {},
   "outputs": [
    {
     "data": {
      "text/plain": [
       "(321358, 6)"
      ]
     },
     "execution_count": 162,
     "metadata": {},
     "output_type": "execute_result"
    }
   ],
   "source": [
    "df.shape"
   ]
  },
  {
   "cell_type": "code",
   "execution_count": 171,
   "metadata": {},
   "outputs": [
    {
     "data": {
      "text/plain": [
       "0         enemy taliban friend women liberty freedom edu...\n",
       "1         precisely taliban afraid literate women litera...\n",
       "2         since taliban took power issued thirty six edi...\n",
       "3         afghan government taliban leadership know deal...\n",
       "4         happened women common anywhere world school op...\n",
       "                                ...                        \n",
       "321353    said remember names fought tell weapon fight b...\n",
       "321354    amrullahsaleh kind conscience defend ashraf gh...\n",
       "321355          yaqubyasna saleh know anything called shame\n",
       "321356    taliban built museum kabul kept types explosiv...\n",
       "321357    today turkey allowing city vandan afghanistan ...\n",
       "Name: text, Length: 321358, dtype: object"
      ]
     },
     "execution_count": 171,
     "metadata": {},
     "output_type": "execute_result"
    }
   ],
   "source": [
    "\n",
    "# def drop_rows_short_words(df, column, min_word_length=1):\n",
    "#     df = df[~df[column].apply(lambda x: isinstance(x, str) and any(len(word) < min_word_length for word in x.split()))]\n",
    "#     return df\n",
    "# # Call the function with your DataFrame and column name\n",
    "# df = drop_rows_short_words(df, 'text', min_word_length=1)\n",
    "\n"
   ]
  },
  {
   "cell_type": "code",
   "execution_count": 173,
   "metadata": {},
   "outputs": [
    {
     "data": {
      "text/plain": [
       "(321358, 6)"
      ]
     },
     "execution_count": 173,
     "metadata": {},
     "output_type": "execute_result"
    }
   ],
   "source": [
    "df.shape"
   ]
  },
  {
   "cell_type": "code",
   "execution_count": 125,
   "metadata": {},
   "outputs": [
    {
     "data": {
      "text/html": [
       "<div>\n",
       "<style scoped>\n",
       "    .dataframe tbody tr th:only-of-type {\n",
       "        vertical-align: middle;\n",
       "    }\n",
       "\n",
       "    .dataframe tbody tr th {\n",
       "        vertical-align: top;\n",
       "    }\n",
       "\n",
       "    .dataframe thead th {\n",
       "        text-align: right;\n",
       "    }\n",
       "</style>\n",
       "<table border=\"1\" class=\"dataframe\">\n",
       "  <thead>\n",
       "    <tr style=\"text-align: right;\">\n",
       "      <th></th>\n",
       "      <th>text</th>\n",
       "      <th>name</th>\n",
       "      <th>created_at</th>\n",
       "      <th>gender</th>\n",
       "      <th>ethnic</th>\n",
       "      <th>label</th>\n",
       "    </tr>\n",
       "  </thead>\n",
       "  <tbody>\n",
       "    <tr>\n",
       "      <th>41421</th>\n",
       "      <td>name god abhors disturbance peace two thousand...</td>\n",
       "      <td>Shaista Sadat Lameh</td>\n",
       "      <td>2020-06-22 00:00:00</td>\n",
       "      <td>female</td>\n",
       "      <td>pashtun</td>\n",
       "      <td>1</td>\n",
       "    </tr>\n",
       "    <tr>\n",
       "      <th>217222</th>\n",
       "      <td>ministry disaster management says floods kille...</td>\n",
       "      <td>NajmaZala</td>\n",
       "      <td>2019-04-29</td>\n",
       "      <td>female</td>\n",
       "      <td>pashtun</td>\n",
       "      <td>1</td>\n",
       "    </tr>\n",
       "    <tr>\n",
       "      <th>302896</th>\n",
       "      <td>caravan helmandi peace seekers gather today fr...</td>\n",
       "      <td>sharifamiry1</td>\n",
       "      <td>2018-08-12 090451</td>\n",
       "      <td>male</td>\n",
       "      <td>tajik</td>\n",
       "      <td>1</td>\n",
       "    </tr>\n",
       "    <tr>\n",
       "      <th>313939</th>\n",
       "      <td>literature people suppoers taliban extremely c...</td>\n",
       "      <td>thedaoudnaji</td>\n",
       "      <td>2021-04-16</td>\n",
       "      <td>male</td>\n",
       "      <td>pashtun</td>\n",
       "      <td>1</td>\n",
       "    </tr>\n",
       "    <tr>\n",
       "      <th>285634</th>\n",
       "      <td>agreed establish institutional mechanisms econ...</td>\n",
       "      <td>JananMosazai</td>\n",
       "      <td>2015-09-15 102017</td>\n",
       "      <td>male</td>\n",
       "      <td>pashtun</td>\n",
       "      <td>1</td>\n",
       "    </tr>\n",
       "    <tr>\n",
       "      <th>70403</th>\n",
       "      <td>tajudensoroush stoptajikgenocide stop</td>\n",
       "      <td>AmiriMarooo</td>\n",
       "      <td>2022-10-19</td>\n",
       "      <td>female</td>\n",
       "      <td>tajik</td>\n",
       "      <td>0</td>\n",
       "    </tr>\n",
       "    <tr>\n",
       "      <th>128443</th>\n",
       "      <td>taliban take districts source income provide s...</td>\n",
       "      <td>SuhrabSirat</td>\n",
       "      <td>2021-07-04</td>\n",
       "      <td>male</td>\n",
       "      <td>tajik</td>\n",
       "      <td>0</td>\n",
       "    </tr>\n",
       "    <tr>\n",
       "      <th>277568</th>\n",
       "      <td>men represent women gathering national unity s...</td>\n",
       "      <td>BBCYaldaHakim</td>\n",
       "      <td>2022-07-09 180717</td>\n",
       "      <td>female</td>\n",
       "      <td>tajik</td>\n",
       "      <td>1</td>\n",
       "    </tr>\n",
       "    <tr>\n",
       "      <th>73074</th>\n",
       "      <td>massoudiyem never wear symbol slavery head reb...</td>\n",
       "      <td>assia_jasoor</td>\n",
       "      <td>2022-10-11</td>\n",
       "      <td>male</td>\n",
       "      <td>tajik</td>\n",
       "      <td>0</td>\n",
       "    </tr>\n",
       "    <tr>\n",
       "      <th>14163</th>\n",
       "      <td>acknowledge tweet letter email received regard...</td>\n",
       "      <td>Rana Azad</td>\n",
       "      <td>2022-10-16 00:00:00</td>\n",
       "      <td>male</td>\n",
       "      <td>pashtun</td>\n",
       "      <td>1</td>\n",
       "    </tr>\n",
       "  </tbody>\n",
       "</table>\n",
       "</div>"
      ],
      "text/plain": [
       "                                                     text  \\\n",
       "41421   name god abhors disturbance peace two thousand...   \n",
       "217222  ministry disaster management says floods kille...   \n",
       "302896  caravan helmandi peace seekers gather today fr...   \n",
       "313939  literature people suppoers taliban extremely c...   \n",
       "285634  agreed establish institutional mechanisms econ...   \n",
       "70403               tajudensoroush stoptajikgenocide stop   \n",
       "128443  taliban take districts source income provide s...   \n",
       "277568  men represent women gathering national unity s...   \n",
       "73074   massoudiyem never wear symbol slavery head reb...   \n",
       "14163   acknowledge tweet letter email received regard...   \n",
       "\n",
       "                       name           created_at  gender   ethnic  label  \n",
       "41421   Shaista Sadat Lameh  2020-06-22 00:00:00  female  pashtun      1  \n",
       "217222            NajmaZala           2019-04-29  female  pashtun      1  \n",
       "302896         sharifamiry1    2018-08-12 090451    male    tajik      1  \n",
       "313939         thedaoudnaji           2021-04-16    male  pashtun      1  \n",
       "285634         JananMosazai    2015-09-15 102017    male  pashtun      1  \n",
       "70403           AmiriMarooo           2022-10-19  female    tajik      0  \n",
       "128443          SuhrabSirat           2021-07-04    male    tajik      0  \n",
       "277568        BBCYaldaHakim    2022-07-09 180717  female    tajik      1  \n",
       "73074          assia_jasoor           2022-10-11    male    tajik      0  \n",
       "14163             Rana Azad  2022-10-16 00:00:00    male  pashtun      1  "
      ]
     },
     "execution_count": 125,
     "metadata": {},
     "output_type": "execute_result"
    }
   ],
   "source": [
    "df.sample(10)"
   ]
  },
  {
   "cell_type": "code",
   "execution_count": 126,
   "metadata": {},
   "outputs": [],
   "source": [
    "df.dropna(inplace=True)\n",
    "df.dropna(axis=1, inplace=True)\n"
   ]
  },
  {
   "cell_type": "code",
   "execution_count": 127,
   "metadata": {},
   "outputs": [
    {
     "name": "stdout",
     "output_type": "stream",
     "text": [
      "0\n"
     ]
    }
   ],
   "source": [
    "print(df.duplicated().sum())\n"
   ]
  },
  {
   "cell_type": "code",
   "execution_count": 128,
   "metadata": {},
   "outputs": [],
   "source": [
    "df.drop_duplicates(inplace=True)\n"
   ]
  },
  {
   "cell_type": "code",
   "execution_count": 129,
   "metadata": {},
   "outputs": [
    {
     "data": {
      "text/plain": [
       "(321378, 6)"
      ]
     },
     "execution_count": 129,
     "metadata": {},
     "output_type": "execute_result"
    }
   ],
   "source": [
    "df.shape"
   ]
  },
  {
   "cell_type": "code",
   "execution_count": 160,
   "metadata": {},
   "outputs": [],
   "source": [
    "df.to_excel('../data_processed/education11.xlsx', index=False)"
   ]
  }
 ],
 "metadata": {
  "kernelspec": {
   "display_name": "Python 3",
   "language": "python",
   "name": "python3"
  },
  "language_info": {
   "codemirror_mode": {
    "name": "ipython",
    "version": 3
   },
   "file_extension": ".py",
   "mimetype": "text/x-python",
   "name": "python",
   "nbconvert_exporter": "python",
   "pygments_lexer": "ipython3",
   "version": "3.11.2"
  },
  "orig_nbformat": 4
 },
 "nbformat": 4,
 "nbformat_minor": 2
}
