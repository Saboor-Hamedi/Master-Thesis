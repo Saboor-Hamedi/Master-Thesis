{
 "cells": [
  {
   "cell_type": "code",
   "execution_count": 1,
   "metadata": {},
   "outputs": [],
   "source": [
    "import statsmodels.api as sm\n",
    "import numpy as np\n",
    "import pandas as pd\n"
   ]
  },
  {
   "cell_type": "code",
   "execution_count": 2,
   "metadata": {},
   "outputs": [],
   "source": [
    "df = pd.read_excel('../data_processed/men_women_activists.xlsx')"
   ]
  },
  {
   "cell_type": "code",
   "execution_count": 3,
   "metadata": {},
   "outputs": [
    {
     "name": "stdout",
     "output_type": "stream",
     "text": [
      "Optimization terminated successfully.\n",
      "         Current function value: 0.666068\n",
      "         Iterations 4\n",
      "                           Logit Regression Results                           \n",
      "==============================================================================\n",
      "Dep. Variable:                  label   No. Observations:                52246\n",
      "Model:                          Logit   Df Residuals:                    52244\n",
      "Method:                           MLE   Df Model:                            1\n",
      "Date:                Sun, 14 May 2023   Pseudo R-squ.:               0.0002533\n",
      "Time:                        20:54:08   Log-Likelihood:                -34799.\n",
      "converged:                       True   LL-Null:                       -34808.\n",
      "Covariance Type:            nonrobust   LLR p-value:                 2.681e-05\n",
      "==============================================================================\n",
      "                 coef    std err          z      P>|z|      [0.025      0.975]\n",
      "------------------------------------------------------------------------------\n",
      "const         -0.4438      0.011    -40.418      0.000      -0.465      -0.422\n",
      "sex           -0.0803      0.019     -4.194      0.000      -0.118      -0.043\n",
      "==============================================================================\n"
     ]
    }
   ],
   "source": [
    "\n",
    "df.loc[df['gender'] == 'female', 'sex'] = 0\n",
    "df.loc[df['gender'] == 'male', 'sex'] = 1\n",
    "\n",
    "X = df[['sex']]  \n",
    "y = df['label']  \n",
    "# Add a constant term to the predictor variables\n",
    "X = sm.add_constant(X)\n",
    "# Fit the logistic regression model\n",
    "model = sm.Logit(y, X).fit()\n",
    "# Print the summary\n",
    "print(model.summary())"
   ]
  },
  {
   "cell_type": "code",
   "execution_count": 31,
   "metadata": {},
   "outputs": [
    {
     "data": {
      "image/png": "[encoded data removed]",
      "text/plain": [
       "<Figure size 640x480 with 1 Axes>"
      ]
     },
     "metadata": {},
     "output_type": "display_data"
    }
   ],
   "source": [
    "import matplotlib.pyplot as plt\n",
    "import numpy as np\n",
    "\n",
    "# Create a DataFrame with the coefficients and their confidence intervals\n",
    "data = {\n",
    "    'Coefficient': [-0.4438, -0.0803],\n",
    "    'Std Error': [0.011, 0.019],\n",
    "    'Lower CI': [-0.465, -0.118],\n",
    "    'Upper CI': [-0.422, -0.043]\n",
    "}\n",
    "\n",
    "df_coeff = pd.DataFrame(data, index=['Constant', 'sex'])\n",
    "\n",
    "# Calculate the error lengths for plotting\n",
    "error_lengths = np.abs(df_coeff[['Lower CI', 'Upper CI']].values.T - df_coeff['Coefficient'].values)\n",
    "\n",
    "# Plot the coefficients and their confidence intervals\n",
    "fig, ax = plt.subplots()\n",
    "ax.errorbar(df_coeff['Coefficient'], df_coeff.index, xerr=error_lengths, fmt='o', capsize=5)\n",
    "ax.set_xlabel('Coefficient')\n",
    "ax.set_title('Logistic Regression Coefficients')\n",
    "plt.show()\n"
   ]
  }
 ],
 "metadata": {
  "kernelspec": {
   "display_name": "Python 3",
   "language": "python",
   "name": "python3"
  },
  "language_info": {
   "codemirror_mode": {
    "name": "ipython",
    "version": 3
   },
   "file_extension": ".py",
   "mimetype": "text/x-python",
   "name": "python",
   "nbconvert_exporter": "python",
   "pygments_lexer": "ipython3",
   "version": "3.11.3"
  },
  "orig_nbformat": 4
 },
 "nbformat": 4,
 "nbformat_minor": 2
}
