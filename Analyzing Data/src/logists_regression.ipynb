{
 "cells": [
  {
   "cell_type": "code",
   "execution_count": 1,
   "metadata": {},
   "outputs": [],
   "source": [
    "import statsmodels.api as sm\n",
    "import numpy as np\n",
    "import pandas as pd\n"
   ]
  },
  {
   "cell_type": "code",
   "execution_count": 30,
   "metadata": {},
   "outputs": [],
   "source": [
    "df = pd.read_excel('../data/male_female_merged.xlsx')"
   ]
  },
  {
   "cell_type": "code",
   "execution_count": 31,
   "metadata": {},
   "outputs": [],
   "source": [
    "# import pandas as pd\n",
    "# import statsmodels.api as sm\n",
    "# from sklearn.linear_model import LogisticRegression\n",
    "\n",
    "# # Update the 'gender' column to 1 for male and 0 for female\n",
    "# df['gender'] = df['gender'].map({'male': 1, 'female': 0})\n",
    "\n",
    "# # Filter the dataset for the specified keywords\n",
    "# keywords = ['education', 'school', 'university', 'women', 'girl']\n",
    "# df_filtered = df[df['text'].str.contains('|'.join(keywords))]\n",
    "\n",
    "# # Assign the predictor variable (X) and the target variable (y)\n",
    "# X = df_filtered[['gender']]\n",
    "# y = df_filtered['sentiment']\n",
    "\n",
    "# # Add a constant term to the predictor variables\n",
    "# X = sm.add_constant(X)\n",
    "\n",
    "# # Create and fit the logistic regression model\n",
    "# model = sm.MNLogit(y, X)\n",
    "# model_fit = model.fit()\n",
    "\n",
    "# # Print the summary\n",
    "# print(model_fit.summary())\n"
   ]
  },
  {
   "cell_type": "code",
   "execution_count": 32,
   "metadata": {},
   "outputs": [
    {
     "name": "stdout",
     "output_type": "stream",
     "text": [
      "Optimization terminated successfully.\n",
      "         Current function value: 0.666075\n",
      "         Iterations 4\n",
      "                           Logit Regression Results                           \n",
      "==============================================================================\n",
      "Dep. Variable:                  label   No. Observations:                51916\n",
      "Model:                          Logit   Df Residuals:                    51914\n",
      "Method:                           MLE   Df Model:                            1\n",
      "Date:                Fri, 19 May 2023   Pseudo R-squ.:               0.0002553\n",
      "Time:                        00:26:46   Log-Likelihood:                -34580.\n",
      "converged:                       True   LL-Null:                       -34589.\n",
      "Covariance Type:            nonrobust   LLR p-value:                 2.638e-05\n",
      "==============================================================================\n",
      "                 coef    std err          z      P>|z|      [0.025      0.975]\n",
      "------------------------------------------------------------------------------\n",
      "const         -0.4439      0.011    -40.423      0.000      -0.465      -0.422\n",
      "sex           -0.0809      0.019     -4.198      0.000      -0.119      -0.043\n",
      "==============================================================================\n"
     ]
    }
   ],
   "source": [
    "\n",
    "df.loc[df['gender'] == 'female', 'sex'] = 0\n",
    "df.loc[df['gender'] == 'male', 'sex'] = 1\n",
    "\n",
    "X = df[['sex']]  \n",
    "y = df['label']  \n",
    "# Add a constant term to the predictor variables\n",
    "X = sm.add_constant(X)\n",
    "# Fit the logistic regression model\n",
    "model = sm.Logit(y, X).fit()\n",
    "# Print the summary\n",
    "print(model.summary())"
   ]
  },
  {
   "cell_type": "code",
   "execution_count": 8,
   "metadata": {},
   "outputs": [
    {
     "data": {
      "image/png": "[encoded data removed]",
      "text/plain": [
       "<Figure size 640x480 with 1 Axes>"
      ]
     },
     "metadata": {},
     "output_type": "display_data"
    }
   ],
   "source": [
    "import matplotlib.pyplot as plt\n",
    "\n",
    "# Separate the data points by gender\n",
    "female_data = df.loc[df['gender'] == 'female']\n",
    "male_data = df.loc[df['gender'] == 'male']\n",
    "\n",
    "# Plot the actual data points\n",
    "plt.scatter(female_data['sex'], female_data['label'], color='red', label='Female')\n",
    "plt.scatter(male_data['sex'], male_data['label'], color='blue', label='Male')\n",
    "\n",
    "# Plot the logistic regression curve\n",
    "x_range = np.linspace(df['sex'].min(), df['sex'].max(), 100)\n",
    "x_range = sm.add_constant(x_range)\n",
    "y_pred = model.predict(x_range)\n",
    "plt.plot(x_range[:, 1], y_pred, color='green', label='Logistic Regression')\n",
    "\n",
    "# Set plot labels and title\n",
    "plt.xlabel('Sex')\n",
    "plt.ylabel('Label')\n",
    "plt.title('Logistic Regression Results')\n",
    "\n",
    "# Add a legend\n",
    "plt.legend()\n",
    "\n",
    "# Display the plot\n",
    "plt.show()\n"
   ]
  }
 ],
 "metadata": {
  "kernelspec": {
   "display_name": "Python 3",
   "language": "python",
   "name": "python3"
  },
  "language_info": {
   "codemirror_mode": {
    "name": "ipython",
    "version": 3
   },
   "file_extension": ".py",
   "mimetype": "text/x-python",
   "name": "python",
   "nbconvert_exporter": "python",
   "pygments_lexer": "ipython3",
   "version": "3.11.3"
  },
  "orig_nbformat": 4
 },
 "nbformat": 4,
 "nbformat_minor": 2
}
