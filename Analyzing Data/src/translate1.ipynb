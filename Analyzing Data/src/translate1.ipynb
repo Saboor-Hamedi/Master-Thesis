{
 "cells": [
  {
   "cell_type": "code",
   "execution_count": 45,
   "metadata": {},
   "outputs": [],
   "source": [
    "import pandas as pd\n",
    "import re\n",
    "from googletrans import Translator\n",
    "# ===================================================\n",
    "df = pd.read_excel(\"../data/zall_qomandan_man_tajik.xlsx\")"
   ]
  },
  {
   "cell_type": "code",
   "execution_count": 46,
   "metadata": {},
   "outputs": [],
   "source": [
    "df.drop([\"Tweet Id\", \"Screen Name\", \"Created At\", \"Favorites\", \"Retweets\", \"Language\",\"Client\",\n",
    "       \"Tweet Type\", \"URLs\", \"Hashtags\", \"Mentions\", \"Media Type\",\"Media URLs\"], axis=1, inplace = True)"
   ]
  },
  {
   "cell_type": "code",
   "execution_count": 47,
   "metadata": {},
   "outputs": [],
   "source": [
    "df.rename(columns={'UTC': 'created_at'},inplace=True, errors='raise')"
   ]
  },
  {
   "cell_type": "code",
   "execution_count": 48,
   "metadata": {},
   "outputs": [],
   "source": [
    "df = df[['Text', 'Name', 'created_at']]"
   ]
  },
  {
   "cell_type": "code",
   "execution_count": 49,
   "metadata": {},
   "outputs": [],
   "source": [
    "df['created_at'] = pd.to_datetime(df['created_at']).dt.date # separate date from timezone"
   ]
  },
  {
   "cell_type": "code",
   "execution_count": 50,
   "metadata": {},
   "outputs": [],
   "source": [
    "def remove_usernames_links(tweet):\n",
    "    tweet = re.sub(\"@[^\\s]+\",\"\",str(tweet))\n",
    "    tweet = re.sub(\"http[^\\s]+\",\"\",str(tweet))\n",
    "    return tweet\n",
    "df[\"Text\"] = df[\"Text\"].apply(remove_usernames_links)"
   ]
  },
  {
   "cell_type": "code",
   "execution_count": 51,
   "metadata": {},
   "outputs": [],
   "source": [
    "import time\n",
    "translator = Translator()\n",
    "# define function to translate text to English\n",
    "def translate_to_english(text):\n",
    "    try:\n",
    "        translation = translator.translate(text, dest='en')\n",
    "        time.sleep(1)  # pause for 1 second to avoid rate limiting\n",
    "        return translation.text\n",
    "    except:\n",
    "        return ''\n",
    "# apply translation function to tweets column\n",
    "df['Text'] = df['Text'].apply(translate_to_english)\n",
    "if 'gender' not in df.columns:\n",
    "    df['gender'] = ''\n",
    "if 'ethnic' not in df.columns:\n",
    "    df['ethnic'] = ''\n",
    "mask = (df['gender'] == '') & (df['ethnic'] == '')\n",
    "df['gender'] = 'male' \n",
    "df['ethnic'] = 'tajik'\n",
    "df.columns = df.columns.str.lower()\n",
    "df.to_excel(\"../data_processed/zall_qomandan_man_tajik.xlsx\", index=False)"
   ]
  }
 ],
 "metadata": {
  "kernelspec": {
   "display_name": "Python 3",
   "language": "python",
   "name": "python3"
  },
  "language_info": {
   "codemirror_mode": {
    "name": "ipython",
    "version": 3
   },
   "file_extension": ".py",
   "mimetype": "text/x-python",
   "name": "python",
   "nbconvert_exporter": "python",
   "pygments_lexer": "ipython3",
   "version": "3.10.10"
  },
  "orig_nbformat": 4
 },
 "nbformat": 4,
 "nbformat_minor": 2
}
