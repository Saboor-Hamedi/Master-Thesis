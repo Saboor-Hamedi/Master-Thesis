{
 "cells": [
  {
   "attachments": {},
   "cell_type": "markdown",
   "metadata": {},
   "source": [
    "##### Libraries"
   ]
  },
  {
   "cell_type": "code",
   "execution_count": 2,
   "metadata": {},
   "outputs": [],
   "source": [
    "import pandas as pd\n",
    "from textblob import TextBlob\n",
    "import matplotlib.pyplot as plt\n",
    "import matplotlib.patches as mpatches\n",
    "import numpy as np\n",
    "from scipy.stats import chi2_contingency\n",
    "from nltk.sentiment import SentimentIntensityAnalyzer\n",
    "sid = SentimentIntensityAnalyzer()"
   ]
  },
  {
   "attachments": {},
   "cell_type": "markdown",
   "metadata": {},
   "source": [
    "##### Load Data"
   ]
  },
  {
   "cell_type": "code",
   "execution_count": 3,
   "metadata": {},
   "outputs": [],
   "source": [
    "df = pd.read_excel('../data_processed/activist_people_taliban_tweets.xlsx')"
   ]
  },
  {
   "attachments": {},
   "cell_type": "markdown",
   "metadata": {},
   "source": [
    "##### Label Data Base on Keywords"
   ]
  },
  {
   "cell_type": "code",
   "execution_count": 4,
   "metadata": {},
   "outputs": [],
   "source": [
    "def label_tweets(text):\n",
    "    keywords = ['education', 'school', 'university', 'women', 'girl']\n",
    "    for keyword in keywords:\n",
    "        if keyword in text.lower():\n",
    "            return 1\n",
    "    return 0\n",
    "df = df.copy()\n",
    "df['label'] = df['text'].apply(label_tweets)"
   ]
  },
  {
   "attachments": {},
   "cell_type": "markdown",
   "metadata": {},
   "source": [
    "##### Sentiment Analysis"
   ]
  },
  {
   "cell_type": "code",
   "execution_count": 5,
   "metadata": {},
   "outputs": [],
   "source": [
    "x = df['text']\n",
    "sentiment_labels = []\n",
    "sentiment_scores = []\n",
    "for tweet in x:\n",
    "    # Create a TextBlob object\n",
    "    blob = TextBlob(tweet)\n",
    "    # Get the sentiment polarity (-1 to 1)\n",
    "    polarity = blob.sentiment.polarity\n",
    "    if polarity > 0:\n",
    "        sentiment = 'positive'\n",
    "    elif polarity < 0:\n",
    "        sentiment = 'negative'\n",
    "    else:\n",
    "        sentiment = 'neutral'\n",
    "    \n",
    "    sentiment_labels.append(sentiment)\n",
    "    sentiment_scores.append(polarity)\n",
    "# Add the sentiment labels and scores as new columns in the DataFrame\n",
    "df['sentiment'] = sentiment_labels\n",
    "df['sentiment_score'] = sentiment_scores"
   ]
  },
  {
   "cell_type": "code",
   "execution_count": 6,
   "metadata": {},
   "outputs": [
    {
     "data": {
      "text/html": [
       "<div>\n",
       "<style scoped>\n",
       "    .dataframe tbody tr th:only-of-type {\n",
       "        vertical-align: middle;\n",
       "    }\n",
       "\n",
       "    .dataframe tbody tr th {\n",
       "        vertical-align: top;\n",
       "    }\n",
       "\n",
       "    .dataframe thead th {\n",
       "        text-align: right;\n",
       "    }\n",
       "</style>\n",
       "<table border=\"1\" class=\"dataframe\">\n",
       "  <thead>\n",
       "    <tr style=\"text-align: right;\">\n",
       "      <th></th>\n",
       "      <th>negative %</th>\n",
       "      <th>neutral %</th>\n",
       "      <th>positive %</th>\n",
       "    </tr>\n",
       "    <tr>\n",
       "      <th>group</th>\n",
       "      <th></th>\n",
       "      <th></th>\n",
       "      <th></th>\n",
       "    </tr>\n",
       "  </thead>\n",
       "  <tbody>\n",
       "    <tr>\n",
       "      <th>activist</th>\n",
       "      <td>22.282148</td>\n",
       "      <td>41.823330</td>\n",
       "      <td>35.894522</td>\n",
       "    </tr>\n",
       "    <tr>\n",
       "      <th>people</th>\n",
       "      <td>21.721719</td>\n",
       "      <td>41.114488</td>\n",
       "      <td>37.163793</td>\n",
       "    </tr>\n",
       "    <tr>\n",
       "      <th>tablian</th>\n",
       "      <td>21.329472</td>\n",
       "      <td>33.904173</td>\n",
       "      <td>44.766355</td>\n",
       "    </tr>\n",
       "  </tbody>\n",
       "</table>\n",
       "</div>"
      ],
      "text/plain": [
       "          negative %  neutral %  positive %\n",
       "group                                      \n",
       "activist   22.282148  41.823330   35.894522\n",
       "people     21.721719  41.114488   37.163793\n",
       "tablian    21.329472  33.904173   44.766355"
      ]
     },
     "execution_count": 6,
     "metadata": {},
     "output_type": "execute_result"
    }
   ],
   "source": [
    "# Add the sentiment labels and scores as new columns in the DataFrame\n",
    "df['sentiment'] = sentiment_labels\n",
    "df['sentiment_score'] = sentiment_scores\n",
    "# Calculate sentiment counts for each gender and sentiment category\n",
    "sentiment_counts = df.groupby(['group', 'sentiment']).size().unstack()\n",
    "# Calculate sentiment percentages for each gender\n",
    "sentiment_percentages = sentiment_counts.div(sentiment_counts.sum(axis=1), axis=0) * 100\n",
    "# Add the sentiment percentages to the DataFrame\n",
    "df_sentiment_percentage = pd.DataFrame(sentiment_percentages)\n",
    "df_sentiment_percentage.columns = [f'{col} %' for col in df_sentiment_percentage.columns]\n",
    "# Display the DataFrame\n",
    "df_sentiment_percentage.head()\n"
   ]
  },
  {
   "cell_type": "code",
   "execution_count": 7,
   "metadata": {},
   "outputs": [
    {
     "data": {
      "text/html": [
       "<div>\n",
       "<style scoped>\n",
       "    .dataframe tbody tr th:only-of-type {\n",
       "        vertical-align: middle;\n",
       "    }\n",
       "\n",
       "    .dataframe tbody tr th {\n",
       "        vertical-align: top;\n",
       "    }\n",
       "\n",
       "    .dataframe thead th {\n",
       "        text-align: right;\n",
       "    }\n",
       "</style>\n",
       "<table border=\"1\" class=\"dataframe\">\n",
       "  <thead>\n",
       "    <tr style=\"text-align: right;\">\n",
       "      <th></th>\n",
       "      <th>text</th>\n",
       "      <th>name</th>\n",
       "      <th>created_at</th>\n",
       "      <th>group</th>\n",
       "      <th>label</th>\n",
       "      <th>sentiment</th>\n",
       "      <th>sentiment_score</th>\n",
       "    </tr>\n",
       "  </thead>\n",
       "  <tbody>\n",
       "    <tr>\n",
       "      <th>114933</th>\n",
       "      <td>secrets war documentary translated iman youtub...</td>\n",
       "      <td>BaryaalOmar</td>\n",
       "      <td>2022-11-22 00:00:00</td>\n",
       "      <td>tablian</td>\n",
       "      <td>0</td>\n",
       "      <td>positive</td>\n",
       "      <td>0.166667</td>\n",
       "    </tr>\n",
       "    <tr>\n",
       "      <th>131942</th>\n",
       "      <td>nights view pulekhushbakhti pulesukhta known p...</td>\n",
       "      <td>Hedayatullah111</td>\n",
       "      <td>2023-02-21 00:00:00</td>\n",
       "      <td>tablian</td>\n",
       "      <td>0</td>\n",
       "      <td>negative</td>\n",
       "      <td>-1.000000</td>\n",
       "    </tr>\n",
       "    <tr>\n",
       "      <th>177335</th>\n",
       "      <td>mariam tjk unfortunately always fought alone</td>\n",
       "      <td>AmiriMarooo</td>\n",
       "      <td>2022-09-22</td>\n",
       "      <td>people</td>\n",
       "      <td>0</td>\n",
       "      <td>negative</td>\n",
       "      <td>-0.500000</td>\n",
       "    </tr>\n",
       "    <tr>\n",
       "      <th>186638</th>\n",
       "      <td>waw ngo steal money woman afghanistan spend am...</td>\n",
       "      <td>Afgwomanright</td>\n",
       "      <td>2022-05-22</td>\n",
       "      <td>people</td>\n",
       "      <td>0</td>\n",
       "      <td>neutral</td>\n",
       "      <td>0.000000</td>\n",
       "    </tr>\n",
       "    <tr>\n",
       "      <th>72392</th>\n",
       "      <td>vernosi landaghars hit knife turkey hes fine</td>\n",
       "      <td>BOSSKUNDUZI</td>\n",
       "      <td>2023-02-06 00:00:00</td>\n",
       "      <td>people</td>\n",
       "      <td>0</td>\n",
       "      <td>positive</td>\n",
       "      <td>0.416667</td>\n",
       "    </tr>\n",
       "  </tbody>\n",
       "</table>\n",
       "</div>"
      ],
      "text/plain": [
       "                                                     text             name  \\\n",
       "114933  secrets war documentary translated iman youtub...      BaryaalOmar   \n",
       "131942  nights view pulekhushbakhti pulesukhta known p...  Hedayatullah111   \n",
       "177335       mariam tjk unfortunately always fought alone      AmiriMarooo   \n",
       "186638  waw ngo steal money woman afghanistan spend am...    Afgwomanright   \n",
       "72392        vernosi landaghars hit knife turkey hes fine      BOSSKUNDUZI   \n",
       "\n",
       "                 created_at    group  label sentiment  sentiment_score  \n",
       "114933  2022-11-22 00:00:00  tablian      0  positive         0.166667  \n",
       "131942  2023-02-21 00:00:00  tablian      0  negative        -1.000000  \n",
       "177335           2022-09-22   people      0  negative        -0.500000  \n",
       "186638           2022-05-22   people      0   neutral         0.000000  \n",
       "72392   2023-02-06 00:00:00   people      0  positive         0.416667  "
      ]
     },
     "execution_count": 7,
     "metadata": {},
     "output_type": "execute_result"
    }
   ],
   "source": [
    "df.sample(5)"
   ]
  },
  {
   "cell_type": "code",
   "execution_count": 8,
   "metadata": {},
   "outputs": [
    {
     "data": {
      "text/html": [
       "<div>\n",
       "<style scoped>\n",
       "    .dataframe tbody tr th:only-of-type {\n",
       "        vertical-align: middle;\n",
       "    }\n",
       "\n",
       "    .dataframe tbody tr th {\n",
       "        vertical-align: top;\n",
       "    }\n",
       "\n",
       "    .dataframe thead th {\n",
       "        text-align: right;\n",
       "    }\n",
       "</style>\n",
       "<table border=\"1\" class=\"dataframe\">\n",
       "  <thead>\n",
       "    <tr style=\"text-align: right;\">\n",
       "      <th></th>\n",
       "      <th>Activist</th>\n",
       "      <th>Taliban</th>\n",
       "      <th>People</th>\n",
       "    </tr>\n",
       "    <tr>\n",
       "      <th>sentiment</th>\n",
       "      <th></th>\n",
       "      <th></th>\n",
       "      <th></th>\n",
       "    </tr>\n",
       "  </thead>\n",
       "  <tbody>\n",
       "    <tr>\n",
       "      <th>neutral</th>\n",
       "      <td>21713</td>\n",
       "      <td>25757</td>\n",
       "      <td>43428</td>\n",
       "    </tr>\n",
       "    <tr>\n",
       "      <th>positive</th>\n",
       "      <td>18635</td>\n",
       "      <td>34009</td>\n",
       "      <td>39255</td>\n",
       "    </tr>\n",
       "    <tr>\n",
       "      <th>negative</th>\n",
       "      <td>11568</td>\n",
       "      <td>16204</td>\n",
       "      <td>22944</td>\n",
       "    </tr>\n",
       "  </tbody>\n",
       "</table>\n",
       "</div>"
      ],
      "text/plain": [
       "           Activist  Taliban  People\n",
       "sentiment                           \n",
       "neutral       21713    25757   43428\n",
       "positive      18635    34009   39255\n",
       "negative      11568    16204   22944"
      ]
     },
     "execution_count": 8,
     "metadata": {},
     "output_type": "execute_result"
    }
   ],
   "source": [
    "# Add the sentiment labels as a new column in the DataFrame\n",
    "df['sentiment'] = sentiment_labels\n",
    "\n",
    "# Filter the DataFrame for each group and count the sentiment labels\n",
    "group_sentiment_counts = df[df['group'] == 'activist']['sentiment'].value_counts().to_frame('Activist').join(\n",
    "    df[df['group'] == 'tablian']['sentiment'].value_counts().to_frame('Taliban')).join(\n",
    "    df[df['group'] == 'people']['sentiment'].value_counts().to_frame('People'))\n",
    "\n",
    "# Display the counts of positive, negative, and neutral tweets for each group\n",
    "group_sentiment_counts.head()\n"
   ]
  },
  {
   "attachments": {},
   "cell_type": "markdown",
   "metadata": {},
   "source": [
    "##### Sentiment Distribution for Entire Dataset"
   ]
  },
  {
   "cell_type": "code",
   "execution_count": 9,
   "metadata": {},
   "outputs": [
    {
     "data": {
      "image/png": "[encoded data removed]",
      "text/plain": [
       "<Figure size 640x480 with 1 Axes>"
      ]
     },
     "metadata": {},
     "output_type": "display_data"
    }
   ],
   "source": [
    "# Calculate sentiment counts for different groups\n",
    "group_sentiment_counts = df['group'].value_counts()\n",
    "group_sentiment_percentages = (group_sentiment_counts / group_sentiment_counts.sum()) * 100\n",
    "# Get all unique sentiment categories\n",
    "sentiment_categories = sorted(df['sentiment'].unique())\n",
    "# Set the width of each bar (adjust as desired)\n",
    "bar_width = 0.15\n",
    "spacing = 0.1\n",
    "# Calculate the x positions for the bars\n",
    "group_x = np.arange(len(sentiment_categories))\n",
    "# Set the y-axis label\n",
    "plt.ylabel('Percentage')\n",
    "# Plot the sentiment percentages for groups\n",
    "colors = ['blue', 'orange', 'green']  # Add more colors if needed\n",
    "for i, group in enumerate(group_sentiment_counts.index):\n",
    "    group_sentiment_percentages = (df[df['group'] == group]['sentiment'].value_counts() / group_sentiment_counts[group]) * 100\n",
    "    plt.bar(group_x + (i * (bar_width + spacing)), group_sentiment_percentages, width=bar_width, color=colors[i], label=group)\n",
    "# Set the title at the top\n",
    "plt.title('Sentiment Distribution by Group')\n",
    "# Add labels for sentiment categories\n",
    "plt.xticks(group_x + (len(group_sentiment_counts.index) - 1) * (bar_width + spacing) / 2, sentiment_categories)\n",
    "# Add color patches and labels for groups below the bars\n",
    "group_patches = [mpatches.Patch(color=colors[i], label=group) for i, group in enumerate(group_sentiment_counts.index)]\n",
    "plt.legend(handles=group_patches, loc='upper center', bbox_to_anchor=(0.5, -0.1), ncol=len(group_sentiment_counts.index))\n",
    "# Add grid\n",
    "plt.grid(True, linestyle='--', linewidth=0.5, alpha=0.5)\n",
    "# Add percentage labels on top of each bar with smaller font size\n",
    "for i, group in enumerate(group_sentiment_counts.index):\n",
    "    group_sentiment_percentages = (df[df['group'] == group]['sentiment'].value_counts() / group_sentiment_counts[group]) * 100\n",
    "    for x, percentage in enumerate(group_sentiment_percentages):\n",
    "        plt.text(group_x[x] + (i * (bar_width + spacing)), percentage + 0.5, f'{percentage:.1f}%', ha='center', va='bottom', color='black', fontsize=6)\n",
    "# Adjust the layout to provide space for the percentage labels\n",
    "plt.tight_layout()\n",
    "# Show the plot\n",
    "plt.show()\n"
   ]
  },
  {
   "attachments": {},
   "cell_type": "markdown",
   "metadata": {},
   "source": [
    "##### Calculate the total count of positive, negative, and neutral sentiments for each group"
   ]
  },
  {
   "cell_type": "code",
   "execution_count": 10,
   "metadata": {},
   "outputs": [
    {
     "data": {
      "text/html": [
       "<div>\n",
       "<style scoped>\n",
       "    .dataframe tbody tr th:only-of-type {\n",
       "        vertical-align: middle;\n",
       "    }\n",
       "\n",
       "    .dataframe tbody tr th {\n",
       "        vertical-align: top;\n",
       "    }\n",
       "\n",
       "    .dataframe thead th {\n",
       "        text-align: right;\n",
       "    }\n",
       "</style>\n",
       "<table border=\"1\" class=\"dataframe\">\n",
       "  <thead>\n",
       "    <tr style=\"text-align: right;\">\n",
       "      <th></th>\n",
       "      <th>Group</th>\n",
       "      <th>Positive (%)</th>\n",
       "      <th>Negative (%)</th>\n",
       "      <th>Neutral (%)</th>\n",
       "    </tr>\n",
       "    <tr>\n",
       "      <th>group</th>\n",
       "      <th></th>\n",
       "      <th></th>\n",
       "      <th></th>\n",
       "      <th></th>\n",
       "    </tr>\n",
       "  </thead>\n",
       "  <tbody>\n",
       "    <tr>\n",
       "      <th>activist</th>\n",
       "      <td>activist</td>\n",
       "      <td>35.894522</td>\n",
       "      <td>22.282148</td>\n",
       "      <td>41.823330</td>\n",
       "    </tr>\n",
       "    <tr>\n",
       "      <th>people</th>\n",
       "      <td>people</td>\n",
       "      <td>37.163793</td>\n",
       "      <td>21.721719</td>\n",
       "      <td>41.114488</td>\n",
       "    </tr>\n",
       "    <tr>\n",
       "      <th>tablian</th>\n",
       "      <td>tablian</td>\n",
       "      <td>44.766355</td>\n",
       "      <td>21.329472</td>\n",
       "      <td>33.904173</td>\n",
       "    </tr>\n",
       "  </tbody>\n",
       "</table>\n",
       "</div>"
      ],
      "text/plain": [
       "             Group  Positive (%)  Negative (%)  Neutral (%)\n",
       "group                                                      \n",
       "activist  activist     35.894522     22.282148    41.823330\n",
       "people      people     37.163793     21.721719    41.114488\n",
       "tablian    tablian     44.766355     21.329472    33.904173"
      ]
     },
     "execution_count": 10,
     "metadata": {},
     "output_type": "execute_result"
    }
   ],
   "source": [
    "\n",
    "group_sentiment_counts = df.groupby('group')['sentiment'].value_counts().unstack(fill_value=0)\n",
    "# Calculate the total count of each group\n",
    "group_counts = group_sentiment_counts.sum(axis=1)\n",
    "# Calculate the percentage of each sentiment category within each group\n",
    "group_sentiment_percentages = group_sentiment_counts.div(group_counts, axis=0) * 100\n",
    "\n",
    "# Create a new DataFrame to store the percentages\n",
    "percentages_df = pd.DataFrame({\n",
    "    'Group': group_sentiment_counts.index,\n",
    "    'Positive (%)': group_sentiment_percentages['positive'],\n",
    "    'Negative (%)': group_sentiment_percentages['negative'],\n",
    "    'Neutral (%)': group_sentiment_percentages['neutral']\n",
    "})\n",
    "\n",
    "# Print the percentages DataFrame\n",
    "percentages_df.head()\n"
   ]
  },
  {
   "attachments": {},
   "cell_type": "markdown",
   "metadata": {},
   "source": [
    "##### Calculate the total count of positive, negative, and neutral sentiments for each group\n"
   ]
  },
  {
   "cell_type": "code",
   "execution_count": 11,
   "metadata": {},
   "outputs": [
    {
     "data": {
      "text/html": [
       "<div>\n",
       "<style scoped>\n",
       "    .dataframe tbody tr th:only-of-type {\n",
       "        vertical-align: middle;\n",
       "    }\n",
       "\n",
       "    .dataframe tbody tr th {\n",
       "        vertical-align: top;\n",
       "    }\n",
       "\n",
       "    .dataframe thead th {\n",
       "        text-align: right;\n",
       "    }\n",
       "</style>\n",
       "<table border=\"1\" class=\"dataframe\">\n",
       "  <thead>\n",
       "    <tr style=\"text-align: right;\">\n",
       "      <th></th>\n",
       "      <th>Group</th>\n",
       "      <th>Positive</th>\n",
       "      <th>Negative</th>\n",
       "      <th>Neutral</th>\n",
       "      <th>Positive (%)</th>\n",
       "      <th>Negative (%)</th>\n",
       "      <th>Neutral (%)</th>\n",
       "    </tr>\n",
       "    <tr>\n",
       "      <th>group</th>\n",
       "      <th></th>\n",
       "      <th></th>\n",
       "      <th></th>\n",
       "      <th></th>\n",
       "      <th></th>\n",
       "      <th></th>\n",
       "      <th></th>\n",
       "    </tr>\n",
       "  </thead>\n",
       "  <tbody>\n",
       "    <tr>\n",
       "      <th>activist</th>\n",
       "      <td>activist</td>\n",
       "      <td>18635</td>\n",
       "      <td>11568</td>\n",
       "      <td>21713</td>\n",
       "      <td>35.894522</td>\n",
       "      <td>22.282148</td>\n",
       "      <td>41.823330</td>\n",
       "    </tr>\n",
       "    <tr>\n",
       "      <th>people</th>\n",
       "      <td>people</td>\n",
       "      <td>39255</td>\n",
       "      <td>22944</td>\n",
       "      <td>43428</td>\n",
       "      <td>37.163793</td>\n",
       "      <td>21.721719</td>\n",
       "      <td>41.114488</td>\n",
       "    </tr>\n",
       "    <tr>\n",
       "      <th>tablian</th>\n",
       "      <td>tablian</td>\n",
       "      <td>34009</td>\n",
       "      <td>16204</td>\n",
       "      <td>25757</td>\n",
       "      <td>44.766355</td>\n",
       "      <td>21.329472</td>\n",
       "      <td>33.904173</td>\n",
       "    </tr>\n",
       "  </tbody>\n",
       "</table>\n",
       "</div>"
      ],
      "text/plain": [
       "             Group  Positive  Negative  Neutral  Positive (%)  Negative (%)  \\\n",
       "group                                                                         \n",
       "activist  activist     18635     11568    21713     35.894522     22.282148   \n",
       "people      people     39255     22944    43428     37.163793     21.721719   \n",
       "tablian    tablian     34009     16204    25757     44.766355     21.329472   \n",
       "\n",
       "          Neutral (%)  \n",
       "group                  \n",
       "activist    41.823330  \n",
       "people      41.114488  \n",
       "tablian     33.904173  "
      ]
     },
     "execution_count": 11,
     "metadata": {},
     "output_type": "execute_result"
    }
   ],
   "source": [
    "group_sentiment_counts = df.groupby('group')['sentiment'].value_counts().unstack(fill_value=0)\n",
    "\n",
    "# Calculate the total count of each group\n",
    "group_counts = group_sentiment_counts.sum(axis=1)\n",
    "\n",
    "# Calculate the percentage of each sentiment category within each group\n",
    "group_sentiment_percentages = group_sentiment_counts.div(group_counts, axis=0) * 100\n",
    "\n",
    "# Create a new DataFrame to store the totals and percentages\n",
    "totals_df = pd.DataFrame({\n",
    "    'Group': group_sentiment_counts.index,\n",
    "    'Positive': group_sentiment_counts['positive'],\n",
    "    'Negative': group_sentiment_counts['negative'],\n",
    "    'Neutral': group_sentiment_counts['neutral'],\n",
    "    'Positive (%)': group_sentiment_percentages['positive'],\n",
    "    'Negative (%)': group_sentiment_percentages['negative'],\n",
    "    'Neutral (%)': group_sentiment_percentages['neutral']\n",
    "})\n",
    "\n",
    "# Print the totals DataFrame\n",
    "totals_df.head()\n"
   ]
  },
  {
   "attachments": {},
   "cell_type": "markdown",
   "metadata": {},
   "source": [
    "##### Group the data by 'group' and calculate the total count for each group\n"
   ]
  },
  {
   "cell_type": "code",
   "execution_count": 12,
   "metadata": {},
   "outputs": [
    {
     "data": {
      "image/png": "[encoded data removed]",
      "text/plain": [
       "<Figure size 1000x600 with 1 Axes>"
      ]
     },
     "metadata": {},
     "output_type": "display_data"
    }
   ],
   "source": [
    "group_counts = df.groupby('group')['label'].sum()\n",
    "\n",
    "# Get the unique group names in the data\n",
    "groups = group_counts.index.tolist()\n",
    "\n",
    "# Set up the figure and axes\n",
    "fig, ax = plt.subplots(figsize=(10, 6))\n",
    "\n",
    "# Plot the grouped bars\n",
    "ax.bar(groups, group_counts)\n",
    "\n",
    "# Add labels and title\n",
    "ax.set_xlabel('Groups')\n",
    "ax.set_ylabel('Count')\n",
    "ax.set_title('Counts for Different Groups')\n",
    "\n",
    "# Show the chart\n",
    "plt.show()\n",
    "\n",
    "# print(group_counts)"
   ]
  },
  {
   "attachments": {},
   "cell_type": "markdown",
   "metadata": {},
   "source": [
    "##### Average score for activists"
   ]
  },
  {
   "cell_type": "code",
   "execution_count": 13,
   "metadata": {},
   "outputs": [
    {
     "name": "stdout",
     "output_type": "stream",
     "text": [
      "Average Sentiment Score (Activist): 0.056625748949118516\n"
     ]
    }
   ],
   "source": [
    "# Filter the dataframe for the activist group and tweets related to women's education\n",
    "activist_women_edu_tweets = df[(df['group'] == 'activist') & (df['text'].str.contains('women education|girls education|gender equality in education', case=False))]\n",
    "# Calculate the average sentiment score for the activist group\n",
    "avg_sentiment_score_activist = activist_women_edu_tweets['sentiment_score'].mean()\n",
    "# Print the average sentiment score\n",
    "print(\"Average Sentiment Score (Activist):\", avg_sentiment_score_activist)\n"
   ]
  },
  {
   "attachments": {},
   "cell_type": "markdown",
   "metadata": {},
   "source": [
    "##### keywords = ['education', 'school', 'university', 'women', 'girl']"
   ]
  },
  {
   "attachments": {},
   "cell_type": "markdown",
   "metadata": {},
   "source": [
    "##### Activists"
   ]
  },
  {
   "cell_type": "code",
   "execution_count": 14,
   "metadata": {},
   "outputs": [
    {
     "data": {
      "text/html": [
       "<div>\n",
       "<style scoped>\n",
       "    .dataframe tbody tr th:only-of-type {\n",
       "        vertical-align: middle;\n",
       "    }\n",
       "\n",
       "    .dataframe tbody tr th {\n",
       "        vertical-align: top;\n",
       "    }\n",
       "\n",
       "    .dataframe thead th {\n",
       "        text-align: right;\n",
       "    }\n",
       "</style>\n",
       "<table border=\"1\" class=\"dataframe\">\n",
       "  <thead>\n",
       "    <tr style=\"text-align: right;\">\n",
       "      <th>sentiment</th>\n",
       "      <th>neutral</th>\n",
       "      <th>positive</th>\n",
       "      <th>negative</th>\n",
       "    </tr>\n",
       "  </thead>\n",
       "  <tbody>\n",
       "    <tr>\n",
       "      <th>women</th>\n",
       "      <td>44.416093</td>\n",
       "      <td>36.905673</td>\n",
       "      <td>18.678234</td>\n",
       "    </tr>\n",
       "    <tr>\n",
       "      <th>education</th>\n",
       "      <td>35.434549</td>\n",
       "      <td>46.405579</td>\n",
       "      <td>18.159871</td>\n",
       "    </tr>\n",
       "    <tr>\n",
       "      <th>school</th>\n",
       "      <td>42.669469</td>\n",
       "      <td>31.529164</td>\n",
       "      <td>25.801366</td>\n",
       "    </tr>\n",
       "    <tr>\n",
       "      <th>university</th>\n",
       "      <td>49.434389</td>\n",
       "      <td>32.522624</td>\n",
       "      <td>18.042986</td>\n",
       "    </tr>\n",
       "    <tr>\n",
       "      <th>girl</th>\n",
       "      <td>42.055817</td>\n",
       "      <td>35.134015</td>\n",
       "      <td>22.810169</td>\n",
       "    </tr>\n",
       "  </tbody>\n",
       "</table>\n",
       "</div>"
      ],
      "text/plain": [
       "sentiment     neutral   positive   negative\n",
       "women       44.416093  36.905673  18.678234\n",
       "education   35.434549  46.405579  18.159871\n",
       "school      42.669469  31.529164  25.801366\n",
       "university  49.434389  32.522624  18.042986\n",
       "girl        42.055817  35.134015  22.810169"
      ]
     },
     "execution_count": 14,
     "metadata": {},
     "output_type": "execute_result"
    }
   ],
   "source": [
    "# Create an empty list to store the sentiment distributions for the activist group\n",
    "activist_sentiment_data = []\n",
    "activists_group_keywords = ['women', 'education', 'school', 'university', 'girl']\n",
    "# Loop through each keyword and calculate the sentiment distribution for the activist group\n",
    "for keyword in activists_group_keywords:\n",
    "    # Filter the dataset for tweets containing the keyword and belonging to the activist group\n",
    "    keyword_tweets_activist = df[(df['text'].str.contains(keyword)) & (df['group'] == 'activist')].copy()\n",
    "\n",
    "    # Calculate the sentiment score for each tweet using SentimentIntensityAnalyzer\n",
    "    keyword_tweets_activist['sentiment_score'] = keyword_tweets_activist['text'].apply(lambda x: sid.polarity_scores(x)['compound'])\n",
    "\n",
    "    # Calculate the sentiment distribution for the activist group\n",
    "    sentiment_distribution_activist = keyword_tweets_activist['sentiment'].value_counts(normalize=True) * 100\n",
    "\n",
    "    # Append the sentiment distribution for the activist group to the activist_sentiment_data list\n",
    "    activist_sentiment_data.append(sentiment_distribution_activist)\n",
    "\n",
    "# Create a DataFrame for the sentiment distribution of the activist group\n",
    "activist_sentiment_df = pd.DataFrame(activist_sentiment_data, index=activists_group_keywords)\n",
    "activist_sentiment_df.head()"
   ]
  },
  {
   "attachments": {},
   "cell_type": "markdown",
   "metadata": {},
   "source": [
    "##### Taliban"
   ]
  },
  {
   "cell_type": "code",
   "execution_count": 15,
   "metadata": {},
   "outputs": [
    {
     "data": {
      "text/html": [
       "<div>\n",
       "<style scoped>\n",
       "    .dataframe tbody tr th:only-of-type {\n",
       "        vertical-align: middle;\n",
       "    }\n",
       "\n",
       "    .dataframe tbody tr th {\n",
       "        vertical-align: top;\n",
       "    }\n",
       "\n",
       "    .dataframe thead th {\n",
       "        text-align: right;\n",
       "    }\n",
       "</style>\n",
       "<table border=\"1\" class=\"dataframe\">\n",
       "  <thead>\n",
       "    <tr style=\"text-align: right;\">\n",
       "      <th></th>\n",
       "    </tr>\n",
       "  </thead>\n",
       "  <tbody>\n",
       "    <tr>\n",
       "      <th>women</th>\n",
       "    </tr>\n",
       "    <tr>\n",
       "      <th>education</th>\n",
       "    </tr>\n",
       "    <tr>\n",
       "      <th>school</th>\n",
       "    </tr>\n",
       "    <tr>\n",
       "      <th>university</th>\n",
       "    </tr>\n",
       "    <tr>\n",
       "      <th>girl</th>\n",
       "    </tr>\n",
       "  </tbody>\n",
       "</table>\n",
       "</div>"
      ],
      "text/plain": [
       "Empty DataFrame\n",
       "Columns: []\n",
       "Index: [women, education, school, university, girl]"
      ]
     },
     "execution_count": 15,
     "metadata": {},
     "output_type": "execute_result"
    }
   ],
   "source": [
    "# Create an empty list to store the sentiment distributions for the Taliban group\n",
    "taliban_sentiment_data = []\n",
    "taliban_keywords = ['women', 'education', 'school', 'university', 'girl']\n",
    "\n",
    "# Loop through each keyword and calculate the sentiment distribution for the Taliban group\n",
    "for keyword in taliban_keywords:\n",
    "    # Filter the dataset for tweets containing the keyword and belonging to the Taliban group\n",
    "    keyword_tweets_taliban = df[(df['text'].str.contains(keyword)) & (df['group'] == 'Taliban')].copy()\n",
    "\n",
    "    if not keyword_tweets_taliban.empty:\n",
    "        # Calculate the sentiment score for each tweet using SentimentIntensityAnalyzer\n",
    "        keyword_tweets_taliban['sentiment_score'] = keyword_tweets_taliban['text'].apply(lambda x: sid.polarity_scores(x)['compound'])\n",
    "\n",
    "        # Calculate the sentiment distribution for the Taliban group\n",
    "        sentiment_distribution_taliban = keyword_tweets_taliban['sentiment'].value_counts(normalize=True) * 100\n",
    "\n",
    "        # Append the sentiment distribution for the Taliban group to the taliban_sentiment_data list\n",
    "        taliban_sentiment_data.append(sentiment_distribution_taliban)\n",
    "\n",
    "# Create a DataFrame for the sentiment distribution of the Taliban group\n",
    "taliban_sentiment_df = pd.DataFrame(taliban_sentiment_data, index=taliban_keywords)\n",
    "taliban_sentiment_df.head()\n"
   ]
  },
  {
   "cell_type": "code",
   "execution_count": null,
   "metadata": {},
   "outputs": [],
   "source": []
  },
  {
   "cell_type": "code",
   "execution_count": 18,
   "metadata": {},
   "outputs": [
    {
     "data": {
      "text/html": [
       "<div>\n",
       "<style scoped>\n",
       "    .dataframe tbody tr th:only-of-type {\n",
       "        vertical-align: middle;\n",
       "    }\n",
       "\n",
       "    .dataframe tbody tr th {\n",
       "        vertical-align: top;\n",
       "    }\n",
       "\n",
       "    .dataframe thead th {\n",
       "        text-align: right;\n",
       "    }\n",
       "</style>\n",
       "<table border=\"1\" class=\"dataframe\">\n",
       "  <thead>\n",
       "    <tr style=\"text-align: right;\">\n",
       "      <th>sentiment</th>\n",
       "      <th>positive</th>\n",
       "      <th>neutral</th>\n",
       "      <th>negative</th>\n",
       "    </tr>\n",
       "  </thead>\n",
       "  <tbody>\n",
       "    <tr>\n",
       "      <th>women</th>\n",
       "      <td>41.587384</td>\n",
       "      <td>37.716669</td>\n",
       "      <td>20.695947</td>\n",
       "    </tr>\n",
       "    <tr>\n",
       "      <th>education</th>\n",
       "      <td>49.155088</td>\n",
       "      <td>30.454375</td>\n",
       "      <td>20.390537</td>\n",
       "    </tr>\n",
       "    <tr>\n",
       "      <th>school</th>\n",
       "      <td>38.451668</td>\n",
       "      <td>34.174508</td>\n",
       "      <td>27.373824</td>\n",
       "    </tr>\n",
       "    <tr>\n",
       "      <th>university</th>\n",
       "      <td>38.589841</td>\n",
       "      <td>36.694466</td>\n",
       "      <td>24.715694</td>\n",
       "    </tr>\n",
       "    <tr>\n",
       "      <th>girl</th>\n",
       "      <td>39.754964</td>\n",
       "      <td>37.198986</td>\n",
       "      <td>23.046050</td>\n",
       "    </tr>\n",
       "  </tbody>\n",
       "</table>\n",
       "</div>"
      ],
      "text/plain": [
       "sentiment    positive    neutral   negative\n",
       "women       41.587384  37.716669  20.695947\n",
       "education   49.155088  30.454375  20.390537\n",
       "school      38.451668  34.174508  27.373824\n",
       "university  38.589841  36.694466  24.715694\n",
       "girl        39.754964  37.198986  23.046050"
      ]
     },
     "execution_count": 18,
     "metadata": {},
     "output_type": "execute_result"
    }
   ],
   "source": [
    "# Create an empty list to store the sentiment distributions for the people group\n",
    "people_sentiment_data = []\n",
    "keywords_people = ['women', 'education', 'school', 'university', 'girl']\n",
    "\n",
    "# Loop through each keyword and calculate the sentiment distribution for the people group\n",
    "for keyword in keywords_people:\n",
    "    # Filter the dataset for tweets containing the keyword and belonging to the people group\n",
    "    keyword_tweets_people = df[(df['text'].str.contains(keyword)) & (df['group'] == 'people')].copy()\n",
    "\n",
    "    # Calculate the sentiment score for each tweet using SentimentIntensityAnalyzer\n",
    "    keyword_tweets_people['sentiment_score'] = keyword_tweets_people['text'].apply(lambda x: sid.polarity_scores(x)['compound'])\n",
    "\n",
    "    # Calculate the sentiment distribution for the people group\n",
    "    sentiment_distribution_people = keyword_tweets_people['sentiment'].value_counts(normalize=True) * 100\n",
    "\n",
    "    # Append the sentiment distribution for the people group to the people_sentiment_data list\n",
    "    people_sentiment_data.append(sentiment_distribution_people)\n",
    "\n",
    "# Create a DataFrame for the sentiment distribution of the people group\n",
    "people_sentiment_df = pd.DataFrame(people_sentiment_data, index=keywords_people)\n",
    "people_sentiment_df.head()"
   ]
  },
  {
   "cell_type": "code",
   "execution_count": 19,
   "metadata": {},
   "outputs": [
    {
     "name": "stdout",
     "output_type": "stream",
     "text": [
      "Combined Sentiment Analysis:\n"
     ]
    },
    {
     "data": {
      "text/html": [
       "<div>\n",
       "<style scoped>\n",
       "    .dataframe tbody tr th:only-of-type {\n",
       "        vertical-align: middle;\n",
       "    }\n",
       "\n",
       "    .dataframe tbody tr th {\n",
       "        vertical-align: top;\n",
       "    }\n",
       "\n",
       "    .dataframe thead tr th {\n",
       "        text-align: left;\n",
       "    }\n",
       "\n",
       "    .dataframe thead tr:last-of-type th {\n",
       "        text-align: right;\n",
       "    }\n",
       "</style>\n",
       "<table border=\"1\" class=\"dataframe\">\n",
       "  <thead>\n",
       "    <tr>\n",
       "      <th></th>\n",
       "      <th colspan=\"5\" halign=\"left\">Activist</th>\n",
       "      <th colspan=\"5\" halign=\"left\">Taliban</th>\n",
       "      <th colspan=\"5\" halign=\"left\">People</th>\n",
       "    </tr>\n",
       "    <tr>\n",
       "      <th></th>\n",
       "      <th>women</th>\n",
       "      <th>education</th>\n",
       "      <th>school</th>\n",
       "      <th>university</th>\n",
       "      <th>girl</th>\n",
       "      <th>women</th>\n",
       "      <th>education</th>\n",
       "      <th>school</th>\n",
       "      <th>university</th>\n",
       "      <th>girl</th>\n",
       "      <th>women</th>\n",
       "      <th>education</th>\n",
       "      <th>school</th>\n",
       "      <th>university</th>\n",
       "      <th>girl</th>\n",
       "    </tr>\n",
       "    <tr>\n",
       "      <th>sentiment</th>\n",
       "      <th></th>\n",
       "      <th></th>\n",
       "      <th></th>\n",
       "      <th></th>\n",
       "      <th></th>\n",
       "      <th></th>\n",
       "      <th></th>\n",
       "      <th></th>\n",
       "      <th></th>\n",
       "      <th></th>\n",
       "      <th></th>\n",
       "      <th></th>\n",
       "      <th></th>\n",
       "      <th></th>\n",
       "      <th></th>\n",
       "    </tr>\n",
       "  </thead>\n",
       "  <tbody>\n",
       "    <tr>\n",
       "      <th>neutral</th>\n",
       "      <td>44.42</td>\n",
       "      <td>35.43</td>\n",
       "      <td>42.67</td>\n",
       "      <td>49.43</td>\n",
       "      <td>42.06</td>\n",
       "      <td>NaN</td>\n",
       "      <td>NaN</td>\n",
       "      <td>NaN</td>\n",
       "      <td>NaN</td>\n",
       "      <td>NaN</td>\n",
       "      <td>37.72</td>\n",
       "      <td>30.45</td>\n",
       "      <td>34.17</td>\n",
       "      <td>36.69</td>\n",
       "      <td>37.20</td>\n",
       "    </tr>\n",
       "    <tr>\n",
       "      <th>positive</th>\n",
       "      <td>36.91</td>\n",
       "      <td>46.41</td>\n",
       "      <td>31.53</td>\n",
       "      <td>32.52</td>\n",
       "      <td>35.13</td>\n",
       "      <td>NaN</td>\n",
       "      <td>NaN</td>\n",
       "      <td>NaN</td>\n",
       "      <td>NaN</td>\n",
       "      <td>NaN</td>\n",
       "      <td>41.59</td>\n",
       "      <td>49.16</td>\n",
       "      <td>38.45</td>\n",
       "      <td>38.59</td>\n",
       "      <td>39.75</td>\n",
       "    </tr>\n",
       "    <tr>\n",
       "      <th>negative</th>\n",
       "      <td>18.68</td>\n",
       "      <td>18.16</td>\n",
       "      <td>25.80</td>\n",
       "      <td>18.04</td>\n",
       "      <td>22.81</td>\n",
       "      <td>NaN</td>\n",
       "      <td>NaN</td>\n",
       "      <td>NaN</td>\n",
       "      <td>NaN</td>\n",
       "      <td>NaN</td>\n",
       "      <td>20.70</td>\n",
       "      <td>20.39</td>\n",
       "      <td>27.37</td>\n",
       "      <td>24.72</td>\n",
       "      <td>23.05</td>\n",
       "    </tr>\n",
       "  </tbody>\n",
       "</table>\n",
       "</div>"
      ],
      "text/plain": [
       "          Activist                                    Taliban            \\\n",
       "             women education school university   girl   women education   \n",
       "sentiment                                                                 \n",
       "neutral      44.42     35.43  42.67      49.43  42.06     NaN       NaN   \n",
       "positive     36.91     46.41  31.53      32.52  35.13     NaN       NaN   \n",
       "negative     18.68     18.16  25.80      18.04  22.81     NaN       NaN   \n",
       "\n",
       "                                 People                                     \n",
       "          school university girl  women education school university   girl  \n",
       "sentiment                                                                   \n",
       "neutral      NaN        NaN  NaN  37.72     30.45  34.17      36.69  37.20  \n",
       "positive     NaN        NaN  NaN  41.59     49.16  38.45      38.59  39.75  \n",
       "negative     NaN        NaN  NaN  20.70     20.39  27.37      24.72  23.05  "
      ]
     },
     "execution_count": 19,
     "metadata": {},
     "output_type": "execute_result"
    }
   ],
   "source": [
    "# Create empty lists to store the sentiment distributions for different groups\n",
    "activist_sentiment_data = []\n",
    "taliban_sentiment_data = []\n",
    "people_sentiment_data = []\n",
    "# Loop through each keyword and calculate the sentiment of tweets containing that keyword\n",
    "five_keywords_regarding_label_1 = ['women', 'education', 'school', 'university', 'girl']\n",
    "\n",
    "for keyword in five_keywords_regarding_label_1:\n",
    "    keyword_tweets_activist = df[(df['text'].str.contains(keyword)) & (df['group'] == 'activist')].copy()\n",
    "    keyword_tweets_taliban = df[(df['text'].str.contains(keyword)) & (df['group'] == 'taliban')].copy()\n",
    "    keyword_tweets_people = df[(df['text'].str.contains(keyword)) & (df['group'] == 'people')].copy()\n",
    "    \n",
    "    # Calculate the sentiment score for each tweet using SentimentIntensityAnalyzer\n",
    "    keyword_tweets_activist['sentiment_score'] = keyword_tweets_activist['text'].apply(lambda x: sid.polarity_scores(x)['compound'])\n",
    "    keyword_tweets_taliban['sentiment_score'] = keyword_tweets_taliban['text'].apply(lambda x: sid.polarity_scores(x)['compound'])\n",
    "    keyword_tweets_people['sentiment_score'] = keyword_tweets_people['text'].apply(lambda x: sid.polarity_scores(x)['compound'])\n",
    "    \n",
    "    # Calculate the sentiment distribution for activists\n",
    "    sentiment_distribution_activist = keyword_tweets_activist['sentiment'].value_counts(normalize=True) * 100\n",
    "    \n",
    "    # Calculate the sentiment distribution for taliban\n",
    "    sentiment_distribution_taliban = keyword_tweets_taliban['sentiment'].value_counts(normalize=True) * 100\n",
    "    \n",
    "    # Calculate the sentiment distribution for people\n",
    "    sentiment_distribution_people = keyword_tweets_people['sentiment'].value_counts(normalize=True) * 100\n",
    "    \n",
    "    # Append the sentiment distributions for different groups to the respective lists\n",
    "    activist_sentiment_data.append(sentiment_distribution_activist)\n",
    "    taliban_sentiment_data.append(sentiment_distribution_taliban)\n",
    "    people_sentiment_data.append(sentiment_distribution_people)\n",
    "\n",
    "# Create DataFrames for sentiment distributions of different groups\n",
    "activist_sentiment_df = pd.DataFrame(activist_sentiment_data, index=five_keywords_regarding_label_1)\n",
    "taliban_sentiment_df = pd.DataFrame(taliban_sentiment_data, index=five_keywords_regarding_label_1)\n",
    "people_sentiment_df = pd.DataFrame(people_sentiment_data, index=five_keywords_regarding_label_1)\n",
    "\n",
    "# Transpose the DataFrames to have sentiment categories as columns\n",
    "activist_sentiment_df = activist_sentiment_df.T\n",
    "taliban_sentiment_df = taliban_sentiment_df.T\n",
    "people_sentiment_df = people_sentiment_df.T\n",
    "\n",
    "# Combine the DataFrames of different groups into a single DataFrame\n",
    "combined_sentiment_df = pd.concat([activist_sentiment_df, taliban_sentiment_df, people_sentiment_df], axis=1, keys=['Activist', 'Taliban', 'People'])\n",
    "\n",
    "# Format the sentiment percentages to display two decimal places\n",
    "combined_sentiment_df = combined_sentiment_df.round(2)\n",
    "\n",
    "# Print the combined DataFrame\n",
    "print(\"Combined Sentiment Analysis:\")\n",
    "combined_sentiment_df.head()\n"
   ]
  },
  {
   "cell_type": "code",
   "execution_count": 35,
   "metadata": {},
   "outputs": [
    {
     "name": "stdout",
     "output_type": "stream",
     "text": [
      "Combined Sentiment Analysis:\n"
     ]
    },
    {
     "data": {
      "text/html": [
       "<div>\n",
       "<style scoped>\n",
       "    .dataframe tbody tr th:only-of-type {\n",
       "        vertical-align: middle;\n",
       "    }\n",
       "\n",
       "    .dataframe tbody tr th {\n",
       "        vertical-align: top;\n",
       "    }\n",
       "\n",
       "    .dataframe thead tr th {\n",
       "        text-align: left;\n",
       "    }\n",
       "\n",
       "    .dataframe thead tr:last-of-type th {\n",
       "        text-align: right;\n",
       "    }\n",
       "</style>\n",
       "<table border=\"1\" class=\"dataframe\">\n",
       "  <thead>\n",
       "    <tr>\n",
       "      <th></th>\n",
       "      <th>Activist</th>\n",
       "      <th>Taliban</th>\n",
       "      <th>People</th>\n",
       "    </tr>\n",
       "    <tr>\n",
       "      <th></th>\n",
       "      <th>women educatoin</th>\n",
       "      <th>women educatoin</th>\n",
       "      <th>women educatoin</th>\n",
       "    </tr>\n",
       "    <tr>\n",
       "      <th>sentiment</th>\n",
       "      <th></th>\n",
       "      <th></th>\n",
       "      <th></th>\n",
       "    </tr>\n",
       "  </thead>\n",
       "  <tbody>\n",
       "  </tbody>\n",
       "</table>\n",
       "</div>"
      ],
      "text/plain": [
       "Empty DataFrame\n",
       "Columns: [(Activist, women educatoin), (Taliban, women educatoin), (People, women educatoin)]\n",
       "Index: []"
      ]
     },
     "execution_count": 35,
     "metadata": {},
     "output_type": "execute_result"
    }
   ],
   "source": [
    "# Create empty lists to store the sentiment distributions for different groups\n",
    "activist_sentiment_data = []\n",
    "taliban_sentiment_data = []\n",
    "people_sentiment_data = []\n",
    "# Loop through each keyword and calculate the sentiment of tweets containing that keyword\n",
    "five_keywords_regarding_label_1 = ['women education']\n",
    "\n",
    "for keyword in five_keywords_regarding_label_1:\n",
    "    keyword_tweets_activist = df[(df['text'].str.contains(keyword)) & (df['group'] == 'activist')].copy()\n",
    "    keyword_tweets_taliban = df[(df['text'].str.contains(keyword)) & (df['group'] == 'taliban')].copy()\n",
    "    keyword_tweets_people = df[(df['text'].str.contains(keyword)) & (df['group'] == 'people')].copy()\n",
    "    \n",
    "    # Calculate the sentiment score for each tweet using SentimentIntensityAnalyzer\n",
    "    keyword_tweets_activist['sentiment_score'] = keyword_tweets_activist['text'].apply(lambda x: sid.polarity_scores(x)['compound'])\n",
    "    keyword_tweets_taliban['sentiment_score'] = keyword_tweets_taliban['text'].apply(lambda x: sid.polarity_scores(x)['compound'])\n",
    "    keyword_tweets_people['sentiment_score'] = keyword_tweets_people['text'].apply(lambda x: sid.polarity_scores(x)['compound'])\n",
    "    \n",
    "    # Calculate the sentiment distribution for activists\n",
    "    sentiment_distribution_activist = keyword_tweets_activist['sentiment'].value_counts(normalize=True) * 100\n",
    "    \n",
    "    # Calculate the sentiment distribution for taliban\n",
    "    sentiment_distribution_taliban = keyword_tweets_taliban['sentiment'].value_counts(normalize=True) * 100\n",
    "    \n",
    "    # Calculate the sentiment distribution for people\n",
    "    sentiment_distribution_people = keyword_tweets_people['sentiment'].value_counts(normalize=True) * 100\n",
    "    \n",
    "    # Append the sentiment distributions for different groups to the respective lists\n",
    "    activist_sentiment_data.append(sentiment_distribution_activist)\n",
    "    taliban_sentiment_data.append(sentiment_distribution_taliban)\n",
    "    people_sentiment_data.append(sentiment_distribution_people)\n",
    "\n",
    "# Create DataFrames for sentiment distributions of different groups\n",
    "activist_sentiment_df = pd.DataFrame(activist_sentiment_data, index=five_keywords_regarding_label_1)\n",
    "taliban_sentiment_df = pd.DataFrame(taliban_sentiment_data, index=five_keywords_regarding_label_1)\n",
    "people_sentiment_df = pd.DataFrame(people_sentiment_data, index=five_keywords_regarding_label_1)\n",
    "\n",
    "# Transpose the DataFrames to have sentiment categories as columns\n",
    "activist_sentiment_df = activist_sentiment_df.T\n",
    "taliban_sentiment_df = taliban_sentiment_df.T\n",
    "people_sentiment_df = people_sentiment_df.T\n",
    "\n",
    "# Combine the DataFrames of different groups into a single DataFrame\n",
    "combined_sentiment_df = pd.concat([activist_sentiment_df, taliban_sentiment_df, people_sentiment_df], axis=1, keys=['Activist', 'Taliban', 'People'])\n",
    "\n",
    "# Format the sentiment percentages to display two decimal places\n",
    "combined_sentiment_df = combined_sentiment_df.round(2)\n",
    "\n",
    "# Print the combined DataFrame\n",
    "print(\"Combined Sentiment Analysis:\")\n",
    "combined_sentiment_df.head()\n"
   ]
  },
  {
   "attachments": {},
   "cell_type": "markdown",
   "metadata": {},
   "source": [
    "##### Only Activists on women education keyword, activists"
   ]
  },
  {
   "cell_type": "code",
   "execution_count": 20,
   "metadata": {},
   "outputs": [
    {
     "data": {
      "text/plain": [
       "sentiment\n",
       "neutral     52.459016\n",
       "positive    36.065574\n",
       "negative    11.475410\n",
       "Name: proportion, dtype: float64"
      ]
     },
     "execution_count": 20,
     "metadata": {},
     "output_type": "execute_result"
    }
   ],
   "source": [
    "# Define the keyword 'women education'\n",
    "activists_women_education = ['women education']\n",
    "# Create an empty DataFrame to store the sentiment distribution for the activist group\n",
    "activist_sentiment_df = pd.DataFrame(index=['women education'])\n",
    "# Filter the dataframe based on the 'activist' group and the keyword 'women education'\n",
    "activist_keyword_tweets = df[(df['group'] == 'activist') & (df['text'].str.contains(activists_women_education[0], case=False))].copy()\n",
    "# Calculate the sentiment score for each tweet using SentimentIntensityAnalyzer\n",
    "activist_keyword_tweets['sentiment_score'] = activist_keyword_tweets['text'].apply(lambda x: sid.polarity_scores(x)['compound'])\n",
    "# Calculate the sentiment distribution for the activist group\n",
    "sentiment_distribution_activist = activist_keyword_tweets['sentiment'].value_counts(normalize=True) * 100\n",
    "# Add the sentiment distribution to the activist_sentiment_df DataFrame\n",
    "activist_sentiment_df = sentiment_distribution_activist\n",
    "# Print the sentiment distribution for the activist group\n",
    "# print(\"Sentiment Distribution for 'women education' in the activist group:\")\n",
    "activist_sentiment_df.head()"
   ]
  },
  {
   "attachments": {},
   "cell_type": "markdown",
   "metadata": {},
   "source": [
    "##### People"
   ]
  },
  {
   "cell_type": "code",
   "execution_count": 21,
   "metadata": {},
   "outputs": [
    {
     "name": "stdout",
     "output_type": "stream",
     "text": [
      "Sentiment Distribution for 'women education' in the people group:\n"
     ]
    },
    {
     "data": {
      "text/plain": [
       "sentiment\n",
       "positive    44.954128\n",
       "neutral     33.944954\n",
       "negative    21.100917\n",
       "Name: proportion, dtype: float64"
      ]
     },
     "execution_count": 21,
     "metadata": {},
     "output_type": "execute_result"
    }
   ],
   "source": [
    "# Define the keyword 'women education'\n",
    "people_women_education = ['women education']\n",
    "# Create an empty DataFrame to store the sentiment distribution for the activist group\n",
    "people_sentiment_df = pd.DataFrame(index=['women education'])\n",
    "# Filter the dataframe based on the 'activist' group and the keyword 'women education'\n",
    "people_keyword_tweets = df[(df['group'] == 'people') & (df['text'].str.contains(people_women_education[0], case=False))].copy()\n",
    "# Calculate the sentiment score for each tweet using SentimentIntensityAnalyzer\n",
    "people_keyword_tweets['sentiment_score'] = people_keyword_tweets['text'].apply(lambda x: sid.polarity_scores(x)['compound'])\n",
    "# Calculate the sentiment distribution for the activist group\n",
    "sentiment_distribution_activist = people_keyword_tweets['sentiment'].value_counts(normalize=True) * 100\n",
    "# Add the sentiment distribution to the people_sentiment_df DataFrame\n",
    "people_sentiment_df = sentiment_distribution_activist\n",
    "# Print the sentiment distribution for the activist group\n",
    "print(\"Sentiment Distribution for 'women education' in the people group:\")\n",
    "people_sentiment_df.head()\n"
   ]
  },
  {
   "attachments": {},
   "cell_type": "markdown",
   "metadata": {},
   "source": [
    "##### Taliban"
   ]
  },
  {
   "cell_type": "code",
   "execution_count": 22,
   "metadata": {},
   "outputs": [
    {
     "name": "stdout",
     "output_type": "stream",
     "text": [
      "Sentiment Distribution for 'women education' in the Taliban group:\n",
      "Series([], Name: proportion, dtype: float64)\n"
     ]
    }
   ],
   "source": [
    "# Define the keyword 'women education'\n",
    "taliban_women_education = ['women education']\n",
    "# Create an empty DataFrame to store the sentiment distribution for the activist group\n",
    "taliban_sentiment_df = pd.DataFrame(index=['women education'])\n",
    "# Filter the dataframe based on the 'activist' group and the keyword 'women education'\n",
    "taliban_keyword_tweets = df[(df['group'] == 'taliban') & (df['text'].str.contains(taliban_women_education[0], case=False))].copy()\n",
    "# Calculate the sentiment score for each tweet using SentimentIntensityAnalyzer\n",
    "taliban_keyword_tweets['sentiment_score'] = taliban_keyword_tweets['text'].apply(lambda x: sid.polarity_scores(x)['compound'])\n",
    "# Calculate the sentiment distribution for the activist group\n",
    "sentiment_distribution_activist = taliban_keyword_tweets['sentiment'].value_counts(normalize=True) * 100\n",
    "# Add the sentiment distribution to the taliban_sentiment_df DataFrame\n",
    "taliban_sentiment_df = sentiment_distribution_activist\n",
    "# Print the sentiment distribution for the activist group\n",
    "print(\"Sentiment Distribution for 'women education' in the Taliban group:\")\n",
    "print(taliban_sentiment_df)\n"
   ]
  },
  {
   "attachments": {},
   "cell_type": "markdown",
   "metadata": {},
   "source": [
    "##### Percentage Women Education Keyword"
   ]
  },
  {
   "cell_type": "code",
   "execution_count": 23,
   "metadata": {},
   "outputs": [
    {
     "name": "stdout",
     "output_type": "stream",
     "text": [
      "Percentage Women Education Keyword\n"
     ]
    },
    {
     "data": {
      "text/html": [
       "<div>\n",
       "<style scoped>\n",
       "    .dataframe tbody tr th:only-of-type {\n",
       "        vertical-align: middle;\n",
       "    }\n",
       "\n",
       "    .dataframe tbody tr th {\n",
       "        vertical-align: top;\n",
       "    }\n",
       "\n",
       "    .dataframe thead th {\n",
       "        text-align: right;\n",
       "    }\n",
       "</style>\n",
       "<table border=\"1\" class=\"dataframe\">\n",
       "  <thead>\n",
       "    <tr style=\"text-align: right;\">\n",
       "      <th></th>\n",
       "      <th>Group</th>\n",
       "      <th>Label 1 Percentage</th>\n",
       "      <th>Label 1 Count</th>\n",
       "    </tr>\n",
       "  </thead>\n",
       "  <tbody>\n",
       "    <tr>\n",
       "      <th>0</th>\n",
       "      <td>activist</td>\n",
       "      <td>100.0</td>\n",
       "      <td>183</td>\n",
       "    </tr>\n",
       "    <tr>\n",
       "      <th>1</th>\n",
       "      <td>people</td>\n",
       "      <td>100.0</td>\n",
       "      <td>109</td>\n",
       "    </tr>\n",
       "    <tr>\n",
       "      <th>2</th>\n",
       "      <td>tablian</td>\n",
       "      <td>100.0</td>\n",
       "      <td>4</td>\n",
       "    </tr>\n",
       "  </tbody>\n",
       "</table>\n",
       "</div>"
      ],
      "text/plain": [
       "      Group  Label 1 Percentage  Label 1 Count\n",
       "0  activist               100.0            183\n",
       "1    people               100.0            109\n",
       "2   tablian               100.0              4"
      ]
     },
     "execution_count": 23,
     "metadata": {},
     "output_type": "execute_result"
    }
   ],
   "source": [
    "# Define the keyword 'women education'\n",
    "keyword_women_education = ['women education']\n",
    "# Create an empty DataFrame to store the keyword counts and percentages for each group\n",
    "keyword_df = pd.DataFrame(columns=['Group', 'Label 1 Percentage', 'Label 1 Count'])\n",
    "# Iterate over each group\n",
    "for group in groups:\n",
    "    # Filter the dataframe based on the current group and keyword\n",
    "    group_keyword_counts = df[(df['group'] == group) & (df['text'].str.contains(keyword_women_education[0], case=False))]\n",
    "    # Count the number of label 1 occurrences\n",
    "    label1_count = group_keyword_counts[group_keyword_counts['label'] == 1].shape[0]\n",
    "    # Calculate the percentage of label 1 occurrences\n",
    "    if group_keyword_counts.shape[0] != 0:\n",
    "        label1_percentage = (label1_count / group_keyword_counts.shape[0]) * 100\n",
    "    else:\n",
    "        label1_percentage = 0\n",
    "    # Add the group, label 1 percentage, and label 1 count to the keyword DataFrame\n",
    "    keyword_df.loc[len(keyword_df)] = [group, label1_percentage, label1_count]\n",
    "# Print the keyword DataFrame\n",
    "print(\"Percentage Women Education Keyword\")\n",
    "keyword_df.head()\n"
   ]
  },
  {
   "cell_type": "code",
   "execution_count": 24,
   "metadata": {},
   "outputs": [
    {
     "name": "stdout",
     "output_type": "stream",
     "text": [
      "Percentage Women Education Keyword\n"
     ]
    },
    {
     "data": {
      "text/html": [
       "<div>\n",
       "<style scoped>\n",
       "    .dataframe tbody tr th:only-of-type {\n",
       "        vertical-align: middle;\n",
       "    }\n",
       "\n",
       "    .dataframe tbody tr th {\n",
       "        vertical-align: top;\n",
       "    }\n",
       "\n",
       "    .dataframe thead th {\n",
       "        text-align: right;\n",
       "    }\n",
       "</style>\n",
       "<table border=\"1\" class=\"dataframe\">\n",
       "  <thead>\n",
       "    <tr style=\"text-align: right;\">\n",
       "      <th></th>\n",
       "      <th>Group</th>\n",
       "      <th>Keyword Percentage</th>\n",
       "    </tr>\n",
       "  </thead>\n",
       "  <tbody>\n",
       "    <tr>\n",
       "      <th>0</th>\n",
       "      <td>activist</td>\n",
       "      <td>0.352492</td>\n",
       "    </tr>\n",
       "    <tr>\n",
       "      <th>1</th>\n",
       "      <td>people</td>\n",
       "      <td>0.103193</td>\n",
       "    </tr>\n",
       "    <tr>\n",
       "      <th>2</th>\n",
       "      <td>tablian</td>\n",
       "      <td>0.005265</td>\n",
       "    </tr>\n",
       "  </tbody>\n",
       "</table>\n",
       "</div>"
      ],
      "text/plain": [
       "      Group  Keyword Percentage\n",
       "0  activist            0.352492\n",
       "1    people            0.103193\n",
       "2   tablian            0.005265"
      ]
     },
     "execution_count": 24,
     "metadata": {},
     "output_type": "execute_result"
    }
   ],
   "source": [
    "# Define the keyword 'women education'\n",
    "keyword_women_education = ['women education']\n",
    "# Create an empty DataFrame to store the keyword counts and percentages for each group\n",
    "keyword_df = pd.DataFrame(columns=['Group', 'Keyword Percentage'])\n",
    "# Iterate over each group\n",
    "for group in groups:\n",
    "    # Count the number of tweets containing the keyword 'women education' for the current group\n",
    "    keyword_count = df[(df['group'] == group) & (df['text'].str.contains(keyword_women_education[0], case=False))].shape[0]\n",
    "    # Calculate the percentage of tweets containing the keyword relative to the total number of tweets for the group\n",
    "    total_count = df[df['group'] == group].shape[0]\n",
    "    keyword_percentage = (keyword_count / total_count) * 100 if total_count != 0 else 0\n",
    "    # Add the group and keyword percentage to the DataFrame\n",
    "    keyword_df.loc[len(keyword_df)] = [group, keyword_percentage]\n",
    "\n",
    "# Print the keyword DataFrame\n",
    "print(\"Percentage Women Education Keyword\")\n",
    "keyword_df.head()\n"
   ]
  },
  {
   "cell_type": "code",
   "execution_count": 25,
   "metadata": {},
   "outputs": [
    {
     "data": {
      "text/plain": [
       "<Figure size 1200x600 with 0 Axes>"
      ]
     },
     "metadata": {},
     "output_type": "display_data"
    },
    {
     "data": {
      "image/png": "[encoded data removed]",
      "text/plain": [
       "<Figure size 640x480 with 1 Axes>"
      ]
     },
     "metadata": {},
     "output_type": "display_data"
    }
   ],
   "source": [
    "# Convert the 'created_at' column to datetime if it is not already in datetime format\n",
    "df['created_at'] = pd.to_datetime(df['created_at'])\n",
    "\n",
    "# Set the 'created_at' column as the index\n",
    "df.set_index('created_at', inplace=True)\n",
    "\n",
    "# Group the data by group and resample by a specific time period (e.g., daily, hourly) to count the occurrences of label == 1\n",
    "label1_frequency = df[df['label'] == 1].groupby('group').resample('D').size().unstack(level=0)  # Resample by day (change 'D' to other frequencies as needed)\n",
    "\n",
    "# Plot the frequency of label == 1 for each group over time\n",
    "plt.figure(figsize=(12, 6))\n",
    "label1_frequency.plot()\n",
    "plt.title('Frequency of label == 1 for Each Group')\n",
    "plt.xlabel('Date')\n",
    "plt.ylabel('Frequency')\n",
    "plt.legend(title='Group')\n",
    "plt.grid(True)\n",
    "plt.show()\n"
   ]
  },
  {
   "cell_type": "code",
   "execution_count": 26,
   "metadata": {},
   "outputs": [
    {
     "data": {
      "image/png": "[encoded data removed]",
      "text/plain": [
       "<Figure size 1200x600 with 1 Axes>"
      ]
     },
     "metadata": {},
     "output_type": "display_data"
    }
   ],
   "source": [
    "import pandas as pd\n",
    "import matplotlib.pyplot as plt\n",
    "\n",
    "# Filter the dataframe for label == 1\n",
    "label1_df = df[df['label'] == 1]\n",
    "\n",
    "# Group the data by 'created_at' and 'group' to count the occurrences of label == 1\n",
    "group_counts = label1_df.groupby(['created_at', 'group']).size().unstack()\n",
    "\n",
    "# Extract the time periods and convert them to datetime objects\n",
    "time_periods = pd.to_datetime(group_counts.index)\n",
    "\n",
    "# Set up the figure and axes\n",
    "fig, ax = plt.subplots(figsize=(12, 6))\n",
    "\n",
    "# Plot the line plot for each group\n",
    "for group in group_counts.columns:\n",
    "    ax.plot(time_periods, group_counts[group], label=group)\n",
    "\n",
    "# Add labels and title\n",
    "ax.set_xlabel('Time')\n",
    "ax.set_ylabel('Count')\n",
    "ax.set_title('Frequency of Five Keywords by Group over Time')\n",
    "\n",
    "# Add legend\n",
    "ax.legend()\n",
    "\n",
    "# Show the chart\n",
    "plt.show()\n"
   ]
  },
  {
   "attachments": {},
   "cell_type": "markdown",
   "metadata": {},
   "source": [
    "##### Chi-square"
   ]
  },
  {
   "cell_type": "code",
   "execution_count": 27,
   "metadata": {},
   "outputs": [
    {
     "name": "stdout",
     "output_type": "stream",
     "text": [
      "Chi-square Test (Activist)\n",
      "Chi-square statistic:  0.0\n",
      "P-value:  1.0\n"
     ]
    }
   ],
   "source": [
    "# Filter the dataframe for the \"activist\" group and label == 1\n",
    "activist_label1 = df[(df['group'] == 'activist') & (df['label'] == 1)]\n",
    "# Create a contingency table for the \"activist\" group and label == 1 using pivot_table\n",
    "contingency_table = pd.pivot_table(activist_label1, index='group', columns='label', aggfunc=len, fill_value=0)\n",
    "# Perform chi-square test\n",
    "chi2, p_value, _, _ = chi2_contingency(contingency_table)\n",
    "# Print the results\n",
    "print(\"Chi-square Test (Activist)\")\n",
    "print(\"Chi-square statistic: \", chi2)\n",
    "print(\"P-value: \", p_value)\n"
   ]
  },
  {
   "attachments": {},
   "cell_type": "markdown",
   "metadata": {},
   "source": [
    "##### People"
   ]
  },
  {
   "cell_type": "code",
   "execution_count": 28,
   "metadata": {},
   "outputs": [
    {
     "name": "stdout",
     "output_type": "stream",
     "text": [
      "Chi-square Test (Activist)\n",
      "Chi-square statistic:  0.0\n",
      "P-value:  1.0\n"
     ]
    }
   ],
   "source": [
    "# Filter the dataframe for the \"activist\" group and label == 1\n",
    "people_label1 = df[(df['group'] == 'people') & (df['label'] == 1)]\n",
    "# Create a contingency table for the \"activist\" group and label == 1 using pivot_table\n",
    "poepl_contingency_table = pd.pivot_table(people_label1, index='group', columns='label', aggfunc=len, fill_value=0)\n",
    "# Perform chi-square test\n",
    "chi2, p_value, _, _ = chi2_contingency(poepl_contingency_table)\n",
    "# Print the results\n",
    "print(\"Chi-square Test (Activist)\")\n",
    "print(\"Chi-square statistic: \", chi2)\n",
    "print(\"P-value: \", p_value)\n"
   ]
  },
  {
   "attachments": {},
   "cell_type": "markdown",
   "metadata": {},
   "source": [
    "##### Taliban"
   ]
  },
  {
   "cell_type": "code",
   "execution_count": 29,
   "metadata": {},
   "outputs": [
    {
     "name": "stdout",
     "output_type": "stream",
     "text": [
      "Frequency of label == 1:\n",
      "Activists: 19964\n",
      "Ordinary People: 14110\n",
      "Taliban: 0\n"
     ]
    }
   ],
   "source": [
    "activist_freq = len(df[(df['group'] == 'activist') & (df['label'] == 1)])\n",
    "people_freq = len(df[(df['group'] == 'people') & (df['label'] == 1)])\n",
    "taliban_freq = len(df[(df['group'] == 'taliban') & (df['label'] == 1)])\n",
    "\n",
    "print(\"Frequency of label == 1:\")\n",
    "print(\"Activists:\", activist_freq)\n",
    "print(\"Ordinary People:\", people_freq)\n",
    "print(\"Taliban:\", taliban_freq)\n"
   ]
  },
  {
   "cell_type": "code",
   "execution_count": 30,
   "metadata": {},
   "outputs": [
    {
     "name": "stdout",
     "output_type": "stream",
     "text": [
      "Chi-square statistic: 0.0\n",
      "P-value: 1.0\n"
     ]
    }
   ],
   "source": [
    "keyword_labels = ['women', 'education', 'university', 'school', 'girl']\n",
    "# Calculate the frequencies of label == 1 tweets for each group and keyword\n",
    "activist_freq = np.sum(df[df['group'] == 'activists']['text'].str.contains('|'.join(keyword_labels), case=False, regex=True))\n",
    "\n",
    "# Create the contingency table\n",
    "contingency_table = pd.DataFrame({'Activists': [activist_freq]})\n",
    "\n",
    "# Add a small value (e.g., 0.5) to the zero frequency cells\n",
    "contingency_table += 0.5\n",
    "\n",
    "# Perform the chi-square test\n",
    "chi2, p_value, _, _ = chi2_contingency(contingency_table)\n",
    "\n",
    "# Print the results\n",
    "print(\"Chi-square statistic:\", chi2)\n",
    "print(\"P-value:\", p_value)\n",
    "\n"
   ]
  },
  {
   "attachments": {},
   "cell_type": "markdown",
   "metadata": {},
   "source": [
    "##### Crosstable, for group and label == 1"
   ]
  },
  {
   "cell_type": "code",
   "execution_count": 31,
   "metadata": {},
   "outputs": [
    {
     "data": {
      "text/html": [
       "<div>\n",
       "<style scoped>\n",
       "    .dataframe tbody tr th:only-of-type {\n",
       "        vertical-align: middle;\n",
       "    }\n",
       "\n",
       "    .dataframe tbody tr th {\n",
       "        vertical-align: top;\n",
       "    }\n",
       "\n",
       "    .dataframe thead th {\n",
       "        text-align: right;\n",
       "    }\n",
       "</style>\n",
       "<table border=\"1\" class=\"dataframe\">\n",
       "  <thead>\n",
       "    <tr style=\"text-align: right;\">\n",
       "      <th>label</th>\n",
       "      <th>False</th>\n",
       "      <th>True</th>\n",
       "    </tr>\n",
       "    <tr>\n",
       "      <th>group</th>\n",
       "      <th></th>\n",
       "      <th></th>\n",
       "    </tr>\n",
       "  </thead>\n",
       "  <tbody>\n",
       "    <tr>\n",
       "      <th>activist</th>\n",
       "      <td>31952</td>\n",
       "      <td>19964</td>\n",
       "    </tr>\n",
       "    <tr>\n",
       "      <th>people</th>\n",
       "      <td>91517</td>\n",
       "      <td>14110</td>\n",
       "    </tr>\n",
       "    <tr>\n",
       "      <th>tablian</th>\n",
       "      <td>72213</td>\n",
       "      <td>3757</td>\n",
       "    </tr>\n",
       "  </tbody>\n",
       "</table>\n",
       "</div>"
      ],
      "text/plain": [
       "label     False  True \n",
       "group                 \n",
       "activist  31952  19964\n",
       "people    91517  14110\n",
       "tablian   72213   3757"
      ]
     },
     "execution_count": 31,
     "metadata": {},
     "output_type": "execute_result"
    }
   ],
   "source": [
    "crosstab_df = pd.DataFrame(pd.crosstab(df['group'], df['label'] == 1))\n",
    "crosstab_df.head()\n"
   ]
  },
  {
   "cell_type": "code",
   "execution_count": 32,
   "metadata": {},
   "outputs": [
    {
     "name": "stdout",
     "output_type": "stream",
     "text": [
      "Chi-square statistic: 26655.354403995017\n",
      "P-value: 0.0\n"
     ]
    }
   ],
   "source": [
    "# Perform the chi-square test of independence\n",
    "chi2, p_value, _, _ = chi2_contingency(crosstab_df)\n",
    "# Print the results\n",
    "print(\"Chi-square statistic:\", chi2)\n",
    "print(\"P-value:\", p_value)\n"
   ]
  },
  {
   "cell_type": "code",
   "execution_count": 33,
   "metadata": {},
   "outputs": [],
   "source": [
    "# import speech_recognition as sr\n",
    "# r = sr.Recognizer()\n",
    "# with sr.AudioFile(\"../data_processed/Sex addiction.wav\") as source:\n",
    "#     audio_data = r.record(source)\n",
    "#     text = r.recognize_google(audio_data)\n",
    "# print(text)\n"
   ]
  },
  {
   "cell_type": "code",
   "execution_count": 34,
   "metadata": {},
   "outputs": [],
   "source": [
    "# import speech_recognition as sr\n",
    "# from docx import Document\n",
    "\n",
    "# # Speech recognition\n",
    "# r = sr.Recognizer()\n",
    "\n",
    "# # Load audio file\n",
    "# audio_file = \"../data_processed/sex.wav\"\n",
    "\n",
    "# # Convert audio to text\n",
    "# with sr.AudioFile(audio_file) as source:\n",
    "#     audio_data = r.record(source)\n",
    "#     text = r.recognize_google(audio_data)\n",
    "\n",
    "# # Split text into paragraphs\n",
    "# paragraphs = text.split(\"\\n\")\n",
    "\n",
    "# # Save paragraphs to a Word document\n",
    "# document = Document()\n",
    "# for paragraph in paragraphs:\n",
    "#     document.add_paragraph(paragraph)\n",
    "# document.save(\"output.docx\")\n"
   ]
  }
 ],
 "metadata": {
  "kernelspec": {
   "display_name": "Python 3",
   "language": "python",
   "name": "python3"
  },
  "language_info": {
   "codemirror_mode": {
    "name": "ipython",
    "version": 3
   },
   "file_extension": ".py",
   "mimetype": "text/x-python",
   "name": "python",
   "nbconvert_exporter": "python",
   "pygments_lexer": "ipython3",
   "version": "3.10.11"
  },
  "orig_nbformat": 4
 },
 "nbformat": 4,
 "nbformat_minor": 2
}
