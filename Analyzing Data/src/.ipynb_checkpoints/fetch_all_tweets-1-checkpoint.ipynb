{
 "cells": [
  {
   "cell_type": "code",
   "execution_count": 120,
   "metadata": {},
   "outputs": [],
   "source": [
    "import tweepy \n",
    "import pandas as pd\n",
    "\n"
   ]
  },
  {
   "cell_type": "markdown",
   "metadata": {},
   "source": [
    "##### Set the Twitter credentials"
   ]
  },
  {
   "cell_type": "code",
   "execution_count": 121,
   "metadata": {},
   "outputs": [],
   "source": [
    "consumer_key= \"dqOPlo8TYO2Bo6P4Uo5sAkmes\"\n",
    "consumer_secret= \"3TUe2RlqY5BT6LnvtUAA0Kf1mPO8k7MH3ZLxxELcsj7OxG8doh\"\n",
    "access_token= \"2585433478-GoThRI4yGSKJX3tO8GX2onBsVdZ9EyPP1uL7dSi\"\n",
    "access_token_secret= \"WBHrZjnz8lDrKAlLpF0uNKMydws4iodCuWUtHwdqmYoq1\"\n"
   ]
  },
  {
   "cell_type": "markdown",
   "metadata": {},
   "source": [
    "##### Authentication with Twitter API"
   ]
  },
  {
   "cell_type": "code",
   "execution_count": 122,
   "metadata": {},
   "outputs": [],
   "source": [
    "auth = tweepy.OAuthHandler(consumer_key, consumer_secret)\n",
    "auth.set_access_token(access_token, access_token_secret)"
   ]
  },
  {
   "cell_type": "markdown",
   "metadata": {},
   "source": [
    "##### Create API Object"
   ]
  },
  {
   "cell_type": "code",
   "execution_count": 123,
   "metadata": {},
   "outputs": [],
   "source": [
    "api = tweepy.API(auth)"
   ]
  },
  {
   "cell_type": "code",
   "execution_count": 163,
   "metadata": {},
   "outputs": [],
   "source": [
    "username = 'BalqisEhsan'"
   ]
  },
  {
   "cell_type": "code",
   "execution_count": 164,
   "metadata": {},
   "outputs": [],
   "source": [
    "all_tweets = []"
   ]
  },
  {
   "cell_type": "code",
   "execution_count": 165,
   "metadata": {},
   "outputs": [],
   "source": [
    "#fetch tweets \n",
    "for tweet in tweepy.Cursor(api.user_timeline, screen_name=username, tweet_mode = 'extended').items():\n",
    "    all_tweets.append(tweet)"
   ]
  },
  {
   "cell_type": "code",
   "execution_count": 166,
   "metadata": {},
   "outputs": [],
   "source": [
    "\n",
    "# # Define the start and end dates for tweet retrieval\n",
    "# start_date = \"2021-12-01\"\n",
    "# end_date = \"2023-03-28\"\n",
    "# # Fetch tweets within the specified date range\n",
    "# all_tweets = []\n",
    "# for tweet in tweepy.Cursor(api.user_timeline, screen_name=username, tweet_mode=\"extended\",\n",
    "#                            since=start_date, until=end_date).items():\n",
    "#     all_tweets.append(tweet)\n"
   ]
  },
  {
   "cell_type": "code",
   "execution_count": 167,
   "metadata": {},
   "outputs": [
    {
     "data": {
      "text/html": [
       "<div>\n",
       "<style scoped>\n",
       "    .dataframe tbody tr th:only-of-type {\n",
       "        vertical-align: middle;\n",
       "    }\n",
       "\n",
       "    .dataframe tbody tr th {\n",
       "        vertical-align: top;\n",
       "    }\n",
       "\n",
       "    .dataframe thead th {\n",
       "        text-align: right;\n",
       "    }\n",
       "</style>\n",
       "<table border=\"1\" class=\"dataframe\">\n",
       "  <thead>\n",
       "    <tr style=\"text-align: right;\">\n",
       "      <th></th>\n",
       "      <th>text</th>\n",
       "      <th>name</th>\n",
       "      <th>created_at</th>\n",
       "    </tr>\n",
       "  </thead>\n",
       "  <tbody>\n",
       "    <tr>\n",
       "      <th>0</th>\n",
       "      <td>@tor_pacha @AmanyNasir تر ټولو لوى غيرتي ته يې وروره!\\nخداى دې دنيا او اخرت کې سرلوړى لره.❤</td>\n",
       "      <td>rangeeza</td>\n",
       "      <td>2023-05-14</td>\n",
       "    </tr>\n",
       "    <tr>\n",
       "      <th>1</th>\n",
       "      <td>د افغان په کور خورې تــــــــــــورې تيارې دي\\nډيوې مړې دي، ډيوې مړې دي، ډيوې مړې دي\\n\\nنن هغه يا خــــو پـــــــه دار او يا پـــه بند دى\\nچــــــې ويشــــلي يې کتاب او ســــيپارې دي\\n\\nګاونډي د خوشالـــــــــــــــۍ جشنونه لمانځي\\nزمونږ کور کــــــې جنـــازې دي، جنـــــازې دي\\n\\nخود به… https://t.co/oC2yzivphT https://t.co/fuQuYtE9Ye</td>\n",
       "      <td>rangeeza</td>\n",
       "      <td>2023-05-14</td>\n",
       "    </tr>\n",
       "    <tr>\n",
       "      <th>2</th>\n",
       "      <td>@RealMDBilal @RTErdogan @ragipsoylu Why?</td>\n",
       "      <td>rangeeza</td>\n",
       "      <td>2023-05-14</td>\n",
       "    </tr>\n",
       "    <tr>\n",
       "      <th>3</th>\n",
       "      <td>که دښمن دې د يو چا ملاتړ پيل کړ،\\nنو د هغه چا څخه ويره په کار ده;\\nکه نه نو لږ تر لږه احتياط ورسره کول خو حتمي دي.\\n\\nاو هو پر ټاکنو باور نه لرونکي، زورواکه جنګيالي تالبان نن اردوغان ته په ټاکنو کې د برياو سختې دعاوې کوي...😂\\nدوى نن سبا د توسن سپي رول لوبوي، هر چا ته لکۍ ښوروي...… https://t.co/oAQBvwt2lN</td>\n",
       "      <td>rangeeza</td>\n",
       "      <td>2023-05-14</td>\n",
       "    </tr>\n",
       "    <tr>\n",
       "      <th>4</th>\n",
       "      <td>RT @GhafoorLiwal: ویښ او هوښیار ملتونه له خپلو واکمنو کار، زدکړه، تولید، ډوډۍ او د ښه انساني ژوند امکانات غواړي، نه تشې دعاګانې،  کرامات او…</td>\n",
       "      <td>rangeeza</td>\n",
       "      <td>2023-05-14</td>\n",
       "    </tr>\n",
       "  </tbody>\n",
       "</table>\n",
       "</div>"
      ],
      "text/plain": [
       "                                                                                                                                                                                                                                                                                                                                               text   \n",
       "0                                                                                                                                                                                                                                                       @tor_pacha @AmanyNasir تر ټولو لوى غيرتي ته يې وروره!\\nخداى دې دنيا او اخرت کې سرلوړى لره.❤  \\\n",
       "1  د افغان په کور خورې تــــــــــــورې تيارې دي\\nډيوې مړې دي، ډيوې مړې دي، ډيوې مړې دي\\n\\nنن هغه يا خــــو پـــــــه دار او يا پـــه بند دى\\nچــــــې ويشــــلي يې کتاب او ســــيپارې دي\\n\\nګاونډي د خوشالـــــــــــــــۍ جشنونه لمانځي\\nزمونږ کور کــــــې جنـــازې دي، جنـــــازې دي\\n\\nخود به… https://t.co/oC2yzivphT https://t.co/fuQuYtE9Ye   \n",
       "2                                                                                                                                                                                                                                                                                                          @RealMDBilal @RTErdogan @ragipsoylu Why?   \n",
       "3                                 که دښمن دې د يو چا ملاتړ پيل کړ،\\nنو د هغه چا څخه ويره په کار ده;\\nکه نه نو لږ تر لږه احتياط ورسره کول خو حتمي دي.\\n\\nاو هو پر ټاکنو باور نه لرونکي، زورواکه جنګيالي تالبان نن اردوغان ته په ټاکنو کې د برياو سختې دعاوې کوي...😂\\nدوى نن سبا د توسن سپي رول لوبوي، هر چا ته لکۍ ښوروي...… https://t.co/oAQBvwt2lN   \n",
       "4                                                                                                                                                                                                      RT @GhafoorLiwal: ویښ او هوښیار ملتونه له خپلو واکمنو کار، زدکړه، تولید، ډوډۍ او د ښه انساني ژوند امکانات غواړي، نه تشې دعاګانې،  کرامات او…   \n",
       "\n",
       "       name  created_at  \n",
       "0  rangeeza  2023-05-14  \n",
       "1  rangeeza  2023-05-14  \n",
       "2  rangeeza  2023-05-14  \n",
       "3  rangeeza  2023-05-14  \n",
       "4  rangeeza  2023-05-14  "
      ]
     },
     "execution_count": 167,
     "metadata": {},
     "output_type": "execute_result"
    }
   ],
   "source": [
    "# convert the list of tweets to pandas DataFrame\n",
    "df = pd.DataFrame({\n",
    "    'text': [tweet.full_text for tweet in all_tweets],\n",
    "    'name': [tweet.user.screen_name for tweet in all_tweets],\n",
    "    'created_at': [tweet.created_at for tweet in all_tweets],\n",
    "})\n",
    "df['created_at'] = pd.to_datetime(df['created_at'], errors='coerce').dt.date.astype(str)\n",
    "\n",
    "df.head()"
   ]
  },
  {
   "cell_type": "code",
   "execution_count": 168,
   "metadata": {},
   "outputs": [
    {
     "data": {
      "text/plain": [
       "(3209, 3)"
      ]
     },
     "execution_count": 168,
     "metadata": {},
     "output_type": "execute_result"
    }
   ],
   "source": [
    "df.shape"
   ]
  },
  {
   "cell_type": "markdown",
   "metadata": {},
   "source": [
    "##### Remove everything before \":\""
   ]
  },
  {
   "cell_type": "code",
   "execution_count": 169,
   "metadata": {},
   "outputs": [],
   "source": [
    "# df['text'] = df['text'].astype(str)\n",
    "# df['text'] = df['text'].str.split(':').str[0].str.strip()"
   ]
  },
  {
   "cell_type": "code",
   "execution_count": 170,
   "metadata": {},
   "outputs": [],
   "source": [
    "pd.set_option('display.max_colwidth', None)"
   ]
  },
  {
   "cell_type": "code",
   "execution_count": 171,
   "metadata": {},
   "outputs": [
    {
     "data": {
      "text/html": [
       "<div>\n",
       "<style scoped>\n",
       "    .dataframe tbody tr th:only-of-type {\n",
       "        vertical-align: middle;\n",
       "    }\n",
       "\n",
       "    .dataframe tbody tr th {\n",
       "        vertical-align: top;\n",
       "    }\n",
       "\n",
       "    .dataframe thead th {\n",
       "        text-align: right;\n",
       "    }\n",
       "</style>\n",
       "<table border=\"1\" class=\"dataframe\">\n",
       "  <thead>\n",
       "    <tr style=\"text-align: right;\">\n",
       "      <th></th>\n",
       "      <th>text</th>\n",
       "      <th>name</th>\n",
       "      <th>created_at</th>\n",
       "    </tr>\n",
       "  </thead>\n",
       "  <tbody>\n",
       "    <tr>\n",
       "      <th>1801</th>\n",
       "      <td>@ilhamabasi تالبه ستا پر دا بې نسله زات لعنت!\\nچې د ټوپک پر زور، د کورنيو پر ګواښو درانده افغانان لکه دا سپينږيرى تورنوې، سپکوې!\\n\\nآې ملته!\\nقران راته راوړٸ، لاس پر ږدم، پر خداى ج قسم درته خورم، چې تالب د انجونو په نوم پخپله غلاوې کوي او فحش خپروي.\\nدا سړى د ارواپوهنې له مخې دا تور له مجبورۍ مني</td>\n",
       "      <td>rangeeza</td>\n",
       "      <td>2023-02-20</td>\n",
       "    </tr>\n",
       "    <tr>\n",
       "      <th>2583</th>\n",
       "      <td>@BelgiumPtm 👏👏👏</td>\n",
       "      <td>rangeeza</td>\n",
       "      <td>2023-01-30</td>\n",
       "    </tr>\n",
       "    <tr>\n",
       "      <th>365</th>\n",
       "      <td>@Loy_paswal ❤</td>\n",
       "      <td>rangeeza</td>\n",
       "      <td>2023-04-22</td>\n",
       "    </tr>\n",
       "    <tr>\n",
       "      <th>2963</th>\n",
       "      <td>ملته!\\nاوس به په خپلو کې په دې  سره نښتي يوو،\\nچې د انجونو تعليم او که د کرکټ لوبې....؟\\n\\nکه اتل د کرکټ لوبغاړى دى او که اتله زده کوونکې ده;\\nدواړو سره، د يو دښمن لخوا ورته لوبه لوبول کيږي!\\n\\nپر زده کوونکې اتلې تالب د ښوونځي دروازه تړلې،\\nپه لوبغاړي اتل د تالب له امله نړۍ دروازه وتړله.</td>\n",
       "      <td>rangeeza</td>\n",
       "      <td>2023-01-13</td>\n",
       "    </tr>\n",
       "    <tr>\n",
       "      <th>270</th>\n",
       "      <td>@SaharEhsan1 @sayed_rahim_mo @mariam_tjk 🙈🙈🙈😂😂😂 د دوى پنډکونه ټول اضافه دي، نور نو څه لري، پرته له پنډوکو؟ 😂😂😂خيټې يې هم دوې دوې، درې درې، څلور څلور ښکاري😂🙈🙊🙉\\n\\nاملاٸي سمونه:\\n\\n\" تا سره مینه لرم، \\nداسې يې ولیکه ګرانې.\"</td>\n",
       "      <td>rangeeza</td>\n",
       "      <td>2023-04-23</td>\n",
       "    </tr>\n",
       "  </tbody>\n",
       "</table>\n",
       "</div>"
      ],
      "text/plain": [
       "                                                                                                                                                                                                                                                                                                           text   \n",
       "1801  @ilhamabasi تالبه ستا پر دا بې نسله زات لعنت!\\nچې د ټوپک پر زور، د کورنيو پر ګواښو درانده افغانان لکه دا سپينږيرى تورنوې، سپکوې!\\n\\nآې ملته!\\nقران راته راوړٸ، لاس پر ږدم، پر خداى ج قسم درته خورم، چې تالب د انجونو په نوم پخپله غلاوې کوي او فحش خپروي.\\nدا سړى د ارواپوهنې له مخې دا تور له مجبورۍ مني  \\\n",
       "2583                                                                                                                                                                                                                                                                                            @BelgiumPtm 👏👏👏   \n",
       "365                                                                                                                                                                                                                                                                                               @Loy_paswal ❤   \n",
       "2963           ملته!\\nاوس به په خپلو کې په دې  سره نښتي يوو،\\nچې د انجونو تعليم او که د کرکټ لوبې....؟\\n\\nکه اتل د کرکټ لوبغاړى دى او که اتله زده کوونکې ده;\\nدواړو سره، د يو دښمن لخوا ورته لوبه لوبول کيږي!\\n\\nپر زده کوونکې اتلې تالب د ښوونځي دروازه تړلې،\\nپه لوبغاړي اتل د تالب له امله نړۍ دروازه وتړله.   \n",
       "270                                                                               @SaharEhsan1 @sayed_rahim_mo @mariam_tjk 🙈🙈🙈😂😂😂 د دوى پنډکونه ټول اضافه دي، نور نو څه لري، پرته له پنډوکو؟ 😂😂😂خيټې يې هم دوې دوې، درې درې، څلور څلور ښکاري😂🙈🙊🙉\\n\\nاملاٸي سمونه:\\n\\n\" تا سره مینه لرم، \\nداسې يې ولیکه ګرانې.\"   \n",
       "\n",
       "          name  created_at  \n",
       "1801  rangeeza  2023-02-20  \n",
       "2583  rangeeza  2023-01-30  \n",
       "365   rangeeza  2023-04-22  \n",
       "2963  rangeeza  2023-01-13  \n",
       "270   rangeeza  2023-04-23  "
      ]
     },
     "execution_count": 171,
     "metadata": {},
     "output_type": "execute_result"
    }
   ],
   "source": [
    "df.sample(5)"
   ]
  },
  {
   "cell_type": "code",
   "execution_count": 172,
   "metadata": {},
   "outputs": [],
   "source": [
    "import re\n",
    "\n",
    "def remove_emoji(text):\n",
    "    \"\"\"Remove emojis from a text string.\"\"\"\n",
    "    emoji_pattern = re.compile(\"[\"\n",
    "                               u\"\\U0001F600-\\U0001F64F\"  # emoticons\n",
    "                               u\"\\U0001F300-\\U0001F5FF\"  # symbols & pictographs\n",
    "                               u\"\\U0001F680-\\U0001F6FF\"  # transport & map symbols\n",
    "                               u\"\\U0001F1E0-\\U0001F1FF\"  # flags (iOS)\n",
    "                               u\"\\U00002702-\\U000027B0\"\n",
    "                               u\"\\U000024C2-\\U0001F251\"\n",
    "                               \"]+\", flags=re.UNICODE)\n",
    "    text = emoji_pattern.sub(r'', text)\n",
    "    text = text.replace('\\n', ' ')\n",
    "    return emoji_pattern.sub(r'', text)\n",
    "\n",
    "\n",
    "df['text'] = df['text'].str.strip()# remove spaces\n",
    "# Example usage\n",
    "df['text'] =df['text'].apply(remove_emoji)"
   ]
  },
  {
   "cell_type": "code",
   "execution_count": 173,
   "metadata": {},
   "outputs": [],
   "source": [
    "df.dropna(subset=['text'], inplace=True)\n",
    "df.drop_duplicates(subset=['text'], inplace=True)"
   ]
  },
  {
   "cell_type": "code",
   "execution_count": 174,
   "metadata": {},
   "outputs": [
    {
     "data": {
      "text/html": [
       "<div>\n",
       "<style scoped>\n",
       "    .dataframe tbody tr th:only-of-type {\n",
       "        vertical-align: middle;\n",
       "    }\n",
       "\n",
       "    .dataframe tbody tr th {\n",
       "        vertical-align: top;\n",
       "    }\n",
       "\n",
       "    .dataframe thead th {\n",
       "        text-align: right;\n",
       "    }\n",
       "</style>\n",
       "<table border=\"1\" class=\"dataframe\">\n",
       "  <thead>\n",
       "    <tr style=\"text-align: right;\">\n",
       "      <th></th>\n",
       "      <th>text</th>\n",
       "      <th>name</th>\n",
       "      <th>created_at</th>\n",
       "    </tr>\n",
       "  </thead>\n",
       "  <tbody>\n",
       "    <tr>\n",
       "      <th>3199</th>\n",
       "      <td>@SabirNajieb @HNajibullah @TheLostJalalzai @waliarian @rgsarwan @SamiYousafzaii @sashna111 #AllOrNone</td>\n",
       "      <td>rangeeza</td>\n",
       "      <td>2023-01-02</td>\n",
       "    </tr>\n",
       "    <tr>\n",
       "      <th>3200</th>\n",
       "      <td>@Akbari2025 @SDehsabzi @Aziztassal</td>\n",
       "      <td>rangeeza</td>\n",
       "      <td>2023-01-02</td>\n",
       "    </tr>\n",
       "    <tr>\n",
       "      <th>3201</th>\n",
       "      <td>وايي; \"د سپيو که کور په کور بدي وي، ملنګ ته يې يوه ده.\"  هر څوک چې په دې تيروتي وي، چې تالب اشرار يا لنډغر ختم کړل، نو هيله ده راويښ شٸ!  مجاهد، اشرار، لنډغر او اوسنۍ نمونه يې تالب ټول په کې د  د بربادۍ لپاره جوړ وو، لا جوړيږي او پخپلو کې سره جوړ دي.  د دوى ټولو  ته يوه ده!</td>\n",
       "      <td>rangeeza</td>\n",
       "      <td>2023-01-02</td>\n",
       "    </tr>\n",
       "    <tr>\n",
       "      <th>3202</th>\n",
       "      <td>@WakeelMubariz املاٸي سمونه: \"کله چې په دې خبر شم، چې نن له ځوان وزیر صاحب سره وينو، نو زړه مې دومره خوشحاله وي، چې احساس یې نه شم کولی. هغه زمونږ د سر تاج او زمونږ په زړونو کې ځانګړى ځای لري. الله تعالی دې د نړۍ فاتح وګرځوي.\"</td>\n",
       "      <td>rangeeza</td>\n",
       "      <td>2023-01-02</td>\n",
       "    </tr>\n",
       "    <tr>\n",
       "      <th>3203</th>\n",
       "      <td>@WakeelMubariz</td>\n",
       "      <td>rangeeza</td>\n",
       "      <td>2023-01-02</td>\n",
       "    </tr>\n",
       "    <tr>\n",
       "      <th>3204</th>\n",
       "      <td>د نن ورځې خاطره!  #BanTaliban  #AllOrNone  #FreeAfghanistan  #SanctionPakistan https://t.co/rraMBn7yjg</td>\n",
       "      <td>rangeeza</td>\n",
       "      <td>2023-01-02</td>\n",
       "    </tr>\n",
       "    <tr>\n",
       "      <th>3205</th>\n",
       "      <td>@FForotan @HNajibullah آيا تاسې لور، کوچنۍ خور يا د کور بل کوم ماشوم لرٸ؟ ولې يې نه راباسٸ؟  له پيغامه مو د تعصب بوي راځي.... بدبختانه!  خير، ستاسې د مالوماتو او زده کړې لپاره: دا \"هيله\" نوميږي، \"هيلا\" نه. \"هيله\" په پښتو کې آرمان، اميد يا ارزو ته وايي.</td>\n",
       "      <td>rangeeza</td>\n",
       "      <td>2023-01-02</td>\n",
       "    </tr>\n",
       "    <tr>\n",
       "      <th>3206</th>\n",
       "      <td>@SaidAmi97287475 @alizai_rohullah دا د لنډغرو د ورکيدا خبره مه کوٸ; ورک به هلته و، چې وژل شوي يا بندي شوي واى....  لنډغر د دوى دوستان، زمونږ دښمنان او د شريک بادار غلامان دي!</td>\n",
       "      <td>rangeeza</td>\n",
       "      <td>2023-01-02</td>\n",
       "    </tr>\n",
       "    <tr>\n",
       "      <th>3207</th>\n",
       "      <td>@alizai_rohullah وبخښٸ، تاسې تيروتي ياست د پاکستان پر ځاى د افغانستان نوم درڅخه ليکل شوى. دښمن افغانستان ته لاسته راوړنې هيڅکله نه لري.  ډيرې! د تالب لاسته راوړنې د پاکستان لپاره خورا ډيرې دي.</td>\n",
       "      <td>rangeeza</td>\n",
       "      <td>2023-01-02</td>\n",
       "    </tr>\n",
       "    <tr>\n",
       "      <th>3208</th>\n",
       "      <td>@NoorMAfghan ډيره مننه، خو په اوس زمانې کې دا مثال ورکول نو لا غټ سپکاوى دى....</td>\n",
       "      <td>rangeeza</td>\n",
       "      <td>2023-01-02</td>\n",
       "    </tr>\n",
       "  </tbody>\n",
       "</table>\n",
       "</div>"
      ],
      "text/plain": [
       "                                                                                                                                                                                                                                                                                    text   \n",
       "3199                                                                                                                                                                               @SabirNajieb @HNajibullah @TheLostJalalzai @waliarian @rgsarwan @SamiYousafzaii @sashna111 #AllOrNone  \\\n",
       "3200                                                                                                                                                                                                                                                 @Akbari2025 @SDehsabzi @Aziztassal    \n",
       "3201  وايي; \"د سپيو که کور په کور بدي وي، ملنګ ته يې يوه ده.\"  هر څوک چې په دې تيروتي وي، چې تالب اشرار يا لنډغر ختم کړل، نو هيله ده راويښ شٸ!  مجاهد، اشرار، لنډغر او اوسنۍ نمونه يې تالب ټول په کې د  د بربادۍ لپاره جوړ وو، لا جوړيږي او پخپلو کې سره جوړ دي.  د دوى ټولو  ته يوه ده!   \n",
       "3202                                                  @WakeelMubariz املاٸي سمونه: \"کله چې په دې خبر شم، چې نن له ځوان وزیر صاحب سره وينو، نو زړه مې دومره خوشحاله وي، چې احساس یې نه شم کولی. هغه زمونږ د سر تاج او زمونږ په زړونو کې ځانګړى ځای لري. الله تعالی دې د نړۍ فاتح وګرځوي.\"   \n",
       "3203                                                                                                                                                                                                                                                                     @WakeelMubariz    \n",
       "3204                                                                                                                                                                              د نن ورځې خاطره!  #BanTaliban  #AllOrNone  #FreeAfghanistan  #SanctionPakistan https://t.co/rraMBn7yjg   \n",
       "3205                        @FForotan @HNajibullah آيا تاسې لور، کوچنۍ خور يا د کور بل کوم ماشوم لرٸ؟ ولې يې نه راباسٸ؟  له پيغامه مو د تعصب بوي راځي.... بدبختانه!  خير، ستاسې د مالوماتو او زده کړې لپاره: دا \"هيله\" نوميږي، \"هيلا\" نه. \"هيله\" په پښتو کې آرمان، اميد يا ارزو ته وايي.   \n",
       "3206                                                                                                      @SaidAmi97287475 @alizai_rohullah دا د لنډغرو د ورکيدا خبره مه کوٸ; ورک به هلته و، چې وژل شوي يا بندي شوي واى....  لنډغر د دوى دوستان، زمونږ دښمنان او د شريک بادار غلامان دي!   \n",
       "3207                                                                                    @alizai_rohullah وبخښٸ، تاسې تيروتي ياست د پاکستان پر ځاى د افغانستان نوم درڅخه ليکل شوى. دښمن افغانستان ته لاسته راوړنې هيڅکله نه لري.  ډيرې! د تالب لاسته راوړنې د پاکستان لپاره خورا ډيرې دي.   \n",
       "3208                                                                                                                                                                                                     @NoorMAfghan ډيره مننه، خو په اوس زمانې کې دا مثال ورکول نو لا غټ سپکاوى دى....   \n",
       "\n",
       "          name  created_at  \n",
       "3199  rangeeza  2023-01-02  \n",
       "3200  rangeeza  2023-01-02  \n",
       "3201  rangeeza  2023-01-02  \n",
       "3202  rangeeza  2023-01-02  \n",
       "3203  rangeeza  2023-01-02  \n",
       "3204  rangeeza  2023-01-02  \n",
       "3205  rangeeza  2023-01-02  \n",
       "3206  rangeeza  2023-01-02  \n",
       "3207  rangeeza  2023-01-02  \n",
       "3208  rangeeza  2023-01-02  "
      ]
     },
     "execution_count": 174,
     "metadata": {},
     "output_type": "execute_result"
    }
   ],
   "source": [
    "df.tail(10)"
   ]
  },
  {
   "cell_type": "markdown",
   "metadata": {},
   "source": [
    "##### Add Gender and Ethnic"
   ]
  },
  {
   "cell_type": "code",
   "execution_count": 175,
   "metadata": {},
   "outputs": [],
   "source": [
    "if 'gender' not in df.columns:\n",
    "    df['gender'] = ''\n",
    "if 'ethnic' not in df.columns:\n",
    "    df['ethnic'] = ''"
   ]
  },
  {
   "cell_type": "code",
   "execution_count": 176,
   "metadata": {},
   "outputs": [],
   "source": [
    "df.loc[df['gender'] == '', 'gender'] = 'female'\n",
    "df.loc[df['ethnic'] == '', 'ethnic'] = 'tajik'"
   ]
  },
  {
   "cell_type": "code",
   "execution_count": 177,
   "metadata": {},
   "outputs": [
    {
     "data": {
      "text/html": [
       "<div>\n",
       "<style scoped>\n",
       "    .dataframe tbody tr th:only-of-type {\n",
       "        vertical-align: middle;\n",
       "    }\n",
       "\n",
       "    .dataframe tbody tr th {\n",
       "        vertical-align: top;\n",
       "    }\n",
       "\n",
       "    .dataframe thead th {\n",
       "        text-align: right;\n",
       "    }\n",
       "</style>\n",
       "<table border=\"1\" class=\"dataframe\">\n",
       "  <thead>\n",
       "    <tr style=\"text-align: right;\">\n",
       "      <th></th>\n",
       "      <th>text</th>\n",
       "      <th>name</th>\n",
       "      <th>created_at</th>\n",
       "      <th>gender</th>\n",
       "      <th>ethnic</th>\n",
       "    </tr>\n",
       "  </thead>\n",
       "  <tbody>\n",
       "    <tr>\n",
       "      <th>0</th>\n",
       "      <td>@tor_pacha @AmanyNasir تر ټولو لوى غيرتي ته يې وروره! خداى دې دنيا او اخرت کې سرلوړى لره.</td>\n",
       "      <td>rangeeza</td>\n",
       "      <td>2023-05-14</td>\n",
       "      <td>female</td>\n",
       "      <td>tajik</td>\n",
       "    </tr>\n",
       "    <tr>\n",
       "      <th>1</th>\n",
       "      <td>د افغان په کور خورې تــــــــــــورې تيارې دي ډيوې مړې دي، ډيوې مړې دي، ډيوې مړې دي  نن هغه يا خــــو پـــــــه دار او يا پـــه بند دى چــــــې ويشــــلي يې کتاب او ســــيپارې دي  ګاونډي د خوشالـــــــــــــــۍ جشنونه لمانځي زمونږ کور کــــــې جنـــازې دي، جنـــــازې دي  خود به… https://t.co/oC2yzivphT https://t.co/fuQuYtE9Ye</td>\n",
       "      <td>rangeeza</td>\n",
       "      <td>2023-05-14</td>\n",
       "      <td>female</td>\n",
       "      <td>tajik</td>\n",
       "    </tr>\n",
       "    <tr>\n",
       "      <th>2</th>\n",
       "      <td>@RealMDBilal @RTErdogan @ragipsoylu Why?</td>\n",
       "      <td>rangeeza</td>\n",
       "      <td>2023-05-14</td>\n",
       "      <td>female</td>\n",
       "      <td>tajik</td>\n",
       "    </tr>\n",
       "    <tr>\n",
       "      <th>3</th>\n",
       "      <td>که دښمن دې د يو چا ملاتړ پيل کړ، نو د هغه چا څخه ويره په کار ده; که نه نو لږ تر لږه احتياط ورسره کول خو حتمي دي.  او هو پر ټاکنو باور نه لرونکي، زورواکه جنګيالي تالبان نن اردوغان ته په ټاکنو کې د برياو سختې دعاوې کوي... دوى نن سبا د توسن سپي رول لوبوي، هر چا ته لکۍ ښوروي...… https://t.co/oAQBvwt2lN</td>\n",
       "      <td>rangeeza</td>\n",
       "      <td>2023-05-14</td>\n",
       "      <td>female</td>\n",
       "      <td>tajik</td>\n",
       "    </tr>\n",
       "    <tr>\n",
       "      <th>4</th>\n",
       "      <td>RT @GhafoorLiwal: ویښ او هوښیار ملتونه له خپلو واکمنو کار، زدکړه، تولید، ډوډۍ او د ښه انساني ژوند امکانات غواړي، نه تشې دعاګانې،  کرامات او…</td>\n",
       "      <td>rangeeza</td>\n",
       "      <td>2023-05-14</td>\n",
       "      <td>female</td>\n",
       "      <td>tajik</td>\n",
       "    </tr>\n",
       "  </tbody>\n",
       "</table>\n",
       "</div>"
      ],
      "text/plain": [
       "                                                                                                                                                                                                                                                                                                                                      text   \n",
       "0                                                                                                                                                                                                                                                @tor_pacha @AmanyNasir تر ټولو لوى غيرتي ته يې وروره! خداى دې دنيا او اخرت کې سرلوړى لره.  \\\n",
       "1  د افغان په کور خورې تــــــــــــورې تيارې دي ډيوې مړې دي، ډيوې مړې دي، ډيوې مړې دي  نن هغه يا خــــو پـــــــه دار او يا پـــه بند دى چــــــې ويشــــلي يې کتاب او ســــيپارې دي  ګاونډي د خوشالـــــــــــــــۍ جشنونه لمانځي زمونږ کور کــــــې جنـــازې دي، جنـــــازې دي  خود به… https://t.co/oC2yzivphT https://t.co/fuQuYtE9Ye   \n",
       "2                                                                                                                                                                                                                                                                                                 @RealMDBilal @RTErdogan @ragipsoylu Why?   \n",
       "3                              که دښمن دې د يو چا ملاتړ پيل کړ، نو د هغه چا څخه ويره په کار ده; که نه نو لږ تر لږه احتياط ورسره کول خو حتمي دي.  او هو پر ټاکنو باور نه لرونکي، زورواکه جنګيالي تالبان نن اردوغان ته په ټاکنو کې د برياو سختې دعاوې کوي... دوى نن سبا د توسن سپي رول لوبوي، هر چا ته لکۍ ښوروي...… https://t.co/oAQBvwt2lN   \n",
       "4                                                                                                                                                                                             RT @GhafoorLiwal: ویښ او هوښیار ملتونه له خپلو واکمنو کار، زدکړه، تولید، ډوډۍ او د ښه انساني ژوند امکانات غواړي، نه تشې دعاګانې،  کرامات او…   \n",
       "\n",
       "       name  created_at  gender ethnic  \n",
       "0  rangeeza  2023-05-14  female  tajik  \n",
       "1  rangeeza  2023-05-14  female  tajik  \n",
       "2  rangeeza  2023-05-14  female  tajik  \n",
       "3  rangeeza  2023-05-14  female  tajik  \n",
       "4  rangeeza  2023-05-14  female  tajik  "
      ]
     },
     "execution_count": 177,
     "metadata": {},
     "output_type": "execute_result"
    }
   ],
   "source": [
    "df.head(5)"
   ]
  },
  {
   "cell_type": "code",
   "execution_count": 178,
   "metadata": {},
   "outputs": [],
   "source": [
    "from deep_translator import GoogleTranslator \n",
    "from googletrans import Translator"
   ]
  },
  {
   "cell_type": "code",
   "execution_count": 179,
   "metadata": {},
   "outputs": [],
   "source": [
    "translator = Translator()\n",
    "df[\"text\"] = df[\"text\"].apply(lambda x: GoogleTranslator(source=\"auto\", target=\"en\").translate(x))\n"
   ]
  },
  {
   "cell_type": "code",
   "execution_count": 180,
   "metadata": {},
   "outputs": [
    {
     "data": {
      "text/html": [
       "<div>\n",
       "<style scoped>\n",
       "    .dataframe tbody tr th:only-of-type {\n",
       "        vertical-align: middle;\n",
       "    }\n",
       "\n",
       "    .dataframe tbody tr th {\n",
       "        vertical-align: top;\n",
       "    }\n",
       "\n",
       "    .dataframe thead th {\n",
       "        text-align: right;\n",
       "    }\n",
       "</style>\n",
       "<table border=\"1\" class=\"dataframe\">\n",
       "  <thead>\n",
       "    <tr style=\"text-align: right;\">\n",
       "      <th></th>\n",
       "      <th>text</th>\n",
       "      <th>name</th>\n",
       "      <th>created_at</th>\n",
       "      <th>gender</th>\n",
       "      <th>ethnic</th>\n",
       "    </tr>\n",
       "  </thead>\n",
       "  <tbody>\n",
       "    <tr>\n",
       "      <th>0</th>\n",
       "      <td>@tor_pacha @AmanyNasir to the greatest honor brother! God is supreme in this world and the hereafter.</td>\n",
       "      <td>rangeeza</td>\n",
       "      <td>2023-05-14</td>\n",
       "      <td>female</td>\n",
       "      <td>tajik</td>\n",
       "    </tr>\n",
       "    <tr>\n",
       "      <th>1</th>\n",
       "      <td>It is dark in the house of the Afghan sisters, two are dead, two are dead, two are dead. Today, he is either in jail or in prison, who distributed books and books. Neighbors are celebrating happy festivals. Self will… https://t.co/oC2yzivphT https://t.co/fuQuYtE9Ye</td>\n",
       "      <td>rangeeza</td>\n",
       "      <td>2023-05-14</td>\n",
       "      <td>female</td>\n",
       "      <td>tajik</td>\n",
       "    </tr>\n",
       "    <tr>\n",
       "      <th>2</th>\n",
       "      <td>@RealMDBilal @RTErdogan @ragipsoylu Why?</td>\n",
       "      <td>rangeeza</td>\n",
       "      <td>2023-05-14</td>\n",
       "      <td>female</td>\n",
       "      <td>tajik</td>\n",
       "    </tr>\n",
       "    <tr>\n",
       "      <th>3</th>\n",
       "      <td>If the enemy starts supporting someone, then that person is feared; Otherwise, it is necessary to be at least careful with it. And yes, the Taliban, who do not believe in the elections, are praying hard for Erdoğan's success in the elections today. /oAQBvwt2lN</td>\n",
       "      <td>rangeeza</td>\n",
       "      <td>2023-05-14</td>\n",
       "      <td>female</td>\n",
       "      <td>tajik</td>\n",
       "    </tr>\n",
       "    <tr>\n",
       "      <th>4</th>\n",
       "      <td>RT @GhafoorLiwal: Awake and intelligent nations want work, education, production, food and good human life possibilities from their rulers, not empty prayers, blessings and...</td>\n",
       "      <td>rangeeza</td>\n",
       "      <td>2023-05-14</td>\n",
       "      <td>female</td>\n",
       "      <td>tajik</td>\n",
       "    </tr>\n",
       "  </tbody>\n",
       "</table>\n",
       "</div>"
      ],
      "text/plain": [
       "                                                                                                                                                                                                                                                                        text   \n",
       "0                                                                                                                                                                      @tor_pacha @AmanyNasir to the greatest honor brother! God is supreme in this world and the hereafter.  \\\n",
       "1  It is dark in the house of the Afghan sisters, two are dead, two are dead, two are dead. Today, he is either in jail or in prison, who distributed books and books. Neighbors are celebrating happy festivals. Self will… https://t.co/oC2yzivphT https://t.co/fuQuYtE9Ye   \n",
       "2                                                                                                                                                                                                                                   @RealMDBilal @RTErdogan @ragipsoylu Why?   \n",
       "3       If the enemy starts supporting someone, then that person is feared; Otherwise, it is necessary to be at least careful with it. And yes, the Taliban, who do not believe in the elections, are praying hard for Erdoğan's success in the elections today. /oAQBvwt2lN   \n",
       "4                                                                                            RT @GhafoorLiwal: Awake and intelligent nations want work, education, production, food and good human life possibilities from their rulers, not empty prayers, blessings and...   \n",
       "\n",
       "       name  created_at  gender ethnic  \n",
       "0  rangeeza  2023-05-14  female  tajik  \n",
       "1  rangeeza  2023-05-14  female  tajik  \n",
       "2  rangeeza  2023-05-14  female  tajik  \n",
       "3  rangeeza  2023-05-14  female  tajik  \n",
       "4  rangeeza  2023-05-14  female  tajik  "
      ]
     },
     "execution_count": 180,
     "metadata": {},
     "output_type": "execute_result"
    }
   ],
   "source": [
    "df.head()"
   ]
  },
  {
   "cell_type": "code",
   "execution_count": 181,
   "metadata": {},
   "outputs": [],
   "source": [
    "df.to_excel('../data/women_ordinary_people/BalqisEhsan.xlsx', index=False)\n"
   ]
  },
  {
   "cell_type": "code",
   "execution_count": null,
   "metadata": {},
   "outputs": [],
   "source": []
  }
 ],
 "metadata": {
  "kernelspec": {
   "display_name": "Python 3 (ipykernel)",
   "language": "python",
   "name": "python3"
  },
  "language_info": {
   "codemirror_mode": {
    "name": "ipython",
    "version": 3
   },
   "file_extension": ".py",
   "mimetype": "text/x-python",
   "name": "python",
   "nbconvert_exporter": "python",
   "pygments_lexer": "ipython3",
   "version": "3.11.3"
  }
 },
 "nbformat": 4,
 "nbformat_minor": 2
}
