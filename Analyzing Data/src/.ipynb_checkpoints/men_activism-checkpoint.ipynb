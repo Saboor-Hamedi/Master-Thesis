{
 "cells": [
  {
   "cell_type": "code",
   "execution_count": 60,
   "metadata": {},
   "outputs": [],
   "source": [
    "\n",
    "import random\n",
    "import re\n",
    "import pandas as pd\n",
    "from sklearn.feature_extraction.text import CountVectorizer\n",
    "from sklearn.feature_extraction.text import TfidfVectorizer\n",
    "from textblob import TextBlob\n",
    "import matplotlib.pyplot as plt\n",
    "import seaborn as sns\n",
    "from scipy import stats\n",
    "from scipy.stats import chi2_contingency\n",
    "import statsmodels.api as sm\n",
    "import numpy as np\n",
    "pd.options.display.max_colwidth = 1000\n",
    "pd.options.mode.chained_assignment = None\n"
   ]
  },
  {
   "cell_type": "markdown",
   "metadata": {},
   "source": [
    "##### Load Data"
   ]
  },
  {
   "cell_type": "code",
   "execution_count": 61,
   "metadata": {},
   "outputs": [],
   "source": [
    "df = pd.read_excel('../data/men_activists/men_activists.xlsx')"
   ]
  },
  {
   "cell_type": "markdown",
   "metadata": {},
   "source": [
    "##### Drop Null, Empty, and NaN values"
   ]
  },
  {
   "cell_type": "code",
   "execution_count": 62,
   "metadata": {},
   "outputs": [],
   "source": [
    "df.dropna(subset=['text'], inplace=True) #remove nan value\n",
    "df.drop_duplicates(subset=['text'], inplace=True) #remove nan duplicate value\n",
    "df = df.dropna(axis=1, how='all')\n",
    "df = df.dropna(axis=1, how='all').loc[:, df.notna().any()]"
   ]
  },
  {
   "cell_type": "markdown",
   "metadata": {},
   "source": [
    "##### Clean Data"
   ]
  },
  {
   "cell_type": "code",
   "execution_count": 63,
   "metadata": {},
   "outputs": [],
   "source": [
    "def clean_tweet_text(text):\n",
    "    # Check for null or NaN values\n",
    "    if pd.isnull(text):\n",
    "        return text\n",
    "    # Remove URL\n",
    "    text = re.sub(r'http\\S+', '', text)\n",
    "    \n",
    "    # Remove RT (retweet) tag\n",
    "    text = text.replace('RT', '')\n",
    "    \n",
    "    # Remove numbers\n",
    "    text = re.sub(r'\\d+', '', text)\n",
    "    \n",
    "    # Remove special characters and punctuations, and add a space after removing them\n",
    "    text = re.sub(r'[^\\w\\s]', '', text)\n",
    "\n",
    "    # Remove hashtags\n",
    "    text = re.sub(r'#(\\w+)', '', str(text))\n",
    "    # Remove extra spaces\n",
    "    text = ' '.join(text.split())\n",
    "    \n",
    "    # Convert to lowercase\n",
    "    text = text.lower()\n",
    "    \n",
    "    return text\n",
    "# Apply the cleaning function to 'text' column\n",
    "df['text'] = df['text'].apply(clean_tweet_text)\n"
   ]
  },
  {
   "cell_type": "markdown",
   "metadata": {},
   "source": [
    "##### Remove Text Less then 30 characters"
   ]
  },
  {
   "cell_type": "code",
   "execution_count": 64,
   "metadata": {},
   "outputs": [],
   "source": [
    "# df = pd.read_excel('../data_processed/men_activists.xlsx')"
   ]
  },
  {
   "cell_type": "code",
   "execution_count": 65,
   "metadata": {},
   "outputs": [],
   "source": [
    "df = df[df['text'].str.len() >=30]"
   ]
  },
  {
   "cell_type": "markdown",
   "metadata": {},
   "source": [
    "##### Remove Empty Rows"
   ]
  },
  {
   "cell_type": "code",
   "execution_count": 66,
   "metadata": {},
   "outputs": [],
   "source": [
    "def remove_empty_rows(df):\n",
    "    # Iterate over each column in the DataFrame\n",
    "    for column in df.columns:\n",
    "        # Remove rows with empty values in the column\n",
    "        df = df[df[column].notna() & df[column].astype(str).str.strip().ne('')]\n",
    "    return df\n",
    "\n",
    "df = remove_empty_rows(df)\n"
   ]
  },
  {
   "cell_type": "markdown",
   "metadata": {},
   "source": [
    "##### Remove All Null Values"
   ]
  },
  {
   "cell_type": "code",
   "execution_count": 67,
   "metadata": {},
   "outputs": [],
   "source": [
    "def remove_null_columns(df):\n",
    "    # Iterate over each column in the DataFrame\n",
    "    for column in df.columns:\n",
    "        # Check if the column contains any null values\n",
    "        if df[column].isnull().any():\n",
    "            # If any null value exists, drop the column\n",
    "            df = df.drop(column, axis=1)\n",
    "    return df\n",
    "df = remove_null_columns(df)\n"
   ]
  },
  {
   "cell_type": "markdown",
   "metadata": {},
   "source": [
    "##### Remove Stopwords"
   ]
  },
  {
   "cell_type": "code",
   "execution_count": 68,
   "metadata": {},
   "outputs": [],
   "source": [
    "from nltk.corpus import stopwords\n",
    "def remove_stopwords(df):\n",
    "    stop_words = set(stopwords.words('english'))\n",
    "    df['text'] = df['text'].apply(lambda x: ' '.join([word for word in x.split() if word not in stop_words]))\n",
    "    return df\n",
    "df = remove_stopwords(df)"
   ]
  },
  {
   "cell_type": "markdown",
   "metadata": {},
   "source": [
    "##### Convert Timezone"
   ]
  },
  {
   "cell_type": "code",
   "execution_count": 69,
   "metadata": {},
   "outputs": [],
   "source": [
    "df['created_at'] = pd.to_datetime(df['created_at'], errors='coerce').dt.date.astype(str)"
   ]
  },
  {
   "cell_type": "markdown",
   "metadata": {},
   "source": [
    "##### Drop the whole rows which is >=2020"
   ]
  },
  {
   "cell_type": "code",
   "execution_count": 70,
   "metadata": {},
   "outputs": [],
   "source": [
    "df[\"created_at\"] = pd.to_datetime(df[\"created_at\"], format=\"%Y-%m-%d\")\n",
    "filtered_df = df[df[\"created_at\"].dt.year >= 2020]\n",
    "df.drop(df[df[\"created_at\"].dt.year <= 2020].index, inplace=True)\n"
   ]
  },
  {
   "cell_type": "markdown",
   "metadata": {},
   "source": [
    "##### Check How Many accounts are there"
   ]
  },
  {
   "cell_type": "code",
   "execution_count": 71,
   "metadata": {},
   "outputs": [
    {
     "data": {
      "text/plain": [
       "54"
      ]
     },
     "execution_count": 71,
     "metadata": {},
     "output_type": "execute_result"
    }
   ],
   "source": [
    "len(df['name'].unique())"
   ]
  },
  {
   "cell_type": "markdown",
   "metadata": {},
   "source": [
    "##### Labeling Process"
   ]
  },
  {
   "cell_type": "code",
   "execution_count": 72,
   "metadata": {},
   "outputs": [],
   "source": [
    "df['text'] = df['text'].str.lower()\n",
    "df['text'] = df['text'].astype(str)"
   ]
  },
  {
   "cell_type": "code",
   "execution_count": 73,
   "metadata": {},
   "outputs": [],
   "source": [
    "def label_tweets(text):\n",
    "    keywords = ['education', 'school', 'university', 'women', 'girl']\n",
    "    for keyword in keywords:\n",
    "        if keyword in text.lower():\n",
    "            return 1\n",
    "    return 0\n",
    "df = df.copy()\n",
    "df['label'] = df['text'].apply(label_tweets)"
   ]
  },
  {
   "cell_type": "markdown",
   "metadata": {},
   "source": [
    "##### Sentiment Analysis"
   ]
  },
  {
   "cell_type": "code",
   "execution_count": 75,
   "metadata": {},
   "outputs": [],
   "source": [
    "x = df['text']\n",
    "sentiment_labels = []\n",
    "sentiment_scores = []\n",
    "for tweet in x:\n",
    "    # Create a TextBlob object\n",
    "    blob = TextBlob(tweet)\n",
    "    # Get the sentiment polarity (-1 to 1)\n",
    "    polarity = blob.sentiment.polarity\n",
    "    if polarity > 0:\n",
    "        sentiment = 'positive'\n",
    "    elif polarity < 0:\n",
    "        sentiment = 'negative'\n",
    "    else:\n",
    "        sentiment = 'neutral'\n",
    "    \n",
    "    sentiment_labels.append(sentiment)\n",
    "    sentiment_scores.append(polarity)\n",
    "# Add the sentiment labels and scores as new columns in the DataFrame\n",
    "df['sentiment'] = sentiment_labels\n",
    "df['sentiment_score'] = sentiment_scores"
   ]
  },
  {
   "cell_type": "markdown",
   "metadata": {},
   "source": [
    "##### Data Set Summary"
   ]
  },
  {
   "cell_type": "code",
   "execution_count": 76,
   "metadata": {},
   "outputs": [
    {
     "name": "stdout",
     "output_type": "stream",
     "text": [
      "Sentiment Counts:\n",
      " sentiment\n",
      "neutral     8485\n",
      "positive    5235\n",
      "negative    3949\n",
      "Name: count, dtype: int64\n",
      "Total Counts: 9184\n"
     ]
    }
   ],
   "source": [
    "sentiment_counts = df['sentiment'].value_counts()\n",
    "print(\"Sentiment Counts:\\n\", sentiment_counts)\n",
    "total_counts = sentiment_counts['positive'] + sentiment_counts['negative']\n",
    "print(\"Total Counts:\", total_counts)"
   ]
  },
  {
   "cell_type": "markdown",
   "metadata": {},
   "source": [
    "##### Calculate positive tweets and percentage for women, single user"
   ]
  },
  {
   "cell_type": "code",
   "execution_count": 77,
   "metadata": {},
   "outputs": [
    {
     "name": "stdout",
     "output_type": "stream",
     "text": [
      "Positive tweets from women: 5235 ( 29.628162318184394 %)\n"
     ]
    }
   ],
   "source": [
    "women_positive_count = df[(df['gender'] == 'male') & (df['sentiment'] == 'positive')].shape[0]\n",
    "women_total_count = df[df['gender'] == 'male'].shape[0]\n",
    "women_positive_percentage = (women_positive_count / women_total_count) * 100\n",
    "# Print the results\n",
    "print(\"Positive tweets from women:\", women_positive_count, \"(\", women_positive_percentage, \"%)\")"
   ]
  },
  {
   "cell_type": "code",
   "execution_count": 78,
   "metadata": {},
   "outputs": [
    {
     "data": {
      "image/png": "[encoded data removed]",
      "text/plain": [
       "<Figure size 640x480 with 1 Axes>"
      ]
     },
     "metadata": {},
     "output_type": "display_data"
    }
   ],
   "source": [
    "import matplotlib.pyplot as plt\n",
    "# Bar chart\n",
    "sentiment_categories = ['Positive', 'Negative', 'Neutral']\n",
    "counts = df['sentiment'].value_counts()\n",
    "colors = ['orange', 'red', 'blue']\n",
    "plt.bar(sentiment_categories, counts, color=colors)\n",
    "plt.xlabel('Sentiment Category')\n",
    "plt.ylabel('Count')\n",
    "plt.title('Sentiment Distribution')\n",
    "plt.show()"
   ]
  },
  {
   "cell_type": "markdown",
   "metadata": {},
   "source": [
    "##### Content Analysis"
   ]
  },
  {
   "cell_type": "code",
   "execution_count": 79,
   "metadata": {},
   "outputs": [
    {
     "name": "stdout",
     "output_type": "stream",
     "text": [
      "Number of tweets in favor of education:  6503\n"
     ]
    }
   ],
   "source": [
    "df_edu = df.loc[df['label'] == 1]\n",
    "print(\"Number of tweets in favor of education: \", len(df_edu))"
   ]
  },
  {
   "cell_type": "markdown",
   "metadata": {},
   "source": [
    "##### Code Schema"
   ]
  },
  {
   "cell_type": "code",
   "execution_count": 80,
   "metadata": {},
   "outputs": [],
   "source": [
    "coding_scheme = {\n",
    "'women': ['women', 'woman', 'female', 'feminine', 'girl', 'lady'],\n",
    "'education': ['education', 'educational', 'learning', 'academics', 'knowledge'],\n",
    "'school': ['school', 'classroom', 'teacher', 'students', 'curriculum'],\n",
    "'university': ['university', 'college', 'higher education', 'academia', 'campus'],\n",
    "'access': ['access', 'opportunity', 'enrollment', 'attendance', 'entry'],\n",
    "'quality': ['quality', 'standard', 'curriculum', 'teaching', 'learning'],\n",
    "'benefits': ['benefit', 'advantage', 'improvement', 'progress'],\n",
    "'barriers': ['barrier', 'restriction', 'obstacle', 'challenge', 'difficulty'],\n",
    "'empowerment': ['empower', 'empowering', 'confidence', 'self-esteem', 'agency'],\n",
    "'gender': ['gender', 'discriminatioan', 'inequality', 'feminism', 'patriarchy']\n",
    "}\n",
    "\n",
    "# Define a function to apply the coding scheme to each tweet\n",
    "def apply_coding_scheme(text):\n",
    "    codes = []\n",
    "    for code, keywords in coding_scheme.items():\n",
    "        for keyword in keywords:\n",
    "            if keyword in text.lower():\n",
    "                codes.append(code)\n",
    "    return codes\n",
    "\n",
    "# Apply the coding scheme to the text column and create a new column for the codes\n",
    "df_edu['codes'] = df_edu['text'].apply(apply_coding_scheme)"
   ]
  },
  {
   "cell_type": "code",
   "execution_count": 81,
   "metadata": {},
   "outputs": [
    {
     "data": {
      "text/html": [
       "<div>\n",
       "<style scoped>\n",
       "    .dataframe tbody tr th:only-of-type {\n",
       "        vertical-align: middle;\n",
       "    }\n",
       "\n",
       "    .dataframe tbody tr th {\n",
       "        vertical-align: top;\n",
       "    }\n",
       "\n",
       "    .dataframe thead th {\n",
       "        text-align: right;\n",
       "    }\n",
       "</style>\n",
       "<table border=\"1\" class=\"dataframe\">\n",
       "  <thead>\n",
       "    <tr style=\"text-align: right;\">\n",
       "      <th></th>\n",
       "      <th>text</th>\n",
       "      <th>sentiment</th>\n",
       "      <th>sentiment_score</th>\n",
       "      <th>gender</th>\n",
       "      <th>label</th>\n",
       "      <th>codes</th>\n",
       "    </tr>\n",
       "  </thead>\n",
       "  <tbody>\n",
       "    <tr>\n",
       "      <th>10322</th>\n",
       "      <td>part research upcoming report investigating online abuse targeting politically engaged afghan women aw sp</td>\n",
       "      <td>neutral</td>\n",
       "      <td>0.000000</td>\n",
       "      <td>male</td>\n",
       "      <td>1</td>\n",
       "      <td>[women]</td>\n",
       "    </tr>\n",
       "    <tr>\n",
       "      <th>23792</th>\n",
       "      <td>ocha reported one tenth one million girls deprived going school thousand girls deprived education afghanistan</td>\n",
       "      <td>neutral</td>\n",
       "      <td>0.000000</td>\n",
       "      <td>male</td>\n",
       "      <td>1</td>\n",
       "      <td>[women, education, school]</td>\n",
       "    </tr>\n",
       "    <tr>\n",
       "      <th>19384</th>\n",
       "      <td>court moscow fined two activists picketing afghan embassy demand womens rights protect</td>\n",
       "      <td>neutral</td>\n",
       "      <td>0.000000</td>\n",
       "      <td>male</td>\n",
       "      <td>1</td>\n",
       "      <td>[women]</td>\n",
       "    </tr>\n",
       "    <tr>\n",
       "      <th>19015</th>\n",
       "      <td>taliban security forces met womens rights demonstrations violence activists started holding protests</td>\n",
       "      <td>neutral</td>\n",
       "      <td>0.000000</td>\n",
       "      <td>male</td>\n",
       "      <td>1</td>\n",
       "      <td>[women]</td>\n",
       "    </tr>\n",
       "    <tr>\n",
       "      <th>18024</th>\n",
       "      <td>rise taliban women staying home many women turned handicrafts large number women arts</td>\n",
       "      <td>positive</td>\n",
       "      <td>0.357143</td>\n",
       "      <td>male</td>\n",
       "      <td>1</td>\n",
       "      <td>[women]</td>\n",
       "    </tr>\n",
       "  </tbody>\n",
       "</table>\n",
       "</div>"
      ],
      "text/plain": [
       "                                                                                                                text   \n",
       "10322      part research upcoming report investigating online abuse targeting politically engaged afghan women aw sp  \\\n",
       "23792  ocha reported one tenth one million girls deprived going school thousand girls deprived education afghanistan   \n",
       "19384                         court moscow fined two activists picketing afghan embassy demand womens rights protect   \n",
       "19015           taliban security forces met womens rights demonstrations violence activists started holding protests   \n",
       "18024                          rise taliban women staying home many women turned handicrafts large number women arts   \n",
       "\n",
       "      sentiment  sentiment_score gender  label                       codes  \n",
       "10322   neutral         0.000000   male      1                     [women]  \n",
       "23792   neutral         0.000000   male      1  [women, education, school]  \n",
       "19384   neutral         0.000000   male      1                     [women]  \n",
       "19015   neutral         0.000000   male      1                     [women]  \n",
       "18024  positive         0.357143   male      1                     [women]  "
      ]
     },
     "execution_count": 81,
     "metadata": {},
     "output_type": "execute_result"
    }
   ],
   "source": [
    "df_edu[['text','sentiment','sentiment_score','gender','label','codes']].sample(5)"
   ]
  },
  {
   "cell_type": "markdown",
   "metadata": {},
   "source": [
    "##### Visualization"
   ]
  },
  {
   "cell_type": "code",
   "execution_count": 82,
   "metadata": {},
   "outputs": [
    {
     "data": {
      "image/png": "[encoded data removed]",
      "text/plain": [
       "<Figure size 640x480 with 1 Axes>"
      ]
     },
     "metadata": {},
     "output_type": "display_data"
    }
   ],
   "source": [
    "df_codes = df_edu.explode('codes')\n",
    "# Calculate the frequency and percentage of each code\n",
    "code_freq = df_codes['codes'].value_counts()\n",
    "code_perc = code_freq / len(df_edu) * 100\n",
    "# Plot the code frequencies as a bar chart\n",
    "plt.bar(code_perc.index, code_perc.values)\n",
    "plt.title('Frequencies of codes in tweets in favor of education')\n",
    "plt.xlabel('Code')\n",
    "plt.xticks(rotation=90)\n",
    "plt.ylabel('Percentage')\n",
    "plt.show()"
   ]
  },
  {
   "cell_type": "code",
   "execution_count": 83,
   "metadata": {},
   "outputs": [
    {
     "name": "stdout",
     "output_type": "stream",
     "text": [
      "Sentiment analysis of tweets containing the keyword 'women':\n",
      "sentiment\n",
      "negative     530\n",
      "neutral     1696\n",
      "positive     904\n",
      "Name: text, dtype: int64\n",
      "Sentiment analysis of tweets containing the keyword 'education':\n",
      "sentiment\n",
      "negative    231\n",
      "neutral     642\n",
      "positive    664\n",
      "Name: text, dtype: int64\n",
      "Sentiment analysis of tweets containing the keyword 'school':\n",
      "sentiment\n",
      "negative    357\n",
      "neutral     663\n",
      "positive    377\n",
      "Name: text, dtype: int64\n",
      "Sentiment analysis of tweets containing the keyword 'university':\n",
      "sentiment\n",
      "negative     92\n",
      "neutral     322\n",
      "positive    149\n",
      "Name: text, dtype: int64\n",
      "Sentiment analysis of tweets containing the keyword 'girl':\n",
      "sentiment\n",
      "negative     519\n",
      "neutral     1120\n",
      "positive     735\n",
      "Name: text, dtype: int64\n"
     ]
    }
   ],
   "source": [
    "from nltk.sentiment import SentimentIntensityAnalyzer\n",
    "import nltk\n",
    "# Initialize the sentiment analyzer\n",
    "sid = SentimentIntensityAnalyzer()\n",
    "# Loop through each keyword and calculate the sentiment of tweets containing that keyword\n",
    "for keyword in ['women', 'education', 'school', 'university', 'girl']:\n",
    "    keyword_tweets = df_edu[df_edu['text'].str.contains(keyword)].copy()\n",
    "    keyword_tweets.loc[:, 'sentiment_score'] = keyword_tweets['text'].apply(lambda x: sid.polarity_scores(x)['compound'])\n",
    "    print(f\"Sentiment analysis of tweets containing the keyword '{keyword}':\")\n",
    "    print(keyword_tweets.groupby('sentiment')['text'].count())\n"
   ]
  },
  {
   "cell_type": "code",
   "execution_count": 84,
   "metadata": {},
   "outputs": [
    {
     "name": "stdout",
     "output_type": "stream",
     "text": [
      "Sentiment analysis of tweets containing the keyword 'women education':\n",
      "sentiment\n",
      "negative     1\n",
      "neutral     10\n",
      "positive     7\n",
      "Name: text, dtype: int64\n"
     ]
    }
   ],
   "source": [
    "for keyword in ['women education']:\n",
    "    keyword_tweets = df_edu[df_edu['text'].str.contains(keyword)].copy()\n",
    "    keyword_tweets.loc[:, 'sentiment_score'] = keyword_tweets['text'].apply(lambda x: sid.polarity_scores(x)['compound'])\n",
    "    print(f\"Sentiment analysis of tweets containing the keyword '{keyword}':\")\n",
    "    print(keyword_tweets.groupby('sentiment')['text'].count())"
   ]
  },
  {
   "cell_type": "code",
   "execution_count": 85,
   "metadata": {},
   "outputs": [
    {
     "name": "stdout",
     "output_type": "stream",
     "text": [
      "Sentiment analysis of tweets containing the keyword 'women education':\n",
      "sentiment\n",
      "negative      1 (5.6%)\n",
      "neutral     10 (55.6%)\n",
      "positive     7 (38.9%)\n",
      "Name: text, dtype: object\n"
     ]
    }
   ],
   "source": [
    "for keyword in ['women education']:\n",
    "    keyword_tweets = df_edu[df_edu['text'].str.contains(keyword)].copy()\n",
    "    keyword_tweets.loc[:, 'sentiment_score'] = keyword_tweets['text'].apply(lambda x: sid.polarity_scores(x)['compound'])\n",
    "    sentiment_counts = keyword_tweets.groupby('sentiment')['text'].count()\n",
    "    total_count = sentiment_counts.sum()\n",
    "    sentiment_percentages = (sentiment_counts / total_count) * 100\n",
    "    result = sentiment_counts.astype(str) + ' (' + sentiment_percentages.round(1).astype(str) + '%)'\n",
    "    print(f\"Sentiment analysis of tweets containing the keyword '{keyword}':\")\n",
    "    print(result)\n"
   ]
  },
  {
   "cell_type": "markdown",
   "metadata": {},
   "source": [
    "##### Average sentiment"
   ]
  },
  {
   "cell_type": "code",
   "execution_count": 86,
   "metadata": {},
   "outputs": [
    {
     "name": "stdout",
     "output_type": "stream",
     "text": [
      "Average sentiment score for all tweets: 0.055547538880872216\n"
     ]
    }
   ],
   "source": [
    "import random\n",
    "from textblob import TextBlob\n",
    "keywords = ['women education']\n",
    "all_tweets = [row['text'] for _, row in df.iterrows() if any(keyword in row['text'] for keyword in keywords)]\n",
    "sample_tweets = random.sample(all_tweets, k=min(10, len(all_tweets)))\n",
    "mean_sentiment = sum(TextBlob(tweet).sentiment.polarity for tweet in all_tweets) / len(all_tweets) if all_tweets else 0\n",
    "print(f\"Average sentiment score for all tweets: {mean_sentiment}\")\n"
   ]
  },
  {
   "cell_type": "markdown",
   "metadata": {},
   "source": [
    "##### Sentiment Category"
   ]
  },
  {
   "cell_type": "code",
   "execution_count": 87,
   "metadata": {},
   "outputs": [
    {
     "name": "stdout",
     "output_type": "stream",
     "text": [
      "Sentiment Scores by Category:\n"
     ]
    },
    {
     "data": {
      "text/plain": [
       "codes\n",
       "(education,)              0.062441\n",
       "(education, access)       0.041667\n",
       "(education, barriers)     0.000000\n",
       "(education, benefits)     0.095739\n",
       "(education, education)    0.098434\n",
       "Name: text, dtype: float64"
      ]
     },
     "execution_count": 87,
     "metadata": {},
     "output_type": "execute_result"
    }
   ],
   "source": [
    "import numpy as np\n",
    "category_sentiment = df_edu.groupby(df_edu['codes'].apply(tuple))['text'].apply(lambda x: np.mean([TextBlob(tweet).sentiment.polarity for tweet in x]))\n",
    "print(\"Sentiment Scores by Category:\")\n",
    "category_sentiment.head()"
   ]
  },
  {
   "cell_type": "markdown",
   "metadata": {},
   "source": [
    "##### Calculate the sentiment scores for all tweets"
   ]
  },
  {
   "cell_type": "code",
   "execution_count": 88,
   "metadata": {},
   "outputs": [],
   "source": [
    "# sentiment_scores = [TextBlob(tweet).sentiment.polarity for tweet in df['text']]\n",
    "# # Compare the sentiment distributions using a t-test\n",
    "# t_stat, p_value = stats.ttest_1samp(sentiment_scores, 0)\n",
    "# print(\"Comparison of Sentiment  and Men:\")\n",
    "# print(\"T-statistic:\", t_stat)\n",
    "# print(\"P-value:\", p_value)\n"
   ]
  },
  {
   "cell_type": "code",
   "execution_count": 89,
   "metadata": {},
   "outputs": [
    {
     "name": "stdout",
     "output_type": "stream",
     "text": [
      "Comparison of Sentiment and Male\n",
      "T-statistic: 13.919499960278836\n",
      "P-value: 8.216142077604363e-44\n"
     ]
    }
   ],
   "source": [
    "gender = 'male'  # Replace with the desired gender ('male' or 'female')\n",
    "gender_df = df[df['gender'] == gender]\n",
    "# Calculate the sentiment scores for the selected gender\n",
    "sentiment_scores = [TextBlob(tweet).sentiment.polarity for tweet in gender_df['text']]\n",
    "# Compare the sentiment distribution with a mean of 0 using a t-test\n",
    "t_stat, p_value = stats.ttest_1samp(sentiment_scores, 0)\n",
    "print(\"Comparison of Sentiment and\", gender.capitalize())\n",
    "print(\"T-statistic:\", t_stat)\n",
    "print(\"P-value:\", p_value)\n"
   ]
  },
  {
   "cell_type": "markdown",
   "metadata": {},
   "source": [
    "#### Calculate the sentiment scores for tweets containing each keyword"
   ]
  },
  {
   "cell_type": "code",
   "execution_count": 90,
   "metadata": {},
   "outputs": [
    {
     "name": "stdout",
     "output_type": "stream",
     "text": [
      "Sentiment Scores by Keyword:\n",
      "women education: 0.05554753888087221\n"
     ]
    }
   ],
   "source": [
    "keyword_sentiment = {}\n",
    "for keyword in keywords:\n",
    "    keyword_tweets = df_edu[df_edu['text'].str.contains(keyword)]\n",
    "    sentiment_scores = [TextBlob(tweet).sentiment.polarity for tweet in keyword_tweets['text']]\n",
    "    keyword_sentiment[keyword] = np.mean(sentiment_scores)\n",
    "print(\"Sentiment Scores by Keyword:\")\n",
    "for keyword, sentiment_score in keyword_sentiment.items():\n",
    "    print(f\"{keyword}: {sentiment_score}\")\n"
   ]
  },
  {
   "cell_type": "markdown",
   "metadata": {},
   "source": [
    "##### Chi-square test of independence"
   ]
  },
  {
   "cell_type": "code",
   "execution_count": 91,
   "metadata": {},
   "outputs": [
    {
     "name": "stdout",
     "output_type": "stream",
     "text": [
      "Chi-square Test of Independence:\n",
      "Chi-square: 0.0\n",
      "P-value: 1.0\n"
     ]
    }
   ],
   "source": [
    "from scipy.stats import chi2_contingency\n",
    "contingency_table = pd.crosstab(df['gender'], df['label'])\n",
    "chi2, p_value, _, _ = chi2_contingency(contingency_table)\n",
    "print(\"Chi-square Test of Independence:\")\n",
    "print(\"Chi-square:\", chi2)\n",
    "print(\"P-value:\", p_value)"
   ]
  },
  {
   "cell_type": "markdown",
   "metadata": {},
   "source": [
    "##### Create a cross-tabulation between sentiment and gender"
   ]
  },
  {
   "cell_type": "code",
   "execution_count": 92,
   "metadata": {},
   "outputs": [
    {
     "name": "stdout",
     "output_type": "stream",
     "text": [
      "Cross-Tabulation of Sentiment and Gender:\n",
      "gender     male\n",
      "sentiment      \n",
      "negative   3949\n",
      "neutral    8485\n",
      "positive   5235\n"
     ]
    }
   ],
   "source": [
    "cross_tab = pd.crosstab(df['sentiment'], df['gender'])\n",
    "# Print the cross-tabulation\n",
    "print(\"Cross-Tabulation of Sentiment and Gender:\")\n",
    "print(cross_tab)"
   ]
  },
  {
   "cell_type": "code",
   "execution_count": 93,
   "metadata": {},
   "outputs": [
    {
     "name": "stdout",
     "output_type": "stream",
     "text": [
      "Cross-Tabulation of Sentiment and Gender:\n",
      "label       0     1\n",
      "gender             \n",
      "male    11166  6503\n"
     ]
    }
   ],
   "source": [
    "cross_tab = pd.crosstab(df['gender'], df['label'])\n",
    "# Print the cross-tabulation\n",
    "print(\"Cross-Tabulation of Sentiment and Gender:\")\n",
    "print(cross_tab)"
   ]
  },
  {
   "cell_type": "markdown",
   "metadata": {},
   "source": [
    "##### Calculate descriptive statistics for women\n"
   ]
  },
  {
   "cell_type": "code",
   "execution_count": 94,
   "metadata": {},
   "outputs": [
    {
     "name": "stdout",
     "output_type": "stream",
     "text": [
      "Descriptive Statistics for Men:\n",
      "Mean Sentiment: 0.024790235894900647\n",
      "Median Sentiment: 0.0\n",
      "Standard Deviation of Sentiment: 0.23672859501631485\n",
      "Quartiles of Sentiment: [0.         0.         0.08333333]\n"
     ]
    }
   ],
   "source": [
    "men_sentiment_scores = [TextBlob(tweet).sentiment.polarity for tweet in df[df['gender'] == 'male']['text']]\n",
    "# Calculate descriptive statistics for men\n",
    "men_mean_sentiment = np.mean(men_sentiment_scores)\n",
    "men_median_sentiment = np.median(men_sentiment_scores)\n",
    "men_std_sentiment = np.std(men_sentiment_scores)\n",
    "men_quartiles_sentiment = np.percentile(men_sentiment_scores, [25, 50, 75])\n",
    "\n",
    "print(\"Descriptive Statistics for Men:\")\n",
    "print(\"Mean Sentiment:\", men_mean_sentiment)\n",
    "print(\"Median Sentiment:\", men_median_sentiment)\n",
    "print(\"Standard Deviation of Sentiment:\", men_std_sentiment)\n",
    "print(\"Quartiles of Sentiment:\", men_quartiles_sentiment)"
   ]
  },
  {
   "cell_type": "code",
   "execution_count": 95,
   "metadata": {},
   "outputs": [
    {
     "name": "stdout",
     "output_type": "stream",
     "text": [
      "taliban: 8337\n",
      "afghanistan: 3404\n",
      "women: 2769\n",
      "girls: 2144\n",
      "afghan: 1955\n",
      "education: 1510\n",
      "kabul: 1330\n",
      "talibans: 1109\n",
      "people: 1062\n",
      "school: 826\n"
     ]
    }
   ],
   "source": [
    "from collections import Counter\n",
    "\n",
    "# Combine all the text into a single string\n",
    "all_text = ' '.join(df['text'].tolist())\n",
    "\n",
    "# Split the text into individual words\n",
    "all_words = all_text.split()\n",
    "\n",
    "# Count the occurrences of each word\n",
    "word_counts = Counter(all_words)\n",
    "\n",
    "# Retrieve the most common words\n",
    "most_common_words = word_counts.most_common(10)\n",
    "\n",
    "# Print the most common words and their frequencies\n",
    "for word, count in most_common_words:\n",
    "    print(f'{word}: {count}')\n"
   ]
  },
  {
   "cell_type": "markdown",
   "metadata": {},
   "source": [
    "##### Time Series"
   ]
  },
  {
   "cell_type": "code",
   "execution_count": 96,
   "metadata": {},
   "outputs": [
    {
     "data": {
      "image/png": "[encoded data removed]",
      "text/plain": [
       "<Figure size 1200x600 with 1 Axes>"
      ]
     },
     "metadata": {},
     "output_type": "display_data"
    }
   ],
   "source": [
    "\n",
    "sentiment_counts = df.groupby(['created_at', 'label']).size().unstack()\n",
    "# Extract the time periods and convert them to datetime objects\n",
    "time_periods = pd.to_datetime(sentiment_counts.index)\n",
    "# Set up the figure and axes\n",
    "fig, ax = plt.subplots(figsize=(12, 6))\n",
    "# Plot the stacked area plot for sentiment categories\n",
    "ax.stackplot(time_periods, sentiment_counts.T, labels=sentiment_counts.columns)\n",
    "# Add labels and title\n",
    "ax.set_xlabel('Time')\n",
    "ax.set_ylabel('Count')\n",
    "ax.set_title('Sentiment Time Series')\n",
    "# Add legend\n",
    "ax.legend()\n",
    "# Show the chart\n",
    "plt.show()"
   ]
  },
  {
   "cell_type": "code",
   "execution_count": 97,
   "metadata": {},
   "outputs": [],
   "source": [
    "# df['text'] = df['text'].str.replace('amp', ' ')"
   ]
  },
  {
   "cell_type": "code",
   "execution_count": 98,
   "metadata": {},
   "outputs": [
    {
     "ename": "ModuleNotFoundError",
     "evalue": "No module named 'wordcloud'",
     "output_type": "error",
     "traceback": [
      "\u001b[1;31m---------------------------------------------------------------------------\u001b[0m",
      "\u001b[1;31mModuleNotFoundError\u001b[0m                       Traceback (most recent call last)",
      "Cell \u001b[1;32mIn[98], line 1\u001b[0m\n\u001b[1;32m----> 1\u001b[0m \u001b[38;5;28;01mfrom\u001b[39;00m \u001b[38;5;21;01mwordcloud\u001b[39;00m \u001b[38;5;28;01mimport\u001b[39;00m WordCloud\n\u001b[0;32m      2\u001b[0m text \u001b[38;5;241m=\u001b[39m \u001b[38;5;124m'\u001b[39m\u001b[38;5;124m \u001b[39m\u001b[38;5;124m'\u001b[39m\u001b[38;5;241m.\u001b[39mjoin(df[\u001b[38;5;124m'\u001b[39m\u001b[38;5;124mtext\u001b[39m\u001b[38;5;124m'\u001b[39m])\n\u001b[0;32m      3\u001b[0m \u001b[38;5;66;03m# Create a WordCloud object with customized options\u001b[39;00m\n",
      "\u001b[1;31mModuleNotFoundError\u001b[0m: No module named 'wordcloud'"
     ]
    }
   ],
   "source": [
    "from wordcloud import WordCloud\n",
    "text = ' '.join(df['text'])\n",
    "# Create a WordCloud object with customized options\n",
    "wordcloud = WordCloud(width=800, height=400, background_color='white', colormap='viridis',\n",
    "                      max_words=100, contour_width=3, contour_color='steelblue',\n",
    "                      prefer_horizontal=0.8, relative_scaling=0.5,\n",
    "                      collocations=False).generate(text)\n",
    "# Add a central word\n",
    "wordcloud.generate_from_text(\"Afghanistan\")\n",
    "# Manipulate font sizes for the central word and other words\n",
    "wordcloud = WordCloud(width=800, height=400, background_color='white', colormap='viridis',\n",
    "                      max_words=100, contour_width=3, contour_color='steelblue',\n",
    "                      prefer_horizontal=0.8, relative_scaling=0.5,\n",
    "                      collocations=False).generate(text)\n",
    "wordcloud.words_[\"Afghanistan\"] = 80  # Set font size for the central word\n",
    "# Display the word cloud using matplotlib\n",
    "plt.figure(figsize=(10, 6))\n",
    "plt.imshow(wordcloud, interpolation='bilinear')\n",
    "plt.axis('off')\n",
    "plt.tight_layout()\n",
    "plt.show()\n"
   ]
  },
  {
   "cell_type": "code",
   "execution_count": 99,
   "metadata": {},
   "outputs": [
    {
     "data": {
      "text/plain": [
       "(17669, 8)"
      ]
     },
     "execution_count": 99,
     "metadata": {},
     "output_type": "execute_result"
    }
   ],
   "source": [
    "df.shape"
   ]
  },
  {
   "cell_type": "code",
   "execution_count": 100,
   "metadata": {},
   "outputs": [
    {
     "data": {
      "text/html": [
       "<div>\n",
       "<style scoped>\n",
       "    .dataframe tbody tr th:only-of-type {\n",
       "        vertical-align: middle;\n",
       "    }\n",
       "\n",
       "    .dataframe tbody tr th {\n",
       "        vertical-align: top;\n",
       "    }\n",
       "\n",
       "    .dataframe thead th {\n",
       "        text-align: right;\n",
       "    }\n",
       "</style>\n",
       "<table border=\"1\" class=\"dataframe\">\n",
       "  <thead>\n",
       "    <tr style=\"text-align: right;\">\n",
       "      <th></th>\n",
       "      <th>text</th>\n",
       "    </tr>\n",
       "  </thead>\n",
       "  <tbody>\n",
       "    <tr>\n",
       "      <th>10290</th>\n",
       "      <td>taliban power none issues go away situation afghanistan worsen legiti</td>\n",
       "    </tr>\n",
       "    <tr>\n",
       "      <th>11704</th>\n",
       "      <td>says person whose regime taliban blown kids two decades bombed tens mosques killed men pr</td>\n",
       "    </tr>\n",
       "    <tr>\n",
       "      <th>24769</th>\n",
       "      <td>dont know tamim asi looking considering work history behavior stable writes reality</td>\n",
       "    </tr>\n",
       "    <tr>\n",
       "      <th>8391</th>\n",
       "      <td>lets work support people remote village promote education fulfil responsibility youth socialwork</td>\n",
       "    </tr>\n",
       "    <tr>\n",
       "      <th>21476</th>\n",
       "      <td>congratulations cricketers today</td>\n",
       "    </tr>\n",
       "    <tr>\n",
       "      <th>8033</th>\n",
       "      <td>penpathsaripul penpathgirlseducampaign</td>\n",
       "    </tr>\n",
       "    <tr>\n",
       "      <th>18373</th>\n",
       "      <td>fighting continues today panjshir taliban terrorists amassed thousands troops fight</td>\n",
       "    </tr>\n",
       "    <tr>\n",
       "      <th>19718</th>\n",
       "      <td>inside stories us efforts revive afghan peace process year agreement taliban</td>\n",
       "    </tr>\n",
       "    <tr>\n",
       "      <th>8881</th>\n",
       "      <td>according local sources reports taliban resumed house inspections kabul city</td>\n",
       "    </tr>\n",
       "    <tr>\n",
       "      <th>8970</th>\n",
       "      <td>sharia excuse goal eliminate women women protesters chanting kabul eve march</td>\n",
       "    </tr>\n",
       "  </tbody>\n",
       "</table>\n",
       "</div>"
      ],
      "text/plain": [
       "                                                                                                   text\n",
       "10290                             taliban power none issues go away situation afghanistan worsen legiti\n",
       "11704         says person whose regime taliban blown kids two decades bombed tens mosques killed men pr\n",
       "24769               dont know tamim asi looking considering work history behavior stable writes reality\n",
       "8391   lets work support people remote village promote education fulfil responsibility youth socialwork\n",
       "21476                                                                  congratulations cricketers today\n",
       "8033                                                             penpathsaripul penpathgirlseducampaign\n",
       "18373               fighting continues today panjshir taliban terrorists amassed thousands troops fight\n",
       "19718                      inside stories us efforts revive afghan peace process year agreement taliban\n",
       "8881                       according local sources reports taliban resumed house inspections kabul city\n",
       "8970                       sharia excuse goal eliminate women women protesters chanting kabul eve march"
      ]
     },
     "execution_count": 100,
     "metadata": {},
     "output_type": "execute_result"
    }
   ],
   "source": [
    "df[['text']].sample(10)"
   ]
  },
  {
   "cell_type": "code",
   "execution_count": 101,
   "metadata": {},
   "outputs": [],
   "source": [
    "# df.to_excel('../data_processed/men_activists.xlsx', index=False)"
   ]
  }
 ],
 "metadata": {
  "kernelspec": {
   "display_name": "Python 3 (ipykernel)",
   "language": "python",
   "name": "python3"
  },
  "language_info": {
   "codemirror_mode": {
    "name": "ipython",
    "version": 3
   },
   "file_extension": ".py",
   "mimetype": "text/x-python",
   "name": "python",
   "nbconvert_exporter": "python",
   "pygments_lexer": "ipython3",
   "version": "3.11.3"
  }
 },
 "nbformat": 4,
 "nbformat_minor": 2
}
