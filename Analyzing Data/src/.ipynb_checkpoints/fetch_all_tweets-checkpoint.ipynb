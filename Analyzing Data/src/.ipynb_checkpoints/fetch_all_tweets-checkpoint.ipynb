{
 "cells": [
  {
   "cell_type": "code",
   "execution_count": 115,
   "metadata": {},
   "outputs": [],
   "source": [
    "import tweepy \n",
    "import pandas as pd"
   ]
  },
  {
   "cell_type": "markdown",
   "metadata": {},
   "source": [
    "##### Set the Twitter credentials"
   ]
  },
  {
   "cell_type": "code",
   "execution_count": 116,
   "metadata": {},
   "outputs": [],
   "source": [
    "consumer_key= \"dqOPlo8TYO2Bo6P4Uo5sAkmes\"\n",
    "consumer_secret= \"3TUe2RlqY5BT6LnvtUAA0Kf1mPO8k7MH3ZLxxELcsj7OxG8doh\"\n",
    "access_token= \"2585433478-GoThRI4yGSKJX3tO8GX2onBsVdZ9EyPP1uL7dSi\"\n",
    "access_token_secret= \"WBHrZjnz8lDrKAlLpF0uNKMydws4iodCuWUtHwdqmYoq1\"\n"
   ]
  },
  {
   "cell_type": "markdown",
   "metadata": {},
   "source": [
    "##### Authentication with Twitter API"
   ]
  },
  {
   "cell_type": "code",
   "execution_count": 117,
   "metadata": {},
   "outputs": [],
   "source": [
    "auth = tweepy.OAuthHandler(consumer_key, consumer_secret)\n",
    "auth.set_access_token(access_token, access_token_secret)"
   ]
  },
  {
   "cell_type": "markdown",
   "metadata": {},
   "source": [
    "##### Create API Object"
   ]
  },
  {
   "cell_type": "code",
   "execution_count": 118,
   "metadata": {},
   "outputs": [],
   "source": [
    "api = tweepy.API(auth)"
   ]
  },
  {
   "cell_type": "code",
   "execution_count": 119,
   "metadata": {},
   "outputs": [],
   "source": [
    "username = 'doctorshuaib1'"
   ]
  },
  {
   "cell_type": "code",
   "execution_count": 120,
   "metadata": {},
   "outputs": [],
   "source": [
    "all_tweets = []"
   ]
  },
  {
   "cell_type": "code",
   "execution_count": 121,
   "metadata": {},
   "outputs": [],
   "source": [
    "#fetch tweets \n",
    "for tweet in tweepy.Cursor(api.user_timeline, screen_name=username, tweet_mode = 'extended').items():\n",
    "    all_tweets.append(tweet)"
   ]
  },
  {
   "cell_type": "code",
   "execution_count": 122,
   "metadata": {},
   "outputs": [],
   "source": [
    "\n",
    "# # Define the start and end dates for tweet retrieval\n",
    "# start_date = \"2021-12-01\"\n",
    "# end_date = \"2023-03-28\"\n",
    "# # Fetch tweets within the specified date range\n",
    "# all_tweets = []\n",
    "# for tweet in tweepy.Cursor(api.user_timeline, screen_name=username, tweet_mode=\"extended\",\n",
    "#                            since=start_date, until=end_date).items():\n",
    "#     all_tweets.append(tweet)\n"
   ]
  },
  {
   "cell_type": "code",
   "execution_count": 123,
   "metadata": {},
   "outputs": [
    {
     "data": {
      "text/html": [
       "<div>\n",
       "<style scoped>\n",
       "    .dataframe tbody tr th:only-of-type {\n",
       "        vertical-align: middle;\n",
       "    }\n",
       "\n",
       "    .dataframe tbody tr th {\n",
       "        vertical-align: top;\n",
       "    }\n",
       "\n",
       "    .dataframe thead th {\n",
       "        text-align: right;\n",
       "    }\n",
       "</style>\n",
       "<table border=\"1\" class=\"dataframe\">\n",
       "  <thead>\n",
       "    <tr style=\"text-align: right;\">\n",
       "      <th></th>\n",
       "      <th>text</th>\n",
       "      <th>name</th>\n",
       "      <th>created_at</th>\n",
       "    </tr>\n",
       "  </thead>\n",
       "  <tbody>\n",
       "    <tr>\n",
       "      <th>0</th>\n",
       "      <td>RT @kunduzsi5: که د الله رضا وه تښتېدلې او غپیدونکي خبیثان به نور په چاقوانو وژل کیږي . https://t.co/6OnNwTKfro</td>\n",
       "      <td>baryalkunduzai6</td>\n",
       "      <td>2023-05-02</td>\n",
       "    </tr>\n",
       "    <tr>\n",
       "      <th>1</th>\n",
       "      <td>RT @baryalkunduzai7: اختر له امنیتي ځواکونو سره!! https://t.co/a4m7qF4FWd</td>\n",
       "      <td>baryalkunduzai6</td>\n",
       "      <td>2023-04-24</td>\n",
       "    </tr>\n",
       "    <tr>\n",
       "      <th>2</th>\n",
       "      <td>RT @baryalkunduzai7: په مکه مکرمه کې د زم زم اوبو څاه په یوه ثانیه کې \\n8000 اته زره لیټره،په یوه دقیقه کې 480000 څلور لکه اتیا زره لیټره، پ…</td>\n",
       "      <td>baryalkunduzai6</td>\n",
       "      <td>2023-04-18</td>\n",
       "    </tr>\n",
       "    <tr>\n",
       "      <th>3</th>\n",
       "      <td>RT @baryalkunduzai7: *د پنجشېر د علماوو فتوا!* https://t.co/rsIJWmFAJR</td>\n",
       "      <td>baryalkunduzai6</td>\n",
       "      <td>2023-04-18</td>\n",
       "    </tr>\n",
       "    <tr>\n",
       "      <th>4</th>\n",
       "      <td>سبا به د امیر المؤمنین او رئیس الوزراء حفظهما الله په هدایت ، د قاضي القضات حفظه الله په حکم د زرګونو بندیانو د خوشي کېدو او بند کي د تخفیف اړوند په زړه پوري خبر ولرو. https://t.co/ejPiBIoTZo</td>\n",
       "      <td>baryalkunduzai6</td>\n",
       "      <td>2023-04-18</td>\n",
       "    </tr>\n",
       "  </tbody>\n",
       "</table>\n",
       "</div>"
      ],
      "text/plain": [
       "                                                                                                                                                                                              text   \n",
       "0                                                                                  RT @kunduzsi5: که د الله رضا وه تښتېدلې او غپیدونکي خبیثان به نور په چاقوانو وژل کیږي . https://t.co/6OnNwTKfro  \\\n",
       "1                                                                                                                        RT @baryalkunduzai7: اختر له امنیتي ځواکونو سره!! https://t.co/a4m7qF4FWd   \n",
       "2                                                    RT @baryalkunduzai7: په مکه مکرمه کې د زم زم اوبو څاه په یوه ثانیه کې \\n8000 اته زره لیټره،په یوه دقیقه کې 480000 څلور لکه اتیا زره لیټره، پ…   \n",
       "3                                                                                                                           RT @baryalkunduzai7: *د پنجشېر د علماوو فتوا!* https://t.co/rsIJWmFAJR   \n",
       "4  سبا به د امیر المؤمنین او رئیس الوزراء حفظهما الله په هدایت ، د قاضي القضات حفظه الله په حکم د زرګونو بندیانو د خوشي کېدو او بند کي د تخفیف اړوند په زړه پوري خبر ولرو. https://t.co/ejPiBIoTZo   \n",
       "\n",
       "              name  created_at  \n",
       "0  baryalkunduzai6  2023-05-02  \n",
       "1  baryalkunduzai6  2023-04-24  \n",
       "2  baryalkunduzai6  2023-04-18  \n",
       "3  baryalkunduzai6  2023-04-18  \n",
       "4  baryalkunduzai6  2023-04-18  "
      ]
     },
     "execution_count": 123,
     "metadata": {},
     "output_type": "execute_result"
    }
   ],
   "source": [
    "# convert the list of tweets to pandas DataFrame\n",
    "df = pd.DataFrame({\n",
    "    'text': [tweet.full_text for tweet in all_tweets],\n",
    "    'name': [tweet.user.screen_name for tweet in all_tweets],\n",
    "    'created_at': [tweet.created_at for tweet in all_tweets],\n",
    "})\n",
    "df['created_at'] = pd.to_datetime(df['created_at'], errors='coerce').dt.date.astype(str)\n",
    "\n",
    "df.head()"
   ]
  },
  {
   "cell_type": "code",
   "execution_count": 124,
   "metadata": {},
   "outputs": [
    {
     "data": {
      "text/plain": [
       "(757, 3)"
      ]
     },
     "execution_count": 124,
     "metadata": {},
     "output_type": "execute_result"
    }
   ],
   "source": [
    "df.shape"
   ]
  },
  {
   "cell_type": "markdown",
   "metadata": {},
   "source": [
    "##### Remove everything before \":\""
   ]
  },
  {
   "cell_type": "code",
   "execution_count": 125,
   "metadata": {},
   "outputs": [],
   "source": [
    "# df['text'] = df['text'].astype(str)\n",
    "# df['text'] = df['text'].str.split(':').str[0].str.strip()"
   ]
  },
  {
   "cell_type": "code",
   "execution_count": 126,
   "metadata": {},
   "outputs": [],
   "source": [
    "pd.set_option('display.max_colwidth', None)"
   ]
  },
  {
   "cell_type": "code",
   "execution_count": 127,
   "metadata": {},
   "outputs": [
    {
     "data": {
      "text/html": [
       "<div>\n",
       "<style scoped>\n",
       "    .dataframe tbody tr th:only-of-type {\n",
       "        vertical-align: middle;\n",
       "    }\n",
       "\n",
       "    .dataframe tbody tr th {\n",
       "        vertical-align: top;\n",
       "    }\n",
       "\n",
       "    .dataframe thead th {\n",
       "        text-align: right;\n",
       "    }\n",
       "</style>\n",
       "<table border=\"1\" class=\"dataframe\">\n",
       "  <thead>\n",
       "    <tr style=\"text-align: right;\">\n",
       "      <th></th>\n",
       "      <th>text</th>\n",
       "      <th>name</th>\n",
       "      <th>created_at</th>\n",
       "    </tr>\n",
       "  </thead>\n",
       "  <tbody>\n",
       "    <tr>\n",
       "      <th>628</th>\n",
       "      <td>@fawadlameh ددې ټولو بدبختيو عاملين تاسو ګوډاګيان ياست که تاسو نه واياست دا اشغال به دومره نه اوږدې دی پخوا به ختم سوی وای، او پاتې سوه د اسامه خبره په هغه وخت کې طالبانو څو څو ځله امريکې ته وويل ګوره راسئ دا مسئله د خبرو له لارې حل کړو خو امريکا نه ورسره منله ...</td>\n",
       "      <td>baryalkunduzai6</td>\n",
       "      <td>2020-02-28</td>\n",
       "    </tr>\n",
       "    <tr>\n",
       "      <th>754</th>\n",
       "      <td>@BashirAmin16 @WFaqiri البته دا د نه ايستلو نظر به هغه د ټرمپ مخالفو ورکړی وي!.</td>\n",
       "      <td>baryalkunduzai6</td>\n",
       "      <td>2020-02-11</td>\n",
       "    </tr>\n",
       "    <tr>\n",
       "      <th>574</th>\n",
       "      <td>وايې: که د دوستۍ معيار هيواد وای رسول اللهﷺ به مکه نه وای پرېښودې, که معيار قوم وای رسول اللهﷺ به له قريشو سره جنګ نه وای کړی, که معيار کورنۍ وای رسول اللهﷺ به له ابو لهب نه بېزاري نه وای اعلان کړي… \\nخو معيار عقيده ده, چې له خاوري او ويني نه ارزښتمنه ده.\\n#عبدالرقیب_رقیب</td>\n",
       "      <td>baryalkunduzai6</td>\n",
       "      <td>2020-03-04</td>\n",
       "    </tr>\n",
       "    <tr>\n",
       "      <th>76</th>\n",
       "      <td>@MahmoodMarhoon1 یعني د ښځې په عصري تعلیم موقتي بندیز د دین دښمنې ده ؟ \\nکه ته رښتیا غیرت لرې او دیني علم لرې دغه د ښځینوو عصري تعلیم راته فرض ثابت کړه ؟</td>\n",
       "      <td>baryalkunduzai6</td>\n",
       "      <td>2022-12-21</td>\n",
       "    </tr>\n",
       "    <tr>\n",
       "      <th>443</th>\n",
       "      <td>@menapal1 څه د شکوڼ رنګ دي دی .</td>\n",
       "      <td>baryalkunduzai6</td>\n",
       "      <td>2020-04-12</td>\n",
       "    </tr>\n",
       "  </tbody>\n",
       "</table>\n",
       "</div>"
      ],
      "text/plain": [
       "                                                                                                                                                                                                                                                                                 text   \n",
       "628          @fawadlameh ددې ټولو بدبختيو عاملين تاسو ګوډاګيان ياست که تاسو نه واياست دا اشغال به دومره نه اوږدې دی پخوا به ختم سوی وای، او پاتې سوه د اسامه خبره په هغه وخت کې طالبانو څو څو ځله امريکې ته وويل ګوره راسئ دا مسئله د خبرو له لارې حل کړو خو امريکا نه ورسره منله ...  \\\n",
       "754                                                                                                                                                                                                   @BashirAmin16 @WFaqiri البته دا د نه ايستلو نظر به هغه د ټرمپ مخالفو ورکړی وي!.   \n",
       "574  وايې: که د دوستۍ معيار هيواد وای رسول اللهﷺ به مکه نه وای پرېښودې, که معيار قوم وای رسول اللهﷺ به له قريشو سره جنګ نه وای کړی, که معيار کورنۍ وای رسول اللهﷺ به له ابو لهب نه بېزاري نه وای اعلان کړي… \\nخو معيار عقيده ده, چې له خاوري او ويني نه ارزښتمنه ده.\\n#عبدالرقیب_رقیب   \n",
       "76                                                                                                                          @MahmoodMarhoon1 یعني د ښځې په عصري تعلیم موقتي بندیز د دین دښمنې ده ؟ \\nکه ته رښتیا غیرت لرې او دیني علم لرې دغه د ښځینوو عصري تعلیم راته فرض ثابت کړه ؟   \n",
       "443                                                                                                                                                                                                                                                   @menapal1 څه د شکوڼ رنګ دي دی .   \n",
       "\n",
       "                name  created_at  \n",
       "628  baryalkunduzai6  2020-02-28  \n",
       "754  baryalkunduzai6  2020-02-11  \n",
       "574  baryalkunduzai6  2020-03-04  \n",
       "76   baryalkunduzai6  2022-12-21  \n",
       "443  baryalkunduzai6  2020-04-12  "
      ]
     },
     "execution_count": 127,
     "metadata": {},
     "output_type": "execute_result"
    }
   ],
   "source": [
    "df.sample(5)"
   ]
  },
  {
   "cell_type": "code",
   "execution_count": 128,
   "metadata": {},
   "outputs": [],
   "source": [
    "import re\n",
    "\n",
    "def remove_emoji(text):\n",
    "    \"\"\"Remove emojis from a text string.\"\"\"\n",
    "    emoji_pattern = re.compile(\"[\"\n",
    "                               u\"\\U0001F600-\\U0001F64F\"  # emoticons\n",
    "                               u\"\\U0001F300-\\U0001F5FF\"  # symbols & pictographs\n",
    "                               u\"\\U0001F680-\\U0001F6FF\"  # transport & map symbols\n",
    "                               u\"\\U0001F1E0-\\U0001F1FF\"  # flags (iOS)\n",
    "                               u\"\\U00002702-\\U000027B0\"\n",
    "                               u\"\\U000024C2-\\U0001F251\"\n",
    "                               \"]+\", flags=re.UNICODE)\n",
    "    text = emoji_pattern.sub(r'', text)\n",
    "    text = text.replace('\\n', ' ')\n",
    "    return emoji_pattern.sub(r'', text)\n",
    "\n",
    "\n",
    "df['text'] = df['text'].str.strip()# remove spaces\n",
    "# Example usage\n",
    "df['text'] =df['text'].apply(remove_emoji)"
   ]
  },
  {
   "cell_type": "code",
   "execution_count": 129,
   "metadata": {},
   "outputs": [],
   "source": [
    "df.dropna(subset=['text'], inplace=True)\n",
    "df.drop_duplicates(subset=['text'], inplace=True)"
   ]
  },
  {
   "cell_type": "code",
   "execution_count": 130,
   "metadata": {},
   "outputs": [
    {
     "data": {
      "text/html": [
       "<div>\n",
       "<style scoped>\n",
       "    .dataframe tbody tr th:only-of-type {\n",
       "        vertical-align: middle;\n",
       "    }\n",
       "\n",
       "    .dataframe tbody tr th {\n",
       "        vertical-align: top;\n",
       "    }\n",
       "\n",
       "    .dataframe thead th {\n",
       "        text-align: right;\n",
       "    }\n",
       "</style>\n",
       "<table border=\"1\" class=\"dataframe\">\n",
       "  <thead>\n",
       "    <tr style=\"text-align: right;\">\n",
       "      <th></th>\n",
       "      <th>text</th>\n",
       "      <th>name</th>\n",
       "      <th>created_at</th>\n",
       "    </tr>\n",
       "  </thead>\n",
       "  <tbody>\n",
       "    <tr>\n",
       "      <th>752</th>\n",
       "      <td>@Samiyousafzai ياره دده سره تر دې لا بد تر کار پکار ؤ چې سوی وايي</td>\n",
       "      <td>baryalkunduzai6</td>\n",
       "      <td>2020-02-11</td>\n",
       "    </tr>\n",
       "    <tr>\n",
       "      <th>753</th>\n",
       "      <td>@WFaqiri الله دي وکړي</td>\n",
       "      <td>baryalkunduzai6</td>\n",
       "      <td>2020-02-11</td>\n",
       "    </tr>\n",
       "    <tr>\n",
       "      <th>754</th>\n",
       "      <td>@BashirAmin16 @WFaqiri البته دا د نه ايستلو نظر به هغه د ټرمپ مخالفو ورکړی وي!.</td>\n",
       "      <td>baryalkunduzai6</td>\n",
       "      <td>2020-02-11</td>\n",
       "    </tr>\n",
       "    <tr>\n",
       "      <th>755</th>\n",
       "      <td>السلام عليکم ورحمة الله وبرکاته !</td>\n",
       "      <td>baryalkunduzai6</td>\n",
       "      <td>2020-02-11</td>\n",
       "    </tr>\n",
       "    <tr>\n",
       "      <th>756</th>\n",
       "      <td>#NewProfilePic https://t.co/8CYzriWRSY</td>\n",
       "      <td>baryalkunduzai6</td>\n",
       "      <td>2020-02-11</td>\n",
       "    </tr>\n",
       "  </tbody>\n",
       "</table>\n",
       "</div>"
      ],
      "text/plain": [
       "                                                                                text   \n",
       "752                @Samiyousafzai ياره دده سره تر دې لا بد تر کار پکار ؤ چې سوی وايي  \\\n",
       "753                                                            @WFaqiri الله دي وکړي   \n",
       "754  @BashirAmin16 @WFaqiri البته دا د نه ايستلو نظر به هغه د ټرمپ مخالفو ورکړی وي!.   \n",
       "755                                                السلام عليکم ورحمة الله وبرکاته !   \n",
       "756                                           #NewProfilePic https://t.co/8CYzriWRSY   \n",
       "\n",
       "                name  created_at  \n",
       "752  baryalkunduzai6  2020-02-11  \n",
       "753  baryalkunduzai6  2020-02-11  \n",
       "754  baryalkunduzai6  2020-02-11  \n",
       "755  baryalkunduzai6  2020-02-11  \n",
       "756  baryalkunduzai6  2020-02-11  "
      ]
     },
     "execution_count": 130,
     "metadata": {},
     "output_type": "execute_result"
    }
   ],
   "source": [
    "df.tail(5)"
   ]
  },
  {
   "cell_type": "markdown",
   "metadata": {},
   "source": [
    "##### Add Gender and Ethnic"
   ]
  },
  {
   "cell_type": "code",
   "execution_count": 131,
   "metadata": {},
   "outputs": [],
   "source": [
    "if 'gender' not in df.columns:\n",
    "    df['gender'] = ''\n",
    "if 'ethnic' not in df.columns:\n",
    "    df['ethnic'] = ''"
   ]
  },
  {
   "cell_type": "code",
   "execution_count": 132,
   "metadata": {},
   "outputs": [],
   "source": [
    "df.loc[df['gender'] == '', 'gender'] = 'male'\n",
    "df.loc[df['ethnic'] == '', 'ethnic'] = 'pashtun'"
   ]
  },
  {
   "cell_type": "code",
   "execution_count": 133,
   "metadata": {},
   "outputs": [
    {
     "data": {
      "text/html": [
       "<div>\n",
       "<style scoped>\n",
       "    .dataframe tbody tr th:only-of-type {\n",
       "        vertical-align: middle;\n",
       "    }\n",
       "\n",
       "    .dataframe tbody tr th {\n",
       "        vertical-align: top;\n",
       "    }\n",
       "\n",
       "    .dataframe thead th {\n",
       "        text-align: right;\n",
       "    }\n",
       "</style>\n",
       "<table border=\"1\" class=\"dataframe\">\n",
       "  <thead>\n",
       "    <tr style=\"text-align: right;\">\n",
       "      <th></th>\n",
       "      <th>text</th>\n",
       "      <th>name</th>\n",
       "      <th>created_at</th>\n",
       "      <th>gender</th>\n",
       "      <th>ethnic</th>\n",
       "    </tr>\n",
       "  </thead>\n",
       "  <tbody>\n",
       "    <tr>\n",
       "      <th>0</th>\n",
       "      <td>RT @kunduzsi5: که د الله رضا وه تښتېدلې او غپیدونکي خبیثان به نور په چاقوانو وژل کیږي . https://t.co/6OnNwTKfro</td>\n",
       "      <td>baryalkunduzai6</td>\n",
       "      <td>2023-05-02</td>\n",
       "      <td>male</td>\n",
       "      <td>pashtun</td>\n",
       "    </tr>\n",
       "    <tr>\n",
       "      <th>1</th>\n",
       "      <td>RT @baryalkunduzai7: اختر له امنیتي ځواکونو سره!! https://t.co/a4m7qF4FWd</td>\n",
       "      <td>baryalkunduzai6</td>\n",
       "      <td>2023-04-24</td>\n",
       "      <td>male</td>\n",
       "      <td>pashtun</td>\n",
       "    </tr>\n",
       "    <tr>\n",
       "      <th>2</th>\n",
       "      <td>RT @baryalkunduzai7: په مکه مکرمه کې د زم زم اوبو څاه په یوه ثانیه کې  8000 اته زره لیټره،په یوه دقیقه کې 480000 څلور لکه اتیا زره لیټره، پ…</td>\n",
       "      <td>baryalkunduzai6</td>\n",
       "      <td>2023-04-18</td>\n",
       "      <td>male</td>\n",
       "      <td>pashtun</td>\n",
       "    </tr>\n",
       "    <tr>\n",
       "      <th>3</th>\n",
       "      <td>RT @baryalkunduzai7: *د پنجشېر د علماوو فتوا!* https://t.co/rsIJWmFAJR</td>\n",
       "      <td>baryalkunduzai6</td>\n",
       "      <td>2023-04-18</td>\n",
       "      <td>male</td>\n",
       "      <td>pashtun</td>\n",
       "    </tr>\n",
       "    <tr>\n",
       "      <th>4</th>\n",
       "      <td>سبا به د امیر المؤمنین او رئیس الوزراء حفظهما الله په هدایت ، د قاضي القضات حفظه الله په حکم د زرګونو بندیانو د خوشي کېدو او بند کي د تخفیف اړوند په زړه پوري خبر ولرو. https://t.co/ejPiBIoTZo</td>\n",
       "      <td>baryalkunduzai6</td>\n",
       "      <td>2023-04-18</td>\n",
       "      <td>male</td>\n",
       "      <td>pashtun</td>\n",
       "    </tr>\n",
       "  </tbody>\n",
       "</table>\n",
       "</div>"
      ],
      "text/plain": [
       "                                                                                                                                                                                              text   \n",
       "0                                                                                  RT @kunduzsi5: که د الله رضا وه تښتېدلې او غپیدونکي خبیثان به نور په چاقوانو وژل کیږي . https://t.co/6OnNwTKfro  \\\n",
       "1                                                                                                                        RT @baryalkunduzai7: اختر له امنیتي ځواکونو سره!! https://t.co/a4m7qF4FWd   \n",
       "2                                                     RT @baryalkunduzai7: په مکه مکرمه کې د زم زم اوبو څاه په یوه ثانیه کې  8000 اته زره لیټره،په یوه دقیقه کې 480000 څلور لکه اتیا زره لیټره، پ…   \n",
       "3                                                                                                                           RT @baryalkunduzai7: *د پنجشېر د علماوو فتوا!* https://t.co/rsIJWmFAJR   \n",
       "4  سبا به د امیر المؤمنین او رئیس الوزراء حفظهما الله په هدایت ، د قاضي القضات حفظه الله په حکم د زرګونو بندیانو د خوشي کېدو او بند کي د تخفیف اړوند په زړه پوري خبر ولرو. https://t.co/ejPiBIoTZo   \n",
       "\n",
       "              name  created_at gender   ethnic  \n",
       "0  baryalkunduzai6  2023-05-02   male  pashtun  \n",
       "1  baryalkunduzai6  2023-04-24   male  pashtun  \n",
       "2  baryalkunduzai6  2023-04-18   male  pashtun  \n",
       "3  baryalkunduzai6  2023-04-18   male  pashtun  \n",
       "4  baryalkunduzai6  2023-04-18   male  pashtun  "
      ]
     },
     "execution_count": 133,
     "metadata": {},
     "output_type": "execute_result"
    }
   ],
   "source": [
    "df.head(5)"
   ]
  },
  {
   "cell_type": "code",
   "execution_count": 134,
   "metadata": {},
   "outputs": [
    {
     "data": {
      "text/plain": [
       "(747, 5)"
      ]
     },
     "execution_count": 134,
     "metadata": {},
     "output_type": "execute_result"
    }
   ],
   "source": [
    "df.shape"
   ]
  },
  {
   "cell_type": "code",
   "execution_count": 135,
   "metadata": {},
   "outputs": [],
   "source": [
    "from deep_translator import GoogleTranslator \n",
    "from googletrans import Translator"
   ]
  },
  {
   "cell_type": "code",
   "execution_count": 136,
   "metadata": {},
   "outputs": [],
   "source": [
    "translator = Translator()\n",
    "df[\"text\"] = df[\"text\"].apply(lambda x: GoogleTranslator(source=\"auto\", target=\"en\").translate(x))\n"
   ]
  },
  {
   "cell_type": "code",
   "execution_count": 137,
   "metadata": {},
   "outputs": [
    {
     "data": {
      "text/html": [
       "<div>\n",
       "<style scoped>\n",
       "    .dataframe tbody tr th:only-of-type {\n",
       "        vertical-align: middle;\n",
       "    }\n",
       "\n",
       "    .dataframe tbody tr th {\n",
       "        vertical-align: top;\n",
       "    }\n",
       "\n",
       "    .dataframe thead th {\n",
       "        text-align: right;\n",
       "    }\n",
       "</style>\n",
       "<table border=\"1\" class=\"dataframe\">\n",
       "  <thead>\n",
       "    <tr style=\"text-align: right;\">\n",
       "      <th></th>\n",
       "      <th>text</th>\n",
       "      <th>name</th>\n",
       "      <th>created_at</th>\n",
       "      <th>gender</th>\n",
       "      <th>ethnic</th>\n",
       "    </tr>\n",
       "  </thead>\n",
       "  <tbody>\n",
       "    <tr>\n",
       "      <th>441</th>\n",
       "      <td>@US4AfghanPeace is yours</td>\n",
       "      <td>baryalkunduzai6</td>\n",
       "      <td>2020-04-13</td>\n",
       "      <td>male</td>\n",
       "      <td>pashtun</td>\n",
       "    </tr>\n",
       "    <tr>\n",
       "      <th>170</th>\n",
       "      <td>Walking at night in Kabul was like taking death by force, but today there is no fear. Patriots can always go outside the city to meet their needs. #Afghanistan_is_safe</td>\n",
       "      <td>baryalkunduzai6</td>\n",
       "      <td>2021-10-29</td>\n",
       "      <td>male</td>\n",
       "      <td>pashtun</td>\n",
       "    </tr>\n",
       "    <tr>\n",
       "      <th>110</th>\n",
       "      <td>@qarieisa, after the destruction of Pakistan, you have been deceived, may the Lord destroy you and destroy you.</td>\n",
       "      <td>baryalkunduzai6</td>\n",
       "      <td>2022-07-10</td>\n",
       "      <td>male</td>\n",
       "      <td>pashtun</td>\n",
       "    </tr>\n",
       "    <tr>\n",
       "      <th>107</th>\n",
       "      <td>@NajeebNangyal #AfghansSupportTaliban #AfghansSupportTaliban  #AfghansSupportTaliban #AfghansSupportTaliban #AfghansSupportTaliban  #AfghansSupportTaliban</td>\n",
       "      <td>baryalkunduzai6</td>\n",
       "      <td>2022-07-22</td>\n",
       "      <td>male</td>\n",
       "      <td>pashtun</td>\n",
       "    </tr>\n",
       "    <tr>\n",
       "      <th>579</th>\n",
       "      <td>@GovFidai, you are a blind student, when did he tell you to release the prisoners, the students do not recognize you officially, and the prisoners do not want you...</td>\n",
       "      <td>baryalkunduzai6</td>\n",
       "      <td>2020-03-03</td>\n",
       "      <td>male</td>\n",
       "      <td>pashtun</td>\n",
       "    </tr>\n",
       "  </tbody>\n",
       "</table>\n",
       "</div>"
      ],
      "text/plain": [
       "                                                                                                                                                                        text   \n",
       "441                                                                                                                                                 @US4AfghanPeace is yours  \\\n",
       "170  Walking at night in Kabul was like taking death by force, but today there is no fear. Patriots can always go outside the city to meet their needs. #Afghanistan_is_safe   \n",
       "110                                                          @qarieisa, after the destruction of Pakistan, you have been deceived, may the Lord destroy you and destroy you.   \n",
       "107               @NajeebNangyal #AfghansSupportTaliban #AfghansSupportTaliban  #AfghansSupportTaliban #AfghansSupportTaliban #AfghansSupportTaliban  #AfghansSupportTaliban   \n",
       "579    @GovFidai, you are a blind student, when did he tell you to release the prisoners, the students do not recognize you officially, and the prisoners do not want you...   \n",
       "\n",
       "                name  created_at gender   ethnic  \n",
       "441  baryalkunduzai6  2020-04-13   male  pashtun  \n",
       "170  baryalkunduzai6  2021-10-29   male  pashtun  \n",
       "110  baryalkunduzai6  2022-07-10   male  pashtun  \n",
       "107  baryalkunduzai6  2022-07-22   male  pashtun  \n",
       "579  baryalkunduzai6  2020-03-03   male  pashtun  "
      ]
     },
     "execution_count": 137,
     "metadata": {},
     "output_type": "execute_result"
    }
   ],
   "source": [
    "df.sample(5)"
   ]
  },
  {
   "cell_type": "code",
   "execution_count": 138,
   "metadata": {},
   "outputs": [
    {
     "data": {
      "text/plain": [
       "(747, 5)"
      ]
     },
     "execution_count": 138,
     "metadata": {},
     "output_type": "execute_result"
    }
   ],
   "source": [
    "df.shape"
   ]
  },
  {
   "cell_type": "code",
   "execution_count": 139,
   "metadata": {},
   "outputs": [],
   "source": [
    "df.to_excel('../data/men_ordinary_people/doctorshuaib1.xlsx', index=False)\n",
    "# GhaniHashmat"
   ]
  },
  {
   "cell_type": "code",
   "execution_count": null,
   "metadata": {},
   "outputs": [],
   "source": []
  }
 ],
 "metadata": {
  "kernelspec": {
   "display_name": "Python 3 (ipykernel)",
   "language": "python",
   "name": "python3"
  },
  "language_info": {
   "codemirror_mode": {
    "name": "ipython",
    "version": 3
   },
   "file_extension": ".py",
   "mimetype": "text/x-python",
   "name": "python",
   "nbconvert_exporter": "python",
   "pygments_lexer": "ipython3",
   "version": "3.11.3"
  }
 },
 "nbformat": 4,
 "nbformat_minor": 2
}
