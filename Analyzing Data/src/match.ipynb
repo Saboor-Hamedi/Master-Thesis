{
 "cells": [
  {
   "cell_type": "code",
   "execution_count": 12,
   "metadata": {},
   "outputs": [
    {
     "name": "stdout",
     "output_type": "stream",
     "text": [
      "women: 2490\n",
      "education: 778\n",
      "schools: 269\n",
      "study: 48\n",
      "learn: 140\n",
      "right: 690\n",
      "ban: 5485\n",
      "people: 543\n",
      "afghan: 3838\n",
      "educated: 58\n",
      "girls: 1135\n",
      "female: 289\n",
      "protest: 270\n",
      "pashtun: 61\n",
      "tajik: 69\n",
      "uzbek: 62\n",
      "hazara: 178\n",
      "rights: 486\n",
      "prohibit: 35\n",
      "patriarch: 7\n",
      "close schools: 0\n",
      "close universities: 9\n",
      "university: 429\n",
      "man: 1459\n"
     ]
    }
   ],
   "source": [
    "import pandas as pd\n",
    "# Read the tweets data into a DataFrame\n",
    "tweets_df = pd.read_excel('../data_processed/complete.xlsx')\n",
    "# Drop rows containing NaN values\n",
    "tweets_df = tweets_df.dropna()\n",
    "# Convert the text column to lowercase\n",
    "tweets_df['text'] = tweets_df['text'].str.lower()\n",
    "# Define the list of keywords\n",
    "keywords = [\"women\", \"education\", \"schools\", \"study\", \"learn\", \"right\", \"ban\", \"people\", \n",
    "            \"afghan\", \"educated\", \"girls\", \"female\", \"protest\", \"pashtun\", \"tajik\", \"uzbek\", \"hazara\",\n",
    "            \"rights\", \"prohibit\", \"patriarch\", \"close schools\", \"close universities\", \"university\", \"man\"]\n",
    "# Create an empty dictionary to store the matched tweets for each keyword\n",
    "matched_tweets = {}\n",
    "# Iterate over the keywords and find the matched tweets\n",
    "for keyword in keywords:\n",
    "    # Replace NaN values with an empty string\n",
    "    tweets_df['text'] = tweets_df['text'].fillna('')\n",
    "        # Filter the tweets containing the keyword\n",
    "    matched_tweets[keyword] = tweets_df[tweets_df['text'].str.contains(keyword, case=False)]\n",
    "\n",
    "# Print the number of matched tweets for each keyword\n",
    "for keyword, df in matched_tweets.items():\n",
    "    print(f\"{keyword}: {len(df)}\")\n",
    "\n",
    "# Save each matched DataFrame to a separate CSV file\n",
    "for keyword, df in matched_tweets.items():\n",
    "    df.to_excel(f\"../data_processed/{keyword}_matched_tweets.xlsx\", index=False)\n"
   ]
  }
 ],
 "metadata": {
  "kernelspec": {
   "display_name": "Python 3",
   "language": "python",
   "name": "python3"
  },
  "language_info": {
   "codemirror_mode": {
    "name": "ipython",
    "version": 3
   },
   "file_extension": ".py",
   "mimetype": "text/x-python",
   "name": "python",
   "nbconvert_exporter": "python",
   "pygments_lexer": "ipython3",
   "version": "3.10.10"
  },
  "orig_nbformat": 4
 },
 "nbformat": 4,
 "nbformat_minor": 2
}
