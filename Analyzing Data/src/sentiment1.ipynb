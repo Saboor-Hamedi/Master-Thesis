{
 "cells": [
  {
   "cell_type": "code",
   "execution_count": 1,
   "metadata": {},
   "outputs": [],
   "source": [
    "import pandas as pd \n",
    "import numpy as np\n",
    "import matplotlib.pyplot as plt\n",
    "import seaborn as sns\n",
    "%matplotlib inline \n",
    "pd.options.display.max_colwidth = None\n"
   ]
  },
  {
   "cell_type": "code",
   "execution_count": 3,
   "metadata": {},
   "outputs": [],
   "source": [
    "df = pd.read_excel('../data_processed/only_education.xlsx')"
   ]
  },
  {
   "cell_type": "code",
   "execution_count": 2,
   "metadata": {},
   "outputs": [
    {
     "ename": "NameError",
     "evalue": "name 'df' is not defined",
     "output_type": "error",
     "traceback": [
      "\u001b[1;31m---------------------------------------------------------------------------\u001b[0m",
      "\u001b[1;31mNameError\u001b[0m                                 Traceback (most recent call last)",
      "\u001b[1;32ma:\\MA. Program\\Semester 4\\Thesis\\CSV-Files\\src\\sentiment1.ipynb Cell 3\u001b[0m in \u001b[0;36m<cell line: 1>\u001b[1;34m()\u001b[0m\n\u001b[1;32m----> <a href='vscode-notebook-cell:/a%3A/MA.%20Program/Semester%204/Thesis/CSV-Files/src/sentiment1.ipynb#W2sZmlsZQ%3D%3D?line=0'>1</a>\u001b[0m df\u001b[39m.\u001b[39mcolumns\n",
      "\u001b[1;31mNameError\u001b[0m: name 'df' is not defined"
     ]
    }
   ],
   "source": [
    "df.columns"
   ]
  },
  {
   "attachments": {},
   "cell_type": "markdown",
   "metadata": {},
   "source": [
    "##### Stopwords "
   ]
  },
  {
   "cell_type": "code",
   "execution_count": 98,
   "metadata": {},
   "outputs": [],
   "source": [
    "from wordcloud import WordCloud, STOPWORDS, ImageColorGenerator\n",
    "from nltk.corpus import stopwords"
   ]
  },
  {
   "cell_type": "code",
   "execution_count": 99,
   "metadata": {},
   "outputs": [],
   "source": [
    "stop_words = stopwords.words('english')"
   ]
  },
  {
   "cell_type": "code",
   "execution_count": 100,
   "metadata": {},
   "outputs": [
    {
     "name": "stdout",
     "output_type": "stream",
     "text": [
      "['i', 'me', 'my', 'myself', 'we', 'our', 'ours', 'ourselves', 'you', \"you're\", \"you've\", \"you'll\", \"you'd\", 'your', 'yours', 'yourself', 'yourselves', 'he', 'him', 'his', 'himself', 'she', \"she's\", 'her', 'hers', 'herself', 'it', \"it's\", 'its', 'itself', 'they', 'them', 'their', 'theirs', 'themselves', 'what', 'which', 'who', 'whom', 'this', 'that', \"that'll\", 'these', 'those', 'am', 'is', 'are', 'was', 'were', 'be', 'been', 'being', 'have', 'has', 'had', 'having', 'do', 'does', 'did', 'doing', 'a', 'an', 'the', 'and', 'but', 'if', 'or', 'because', 'as', 'until', 'while', 'of', 'at', 'by', 'for', 'with', 'about', 'against', 'between', 'into', 'through', 'during', 'before', 'after', 'above', 'below', 'to', 'from', 'up', 'down', 'in', 'out', 'on', 'off', 'over', 'under', 'again', 'further', 'then', 'once', 'here', 'there', 'when', 'where', 'why', 'how', 'all', 'any', 'both', 'each', 'few', 'more', 'most', 'other', 'some', 'such', 'no', 'nor', 'not', 'only', 'own', 'same', 'so', 'than', 'too', 'very', 's', 't', 'can', 'will', 'just', 'don', \"don't\", 'should', \"should've\", 'now', 'd', 'll', 'm', 'o', 're', 've', 'y', 'ain', 'aren', \"aren't\", 'couldn', \"couldn't\", 'didn', \"didn't\", 'doesn', \"doesn't\", 'hadn', \"hadn't\", 'hasn', \"hasn't\", 'haven', \"haven't\", 'isn', \"isn't\", 'ma', 'mightn', \"mightn't\", 'mustn', \"mustn't\", 'needn', \"needn't\", 'shan', \"shan't\", 'shouldn', \"shouldn't\", 'wasn', \"wasn't\", 'weren', \"weren't\", 'won', \"won't\", 'wouldn', \"wouldn't\"]\n"
     ]
    }
   ],
   "source": [
    "print(stop_words)"
   ]
  },
  {
   "cell_type": "code",
   "execution_count": 101,
   "metadata": {},
   "outputs": [],
   "source": [
    "import matplotlib.pyplot as plt\n",
    "import seaborn as sns"
   ]
  },
  {
   "cell_type": "code",
   "execution_count": 102,
   "metadata": {},
   "outputs": [
    {
     "data": {
      "image/png": "[encoded data removed]",
      "text/plain": [
       "<Figure size 864x432 with 1 Axes>"
      ]
     },
     "metadata": {
      "needs_background": "light"
     },
     "output_type": "display_data"
    }
   ],
   "source": [
    "plt.figure(figsize=(12,6))\n",
    "plt=sns.kdeplot(df['text_length'], shade=True, color=\"r\").set_title('Kernel Distribution of Number Of words')\n",
    "plt=sns.kdeplot(df['text_length'], shade=True, color=\"b\")"
   ]
  },
  {
   "attachments": {},
   "cell_type": "markdown",
   "metadata": {},
   "source": [
    "##### sentiment"
   ]
  },
  {
   "cell_type": "code",
   "execution_count": 103,
   "metadata": {},
   "outputs": [],
   "source": [
    "from textblob import TextBlob\n",
    "def score_subjectivity(text):\n",
    "    return TextBlob(text).sentiment.subjectivity"
   ]
  },
  {
   "cell_type": "code",
   "execution_count": 104,
   "metadata": {},
   "outputs": [],
   "source": [
    "def score_polarity(text):\n",
    "    return TextBlob(text).sentiment.polarity "
   ]
  },
  {
   "cell_type": "code",
   "execution_count": 105,
   "metadata": {},
   "outputs": [],
   "source": [
    "def score_polarity(text):\n",
    "    return TextBlob(text).sentiment.polarity "
   ]
  },
  {
   "cell_type": "code",
   "execution_count": 113,
   "metadata": {},
   "outputs": [],
   "source": [
    "def get_sentiment_score(text):\n",
    "    if text > 0:\n",
    "        return 'positive'\n",
    "    elif text == 0:\n",
    "        return 'neutral'\n",
    "    else:\n",
    "        return 'negative'"
   ]
  },
  {
   "cell_type": "code",
   "execution_count": 114,
   "metadata": {},
   "outputs": [],
   "source": [
    "df['polarity'] = df['text'].apply(score_subjectivity)\n",
    "df['subjectivity'] = df['text'].apply(score_subjectivity)\n",
    "df['sentiment1'] = df['polarity'].apply(get_sentiment_score)"
   ]
  },
  {
   "cell_type": "code",
   "execution_count": 116,
   "metadata": {},
   "outputs": [
    {
     "data": {
      "text/html": [
       "<div>\n",
       "<style scoped>\n",
       "    .dataframe tbody tr th:only-of-type {\n",
       "        vertical-align: middle;\n",
       "    }\n",
       "\n",
       "    .dataframe tbody tr th {\n",
       "        vertical-align: top;\n",
       "    }\n",
       "\n",
       "    .dataframe thead th {\n",
       "        text-align: right;\n",
       "    }\n",
       "</style>\n",
       "<table border=\"1\" class=\"dataframe\">\n",
       "  <thead>\n",
       "    <tr style=\"text-align: right;\">\n",
       "      <th></th>\n",
       "      <th>text</th>\n",
       "      <th>name</th>\n",
       "      <th>created_at</th>\n",
       "      <th>gender</th>\n",
       "      <th>ethnic</th>\n",
       "      <th>label</th>\n",
       "      <th>sentiment</th>\n",
       "      <th>text_length</th>\n",
       "      <th>num_words</th>\n",
       "      <th>polarity</th>\n",
       "      <th>subjectivity</th>\n",
       "      <th>sentiment1</th>\n",
       "    </tr>\n",
       "  </thead>\n",
       "  <tbody>\n",
       "    <tr>\n",
       "      <th>0</th>\n",
       "      <td>today internal educational woman day fifteen million afghan woman are practically exluded  from education by the taliban</td>\n",
       "      <td>callmeraha13</td>\n",
       "      <td>2023-03-08</td>\n",
       "      <td>female</td>\n",
       "      <td>hazarah</td>\n",
       "      <td>1</td>\n",
       "      <td>positive</td>\n",
       "      <td>100</td>\n",
       "      <td>12</td>\n",
       "      <td>0.125</td>\n",
       "      <td>0.125</td>\n",
       "      <td>positive</td>\n",
       "    </tr>\n",
       "    <tr>\n",
       "      <th>1</th>\n",
       "      <td>assist girls' education by purchasing books, as Rashidyar did to support his daughter's education.</td>\n",
       "      <td>callmeraha13</td>\n",
       "      <td>2023-02-24</td>\n",
       "      <td>female</td>\n",
       "      <td>hazarah</td>\n",
       "      <td>1</td>\n",
       "      <td>positive</td>\n",
       "      <td>92</td>\n",
       "      <td>13</td>\n",
       "      <td>0.000</td>\n",
       "      <td>0.000</td>\n",
       "      <td>neutral</td>\n",
       "    </tr>\n",
       "  </tbody>\n",
       "</table>\n",
       "</div>"
      ],
      "text/plain": [
       "                                                                                                                       text  \\\n",
       "0  today internal educational woman day fifteen million afghan woman are practically exluded  from education by the taliban   \n",
       "1                        assist girls' education by purchasing books, as Rashidyar did to support his daughter's education.   \n",
       "\n",
       "           name  created_at  gender   ethnic  label sentiment  text_length  \\\n",
       "0  callmeraha13  2023-03-08  female  hazarah      1  positive          100   \n",
       "1  callmeraha13  2023-02-24  female  hazarah      1  positive           92   \n",
       "\n",
       "   num_words  polarity  subjectivity sentiment1  \n",
       "0         12     0.125         0.125   positive  \n",
       "1         13     0.000         0.000    neutral  "
      ]
     },
     "execution_count": 116,
     "metadata": {},
     "output_type": "execute_result"
    }
   ],
   "source": [
    "df.head(2)"
   ]
  },
  {
   "attachments": {},
   "cell_type": "markdown",
   "metadata": {},
   "source": [
    "A subjectivity score of 0.1250 indicates that the text is objective, meaning it is based on facts and does not contain any personal opinions or biases. A score of 1.0 would indicate complete subjectivity, meaning the text is entirely based on personal opinions or beliefs.\n",
    "\n",
    "A subjectivity score of 0.5 indicates that the text is neither objective nor subjective, but rather somewhere in the middle. It suggests that the text contains some subjective language or opinions, but also includes some objective statements or facts.\n",
    "\n",
    "The score of 0.125 polarity indicates a slightly negative sentiment. Polarity ranges from -1 to 1, where -1 indicates a completely negative sentiment and 1 indicates a completely positive sentiment. A polarity score of 0 indicates a neutral sentiment."
   ]
  },
  {
   "cell_type": "code",
   "execution_count": 149,
   "metadata": {},
   "outputs": [
    {
     "data": {
      "text/html": [
       "<div>\n",
       "<style scoped>\n",
       "    .dataframe tbody tr th:only-of-type {\n",
       "        vertical-align: middle;\n",
       "    }\n",
       "\n",
       "    .dataframe tbody tr th {\n",
       "        vertical-align: top;\n",
       "    }\n",
       "\n",
       "    .dataframe thead th {\n",
       "        text-align: right;\n",
       "    }\n",
       "</style>\n",
       "<table border=\"1\" class=\"dataframe\">\n",
       "  <thead>\n",
       "    <tr style=\"text-align: right;\">\n",
       "      <th></th>\n",
       "      <th>text</th>\n",
       "      <th>label</th>\n",
       "      <th>polarity</th>\n",
       "      <th>subjectivity</th>\n",
       "      <th>sentiment1</th>\n",
       "    </tr>\n",
       "  </thead>\n",
       "  <tbody>\n",
       "    <tr>\n",
       "      <th>54896</th>\n",
       "      <td>voice afghanistan woman need heard afternoon instructive meeting afghanistan woman leader forum</td>\n",
       "      <td>0</td>\n",
       "      <td>0.000000</td>\n",
       "      <td>0.000000</td>\n",
       "      <td>neutral</td>\n",
       "    </tr>\n",
       "    <tr>\n",
       "      <th>19475</th>\n",
       "      <td>chaman gate young afghanistan girl left behind family speaks persian remember name father name contact number reuniversityte family help three hundred fifteen one million eight hundred eighteen thousand one hundred fifty</td>\n",
       "      <td>0</td>\n",
       "      <td>0.366667</td>\n",
       "      <td>0.366667</td>\n",
       "      <td>positive</td>\n",
       "    </tr>\n",
       "    <tr>\n",
       "      <th>82574</th>\n",
       "      <td>expect dishonorable seller wear woman good</td>\n",
       "      <td>0</td>\n",
       "      <td>0.600000</td>\n",
       "      <td>0.600000</td>\n",
       "      <td>positive</td>\n",
       "    </tr>\n",
       "    <tr>\n",
       "      <th>57531</th>\n",
       "      <td>universityted education local afghanistan employee child abducted unknown gunman killed person traveling khairkhana morning kabul afghanistan</td>\n",
       "      <td>1</td>\n",
       "      <td>0.200000</td>\n",
       "      <td>0.200000</td>\n",
       "      <td>positive</td>\n",
       "    </tr>\n",
       "    <tr>\n",
       "      <th>51523</th>\n",
       "      <td>mashaallah friend done hea</td>\n",
       "      <td>0</td>\n",
       "      <td>0.000000</td>\n",
       "      <td>0.000000</td>\n",
       "      <td>neutral</td>\n",
       "    </tr>\n",
       "  </tbody>\n",
       "</table>\n",
       "</div>"
      ],
      "text/plain": [
       "                                                                                                                                                                                                                               text  \\\n",
       "54896                                                                                                                               voice afghanistan woman need heard afternoon instructive meeting afghanistan woman leader forum   \n",
       "19475  chaman gate young afghanistan girl left behind family speaks persian remember name father name contact number reuniversityte family help three hundred fifteen one million eight hundred eighteen thousand one hundred fifty   \n",
       "82574                                                                                                                                                                                    expect dishonorable seller wear woman good   \n",
       "57531                                                                                 universityted education local afghanistan employee child abducted unknown gunman killed person traveling khairkhana morning kabul afghanistan   \n",
       "51523                                                                                                                                                                                                    mashaallah friend done hea   \n",
       "\n",
       "       label  polarity  subjectivity sentiment1  \n",
       "54896      0  0.000000      0.000000    neutral  \n",
       "19475      0  0.366667      0.366667   positive  \n",
       "82574      0  0.600000      0.600000   positive  \n",
       "57531      1  0.200000      0.200000   positive  \n",
       "51523      0  0.000000      0.000000    neutral  "
      ]
     },
     "execution_count": 149,
     "metadata": {},
     "output_type": "execute_result"
    }
   ],
   "source": [
    "df[['text', 'label', 'polarity', 'subjectivity', 'sentiment1']].sample(5)"
   ]
  },
  {
   "cell_type": "code",
   "execution_count": 126,
   "metadata": {},
   "outputs": [
    {
     "data": {
      "text/html": [
       "<style type=\"text/css\">\n",
       "#T_c36c7_row0_col1 {\n",
       "  background-color: #3f007d;\n",
       "  color: #f1f1f1;\n",
       "}\n",
       "#T_c36c7_row1_col1 {\n",
       "  background-color: #fcfbfd;\n",
       "  color: #000000;\n",
       "}\n",
       "</style>\n",
       "<table id=\"T_c36c7\">\n",
       "  <thead>\n",
       "    <tr>\n",
       "      <th class=\"blank level0\" >&nbsp;</th>\n",
       "      <th id=\"T_c36c7_level0_col0\" class=\"col_heading level0 col0\" >sentiment1</th>\n",
       "      <th id=\"T_c36c7_level0_col1\" class=\"col_heading level0 col1\" >text</th>\n",
       "    </tr>\n",
       "  </thead>\n",
       "  <tbody>\n",
       "    <tr>\n",
       "      <th id=\"T_c36c7_level0_row0\" class=\"row_heading level0 row0\" >1</th>\n",
       "      <td id=\"T_c36c7_row0_col0\" class=\"data row0 col0\" >positive</td>\n",
       "      <td id=\"T_c36c7_row0_col1\" class=\"data row0 col1\" >66738</td>\n",
       "    </tr>\n",
       "    <tr>\n",
       "      <th id=\"T_c36c7_level0_row1\" class=\"row_heading level0 row1\" >0</th>\n",
       "      <td id=\"T_c36c7_row1_col0\" class=\"data row1 col0\" >neutral</td>\n",
       "      <td id=\"T_c36c7_row1_col1\" class=\"data row1 col1\" >22773</td>\n",
       "    </tr>\n",
       "  </tbody>\n",
       "</table>\n"
      ],
      "text/plain": [
       "<pandas.io.formats.style.Styler at 0x2a676e7fa60>"
      ]
     },
     "execution_count": 126,
     "metadata": {},
     "output_type": "execute_result"
    }
   ],
   "source": [
    "temp = df.groupby('sentiment1').count()['text'].reset_index().sort_values(by='text',ascending=False)\n",
    "temp.style.background_gradient(cmap='Purples')"
   ]
  },
  {
   "cell_type": "code",
   "execution_count": 128,
   "metadata": {},
   "outputs": [
    {
     "data": {
      "text/html": [
       "<style type=\"text/css\">\n",
       "#T_59c2b_row0_col1, #T_59c2b_row0_col2 {\n",
       "  background-color: #3f007d;\n",
       "  color: #f1f1f1;\n",
       "}\n",
       "#T_59c2b_row1_col1, #T_59c2b_row1_col2 {\n",
       "  background-color: #fcfbfd;\n",
       "  color: #000000;\n",
       "}\n",
       "</style>\n",
       "<table id=\"T_59c2b\">\n",
       "  <thead>\n",
       "    <tr>\n",
       "      <th class=\"blank level0\" >&nbsp;</th>\n",
       "      <th id=\"T_59c2b_level0_col0\" class=\"col_heading level0 col0\" >sentiment1</th>\n",
       "      <th id=\"T_59c2b_level0_col1\" class=\"col_heading level0 col1\" >text</th>\n",
       "      <th id=\"T_59c2b_level0_col2\" class=\"col_heading level0 col2\" >percentage</th>\n",
       "    </tr>\n",
       "  </thead>\n",
       "  <tbody>\n",
       "    <tr>\n",
       "      <th id=\"T_59c2b_level0_row0\" class=\"row_heading level0 row0\" >1</th>\n",
       "      <td id=\"T_59c2b_row0_col0\" class=\"data row0 col0\" >positive</td>\n",
       "      <td id=\"T_59c2b_row0_col1\" class=\"data row0 col1\" >66738</td>\n",
       "      <td id=\"T_59c2b_row0_col2\" class=\"data row0 col2\" >74.558434</td>\n",
       "    </tr>\n",
       "    <tr>\n",
       "      <th id=\"T_59c2b_level0_row1\" class=\"row_heading level0 row1\" >0</th>\n",
       "      <td id=\"T_59c2b_row1_col0\" class=\"data row1 col0\" >neutral</td>\n",
       "      <td id=\"T_59c2b_row1_col1\" class=\"data row1 col1\" >22773</td>\n",
       "      <td id=\"T_59c2b_row1_col2\" class=\"data row1 col2\" >25.441566</td>\n",
       "    </tr>\n",
       "  </tbody>\n",
       "</table>\n"
      ],
      "text/plain": [
       "<pandas.io.formats.style.Styler at 0x2a667a17070>"
      ]
     },
     "execution_count": 128,
     "metadata": {},
     "output_type": "execute_result"
    }
   ],
   "source": [
    "temp = df.groupby('sentiment1').count()['text'].reset_index().sort_values(by='text',ascending=False)\n",
    "temp['percentage'] = temp['text'] / len(df) * 100\n",
    "temp.style.background_gradient(cmap='Purples')"
   ]
  },
  {
   "cell_type": "code",
   "execution_count": 139,
   "metadata": {},
   "outputs": [
    {
     "name": "stdout",
     "output_type": "stream",
     "text": [
      "['callmeraha13' 'AKhodadad' 'alinazary' 'Azadi_English' 'Farid_Senzai'\n",
      " 'LNajafizada' 'marziababakarkh' 'MohebMudessir' 'ObaidullaBaheer'\n",
      " 'saadmohseni' 'SarabiHabiba' 'sashna111' 'shabnamHkhan' 'ShafiqaKhplwak'\n",
      " 'Sibghat_Ah' 'sonia_niazi6' 'thedaoudnaji' 'waliarian' 'zala_zazai'\n",
      " 'AhmadyWaheed' 'nabilamusleh' 'SarwarDanesh_61' 'SayedSamiSadat'\n",
      " 'SerajMahbouba' 'sharif_rasikh' 'sohailherwie' 'ZakariaSarkhosh'\n",
      " 'Fawziakoofi77' 'J_A_shemalsharq' 'ajalali' 'AKS_400' 'iampanjshiri'\n",
      " 'IslamYarZadran2' 'KarzaiH' 'LinaAhmadi5' 'MHaneefAtmar'\n",
      " 'NasibullahHamee' 'RohullR' 'RoyaRahmani' 'SafiaAlkozay'\n",
      " 'SE_afghanistanWGH' 'SofiaSo19560372' 'Zarifa_Ghafari'\n",
      " 'Mohammad Hali am Fidai' 'Moska Sangar NiazayðŸ‡¦ðŸ‡«' 'Nabila Musleh'\n",
      " 'Dr Nilofar Ebrahi ami' 'Ni amatullah (ni amat313)'\n",
      " 'Inayatullah Khwarazmi(Omer_Mansoor7)' 'Qais Alamdar'\n",
      " 'Qari Abdul Sattar Saeed(qarisa3eed)' 'Qari Yousaf Ahmadi'\n",
      " 'Rahmatullah Andar' 'Rana Azad' 'Amb.Roya Rahmani' 'Said Khalid Sadat'\n",
      " 'Sami Sadat' 'Shabnam Salehi' 'Shafiqa Khpalwak' 'Najia Anwari'\n",
      " 'Ahmad Massoud' 'Bashir Ahmad Qasani' 'Ahmad Saeedi'\n",
      " 'Sher Mohammad Abbas Stanikzai' 'Amrullah Saleh' 'Masoud Andarabi'\n",
      " 'Bilal Sarwary' 'Dawlat Waziri' 'Zarghuna Kargar' 'Dr. Abdullah Abdullah'\n",
      " 'Dr Malek Sitez' 'Fazal Hadi Musli amyar' 'Farahnaz Forotan'\n",
      " 'Faridullah Mohammadi' 'Abdali Kandozi' 'Ziaullah Hashi ami'\n",
      " 'Hasina Safi' 'Dr.M.Naeem' 'Hamid Karzai' 'Kahkashan Koofi'\n",
      " 'Dr. Latif Pedram' 'Mariam Wardak' 'Neda Muhammad Nadeem'\n",
      " 'Nilofar Langar' 'Homeira Qaderi' 'HmtAgha' 'RoAndrab' 'FaridNaheed'\n",
      " 'Musli amShirzad' 'realZalmayMK' 'saadia_sadia' 'samiraatash'\n",
      " 'Roeina Shahabi' 'Shaista Sadat Lameh' 'Sibghatullah Ahmadi'\n",
      " 'Idrees Stanikzai' 'Suhail Shaheen' 'SuhrabSirat' 'Mohammed Umer Daudzai'\n",
      " 'Zakarya Hassani' '1Soada' 'ahmadjavid' 'AhMukhtar' 'akmaldawi'\n",
      " 'alaryubi' 'ammarzamarak' 'AnasHaqqani313' 'aryan_yoon' 'ashrafghani'\n",
      " 'bashirgwakh' 'DaudQarizadah' 'DivaPatang' 'FAbdulrahi amzai'\n",
      " 'Fath_Farawal' 'HatefMokhtar' 'hosseini amazari' 'Ikrammaftoon'\n",
      " 'i amTawabAbdullah' 'InayatQazizada' 'JabeerNomani01' 'javidsali ami'\n",
      " 'KoshTaib' 'KYHaid ry' 'MahmoodMarhoon1' 'MajeedQarar' 'Mariamistan'\n",
      " 'MatiullahRahi am8' 'matiullahwesa' 'NajibaLai ama' 'OmarHaid ari1'\n",
      " 'OmSamad' 'paykhar' 'PopalRoshana' 'qarieisa' 'realwaziry' 'arsallan_'\n",
      " 'SAiFKHAYBER1718' 'SarinaRahman01' 'tami amasey' 'WahdatShamal'\n",
      " 'zabi_sadat789' 'ZDaryabi' 'AbasBasir1' 'Anisa.Shaheed'\n",
      " 'U.S. Special Envoy Rina Amiri' 'Farzana Elham Kochai' 'Fawzia Koofi'\n",
      " 'حکمتيار / Hekmatyar' 'Samira Hamidi' 'IndyPersianAfg' 'Rabia Sadat'\n",
      " '𝐌𝐚𝐫𝐲𝐚𝐦' 'Atif Mashal عاطف مشعل' 'Mohammed Haneef Atmar محمد حنیف اتمر'\n",
      " 'سترجنرال مبين خان' 'SalehaSoadat' 'Si amaNoori1' 'YaldaRoyan'\n",
      " 'حسیب قوای مرکز' 'ZarminaParyani' 'Ziaulhaq Amarkhil']\n"
     ]
    },
    {
     "ename": "AttributeError",
     "evalue": "'NoneType' object has no attribute 'len'",
     "output_type": "error",
     "traceback": [
      "\u001b[1;31m---------------------------------------------------------------------------\u001b[0m",
      "\u001b[1;31mAttributeError\u001b[0m                            Traceback (most recent call last)",
      "\u001b[1;32ma:\\MA. Program\\Semester 4\\Thesis\\CSV-Files\\src\\sentiment1.ipynb Cell 21\u001b[0m in \u001b[0;36m<cell line: 1>\u001b[1;34m()\u001b[0m\n\u001b[1;32m----> <a href='vscode-notebook-cell:/a%3A/MA.%20Program/Semester%204/Thesis/CSV-Files/src/sentiment1.ipynb#X32sZmlsZQ%3D%3D?line=0'>1</a>\u001b[0m \u001b[39mprint\u001b[39;49m(df[\u001b[39m'\u001b[39;49m\u001b[39mname\u001b[39;49m\u001b[39m'\u001b[39;49m]\u001b[39m.\u001b[39;49munique())\u001b[39m.\u001b[39;49mlen()\n",
      "\u001b[1;31mAttributeError\u001b[0m: 'NoneType' object has no attribute 'len'"
     ]
    }
   ],
   "source": [
    "print(df['name'].unique())"
   ]
  }
 ],
 "metadata": {
  "kernelspec": {
   "display_name": "Python 3",
   "language": "python",
   "name": "python3"
  },
  "language_info": {
   "codemirror_mode": {
    "name": "ipython",
    "version": 3
   },
   "file_extension": ".py",
   "mimetype": "text/x-python",
   "name": "python",
   "nbconvert_exporter": "python",
   "pygments_lexer": "ipython3",
   "version": "3.10.10"
  },
  "orig_nbformat": 4
 },
 "nbformat": 4,
 "nbformat_minor": 2
}
