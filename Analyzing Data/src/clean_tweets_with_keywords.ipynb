{
 "cells": [
  {
   "attachments": {},
   "cell_type": "markdown",
   "id": "8bcff81f",
   "metadata": {},
   "source": [
    "##### Libraries"
   ]
  },
  {
   "cell_type": "code",
   "execution_count": 1,
   "id": "08551bf9",
   "metadata": {},
   "outputs": [],
   "source": [
    "import pandas as pd\n",
    "import re,string\n",
    "pd.options.display.max_colwidth = None"
   ]
  },
  {
   "attachments": {},
   "cell_type": "markdown",
   "id": "12fd4de0",
   "metadata": {},
   "source": [
    "##### Load df"
   ]
  },
  {
   "cell_type": "code",
   "execution_count": 2,
   "id": "168ac382",
   "metadata": {},
   "outputs": [],
   "source": [
    "df = pd.read_excel('../data_processed/unclean_data.xlsx')"
   ]
  },
  {
   "cell_type": "code",
   "execution_count": 3,
   "id": "e110acbd",
   "metadata": {},
   "outputs": [],
   "source": [
    "# check is there any null value in dataset\n",
    "# print(df.isnull().sum())"
   ]
  },
  {
   "cell_type": "code",
   "execution_count": 4,
   "id": "bf8baff3",
   "metadata": {},
   "outputs": [],
   "source": [
    "# # drop empty rows from the 'text' column\n",
    "# df.dropna(subset=['text'], inplace=True)\n",
    "# # Remove rows with NaN values\n",
    "# df.dropna(inplace=True)\n",
    "# #remove duplicate\n",
    "# df.drop_duplicates(subset=['text'], inplace=True)\n",
    "# df[['text']].sample(5)\n"
   ]
  },
  {
   "cell_type": "code",
   "execution_count": 5,
   "id": "1d22e075",
   "metadata": {},
   "outputs": [
    {
     "data": {
      "text/plain": [
       "(179121, 5)"
      ]
     },
     "execution_count": 5,
     "metadata": {},
     "output_type": "execute_result"
    }
   ],
   "source": [
    "df.shape"
   ]
  },
  {
   "cell_type": "code",
   "execution_count": null,
   "id": "4239ca6d",
   "metadata": {},
   "outputs": [],
   "source": []
  },
  {
   "cell_type": "code",
   "execution_count": 6,
   "id": "c0d5320e",
   "metadata": {},
   "outputs": [
    {
     "data": {
      "text/plain": [
       "(179121, 5)"
      ]
     },
     "execution_count": 6,
     "metadata": {},
     "output_type": "execute_result"
    }
   ],
   "source": [
    "df.shape"
   ]
  },
  {
   "cell_type": "code",
   "execution_count": 7,
   "id": "e669bd83",
   "metadata": {},
   "outputs": [],
   "source": [
    "df['text'] = df['text'].astype('str')\n",
    "df['name'] = df['name'].astype('str')"
   ]
  },
  {
   "cell_type": "code",
   "execution_count": 8,
   "id": "dbe00cde",
   "metadata": {},
   "outputs": [],
   "source": [
    "#single letter\n",
    "def remove_single_letter(letter):\n",
    "    text = re.sub(r'\\b\\w\\b', '', letter)\n",
    "    return text\n",
    "df['text'] = df['text'].apply(lambda x: remove_single_letter(x))"
   ]
  },
  {
   "cell_type": "code",
   "execution_count": 9,
   "id": "575785fa",
   "metadata": {},
   "outputs": [
    {
     "data": {
      "text/html": [
       "<div>\n",
       "<style scoped>\n",
       "    .dataframe tbody tr th:only-of-type {\n",
       "        vertical-align: middle;\n",
       "    }\n",
       "\n",
       "    .dataframe tbody tr th {\n",
       "        vertical-align: top;\n",
       "    }\n",
       "\n",
       "    .dataframe thead th {\n",
       "        text-align: right;\n",
       "    }\n",
       "</style>\n",
       "<table border=\"1\" class=\"dataframe\">\n",
       "  <thead>\n",
       "    <tr style=\"text-align: right;\">\n",
       "      <th></th>\n",
       "      <th>text</th>\n",
       "    </tr>\n",
       "  </thead>\n",
       "  <tbody>\n",
       "    <tr>\n",
       "      <th>66862</th>\n",
       "      <td>everyone looks good except with their own afghanistan alas</td>\n",
       "    </tr>\n",
       "    <tr>\n",
       "      <th>92176</th>\n",
       "      <td>let people know their morals</td>\n",
       "    </tr>\n",
       "    <tr>\n",
       "      <th>17679</th>\n",
       "      <td>RT  Graduation ceremony of Women Officers of Afghan National Army. #ANA #Afghanistan</td>\n",
       "    </tr>\n",
       "    <tr>\n",
       "      <th>41609</th>\n",
       "      <td>personal screams as  result of taliban whipping</td>\n",
       "    </tr>\n",
       "    <tr>\n",
       "      <th>29463</th>\n",
       "      <td>RT of Nangarhar University gave an honorary doctorate certificate to the student of Agure Khatak School.</td>\n",
       "    </tr>\n",
       "  </tbody>\n",
       "</table>\n",
       "</div>"
      ],
      "text/plain": [
       "                                                                                                           text\n",
       "66862                                                everyone looks good except with their own afghanistan alas\n",
       "92176                                                                              let people know their morals\n",
       "17679                      RT  Graduation ceremony of Women Officers of Afghan National Army. #ANA #Afghanistan\n",
       "41609                                                           personal screams as  result of taliban whipping\n",
       "29463  RT of Nangarhar University gave an honorary doctorate certificate to the student of Agure Khatak School."
      ]
     },
     "execution_count": 9,
     "metadata": {},
     "output_type": "execute_result"
    }
   ],
   "source": [
    "df[['text']].sample(5)"
   ]
  },
  {
   "cell_type": "code",
   "execution_count": 10,
   "id": "b9cefeec",
   "metadata": {},
   "outputs": [],
   "source": [
    "df['created_at'] = pd.to_datetime(df['created_at']).dt.date.astype(str)\n",
    "df['text'] = df['text'].str.lower()\n",
    "df['text'] = df['text'].str.strip()"
   ]
  },
  {
   "attachments": {},
   "cell_type": "markdown",
   "id": "3a319674",
   "metadata": {},
   "source": [
    "##### The most hashtags"
   ]
  },
  {
   "cell_type": "code",
   "execution_count": 11,
   "id": "2b1c35f2",
   "metadata": {},
   "outputs": [
    {
     "name": "stdout",
     "output_type": "stream",
     "text": [
      "#afghanistan              5224\n",
      "#taliban                  3457\n",
      "#rabieh_sadat             1619\n",
      "#afghanssupporttaliban    1033\n",
      "#kabul                     929\n",
      "#unitedafghanistan         829\n",
      "#stophazaragenocide        757\n",
      "#afghan                    549\n",
      "#afghanwomen               509\n",
      "#pakistan                  483\n",
      "dtype: int64\n"
     ]
    }
   ],
   "source": [
    "import pandas as pd\n",
    "import re\n",
    "# Extract hashtags using regular expression\n",
    "hashtags = df['text'].apply(lambda x: re.findall(r'#\\w+', x))\n",
    "# Flatten the list of hashtags\n",
    "hashtags = [tag for sublist in hashtags for tag in sublist]\n",
    "# Count the frequency of each hashtag\n",
    "freq = pd.Series(hashtags).value_counts()\n",
    "# Select the top N most frequent hashtags\n",
    "top_n = 10\n",
    "top_hashtags = freq.head(top_n)\n",
    "# Print the top N most frequent hashtags\n",
    "print(top_hashtags)\n"
   ]
  },
  {
   "cell_type": "code",
   "execution_count": 12,
   "id": "12ef6a64",
   "metadata": {},
   "outputs": [
    {
     "data": {
      "image/png": "[encoded data removed]",
      "text/plain": [
       "<Figure size 432x288 with 1 Axes>"
      ]
     },
     "metadata": {
      "needs_background": "light"
     },
     "output_type": "display_data"
    }
   ],
   "source": [
    "# Visualize the top N most frequent hashtags\n",
    "import matplotlib.pyplot as plt\n",
    "top_hashtags.plot(kind='bar', rot=0)\n",
    "plt.xlabel('Hashtags')\n",
    "plt.ylabel('Frequency')\n",
    "plt.xticks(rotation=90)\n",
    "plt.title('Top {} Most Frequent Hashtags'.format(top_n))\n",
    "plt.show()"
   ]
  },
  {
   "cell_type": "code",
   "execution_count": 13,
   "id": "258bf616",
   "metadata": {},
   "outputs": [
    {
     "data": {
      "image/png": "[encoded data removed]",
      "text/plain": [
       "<Figure size 864x576 with 1 Axes>"
      ]
     },
     "metadata": {
      "needs_background": "light"
     },
     "output_type": "display_data"
    }
   ],
   "source": [
    "from collections import Counter\n",
    "hashtags = []\n",
    "for row in df['text']:\n",
    "    hashtags.extend([tag.strip(\"#\") for tag in row.split() if tag.startswith(\"#\")])\n",
    "counts = Counter(hashtags)\n",
    "top_tags = counts.most_common(10)  # modify topn parameter here\n",
    "fig, ax = plt.subplots(figsize=(12, 8))\n",
    "ax.bar([tag[0] for tag in top_tags], [len(tag[0]) for tag in top_tags])\n",
    "ax.set_title(\"Top 50 Hashtags with Lengths\")\n",
    "ax.set_xlabel(\"Hashtag\")\n",
    "ax.set_ylabel(\"Length\")\n",
    "plt.xticks(rotation=90)\n",
    "plt.show()"
   ]
  },
  {
   "cell_type": "code",
   "execution_count": 14,
   "id": "0814520d",
   "metadata": {},
   "outputs": [],
   "source": [
    "# # 10 most repeated tweets\n",
    "# df.groupby(['text']).size().reset_index(name='counts')\\\n",
    "#   .sort_values('counts', ascending=False).head(10)"
   ]
  },
  {
   "cell_type": "code",
   "execution_count": 15,
   "id": "f4836c8c",
   "metadata": {},
   "outputs": [],
   "source": [
    "words_to_drop = ['corona', 'iran', 'tehran', \n",
    "                 'money', 'thanks', 'thank you', 'how are you', 'hi', 'hello', \n",
    "                 'soul']\n",
    "for word in words_to_drop:\n",
    "    df = df[~df['text'].str.contains(word, case=False, na=False)]\n",
    "df.dropna(subset=['text'], inplace=True) #remove nan value\n",
    "df.drop_duplicates(subset=['text'], inplace=True)"
   ]
  },
  {
   "attachments": {},
   "cell_type": "markdown",
   "id": "e883c4a4",
   "metadata": {},
   "source": [
    "##### Clean text"
   ]
  },
  {
   "cell_type": "code",
   "execution_count": 16,
   "id": "e4df9f5b",
   "metadata": {},
   "outputs": [],
   "source": [
    "def clean_text(text):\n",
    "    text = re.sub(r'\\bRT\\b', '',str(text))\n",
    "    # remove mentions (@)\n",
    "    text = re.sub(r'@\\w+', '', str(text))\n",
    "    # remove URLs (http and https)\n",
    "    text = re.sub(r'http\\S+|https\\S+', '', str(text))\n",
    "    # remove links (www)\n",
    "    text = re.sub(r'www.\\S+', '', str(text))\n",
    "    # remove non-alphanumeric characters and whitespace\n",
    "    text = re.sub(r'[^\\w\\s]', '', str(text))\n",
    "    text = re.sub(r'\\s+', ' ', str(text))\n",
    "    # convert to lowercase\n",
    "    text = text.lower()\n",
    "    # remove leading and trailing whitespace\n",
    "    text = text.strip()\n",
    "    return text \n",
    "\n",
    "# remove new line\n",
    "df['text'] = df['text'].str.replace('\\n', '')\n",
    "df['text'] = df['text'].apply(clean_text)"
   ]
  },
  {
   "cell_type": "code",
   "execution_count": 17,
   "id": "474df463",
   "metadata": {},
   "outputs": [
    {
     "data": {
      "text/html": [
       "<div>\n",
       "<style scoped>\n",
       "    .dataframe tbody tr th:only-of-type {\n",
       "        vertical-align: middle;\n",
       "    }\n",
       "\n",
       "    .dataframe tbody tr th {\n",
       "        vertical-align: top;\n",
       "    }\n",
       "\n",
       "    .dataframe thead th {\n",
       "        text-align: right;\n",
       "    }\n",
       "</style>\n",
       "<table border=\"1\" class=\"dataframe\">\n",
       "  <thead>\n",
       "    <tr style=\"text-align: right;\">\n",
       "      <th></th>\n",
       "      <th>text</th>\n",
       "    </tr>\n",
       "  </thead>\n",
       "  <tbody>\n",
       "    <tr>\n",
       "      <th>24360</th>\n",
       "      <td>policy to encourage more suicides donotrecognizetaliban</td>\n",
       "    </tr>\n",
       "    <tr>\n",
       "      <th>3557</th>\n",
       "      <td>then focus on initiatives that actually are focusing on girls education stop expressing shocks and disappointments</td>\n",
       "    </tr>\n",
       "    <tr>\n",
       "      <th>124496</th>\n",
       "      <td>there are many women in afghanistan and iraq who could have also shared their own experiences would be great if you give space to women from these countries they have countless experiences of course huge respect to long ti ame friend and colleague</td>\n",
       "    </tr>\n",
       "    <tr>\n",
       "      <th>73156</th>\n",
       "      <td>dr abdullah and do not want to be in the government says former afghanistan president we have had our ti ame we have done our pa for the country so there is no need for us in the government and we should not be in any government that comes into the future</td>\n",
       "    </tr>\n",
       "    <tr>\n",
       "      <th>136827</th>\n",
       "      <td>to day afggerman chamber of commerce council officially launched to create more opportunities for trade industry on both sidesto day germany is the most sustainable economic model across the globe our commercial relation with germany has more strategic economic amplications</td>\n",
       "    </tr>\n",
       "  </tbody>\n",
       "</table>\n",
       "</div>"
      ],
      "text/plain": [
       "                                                                                                                                                                                                                                                                                      text\n",
       "24360                                                                                                                                                                                                                              policy to encourage more suicides donotrecognizetaliban\n",
       "3557                                                                                                                                                                    then focus on initiatives that actually are focusing on girls education stop expressing shocks and disappointments\n",
       "124496                             there are many women in afghanistan and iraq who could have also shared their own experiences would be great if you give space to women from these countries they have countless experiences of course huge respect to long ti ame friend and colleague\n",
       "73156                      dr abdullah and do not want to be in the government says former afghanistan president we have had our ti ame we have done our pa for the country so there is no need for us in the government and we should not be in any government that comes into the future\n",
       "136827  to day afggerman chamber of commerce council officially launched to create more opportunities for trade industry on both sidesto day germany is the most sustainable economic model across the globe our commercial relation with germany has more strategic economic amplications"
      ]
     },
     "execution_count": 17,
     "metadata": {},
     "output_type": "execute_result"
    }
   ],
   "source": [
    "df[['text']].sample(5)"
   ]
  },
  {
   "attachments": {},
   "cell_type": "markdown",
   "id": "e586062a",
   "metadata": {},
   "source": [
    "##### Remove punctuations"
   ]
  },
  {
   "cell_type": "code",
   "execution_count": 18,
   "id": "10275bb7",
   "metadata": {},
   "outputs": [],
   "source": [
    "import string\n",
    "def remove_punctuations(text):\n",
    "    for punctuation in string.punctuation:\n",
    "        text = text.replace(punctuation, '')\n",
    "    return text\n",
    "# Apply to the DF series\n",
    "df['text'] = df['text'].apply(remove_punctuations)"
   ]
  },
  {
   "cell_type": "code",
   "execution_count": 19,
   "id": "f512eaf9",
   "metadata": {},
   "outputs": [
    {
     "data": {
      "text/html": [
       "<div>\n",
       "<style scoped>\n",
       "    .dataframe tbody tr th:only-of-type {\n",
       "        vertical-align: middle;\n",
       "    }\n",
       "\n",
       "    .dataframe tbody tr th {\n",
       "        vertical-align: top;\n",
       "    }\n",
       "\n",
       "    .dataframe thead th {\n",
       "        text-align: right;\n",
       "    }\n",
       "</style>\n",
       "<table border=\"1\" class=\"dataframe\">\n",
       "  <thead>\n",
       "    <tr style=\"text-align: right;\">\n",
       "      <th></th>\n",
       "      <th>text</th>\n",
       "    </tr>\n",
       "  </thead>\n",
       "  <tbody>\n",
       "    <tr>\n",
       "      <th>165106</th>\n",
       "      <td>was pleasure for me our team members to meet amb alice wells on her visit to kabul we discussed latest progress in peace process exchanged views on upcoming elections as well as other current issues told her appreciated us suppo for the afghan electoral process</td>\n",
       "    </tr>\n",
       "    <tr>\n",
       "      <th>126643</th>\n",
       "      <td>happy national journalists day to all committed and worthy journalists journalists especially female journalists in afghanistan have always facedare facing many challenges insecurity targeted assassinations and violence against journalists have caused large number of journalists to leave the country and their profession</td>\n",
       "    </tr>\n",
       "    <tr>\n",
       "      <th>115054</th>\n",
       "      <td>we want peace and we want pen instead of gun please help us in the education sector providing any opportunity for</td>\n",
       "    </tr>\n",
       "    <tr>\n",
       "      <th>25801</th>\n",
       "      <td>penpath volunteers embarked on trip to nangarhar province to start their door to door campaign for education and</td>\n",
       "    </tr>\n",
       "    <tr>\n",
       "      <th>166039</th>\n",
       "      <td>mr idrissov said in the near future kazakhstan would become the head of the unsc sanctions committee and would suppo afg request</td>\n",
       "    </tr>\n",
       "    <tr>\n",
       "      <th>155231</th>\n",
       "      <td>subsequent stages of the peace process</td>\n",
       "    </tr>\n",
       "    <tr>\n",
       "      <th>119183</th>\n",
       "      <td>tell the women and girls of afghanistan that we refuse to leave them alone as collateral damage</td>\n",
       "    </tr>\n",
       "    <tr>\n",
       "      <th>151585</th>\n",
       "      <td>sediq seddiqi former spokesperson of the ministry of interiortaliban fought with america for 20 years under the name of jihad now they are asking america for helpafghanistan</td>\n",
       "    </tr>\n",
       "    <tr>\n",
       "      <th>21250</th>\n",
       "      <td>rt these the new taliban the ones peace asserts to have evolved to normal human beings taliban punish</td>\n",
       "    </tr>\n",
       "    <tr>\n",
       "      <th>40239</th>\n",
       "      <td>rt when imām alī ibn abī ṭālib met with the paternal grandfather of abū ḥanīfa the sassanian marzban of kabul the latt</td>\n",
       "    </tr>\n",
       "  </tbody>\n",
       "</table>\n",
       "</div>"
      ],
      "text/plain": [
       "                                                                                                                                                                                                                                                                                                                                     text\n",
       "165106                                                              was pleasure for me our team members to meet amb alice wells on her visit to kabul we discussed latest progress in peace process exchanged views on upcoming elections as well as other current issues told her appreciated us suppo for the afghan electoral process\n",
       "126643  happy national journalists day to all committed and worthy journalists journalists especially female journalists in afghanistan have always facedare facing many challenges insecurity targeted assassinations and violence against journalists have caused large number of journalists to leave the country and their profession\n",
       "115054                                                                                                                                                                                                                  we want peace and we want pen instead of gun please help us in the education sector providing any opportunity for\n",
       "25801                                                                                                                                                                                                                    penpath volunteers embarked on trip to nangarhar province to start their door to door campaign for education and\n",
       "166039                                                                                                                                                                                                   mr idrissov said in the near future kazakhstan would become the head of the unsc sanctions committee and would suppo afg request\n",
       "155231                                                                                                                                                                                                                                                                                             subsequent stages of the peace process\n",
       "119183                                                                                                                                                                                                                                    tell the women and girls of afghanistan that we refuse to leave them alone as collateral damage\n",
       "151585                                                                                                                                                      sediq seddiqi former spokesperson of the ministry of interiortaliban fought with america for 20 years under the name of jihad now they are asking america for helpafghanistan\n",
       "21250                                                                                                                                                                                                                               rt these the new taliban the ones peace asserts to have evolved to normal human beings taliban punish\n",
       "40239                                                                                                                                                                                                              rt when imām alī ibn abī ṭālib met with the paternal grandfather of abū ḥanīfa the sassanian marzban of kabul the latt"
      ]
     },
     "execution_count": 19,
     "metadata": {},
     "output_type": "execute_result"
    }
   ],
   "source": [
    "df[['text']].sample(10)"
   ]
  },
  {
   "cell_type": "code",
   "execution_count": 20,
   "id": "3c70879b",
   "metadata": {},
   "outputs": [],
   "source": [
    "def remove_non_ascii(df, column_name):\n",
    "    # iterate over each row in the specified column\n",
    "    for index, row in df.iterrows():\n",
    "        if isinstance(row[column_name], str):\n",
    "            # encode the text as ASCII, ignoring any non-ASCII characters\n",
    "            text = row[column_name].encode('ascii', 'ignore').decode()\n",
    "        # update the dfframe with the modified text\n",
    "            df.at[index, column_name] = text\n",
    "    return df\n",
    "df = remove_non_ascii(df, 'name')\n",
    "df = remove_non_ascii(df, 'text')\n"
   ]
  },
  {
   "cell_type": "code",
   "execution_count": 21,
   "id": "679b193c",
   "metadata": {},
   "outputs": [],
   "source": [
    "#remove 1,2,3 words from tweets, such as interesting article, Afghan girl... \n",
    "def remove_two_word_rows(df, column_name):\n",
    "    # get the index of rows with two-word values in the specified column\n",
    "    two_word_rows = df[df[column_name].str.split().str.len() == 3].index\n",
    "    # drop the two-word rows from the dfframe\n",
    "    df = df.drop(two_word_rows, axis=0)\n",
    "    return df\n",
    "df = remove_two_word_rows(df, 'text')\n"
   ]
  },
  {
   "cell_type": "code",
   "execution_count": 22,
   "id": "13ddc9be",
   "metadata": {},
   "outputs": [
    {
     "data": {
      "text/plain": [
       "(87255, 5)"
      ]
     },
     "execution_count": 22,
     "metadata": {},
     "output_type": "execute_result"
    }
   ],
   "source": [
    "df.shape"
   ]
  },
  {
   "cell_type": "code",
   "execution_count": 23,
   "id": "e9e7cdcb",
   "metadata": {},
   "outputs": [],
   "source": [
    "# df.to_excel('../data_processed/clean.xlsx', index=False)"
   ]
  }
 ],
 "metadata": {
  "kernelspec": {
   "display_name": "Python 3",
   "language": "python",
   "name": "python3"
  },
  "language_info": {
   "codemirror_mode": {
    "name": "ipython",
    "version": 3
   },
   "file_extension": ".py",
   "mimetype": "text/x-python",
   "name": "python",
   "nbconvert_exporter": "python",
   "pygments_lexer": "ipython3",
   "version": "3.10.10"
  },
  "vscode": {
   "interpreter": {
    "hash": "8c3d4d9970fc5c09c50d9318a9c7fbf4d0159e4b28833276f5678ee22bded273"
   }
  }
 },
 "nbformat": 4,
 "nbformat_minor": 5
}
