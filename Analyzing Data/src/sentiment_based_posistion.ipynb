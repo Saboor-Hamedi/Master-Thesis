{
 "cells": [
  {
   "cell_type": "code",
   "execution_count": 1,
   "metadata": {},
   "outputs": [],
   "source": [
    "import pandas as pd"
   ]
  },
  {
   "cell_type": "code",
   "execution_count": 2,
   "metadata": {},
   "outputs": [],
   "source": [
    "df = pd.read_excel('../data_processed/education.xlsx')"
   ]
  },
  {
   "attachments": {},
   "cell_type": "markdown",
   "metadata": {},
   "source": [
    "##### Activists"
   ]
  },
  {
   "cell_type": "code",
   "execution_count": 14,
   "metadata": {},
   "outputs": [],
   "source": [
    "import nltk\n",
    "from nltk.sentiment import SentimentIntensityAnalyzer\n",
    "sid = SentimentIntensityAnalyzer()"
   ]
  },
  {
   "cell_type": "code",
   "execution_count": 20,
   "metadata": {},
   "outputs": [
    {
     "name": "stdout",
     "output_type": "stream",
     "text": [
      "Sentiment of tweets regarding women education for user:\n",
      "sentiment\n",
      "positive    3\n",
      "Name: count, dtype: int64\n",
      "\n",
      "Sentiment percentages for Fawziakoofi77's tweets regarding women education:\n",
      "sentiment\n",
      "positive    100.0\n",
      "Name: proportion, dtype: float64\n",
      "\n",
      "Number of positive tweets for Fawziakoofi77 regarding women education: 3\n"
     ]
    }
   ],
   "source": [
    "# Function to classify the sentiment of a tweet\n",
    "def classify_sentiment(tweet):\n",
    "    sentiment_scores = sid.polarity_scores(tweet)\n",
    "    compound_score = sentiment_scores['compound']\n",
    "    \n",
    "    if compound_score >= 0.05:\n",
    "        return 'positive'\n",
    "    elif compound_score <= -0.05:\n",
    "        return 'negative'\n",
    "    else:\n",
    "        return 'neutral'\n",
    "# Filter tweets related to women's education\n",
    "women_education_tweets = df[df['text'].str.contains('women education')]\n",
    "\n",
    "# Filter tweets specifically from a user (e.g., \"Jhon\")\n",
    "user_tweets = women_education_tweets[women_education_tweets['name'] == 'QaderiHomeira'].copy()\n",
    "\n",
    "# Apply sentiment analysis to the user's tweets and classify their sentiment\n",
    "user_tweets.loc[:, 'sentiment'] = user_tweets['text'].apply(classify_sentiment)\n",
    "\n",
    "# Print the sentiment of the user's tweets regarding women's education\n",
    "print(\"Sentiment of tweets regarding women education for user:\")\n",
    "print(user_tweets['sentiment'].value_counts())\n",
    "\n",
    "# Calculate the percentage of each sentiment category\n",
    "sentiment_percentages = user_tweets['sentiment'].value_counts(normalize=True) * 100\n",
    "\n",
    "# Print the sentiment percentages\n",
    "print(\"\\nSentiment percentages for Fawziakoofi77's tweets regarding women education:\")\n",
    "print(sentiment_percentages)\n",
    "\n",
    "# Get the count of positive tweets\n",
    "positive_tweets_count = user_tweets[user_tweets['sentiment'] == 'positive'].shape[0]\n",
    "\n",
    "# Print the count of positive tweets\n",
    "print(\"\\nNumber of positive tweets for Fawziakoofi77 regarding women education:\", positive_tweets_count)\n"
   ]
  },
  {
   "cell_type": "code",
   "execution_count": 23,
   "metadata": {},
   "outputs": [
    {
     "name": "stdout",
     "output_type": "stream",
     "text": [
      "Sentiment of tweets regarding women education for user QaderiHomeira:\n",
      "sentiment\n",
      "positive    3\n",
      "Name: count, dtype: int64\n",
      "\n",
      "Sentiment Analysis for user QaderiHomeira's tweets regarding women education:\n",
      "Positive 3\n",
      "Percentage 100.0%\n",
      "\n",
      "Number of positive tweets for QaderiHomeira regarding women education: 3\n"
     ]
    }
   ],
   "source": [
    "import pandas as pd\n",
    "\n",
    "# Function to classify the sentiment of a tweet\n",
    "def classify_sentiment(tweet):\n",
    "    sentiment_scores = sid.polarity_scores(tweet)\n",
    "    compound_score = sentiment_scores['compound']\n",
    "    \n",
    "    if compound_score >= 0.05:\n",
    "        return 'positive'\n",
    "    elif compound_score <= -0.05:\n",
    "        return 'negative'\n",
    "    else:\n",
    "        return 'neutral'\n",
    "\n",
    "# Filter tweets related to women's education\n",
    "women_education_tweets = df[df['text'].str.contains('women education')]\n",
    "\n",
    "# Filter tweets specifically from a user (e.g., \"Jhon\")\n",
    "user_tweets = women_education_tweets[women_education_tweets['name'] == 'QaderiHomeira'].copy()\n",
    "\n",
    "# Apply sentiment analysis to the user's tweets and classify their sentiment\n",
    "user_tweets.loc[:, 'sentiment'] = user_tweets['text'].apply(classify_sentiment)\n",
    "\n",
    "# Print the sentiment of the user's tweets regarding women's education\n",
    "print(\"Sentiment of tweets regarding women education for user QaderiHomeira:\")\n",
    "print(user_tweets['sentiment'].value_counts())\n",
    "\n",
    "# Calculate the percentage of each sentiment category\n",
    "sentiment_counts = user_tweets['sentiment'].value_counts()\n",
    "total_tweets = len(user_tweets)\n",
    "sentiment_percentages = (sentiment_counts / total_tweets) * 100\n",
    "\n",
    "# Format the sentiment information\n",
    "sentiment_info = \"\\n\".join([f\"{sentiment.capitalize()} {count}\\nPercentage {percentage:.1f}%\"\n",
    "                            for sentiment, count, percentage in zip(sentiment_counts.index, sentiment_counts.values, sentiment_percentages.values)])\n",
    "\n",
    "# Print the sentiment information\n",
    "print(\"\\nSentiment Analysis for user QaderiHomeira's tweets regarding women education:\")\n",
    "print(sentiment_info)\n",
    "\n",
    "# Get the count of positive tweets\n",
    "positive_tweets_count = sentiment_counts.get('positive', 0)\n",
    "\n",
    "# Print the count of positive tweets\n",
    "print(\"\\nNumber of positive tweets for QaderiHomeira regarding women education:\", positive_tweets_count)\n"
   ]
  },
  {
   "cell_type": "code",
   "execution_count": 25,
   "metadata": {},
   "outputs": [
    {
     "ename": "KeyError",
     "evalue": "'attack_tweets'",
     "output_type": "error",
     "traceback": [
      "\u001b[1;31m---------------------------------------------------------------------------\u001b[0m",
      "\u001b[1;31mKeyError\u001b[0m                                  Traceback (most recent call last)",
      "File \u001b[1;32mc:\\Users\\saboor\\AppData\\Local\\Programs\\Python\\Python311\\Lib\\site-packages\\pandas\\core\\indexes\\base.py:3652\u001b[0m, in \u001b[0;36mIndex.get_loc\u001b[1;34m(self, key)\u001b[0m\n\u001b[0;32m   3651\u001b[0m \u001b[39mtry\u001b[39;00m:\n\u001b[1;32m-> 3652\u001b[0m     \u001b[39mreturn\u001b[39;00m \u001b[39mself\u001b[39;49m\u001b[39m.\u001b[39;49m_engine\u001b[39m.\u001b[39;49mget_loc(casted_key)\n\u001b[0;32m   3653\u001b[0m \u001b[39mexcept\u001b[39;00m \u001b[39mKeyError\u001b[39;00m \u001b[39mas\u001b[39;00m err:\n",
      "File \u001b[1;32mc:\\Users\\saboor\\AppData\\Local\\Programs\\Python\\Python311\\Lib\\site-packages\\pandas\\_libs\\index.pyx:147\u001b[0m, in \u001b[0;36mpandas._libs.index.IndexEngine.get_loc\u001b[1;34m()\u001b[0m\n",
      "File \u001b[1;32mc:\\Users\\saboor\\AppData\\Local\\Programs\\Python\\Python311\\Lib\\site-packages\\pandas\\_libs\\index.pyx:176\u001b[0m, in \u001b[0;36mpandas._libs.index.IndexEngine.get_loc\u001b[1;34m()\u001b[0m\n",
      "File \u001b[1;32mpandas\\_libs\\hashtable_class_helper.pxi:7080\u001b[0m, in \u001b[0;36mpandas._libs.hashtable.PyObjectHashTable.get_item\u001b[1;34m()\u001b[0m\n",
      "File \u001b[1;32mpandas\\_libs\\hashtable_class_helper.pxi:7088\u001b[0m, in \u001b[0;36mpandas._libs.hashtable.PyObjectHashTable.get_item\u001b[1;34m()\u001b[0m\n",
      "\u001b[1;31mKeyError\u001b[0m: 'attack_tweets'",
      "\nThe above exception was the direct cause of the following exception:\n",
      "\u001b[1;31mKeyError\u001b[0m                                  Traceback (most recent call last)",
      "Cell \u001b[1;32mIn[25], line 58\u001b[0m\n\u001b[0;32m     55\u001b[0m negative_tweets \u001b[39m=\u001b[39m \u001b[39mlen\u001b[39m(df[df[\u001b[39m'\u001b[39m\u001b[39msentiment\u001b[39m\u001b[39m'\u001b[39m] \u001b[39m==\u001b[39m \u001b[39m'\u001b[39m\u001b[39mnegative\u001b[39m\u001b[39m'\u001b[39m])\n\u001b[0;32m     56\u001b[0m neutral_tweets \u001b[39m=\u001b[39m \u001b[39mlen\u001b[39m(df[df[\u001b[39m'\u001b[39m\u001b[39msentiment\u001b[39m\u001b[39m'\u001b[39m] \u001b[39m==\u001b[39m \u001b[39m'\u001b[39m\u001b[39mneutral\u001b[39m\u001b[39m'\u001b[39m])\n\u001b[1;32m---> 58\u001b[0m attack_tweets_mean \u001b[39m=\u001b[39m df[\u001b[39m'\u001b[39;49m\u001b[39mattack_tweets\u001b[39;49m\u001b[39m'\u001b[39;49m]\u001b[39m.\u001b[39mmean()\n\u001b[0;32m     59\u001b[0m issue_tweets_mean \u001b[39m=\u001b[39m df[\u001b[39m'\u001b[39m\u001b[39missue_related\u001b[39m\u001b[39m'\u001b[39m]\u001b[39m.\u001b[39mmean()\n\u001b[0;32m     60\u001b[0m women_issue_tweets_mean \u001b[39m=\u001b[39m df[\u001b[39m'\u001b[39m\u001b[39mwomen_issue_related\u001b[39m\u001b[39m'\u001b[39m]\u001b[39m.\u001b[39mmean()\n",
      "File \u001b[1;32mc:\\Users\\saboor\\AppData\\Local\\Programs\\Python\\Python311\\Lib\\site-packages\\pandas\\core\\frame.py:3761\u001b[0m, in \u001b[0;36mDataFrame.__getitem__\u001b[1;34m(self, key)\u001b[0m\n\u001b[0;32m   3759\u001b[0m \u001b[39mif\u001b[39;00m \u001b[39mself\u001b[39m\u001b[39m.\u001b[39mcolumns\u001b[39m.\u001b[39mnlevels \u001b[39m>\u001b[39m \u001b[39m1\u001b[39m:\n\u001b[0;32m   3760\u001b[0m     \u001b[39mreturn\u001b[39;00m \u001b[39mself\u001b[39m\u001b[39m.\u001b[39m_getitem_multilevel(key)\n\u001b[1;32m-> 3761\u001b[0m indexer \u001b[39m=\u001b[39m \u001b[39mself\u001b[39;49m\u001b[39m.\u001b[39;49mcolumns\u001b[39m.\u001b[39;49mget_loc(key)\n\u001b[0;32m   3762\u001b[0m \u001b[39mif\u001b[39;00m is_integer(indexer):\n\u001b[0;32m   3763\u001b[0m     indexer \u001b[39m=\u001b[39m [indexer]\n",
      "File \u001b[1;32mc:\\Users\\saboor\\AppData\\Local\\Programs\\Python\\Python311\\Lib\\site-packages\\pandas\\core\\indexes\\base.py:3654\u001b[0m, in \u001b[0;36mIndex.get_loc\u001b[1;34m(self, key)\u001b[0m\n\u001b[0;32m   3652\u001b[0m     \u001b[39mreturn\u001b[39;00m \u001b[39mself\u001b[39m\u001b[39m.\u001b[39m_engine\u001b[39m.\u001b[39mget_loc(casted_key)\n\u001b[0;32m   3653\u001b[0m \u001b[39mexcept\u001b[39;00m \u001b[39mKeyError\u001b[39;00m \u001b[39mas\u001b[39;00m err:\n\u001b[1;32m-> 3654\u001b[0m     \u001b[39mraise\u001b[39;00m \u001b[39mKeyError\u001b[39;00m(key) \u001b[39mfrom\u001b[39;00m \u001b[39merr\u001b[39;00m\n\u001b[0;32m   3655\u001b[0m \u001b[39mexcept\u001b[39;00m \u001b[39mTypeError\u001b[39;00m:\n\u001b[0;32m   3656\u001b[0m     \u001b[39m# If we have a listlike key, _check_indexing_error will raise\u001b[39;00m\n\u001b[0;32m   3657\u001b[0m     \u001b[39m#  InvalidIndexError. Otherwise we fall through and re-raise\u001b[39;00m\n\u001b[0;32m   3658\u001b[0m     \u001b[39m#  the TypeError.\u001b[39;00m\n\u001b[0;32m   3659\u001b[0m     \u001b[39mself\u001b[39m\u001b[39m.\u001b[39m_check_indexing_error(key)\n",
      "\u001b[1;31mKeyError\u001b[0m: 'attack_tweets'"
     ]
    }
   ],
   "source": []
  }
 ],
 "metadata": {
  "kernelspec": {
   "display_name": "Python 3",
   "language": "python",
   "name": "python3"
  },
  "language_info": {
   "codemirror_mode": {
    "name": "ipython",
    "version": 3
   },
   "file_extension": ".py",
   "mimetype": "text/x-python",
   "name": "python",
   "nbconvert_exporter": "python",
   "pygments_lexer": "ipython3",
   "version": "3.11.3"
  },
  "orig_nbformat": 4
 },
 "nbformat": 4,
 "nbformat_minor": 2
}
