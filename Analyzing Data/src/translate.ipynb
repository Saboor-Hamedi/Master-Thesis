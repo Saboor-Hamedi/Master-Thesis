{
 "cells": [
  {
   "cell_type": "code",
   "execution_count": 3,
   "id": "3925855c",
   "metadata": {
    "tags": []
   },
   "outputs": [],
   "source": [
    "import pandas as pd\n",
    "import re\n",
    "from googletrans import Translator\n",
    "# ===================================================\n",
    "df = pd.read_excel(\"../sheets/@ahmdsydy13_male_tajik.xlsx\")\n"
   ]
  },
  {
   "cell_type": "code",
   "execution_count": 4,
   "id": "0433bb75-b7e8-428b-ad76-e84410b9e421",
   "metadata": {
    "tags": []
   },
   "outputs": [
    {
     "data": {
      "text/plain": [
       "Index(['text', 'name', 'created_at', 'gender', 'ethnic'], dtype='object')"
      ]
     },
     "execution_count": 4,
     "metadata": {},
     "output_type": "execute_result"
    }
   ],
   "source": [
    "df.columns"
   ]
  },
  {
   "cell_type": "code",
   "execution_count": 5,
   "id": "c57e87d0",
   "metadata": {
    "tags": []
   },
   "outputs": [],
   "source": [
    "df['created_at'] = pd.to_datetime(df['created_at']).dt.date # separate date from timezone"
   ]
  },
  {
   "cell_type": "code",
   "execution_count": 7,
   "id": "82fcd4c9",
   "metadata": {
    "tags": []
   },
   "outputs": [],
   "source": [
    "def remove_usernames_links(tweet):\n",
    "    tweet = re.sub(\"@[^\\s]+\",\"\",str(tweet))\n",
    "    tweet = re.sub(\"http[^\\s]+\",\"\",str(tweet))\n",
    "    return tweet\n",
    "df[\"text\"] = df[\"text\"].apply(remove_usernames_links)"
   ]
  },
  {
   "cell_type": "code",
   "execution_count": 9,
   "id": "1dc58f94",
   "metadata": {
    "tags": []
   },
   "outputs": [],
   "source": [
    "import time\n",
    "translator = Translator()\n",
    "# define function to translate text to English\n",
    "def translate_to_english(text):\n",
    "    try:\n",
    "        translation = translator.translate(text, dest='en')\n",
    "        time.sleep(1)  # pause for 1 second to avoid rate limiting\n",
    "        return translation.text\n",
    "    except:\n",
    "        return ''\n",
    "# apply translation function to tweets column\n",
    "df['text'] = df['text'].apply(translate_to_english)\n",
    "\n",
    "if 'gender' not in df.columns:\n",
    "    df['gender'] = ''\n",
    "if 'ethnic' not in df.columns:\n",
    "    df['ethnic'] = ''\n",
    "mask = (df['gender'] == '') & (df['ethnic'] == '')\n",
    "df['gender'] = 'male' \n",
    "df['ethnic'] = 'pashtun'\n",
    "df.columns = df.columns.str.lower()\n",
    "df.to_excel(\"../sheets/@ahmdsydy13_male_tajik.xlsx\", index=False)\n"
   ]
  },
  {
   "cell_type": "code",
   "execution_count": null,
   "id": "6ae9d4eb-e268-41e3-84a9-1efd2b0a16d7",
   "metadata": {},
   "outputs": [],
   "source": []
  }
 ],
 "metadata": {
  "kernelspec": {
   "display_name": "Python 3 (ipykernel)",
   "language": "python",
   "name": "python3"
  },
  "language_info": {
   "codemirror_mode": {
    "name": "ipython",
    "version": 3
   },
   "file_extension": ".py",
   "mimetype": "text/x-python",
   "name": "python",
   "nbconvert_exporter": "python",
   "pygments_lexer": "ipython3",
   "version": "3.11.2"
  },
  "vscode": {
   "interpreter": {
    "hash": "8c3d4d9970fc5c09c50d9318a9c7fbf4d0159e4b28833276f5678ee22bded273"
   }
  }
 },
 "nbformat": 4,
 "nbformat_minor": 5
}
