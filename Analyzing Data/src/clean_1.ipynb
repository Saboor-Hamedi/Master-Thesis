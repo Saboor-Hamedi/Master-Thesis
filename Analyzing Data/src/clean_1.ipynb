{
 "cells": [
  {
   "cell_type": "code",
   "execution_count": 1,
   "id": "b0afb0be",
   "metadata": {
    "tags": []
   },
   "outputs": [],
   "source": [
    "import re\n",
    "import string\n",
    "import pandas as pd \n",
    "from collections import Counter\n",
    "import matplotlib.pyplot as plt\n",
    "pd.options.display.max_colwidth= None\n",
    "pd.set_option('display.max_colwidth', 100)"
   ]
  },
  {
   "cell_type": "code",
   "execution_count": 2,
   "id": "6ffd0ad9",
   "metadata": {
    "tags": []
   },
   "outputs": [],
   "source": [
    "df = pd.read_excel('../data_processed/complete_education.xlsx')"
   ]
  },
  {
   "cell_type": "code",
   "execution_count": 3,
   "id": "885df322",
   "metadata": {},
   "outputs": [],
   "source": [
    "\n",
    "\n",
    "# Define function to clean tweet text\n",
    "def clean_tweet_text(text):\n",
    "    # Check for null or NaN values\n",
    "    if pd.isnull(text):\n",
    "        return text\n",
    "    \n",
    "    # Remove URL\n",
    "    text = re.sub(r'http\\S+', '', text)\n",
    "    \n",
    "    # Remove RT (retweet) tag\n",
    "    text = text.replace('RT', '')\n",
    "    \n",
    "    # Remove numbers\n",
    "    text = re.sub(r'\\d+', '', text)\n",
    "    \n",
    "    # Remove special characters and punctuations, and add a space after removing them\n",
    "    text = re.sub(r'[^\\w\\s]', ' ', text)\n",
    "    \n",
    "    # Remove extra spaces\n",
    "    text = ' '.join(text.split())\n",
    "    \n",
    "    # Convert to lowercase\n",
    "    text = text.lower()\n",
    "    \n",
    "    return text\n",
    "\n",
    "# Apply the cleaning function to 'text' column\n",
    "df['text'] = df['text'].apply(clean_tweet_text)\n"
   ]
  },
  {
   "cell_type": "code",
   "execution_count": 4,
   "id": "294f1df2",
   "metadata": {},
   "outputs": [],
   "source": [
    "# Define function to remove punctuations\n",
    "def remove_punctuations(text):\n",
    "    # Check for null or NaN values\n",
    "    if pd.isnull(text):\n",
    "        return text\n",
    "    \n",
    "    # Replace punctuations with an empty string\n",
    "    for punctuation in string.punctuation:\n",
    "        text = text.replace(punctuation, '')\n",
    "        \n",
    "    return text\n",
    "\n",
    "# Apply the function to 'text' column using pandas' apply() function\n",
    "df['text'] = df['text'].apply(remove_punctuations)\n"
   ]
  },
  {
   "cell_type": "code",
   "execution_count": 6,
   "id": "bfe25ba7",
   "metadata": {},
   "outputs": [
    {
     "name": "stderr",
     "output_type": "stream",
     "text": [
      "[nltk_data] Downloading package stopwords to\n",
      "[nltk_data]     C:\\Users\\saboor\\AppData\\Roaming\\nltk_data...\n",
      "[nltk_data]   Package stopwords is already up-to-date!\n"
     ]
    }
   ],
   "source": [
    "import nltk\n",
    "from nltk.corpus import stopwords\n",
    "# Download NLTK stopwords\n",
    "nltk.download('stopwords')\n",
    "# Load NLTK stopwords\n",
    "stop_words = set(stopwords.words('english'))\n",
    "\n",
    "# Define function to remove stopwords\n",
    "def remove_stopwords(text):\n",
    "    # Check for null values\n",
    "    if pd.isnull(text):\n",
    "        return text\n",
    "    \n",
    "    # Tokenize the text into words\n",
    "    words = text.split()\n",
    "    \n",
    "    # Remove stopwords\n",
    "    words = [word for word in words if word.lower() not in stop_words]\n",
    "    \n",
    "    # Join the remaining words back into a string\n",
    "    cleaned_text = ' '.join(words)\n",
    "    \n",
    "    return cleaned_text\n",
    "\n",
    "# Apply the function to 'text' column using pandas' apply() function\n",
    "df['text'] = df['text'].apply(remove_stopwords)\n"
   ]
  },
  {
   "cell_type": "code",
   "execution_count": 7,
   "id": "e63b2805",
   "metadata": {},
   "outputs": [],
   "source": [
    "df.to_excel('../data_processed/education_1.xlsx', index=False)"
   ]
  }
 ],
 "metadata": {
  "kernelspec": {
   "display_name": "Python 3 (ipykernel)",
   "language": "python",
   "name": "python3"
  },
  "language_info": {
   "codemirror_mode": {
    "name": "ipython",
    "version": 3
   },
   "file_extension": ".py",
   "mimetype": "text/x-python",
   "name": "python",
   "nbconvert_exporter": "python",
   "pygments_lexer": "ipython3",
   "version": "3.10.9"
  },
  "vscode": {
   "interpreter": {
    "hash": "8c3d4d9970fc5c09c50d9318a9c7fbf4d0159e4b28833276f5678ee22bded273"
   }
  }
 },
 "nbformat": 4,
 "nbformat_minor": 5
}
