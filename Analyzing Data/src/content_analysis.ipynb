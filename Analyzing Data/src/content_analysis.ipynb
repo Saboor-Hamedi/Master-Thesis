{
 "cells": [
  {
   "attachments": {},
   "cell_type": "markdown",
   "metadata": {},
   "source": [
    "##### Content Analysis"
   ]
  },
  {
   "cell_type": "code",
   "execution_count": 1,
   "metadata": {},
   "outputs": [],
   "source": [
    "import pandas as pd"
   ]
  },
  {
   "cell_type": "code",
   "execution_count": 2,
   "metadata": {},
   "outputs": [],
   "source": [
    "pd.options.display.max_colwidth = 1000"
   ]
  },
  {
   "cell_type": "code",
   "execution_count": 3,
   "metadata": {},
   "outputs": [],
   "source": [
    "df = pd.read_excel('../data_processed/education.xlsx')"
   ]
  },
  {
   "cell_type": "code",
   "execution_count": 6,
   "metadata": {},
   "outputs": [
    {
     "data": {
      "text/html": [
       "<div>\n",
       "<style scoped>\n",
       "    .dataframe tbody tr th:only-of-type {\n",
       "        vertical-align: middle;\n",
       "    }\n",
       "\n",
       "    .dataframe tbody tr th {\n",
       "        vertical-align: top;\n",
       "    }\n",
       "\n",
       "    .dataframe thead th {\n",
       "        text-align: right;\n",
       "    }\n",
       "</style>\n",
       "<table border=\"1\" class=\"dataframe\">\n",
       "  <thead>\n",
       "    <tr style=\"text-align: right;\">\n",
       "      <th></th>\n",
       "      <th>text</th>\n",
       "    </tr>\n",
       "  </thead>\n",
       "  <tbody>\n",
       "    <tr>\n",
       "      <th>30062</th>\n",
       "      <td>according local source jarrah local commander close afghanistan taliban former government haji usman noheartst student killed yesterday schoolaimed attack colleague shltan district way home friday prayer</td>\n",
       "    </tr>\n",
       "    <tr>\n",
       "      <th>31619</th>\n",
       "      <td>taliban say negotations resistance front panjsher failed taliban srroschool valley director attacked several po school claimfaliban havent soed issue negotations peace</td>\n",
       "    </tr>\n",
       "    <tr>\n",
       "      <th>8286</th>\n",
       "      <td>four hundred thirty seven students graduated educationaldefense university four hundred thirty seven students graduated different depaments educationaldefense university among three hundred thirty one students educationalacademy one hundred six students ng officers academy finish courses previous administration</td>\n",
       "    </tr>\n",
       "    <tr>\n",
       "      <th>25792</th>\n",
       "      <td>taliban officials tell us school open girl dozen provinces yet kabul almost million</td>\n",
       "    </tr>\n",
       "    <tr>\n",
       "      <th>18323</th>\n",
       "      <td>also giving dead charity gate education god abity women also killed</td>\n",
       "    </tr>\n",
       "    <tr>\n",
       "      <th>38733</th>\n",
       "      <td>harnai noh waziristan momand bajar people pakhtschoolkhwa holding testsdemonstrations peace ruler staed fire terrorism land pashtu school know independent work foreign school pakhtschoolkhwmanpachoon</td>\n",
       "    </tr>\n",
       "    <tr>\n",
       "      <th>42530</th>\n",
       "      <td>afg afghan repoer esmat touredandelectrocuted kabulhe shared statement group afghan women demonst</td>\n",
       "    </tr>\n",
       "    <tr>\n",
       "      <th>3170</th>\n",
       "      <td>supporting talents dear people promised kinds cooperetion</td>\n",
       "    </tr>\n",
       "    <tr>\n",
       "      <th>42404</th>\n",
       "      <td>taliban group ignorant group especially enemies women girl kilng women girl</td>\n",
       "    </tr>\n",
       "    <tr>\n",
       "      <th>37419</th>\n",
       "      <td>essential school human right monitor remain grab school show support right afghanistan perilous ultimately</td>\n",
       "    </tr>\n",
       "  </tbody>\n",
       "</table>\n",
       "</div>"
      ],
      "text/plain": [
       "                                                                                                                                                                                                                                                                                                                           text\n",
       "30062                                                                                                               according local source jarrah local commander close afghanistan taliban former government haji usman noheartst student killed yesterday schoolaimed attack colleague shltan district way home friday prayer\n",
       "31619                                                                                                                                                   taliban say negotations resistance front panjsher failed taliban srroschool valley director attacked several po school claimfaliban havent soed issue negotations peace\n",
       "8286   four hundred thirty seven students graduated educationaldefense university four hundred thirty seven students graduated different depaments educationaldefense university among three hundred thirty one students educationalacademy one hundred six students ng officers academy finish courses previous administration\n",
       "25792                                                                                                                                                                                                                                       taliban officials tell us school open girl dozen provinces yet kabul almost million\n",
       "18323                                                                                                                                                                                                                                                       also giving dead charity gate education god abity women also killed\n",
       "38733                                                                                                                   harnai noh waziristan momand bajar people pakhtschoolkhwa holding testsdemonstrations peace ruler staed fire terrorism land pashtu school know independent work foreign school pakhtschoolkhwmanpachoon\n",
       "42530                                                                                                                                                                                                                         afg afghan repoer esmat touredandelectrocuted kabulhe shared statement group afghan women demonst\n",
       "3170                                                                                                                                                                                                                                                                  supporting talents dear people promised kinds cooperetion\n",
       "42404                                                                                                                                                                                                                                               taliban group ignorant group especially enemies women girl kilng women girl\n",
       "37419                                                                                                                                                                                                                essential school human right monitor remain grab school show support right afghanistan perilous ultimately"
      ]
     },
     "execution_count": 6,
     "metadata": {},
     "output_type": "execute_result"
    }
   ],
   "source": [
    "df[['text']].sample(10)"
   ]
  },
  {
   "cell_type": "code",
   "execution_count": null,
   "metadata": {},
   "outputs": [],
   "source": []
  }
 ],
 "metadata": {
  "kernelspec": {
   "display_name": "Python 3",
   "language": "python",
   "name": "python3"
  },
  "language_info": {
   "codemirror_mode": {
    "name": "ipython",
    "version": 3
   },
   "file_extension": ".py",
   "mimetype": "text/x-python",
   "name": "python",
   "nbconvert_exporter": "python",
   "pygments_lexer": "ipython3",
   "version": "3.11.3"
  },
  "orig_nbformat": 4
 },
 "nbformat": 4,
 "nbformat_minor": 2
}
