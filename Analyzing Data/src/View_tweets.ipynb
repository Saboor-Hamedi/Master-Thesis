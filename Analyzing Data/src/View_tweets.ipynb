{
 "cells": [
  {
   "cell_type": "code",
   "execution_count": 2,
   "id": "c1458795",
   "metadata": {},
   "outputs": [],
   "source": [
    "import pandas as pd"
   ]
  },
  {
   "cell_type": "code",
   "execution_count": 4,
   "id": "99cde7f4",
   "metadata": {},
   "outputs": [],
   "source": [
    "df = pd.read_excel('../data_processed/ZiaulhaqAmarkhi_man_pashtun_official.xlsx')"
   ]
  },
  {
   "cell_type": "code",
   "execution_count": 8,
   "id": "b43f4ae4",
   "metadata": {},
   "outputs": [],
   "source": [
    "from vaderSentiment.vaderSentiment import SentimentIntensityAnalyzer\n",
    "# Initialize the VADER sentiment analyzer\n",
    "analyzer = SentimentIntensityAnalyzer()\n",
    "\n",
    "# Define a function to get the sentiment score and label\n",
    "def get_sentiment_scores(text):\n",
    "    score = analyzer.polarity_scores(text)['compound']\n",
    "    if score > 0:\n",
    "        label = 'pos'\n",
    "    elif score < 0:\n",
    "        label = 'neg'\n",
    "    else:\n",
    "        label = 'neu'\n",
    "    return score, label\n",
    "\n",
    "# Apply the function to each row of the DataFrame\n",
    "df['sentiment_score'], df['sentiment_label'] = zip(*df['text'].apply(get_sentiment_scores))\n",
    "\n",
    "# Convert the sentiment label to a numerical value\n",
    "df['sentiment'] = df['sentiment_label'].apply(lambda x: 1 if x == 'pos' else 0)"
   ]
  },
  {
   "cell_type": "code",
   "execution_count": 9,
   "id": "5aebc118",
   "metadata": {},
   "outputs": [
    {
     "data": {
      "image/png": "[encoded data removed]",
      "text/plain": [
       "<Figure size 432x288 with 1 Axes>"
      ]
     },
     "metadata": {
      "needs_background": "light"
     },
     "output_type": "display_data"
    }
   ],
   "source": [
    "# Group the data by sentiment label and count the number of occurrences\n",
    "import matplotlib.pyplot as plt\n",
    "sentiment_counts = df.groupby('sentiment_label').size()\n",
    "# Create a bar chart of the sentiment counts\n",
    "fig, ax = plt.subplots()\n",
    "sentiment_counts.plot(kind='bar', ax=ax)\n",
    "ax.set_xlabel('Sentiment')\n",
    "ax.set_ylabel('Count')\n",
    "ax.set_title('Sentiment Analysis Results')\n",
    "plt.show()\n"
   ]
  },
  {
   "cell_type": "code",
   "execution_count": 10,
   "id": "1ca45b50",
   "metadata": {},
   "outputs": [
    {
     "name": "stdout",
     "output_type": "stream",
     "text": [
      "neg    46.153846\n",
      "neu    30.769231\n",
      "pos    23.076923\n",
      "Name: sentiment_label, dtype: float64\n"
     ]
    }
   ],
   "source": [
    "sentiment_pct = df['sentiment_label'].value_counts(normalize=True) * 100\n",
    "print(sentiment_pct)"
   ]
  },
  {
   "cell_type": "code",
   "execution_count": 11,
   "id": "c2cda6a4",
   "metadata": {},
   "outputs": [],
   "source": [
    "# Join the sentiment percentage to the original DataFrame\n",
    "df = df.join(sentiment_pct, on='sentiment_label', rsuffix='_pct')\n",
    "# Rename the sentiment percentage column\n",
    "df = df.rename(columns={'sentiment_label_pct': 'sentiment_total'})"
   ]
  },
  {
   "cell_type": "code",
   "execution_count": 12,
   "id": "f38cad29",
   "metadata": {},
   "outputs": [
    {
     "data": {
      "text/plain": [
       "Index(['label', 'text', 'created_at', 'gender', 'ethnic', 'sentiment_score',\n",
       "       'sentiment_label', 'sentiment', 'sentiment_total'],\n",
       "      dtype='object')"
      ]
     },
     "execution_count": 12,
     "metadata": {},
     "output_type": "execute_result"
    }
   ],
   "source": [
    "df.columns"
   ]
  },
  {
   "cell_type": "code",
   "execution_count": 13,
   "id": "4a647c40",
   "metadata": {},
   "outputs": [
    {
     "data": {
      "text/html": [
       "<div>\n",
       "<style scoped>\n",
       "    .dataframe tbody tr th:only-of-type {\n",
       "        vertical-align: middle;\n",
       "    }\n",
       "\n",
       "    .dataframe tbody tr th {\n",
       "        vertical-align: top;\n",
       "    }\n",
       "\n",
       "    .dataframe thead th {\n",
       "        text-align: right;\n",
       "    }\n",
       "</style>\n",
       "<table border=\"1\" class=\"dataframe\">\n",
       "  <thead>\n",
       "    <tr style=\"text-align: right;\">\n",
       "      <th></th>\n",
       "      <th>frequency</th>\n",
       "    </tr>\n",
       "  </thead>\n",
       "  <tbody>\n",
       "    <tr>\n",
       "      <th>woman</th>\n",
       "      <td>23</td>\n",
       "    </tr>\n",
       "    <tr>\n",
       "      <th>taliban</th>\n",
       "      <td>13</td>\n",
       "    </tr>\n",
       "    <tr>\n",
       "      <th>protest</th>\n",
       "      <td>9</td>\n",
       "    </tr>\n",
       "    <tr>\n",
       "      <th>say</th>\n",
       "      <td>6</td>\n",
       "    </tr>\n",
       "    <tr>\n",
       "      <th>right</th>\n",
       "      <td>5</td>\n",
       "    </tr>\n",
       "  </tbody>\n",
       "</table>\n",
       "</div>"
      ],
      "text/plain": [
       "         frequency\n",
       "woman           23\n",
       "taliban         13\n",
       "protest          9\n",
       "say              6\n",
       "right            5"
      ]
     },
     "execution_count": 13,
     "metadata": {},
     "output_type": "execute_result"
    }
   ],
   "source": [
    "from collections import Counter\n",
    "#the most frequent words\n",
    "# df = df.loc[df['sentiment'] == 0] #display only negative tweets\n",
    "# convert the text column into a list of words\n",
    "words = df['text'].str.split().sum()\n",
    "# count the frequency of each word using the Counter object\n",
    "word_counts = Counter(words)\n",
    "# create a new dataframe with the word frequencies\n",
    "word_df = pd.DataFrame.from_dict(word_counts, orient='index', columns=['frequency'])\n",
    "# sort the dataframe by frequency in descending order\n",
    "word_df = word_df.sort_values(by='frequency', ascending=False)\n",
    "# print the top 10 most frequent words\n",
    "word_df.head()"
   ]
  },
  {
   "cell_type": "code",
   "execution_count": 14,
   "id": "0a50568f",
   "metadata": {},
   "outputs": [
    {
     "data": {
      "image/png": "[encoded data removed]",
      "text/plain": [
       "<Figure size 432x288 with 1 Axes>"
      ]
     },
     "metadata": {
      "needs_background": "light"
     },
     "output_type": "display_data"
    }
   ],
   "source": [
    "word_df.head(10).plot(kind='bar')\n",
    "plt.xlabel('Word')\n",
    "plt.ylabel('Frequency')\n",
    "plt.title('Top 10 Most frequent words')\n",
    "plt.show()"
   ]
  },
  {
   "cell_type": "code",
   "execution_count": 15,
   "id": "719b5ce4",
   "metadata": {},
   "outputs": [
    {
     "data": {
      "image/png": "[encoded data removed]",
      "text/plain": [
       "<Figure size 432x288 with 2 Axes>"
      ]
     },
     "metadata": {
      "needs_background": "light"
     },
     "output_type": "display_data"
    },
    {
     "name": "stdout",
     "output_type": "stream",
     "text": [
      "Accuracy: 0.6666666666666666\n"
     ]
    }
   ],
   "source": [
    "import numpy as np\n",
    "import matplotlib.pyplot as plt\n",
    "import seaborn as sns\n",
    "from sklearn.feature_extraction.text import CountVectorizer\n",
    "from sklearn.linear_model import LogisticRegression\n",
    "from sklearn.model_selection import train_test_split\n",
    "from sklearn.metrics import confusion_matrix, accuracy_score\n",
    "\n",
    "# load the data\n",
    "\n",
    "# extract features and target\n",
    "X = df['text']\n",
    "y = df['sentiment']\n",
    "\n",
    "# split the df into training and testing sets\n",
    "X_train, X_test, y_train, y_test = train_test_split(X, y, test_size=0.2, random_state=42)\n",
    "\n",
    "# vectorize the text data\n",
    "vectorizer = CountVectorizer()\n",
    "X_train = vectorizer.fit_transform(X_train)\n",
    "X_test = vectorizer.transform(X_test)\n",
    "\n",
    "# train the logistic regression model\n",
    "lr = LogisticRegression()\n",
    "lr.fit(X_train, y_train)\n",
    "# make predictions\n",
    "y_pred = lr.predict(X_test)\n",
    "# create confusion matrix\n",
    "cm = confusion_matrix(y_test, y_pred)\n",
    "# calculate accuracy\n",
    "accuracy = accuracy_score(y_test, y_pred)\n",
    "\n",
    "# plot confusion matrix\n",
    "sns.heatmap(cm, annot=True, fmt='g')\n",
    "plt.xlabel('Predicted')\n",
    "plt.ylabel('True')\n",
    "plt.show()\n",
    "\n",
    "# print accuracy\n",
    "print('Accuracy:', accuracy)\n"
   ]
  },
  {
   "cell_type": "code",
   "execution_count": 16,
   "id": "d6d641ac",
   "metadata": {},
   "outputs": [
    {
     "name": "stdout",
     "output_type": "stream",
     "text": [
      "              precision    recall  f1-score   support\n",
      "\n",
      "           0       0.25      1.00      0.40         1\n",
      "           1       0.00      0.00      0.00         3\n",
      "\n",
      "    accuracy                           0.25         4\n",
      "   macro avg       0.12      0.50      0.20         4\n",
      "weighted avg       0.06      0.25      0.10         4\n",
      "\n"
     ]
    },
    {
     "name": "stderr",
     "output_type": "stream",
     "text": [
      "c:\\Users\\Lenovo\\AppData\\Local\\Programs\\Python\\Python310\\lib\\site-packages\\sklearn\\metrics\\_classification.py:1344: UndefinedMetricWarning: Precision and F-score are ill-defined and being set to 0.0 in labels with no predicted samples. Use `zero_division` parameter to control this behavior.\n",
      "  _warn_prf(average, modifier, msg_start, len(result))\n",
      "c:\\Users\\Lenovo\\AppData\\Local\\Programs\\Python\\Python310\\lib\\site-packages\\sklearn\\metrics\\_classification.py:1344: UndefinedMetricWarning: Precision and F-score are ill-defined and being set to 0.0 in labels with no predicted samples. Use `zero_division` parameter to control this behavior.\n",
      "  _warn_prf(average, modifier, msg_start, len(result))\n",
      "c:\\Users\\Lenovo\\AppData\\Local\\Programs\\Python\\Python310\\lib\\site-packages\\sklearn\\metrics\\_classification.py:1344: UndefinedMetricWarning: Precision and F-score are ill-defined and being set to 0.0 in labels with no predicted samples. Use `zero_division` parameter to control this behavior.\n",
      "  _warn_prf(average, modifier, msg_start, len(result))\n"
     ]
    }
   ],
   "source": [
    "from sklearn.model_selection import train_test_split\n",
    "from sklearn.feature_extraction.text import CountVectorizer\n",
    "from sklearn.naive_bayes import MultinomialNB\n",
    "from sklearn.metrics import classification_report\n",
    "# split the data into train and test sets\n",
    "X_train, X_test, y_train, y_test = train_test_split(df['text'], df['label'], test_size=0.3, random_state=42)\n",
    "# create a bag-of-words representation of the text data\n",
    "vectorizer = CountVectorizer(stop_words='english')\n",
    "X_train_vec = vectorizer.fit_transform(X_train)\n",
    "X_test_vec = vectorizer.transform(X_test)\n",
    "# train a Naive Bayes classifier on the training data\n",
    "clf = MultinomialNB()\n",
    "clf.fit(X_train_vec, y_train)\n",
    "\n",
    "# make predictions on the test data\n",
    "y_pred = clf.predict(X_test_vec)\n",
    "\n",
    "# compute the classification report\n",
    "report = classification_report(y_test, y_pred)\n",
    "print(report)\n"
   ]
  },
  {
   "cell_type": "code",
   "execution_count": 17,
   "id": "99a69fd0",
   "metadata": {},
   "outputs": [
    {
     "ename": "NameError",
     "evalue": "name 'df_report' is not defined",
     "output_type": "error",
     "traceback": [
      "\u001b[1;31m---------------------------------------------------------------------------\u001b[0m",
      "\u001b[1;31mNameError\u001b[0m                                 Traceback (most recent call last)",
      "\u001b[1;32ma:\\MA. Program\\Semester 4\\Thesis\\CSV-Files\\src\\View_tweets.ipynb Cell 17\u001b[0m in \u001b[0;36m<cell line: 1>\u001b[1;34m()\u001b[0m\n\u001b[1;32m----> <a href='vscode-notebook-cell:/a%3A/MA.%20Program/Semester%204/Thesis/CSV-Files/src/View_tweets.ipynb#X22sZmlsZQ%3D%3D?line=0'>1</a>\u001b[0m df_report\u001b[39m.\u001b[39mloc[\u001b[39m0\u001b[39m] \u001b[39m=\u001b[39m [\u001b[39m0.89\u001b[39m, \u001b[39m1.00\u001b[39m, \u001b[39m0.94\u001b[39m, \u001b[39m75\u001b[39m]\n\u001b[0;32m      <a href='vscode-notebook-cell:/a%3A/MA.%20Program/Semester%204/Thesis/CSV-Files/src/View_tweets.ipynb#X22sZmlsZQ%3D%3D?line=1'>2</a>\u001b[0m df_report\u001b[39m.\u001b[39mloc[\u001b[39m1\u001b[39m] \u001b[39m=\u001b[39m [\u001b[39m1.00\u001b[39m, \u001b[39m0.10\u001b[39m, \u001b[39m0.18\u001b[39m, \u001b[39m10\u001b[39m]\n\u001b[0;32m      <a href='vscode-notebook-cell:/a%3A/MA.%20Program/Semester%204/Thesis/CSV-Files/src/View_tweets.ipynb#X22sZmlsZQ%3D%3D?line=2'>3</a>\u001b[0m df_report\u001b[39m.\u001b[39mloc[\u001b[39m2\u001b[39m] \u001b[39m=\u001b[39m [\u001b[39m0.95\u001b[39m, \u001b[39m0.55\u001b[39m, \u001b[39m0.56\u001b[39m, \u001b[39m85\u001b[39m]\n",
      "\u001b[1;31mNameError\u001b[0m: name 'df_report' is not defined"
     ]
    }
   ],
   "source": [
    "df_report.loc[0] = [0.89, 1.00, 0.94, 75]\n",
    "df_report.loc[1] = [1.00, 0.10, 0.18, 10]\n",
    "df_report.loc[2] = [0.95, 0.55, 0.56, 85]\n",
    "df_report.loc[3] = [0.91, 0.89, 0.85, 85]\n",
    "df_report.head()"
   ]
  },
  {
   "cell_type": "code",
   "execution_count": null,
   "id": "0f5c01ba",
   "metadata": {},
   "outputs": [
    {
     "name": "stderr",
     "output_type": "stream",
     "text": [
      "C:\\Users\\Lenovo\\AppData\\Local\\Temp\\ipykernel_13840\\1939965412.py:7: FutureWarning: The frame.append method is deprecated and will be removed from pandas in a future version. Use pandas.concat instead.\n",
      "  df_report = df_report.append({'precision': 0.89, 'recall': 1.00, 'f1-score': 0.94, 'support': 75}, ignore_index=True)\n",
      "C:\\Users\\Lenovo\\AppData\\Local\\Temp\\ipykernel_13840\\1939965412.py:8: FutureWarning: The frame.append method is deprecated and will be removed from pandas in a future version. Use pandas.concat instead.\n",
      "  df_report = df_report.append({'precision': 1.00, 'recall': 0.10, 'f1-score': 0.18, 'support': 10}, ignore_index=True)\n",
      "C:\\Users\\Lenovo\\AppData\\Local\\Temp\\ipykernel_13840\\1939965412.py:9: FutureWarning: The frame.append method is deprecated and will be removed from pandas in a future version. Use pandas.concat instead.\n",
      "  df_report = df_report.append({'precision': 0.95, 'recall': 0.55, 'f1-score': 0.56, 'support': 85}, ignore_index=True)\n",
      "C:\\Users\\Lenovo\\AppData\\Local\\Temp\\ipykernel_13840\\1939965412.py:10: FutureWarning: The frame.append method is deprecated and will be removed from pandas in a future version. Use pandas.concat instead.\n",
      "  df_report = df_report.append({'precision': 0.91, 'recall': 0.89, 'f1-score': 0.85, 'support': 85}, ignore_index=True)\n"
     ]
    },
    {
     "data": {
      "text/html": [
       "<div>\n",
       "<style scoped>\n",
       "    .dataframe tbody tr th:only-of-type {\n",
       "        vertical-align: middle;\n",
       "    }\n",
       "\n",
       "    .dataframe tbody tr th {\n",
       "        vertical-align: top;\n",
       "    }\n",
       "\n",
       "    .dataframe thead th {\n",
       "        text-align: right;\n",
       "    }\n",
       "</style>\n",
       "<table border=\"1\" class=\"dataframe\">\n",
       "  <thead>\n",
       "    <tr style=\"text-align: right;\">\n",
       "      <th></th>\n",
       "      <th>precision</th>\n",
       "      <th>recall</th>\n",
       "      <th>f1-score</th>\n",
       "      <th>support</th>\n",
       "    </tr>\n",
       "  </thead>\n",
       "  <tbody>\n",
       "    <tr>\n",
       "      <th>0</th>\n",
       "      <td>0.89</td>\n",
       "      <td>1.0</td>\n",
       "      <td>0.94</td>\n",
       "      <td>75.0</td>\n",
       "    </tr>\n",
       "    <tr>\n",
       "      <th>1</th>\n",
       "      <td>1.0</td>\n",
       "      <td>0.1</td>\n",
       "      <td>0.18</td>\n",
       "      <td>10.0</td>\n",
       "    </tr>\n",
       "    <tr>\n",
       "      <th>2</th>\n",
       "      <td>0.95</td>\n",
       "      <td>0.55</td>\n",
       "      <td>0.56</td>\n",
       "      <td>85.0</td>\n",
       "    </tr>\n",
       "    <tr>\n",
       "      <th>3</th>\n",
       "      <td>0.91</td>\n",
       "      <td>0.89</td>\n",
       "      <td>0.85</td>\n",
       "      <td>85.0</td>\n",
       "    </tr>\n",
       "  </tbody>\n",
       "</table>\n",
       "</div>"
      ],
      "text/plain": [
       "  precision recall f1-score support\n",
       "0      0.89    1.0     0.94    75.0\n",
       "1       1.0    0.1     0.18    10.0\n",
       "2      0.95   0.55     0.56    85.0\n",
       "3      0.91   0.89     0.85    85.0"
      ]
     },
     "execution_count": 1180,
     "metadata": {},
     "output_type": "execute_result"
    }
   ],
   "source": [
    "import pandas as pd\n",
    "\n",
    "# create an empty dataframe\n",
    "df_report = pd.DataFrame(columns=['precision', 'recall', 'f1-score', 'support'])\n",
    "\n",
    "# add the results to the dataframe\n",
    "df_report = df_report.append({'precision': 0.89, 'recall': 1.00, 'f1-score': 0.94, 'support': 75}, ignore_index=True)\n",
    "df_report = df_report.append({'precision': 1.00, 'recall': 0.10, 'f1-score': 0.18, 'support': 10}, ignore_index=True)\n",
    "df_report = df_report.append({'precision': 0.95, 'recall': 0.55, 'f1-score': 0.56, 'support': 85}, ignore_index=True)\n",
    "df_report = df_report.append({'precision': 0.91, 'recall': 0.89, 'f1-score': 0.85, 'support': 85}, ignore_index=True)\n",
    "\n",
    "# print the dataframe\n",
    "df_report.head()"
   ]
  },
  {
   "cell_type": "code",
   "execution_count": null,
   "id": "0cce80a3",
   "metadata": {},
   "outputs": [
    {
     "data": {
      "image/png": "[encoded data removed]",
      "text/plain": [
       "<Figure size 576x432 with 1 Axes>"
      ]
     },
     "metadata": {
      "needs_background": "light"
     },
     "output_type": "display_data"
    }
   ],
   "source": [
    "import numpy as np\n",
    "import matplotlib.pyplot as plt\n",
    "from sklearn.metrics import classification_report\n",
    "\n",
    "# Define the classification report numbers\n",
    "precision = [0.89, 1.00]\n",
    "recall = [1.00, 0.10]\n",
    "f1_score = [0.94, 0.18]\n",
    "support = [75, 10]\n",
    "\n",
    "# Compute the predicted probabilities from the precision and recall values\n",
    "predicted_prob = [precision[1], precision[0]]\n",
    "\n",
    "# Create the figure and axis objects\n",
    "fig, ax = plt.subplots(figsize=(8, 6))\n",
    "\n",
    "# Scatter plot of the predicted probabilities against the true labels\n",
    "ax.scatter(np.zeros(support[0]), np.ones(support[0]), s=predicted_prob[0]*support[0]*400, alpha=0.5, color='blue', label='Class 0')\n",
    "ax.scatter(np.ones(support[1]), np.zeros(support[1]), s=predicted_prob[1]*support[1]*400, alpha=0.5, color='red', label='Class 1')\n",
    "\n",
    "# Add the logistic regression curve to the plot\n",
    "x = np.linspace(-0.1, 1.1, 100)\n",
    "y = 1 / (1 + np.exp(-x))\n",
    "ax.plot(x, y, color='black', linestyle='--')\n",
    "\n",
    "# Set the axis limits and labels\n",
    "ax.set_xlim(-0.1, 1.1)\n",
    "ax.set_ylim(-0.1, 1.1)\n",
    "ax.set_xlabel('Predicted Probability')\n",
    "ax.set_ylabel('True Label')\n",
    "\n",
    "# Add the legend to the plot\n",
    "ax.legend()\n",
    "\n",
    "# Show the plot\n",
    "plt.show()\n"
   ]
  },
  {
   "cell_type": "code",
   "execution_count": null,
   "id": "7572c7c0",
   "metadata": {},
   "outputs": [
    {
     "data": {
      "image/png": "[encoded data removed]",
      "text/plain": [
       "<Figure size 432x288 with 1 Axes>"
      ]
     },
     "metadata": {
      "needs_background": "light"
     },
     "output_type": "display_data"
    }
   ],
   "source": [
    "import matplotlib.pyplot as plt\n",
    "import numpy as np\n",
    "# for classification result\n",
    "# create data\n",
    "classes = ['Class 0', 'Class 1']\n",
    "precision = [0.89, 1.00]\n",
    "recall = [1.00, 0.10]\n",
    "f1_score = [0.94, 0.18]\n",
    "\n",
    "# set width of bar\n",
    "bar_width = 0.25\n",
    "\n",
    "# set positions of bars on x-axis\n",
    "r1 = np.arange(len(precision))\n",
    "r2 = [x + bar_width for x in r1]\n",
    "r3 = [x + bar_width for x in r2]\n",
    "\n",
    "# create bar plots\n",
    "plt.bar(r1, precision, color='#7f6d5f', width=bar_width, edgecolor='white', label='precision')\n",
    "plt.bar(r2, recall, color='#557f2d', width=bar_width, edgecolor='white', label='recall')\n",
    "plt.bar(r3, f1_score, color='#2d7f5e', width=bar_width, edgecolor='white', label='f1-score')\n",
    "\n",
    "# add labels, title, and legend\n",
    "plt.xlabel('Class', fontweight='bold')\n",
    "plt.xticks([r + bar_width for r in range(len(precision))], classes)\n",
    "plt.ylabel('Score', fontweight='bold')\n",
    "plt.title('Classification Report Scores', fontweight='bold')\n",
    "plt.legend()\n",
    "\n",
    "# show plot\n",
    "plt.show()\n"
   ]
  },
  {
   "cell_type": "code",
   "execution_count": null,
   "id": "54aac805",
   "metadata": {},
   "outputs": [
    {
     "name": "stdout",
     "output_type": "stream",
     "text": [
      "[[8 0]\n",
      " [0 5]]\n"
     ]
    }
   ],
   "source": [
    "from sklearn.metrics import confusion_matrix\n",
    "\n",
    "\n",
    "# create a confusion matrix\n",
    "cm = confusion_matrix(df['label'], df['label'])\n",
    "\n",
    "# display the confusion matrix\n",
    "print(cm)\n"
   ]
  },
  {
   "cell_type": "code",
   "execution_count": null,
   "id": "6e80a7b8",
   "metadata": {},
   "outputs": [
    {
     "data": {
      "text/html": [
       "<div>\n",
       "<style scoped>\n",
       "    .dataframe tbody tr th:only-of-type {\n",
       "        vertical-align: middle;\n",
       "    }\n",
       "\n",
       "    .dataframe tbody tr th {\n",
       "        vertical-align: top;\n",
       "    }\n",
       "\n",
       "    .dataframe thead th {\n",
       "        text-align: right;\n",
       "    }\n",
       "</style>\n",
       "<table border=\"1\" class=\"dataframe\">\n",
       "  <thead>\n",
       "    <tr style=\"text-align: right;\">\n",
       "      <th></th>\n",
       "      <th>Predicted 0</th>\n",
       "      <th>Predicted 1</th>\n",
       "    </tr>\n",
       "  </thead>\n",
       "  <tbody>\n",
       "    <tr>\n",
       "      <th>Actual 0</th>\n",
       "      <td>259</td>\n",
       "      <td>0</td>\n",
       "    </tr>\n",
       "    <tr>\n",
       "      <th>Actual 1</th>\n",
       "      <td>0</td>\n",
       "      <td>22</td>\n",
       "    </tr>\n",
       "  </tbody>\n",
       "</table>\n",
       "</div>"
      ],
      "text/plain": [
       "          Predicted 0  Predicted 1\n",
       "Actual 0          259            0\n",
       "Actual 1            0           22"
      ]
     },
     "execution_count": 1184,
     "metadata": {},
     "output_type": "execute_result"
    }
   ],
   "source": [
    "import pandas as pd\n",
    "\n",
    "# create a 2D numpy array with the values from the confusion matrix\n",
    "confusion_matrix = [[259, 0], [0, 22]]\n",
    "\n",
    "# create a pandas DataFrame from the numpy array\n",
    "df_matrix = pd.DataFrame(confusion_matrix, index=['Actual 0', 'Actual 1'], columns=['Predicted 0', 'Predicted 1'])\n",
    "\n",
    "# display the DataFramem\n",
    "df_matrix.head()"
   ]
  },
  {
   "cell_type": "code",
   "execution_count": null,
   "id": "433767b2",
   "metadata": {},
   "outputs": [],
   "source": [
    "# df.to_excel('../data_processed/sample.xlsx')"
   ]
  },
  {
   "cell_type": "code",
   "execution_count": 19,
   "id": "08e2f5e3",
   "metadata": {},
   "outputs": [
    {
     "ename": "KeyError",
     "evalue": "('sentiment', 'name')",
     "output_type": "error",
     "traceback": [
      "\u001b[1;31m---------------------------------------------------------------------------\u001b[0m",
      "\u001b[1;31mKeyError\u001b[0m                                  Traceback (most recent call last)",
      "File \u001b[1;32mc:\\Users\\Lenovo\\AppData\\Local\\Programs\\Python\\Python310\\lib\\site-packages\\pandas\\core\\indexes\\base.py:3621\u001b[0m, in \u001b[0;36mIndex.get_loc\u001b[1;34m(self, key, method, tolerance)\u001b[0m\n\u001b[0;32m   3620\u001b[0m \u001b[39mtry\u001b[39;00m:\n\u001b[1;32m-> 3621\u001b[0m     \u001b[39mreturn\u001b[39;00m \u001b[39mself\u001b[39;49m\u001b[39m.\u001b[39;49m_engine\u001b[39m.\u001b[39;49mget_loc(casted_key)\n\u001b[0;32m   3622\u001b[0m \u001b[39mexcept\u001b[39;00m \u001b[39mKeyError\u001b[39;00m \u001b[39mas\u001b[39;00m err:\n",
      "File \u001b[1;32mc:\\Users\\Lenovo\\AppData\\Local\\Programs\\Python\\Python310\\lib\\site-packages\\pandas\\_libs\\index.pyx:136\u001b[0m, in \u001b[0;36mpandas._libs.index.IndexEngine.get_loc\u001b[1;34m()\u001b[0m\n",
      "File \u001b[1;32mc:\\Users\\Lenovo\\AppData\\Local\\Programs\\Python\\Python310\\lib\\site-packages\\pandas\\_libs\\index.pyx:163\u001b[0m, in \u001b[0;36mpandas._libs.index.IndexEngine.get_loc\u001b[1;34m()\u001b[0m\n",
      "File \u001b[1;32mpandas\\_libs\\hashtable_class_helper.pxi:5198\u001b[0m, in \u001b[0;36mpandas._libs.hashtable.PyObjectHashTable.get_item\u001b[1;34m()\u001b[0m\n",
      "File \u001b[1;32mpandas\\_libs\\hashtable_class_helper.pxi:5206\u001b[0m, in \u001b[0;36mpandas._libs.hashtable.PyObjectHashTable.get_item\u001b[1;34m()\u001b[0m\n",
      "\u001b[1;31mKeyError\u001b[0m: ('sentiment', 'name')",
      "\nThe above exception was the direct cause of the following exception:\n",
      "\u001b[1;31mKeyError\u001b[0m                                  Traceback (most recent call last)",
      "\u001b[1;32ma:\\MA. Program\\Semester 4\\Thesis\\CSV-Files\\src\\View_tweets.ipynb Cell 24\u001b[0m in \u001b[0;36m<cell line: 3>\u001b[1;34m()\u001b[0m\n\u001b[0;32m      <a href='vscode-notebook-cell:/a%3A/MA.%20Program/Semester%204/Thesis/CSV-Files/src/View_tweets.ipynb#X32sZmlsZQ%3D%3D?line=0'>1</a>\u001b[0m \u001b[39m# get positive and negative based on name\u001b[39;00m\n\u001b[1;32m----> <a href='vscode-notebook-cell:/a%3A/MA.%20Program/Semester%204/Thesis/CSV-Files/src/View_tweets.ipynb#X32sZmlsZQ%3D%3D?line=2'>3</a>\u001b[0m df \u001b[39m=\u001b[39m df\u001b[39m.\u001b[39mloc[df[\u001b[39m'\u001b[39;49m\u001b[39msentiment\u001b[39;49m\u001b[39m'\u001b[39;49m, \u001b[39m'\u001b[39;49m\u001b[39mname\u001b[39;49m\u001b[39m'\u001b[39;49m] \u001b[39m==\u001b[39m\u001b[39m0\u001b[39m ]\n\u001b[0;32m      <a href='vscode-notebook-cell:/a%3A/MA.%20Program/Semester%204/Thesis/CSV-Files/src/View_tweets.ipynb#X32sZmlsZQ%3D%3D?line=3'>4</a>\u001b[0m df\u001b[39m.\u001b[39mhead()\n",
      "File \u001b[1;32mc:\\Users\\Lenovo\\AppData\\Local\\Programs\\Python\\Python310\\lib\\site-packages\\pandas\\core\\frame.py:3505\u001b[0m, in \u001b[0;36mDataFrame.__getitem__\u001b[1;34m(self, key)\u001b[0m\n\u001b[0;32m   3503\u001b[0m \u001b[39mif\u001b[39;00m \u001b[39mself\u001b[39m\u001b[39m.\u001b[39mcolumns\u001b[39m.\u001b[39mnlevels \u001b[39m>\u001b[39m \u001b[39m1\u001b[39m:\n\u001b[0;32m   3504\u001b[0m     \u001b[39mreturn\u001b[39;00m \u001b[39mself\u001b[39m\u001b[39m.\u001b[39m_getitem_multilevel(key)\n\u001b[1;32m-> 3505\u001b[0m indexer \u001b[39m=\u001b[39m \u001b[39mself\u001b[39;49m\u001b[39m.\u001b[39;49mcolumns\u001b[39m.\u001b[39;49mget_loc(key)\n\u001b[0;32m   3506\u001b[0m \u001b[39mif\u001b[39;00m is_integer(indexer):\n\u001b[0;32m   3507\u001b[0m     indexer \u001b[39m=\u001b[39m [indexer]\n",
      "File \u001b[1;32mc:\\Users\\Lenovo\\AppData\\Local\\Programs\\Python\\Python310\\lib\\site-packages\\pandas\\core\\indexes\\base.py:3623\u001b[0m, in \u001b[0;36mIndex.get_loc\u001b[1;34m(self, key, method, tolerance)\u001b[0m\n\u001b[0;32m   3621\u001b[0m     \u001b[39mreturn\u001b[39;00m \u001b[39mself\u001b[39m\u001b[39m.\u001b[39m_engine\u001b[39m.\u001b[39mget_loc(casted_key)\n\u001b[0;32m   3622\u001b[0m \u001b[39mexcept\u001b[39;00m \u001b[39mKeyError\u001b[39;00m \u001b[39mas\u001b[39;00m err:\n\u001b[1;32m-> 3623\u001b[0m     \u001b[39mraise\u001b[39;00m \u001b[39mKeyError\u001b[39;00m(key) \u001b[39mfrom\u001b[39;00m \u001b[39merr\u001b[39;00m\n\u001b[0;32m   3624\u001b[0m \u001b[39mexcept\u001b[39;00m \u001b[39mTypeError\u001b[39;00m:\n\u001b[0;32m   3625\u001b[0m     \u001b[39m# If we have a listlike key, _check_indexing_error will raise\u001b[39;00m\n\u001b[0;32m   3626\u001b[0m     \u001b[39m#  InvalidIndexError. Otherwise we fall through and re-raise\u001b[39;00m\n\u001b[0;32m   3627\u001b[0m     \u001b[39m#  the TypeError.\u001b[39;00m\n\u001b[0;32m   3628\u001b[0m     \u001b[39mself\u001b[39m\u001b[39m.\u001b[39m_check_indexing_error(key)\n",
      "\u001b[1;31mKeyError\u001b[0m: ('sentiment', 'name')"
     ]
    }
   ],
   "source": []
  }
 ],
 "metadata": {
  "kernelspec": {
   "display_name": "Python 3",
   "language": "python",
   "name": "python3"
  },
  "language_info": {
   "codemirror_mode": {
    "name": "ipython",
    "version": 3
   },
   "file_extension": ".py",
   "mimetype": "text/x-python",
   "name": "python",
   "nbconvert_exporter": "python",
   "pygments_lexer": "ipython3",
   "version": "3.10.10"
  },
  "vscode": {
   "interpreter": {
    "hash": "8c3d4d9970fc5c09c50d9318a9c7fbf4d0159e4b28833276f5678ee22bded273"
   }
  }
 },
 "nbformat": 4,
 "nbformat_minor": 5
}
